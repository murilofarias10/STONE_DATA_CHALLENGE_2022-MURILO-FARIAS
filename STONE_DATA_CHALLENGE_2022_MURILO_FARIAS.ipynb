{
  "cells": [
    {
      "cell_type": "markdown",
      "metadata": {
        "id": "view-in-github",
        "colab_type": "text"
      },
      "source": [
        "<a href=\"https://colab.research.google.com/github/murilofarias10/STONE_DATA_CHALLENGE_2022-MURILO-FARIAS/blob/main/STONE_DATA_CHALLENGE_2022_MURILO_FARIAS.ipynb\" target=\"_parent\"><img src=\"https://colab.research.google.com/assets/colab-badge.svg\" alt=\"Open In Colab\"/></a>"
      ]
    },
    {
      "cell_type": "markdown",
      "source": [
        "# STONE_DATA_CHALLENGE_2022\n",
        "# MURILO-FARIAS"
      ],
      "metadata": {
        "id": "YhJP7MWiuI19"
      }
    },
    {
      "cell_type": "markdown",
      "source": [
        "\n",
        "**Analise Exploratória do Arquivo: PORTFOLIO_GERAL.csv**\n"
      ],
      "metadata": {
        "id": "LOETJxsot0wn"
      }
    },
    {
      "cell_type": "code",
      "execution_count": null,
      "metadata": {
        "id": "S6xrIhJ1MWWB"
      },
      "outputs": [],
      "source": [
        "#Importando a biblioteca pandas\n",
        "import pandas as pd\n",
        "\n",
        "#Carregando o arquivo que está no drive\n",
        "PORTFOLIO_GERAL = pd.read_csv('/content/drive/MyDrive/Colab Notebooks/DC22/Arquivos_Originais/portfolio_geral.csv')"
      ]
    },
    {
      "cell_type": "code",
      "execution_count": null,
      "metadata": {
        "colab": {
          "base_uri": "https://localhost:8080/",
          "height": 630
        },
        "id": "SxgZSFR7OuVT",
        "outputId": "c4be3653-194b-49dd-a6bf-ccf6be94ff77"
      },
      "outputs": [
        {
          "output_type": "execute_result",
          "data": {
            "text/plain": [
              "                        contrato_id dt_ref_portfolio    safra  \\\n",
              "0  356c02706c8e74b15004bb5964ade6bb       2022-03-01  2020-06   \n",
              "1  1eb0e13f83f336146227ccc9efb08c47       2022-03-01  2020-07   \n",
              "2  8b03675f597974ca96f06648e96af6d4       2022-03-01  2020-08   \n",
              "3  4207c25cdd13aba5a05ae348e889d798       2022-03-01  2021-03   \n",
              "4  7dfdca96b6ff0dd844e5e130aee88b30       2022-03-01  2020-11   \n",
              "5  a3aecc6b029cc77dd867e0e24e2d616f       2022-03-01  2020-12   \n",
              "6  3db18b4a0e36098c1ef1ee87f1491d84       2022-03-01  2020-07   \n",
              "7  b4658a6d9785c527297cd14762240f09       2022-03-01  2020-12   \n",
              "8  c48198c89f94ca4fd075bf30b889b47d       2020-10-22  2020-04   \n",
              "9  05eddba83dc40815a1aa10b6d6259708       2020-10-22  2020-07   \n",
              "\n",
              "                       nr_documento status_contrato dt_contrato dt_desembolso  \\\n",
              "0  b0871d4e0d72afd1d44381e5b2453cb2         Settled  2020-06-24    2020-06-29   \n",
              "1  938513461b4a4fcd2bf99ffd8f12b9be         Settled  2020-07-26    2020-07-28   \n",
              "2  4303bd71ee3fe80aba4efc8dbd6c7d70         Settled  2020-08-13    2020-08-17   \n",
              "3  9c1dc4403f8a4833bd58eea3ee85c917          Active  2021-03-01    2021-03-03   \n",
              "4  3b6951df3075979c99a4dfd9f93efd38          Active  2020-10-31    2020-11-04   \n",
              "5  9740eda3d6190add5703cd2dd280023c          Active  2020-12-18    2020-12-22   \n",
              "6  c2766a0c65d1df592aeb4797efc893e0          Active  2020-07-08    2020-07-10   \n",
              "7  d61e4f520ee20e9c693c9c4808d19f55          Active  2020-12-04    2020-12-08   \n",
              "8  77846fd227fe5270dbbfe752515d1af5          Active  2020-04-15    2020-04-22   \n",
              "9  62290fe7c7682b1f829ae81b1fd08baf          Active  2020-07-02    2020-07-06   \n",
              "\n",
              "  dt_vencimento       dt_wo  prazo  ...  juros_mes  juros_diario  \\\n",
              "0    2020-12-24  2021-12-24  10.26  ...    0.10788       0.00345   \n",
              "1    2021-10-26  2022-10-26  25.65  ...    0.04788       0.00157   \n",
              "2    2022-02-13  2023-02-13  30.78  ...    0.05388       0.00176   \n",
              "3    2022-06-01  2023-06-01  25.65  ...    0.04788       0.00157   \n",
              "4    2022-01-31  2023-01-31  25.65  ...    0.04788       0.00157   \n",
              "5    2022-06-18  2023-06-18  30.78  ...    0.04188       0.00137   \n",
              "6    2021-10-08  2022-10-08  25.65  ...    0.10188       0.00326   \n",
              "7    2022-03-04  2023-03-04  25.65  ...    0.04788       0.00157   \n",
              "8    2021-07-15  2022-07-15  25.65  ...    0.04788       0.00157   \n",
              "9    2021-10-02  2022-10-02  25.65  ...    0.07188       0.00233   \n",
              "\n",
              "   perc_retencao  vlr_pgto_realizado  vlr_pgto_esperado  vlr_saldo_devedor  \\\n",
              "0        0.24000                0.00             163.00               0.55   \n",
              "1        0.08400                0.00              46.87               0.00   \n",
              "2        0.08076                0.00              45.57               0.00   \n",
              "3        0.19200                0.00              43.06            9469.47   \n",
              "4        1.20000                0.00             200.09           57783.55   \n",
              "5        0.12000                0.00              89.99           36764.23   \n",
              "6        1.20000                0.00              82.61           66762.40   \n",
              "7        0.14388                0.00             131.89           20054.13   \n",
              "8        0.05520               30.95               5.03             466.54   \n",
              "9        0.13200              130.59              34.91            7285.04   \n",
              "\n",
              "   vlr_saldo_devedor_esperado  dsp  dspp  flag_transacao  \n",
              "0                        0.00    0     0               0  \n",
              "1                        0.00    0     0               0  \n",
              "2                        0.00    0     0               0  \n",
              "3                      461.96   20    82               0  \n",
              "4                        0.00  134   167               0  \n",
              "5                     2745.73  196   250               0  \n",
              "6                        0.00  286   594               0  \n",
              "7                        0.00   76    76               0  \n",
              "8                     1127.39    0     0               0  \n",
              "9                     8756.04    0     0               0  \n",
              "\n",
              "[10 rows x 22 columns]"
            ],
            "text/html": [
              "\n",
              "  <div id=\"df-f4f789b9-5467-415f-8d80-9e2dfb95e3ef\">\n",
              "    <div class=\"colab-df-container\">\n",
              "      <div>\n",
              "<style scoped>\n",
              "    .dataframe tbody tr th:only-of-type {\n",
              "        vertical-align: middle;\n",
              "    }\n",
              "\n",
              "    .dataframe tbody tr th {\n",
              "        vertical-align: top;\n",
              "    }\n",
              "\n",
              "    .dataframe thead th {\n",
              "        text-align: right;\n",
              "    }\n",
              "</style>\n",
              "<table border=\"1\" class=\"dataframe\">\n",
              "  <thead>\n",
              "    <tr style=\"text-align: right;\">\n",
              "      <th></th>\n",
              "      <th>contrato_id</th>\n",
              "      <th>dt_ref_portfolio</th>\n",
              "      <th>safra</th>\n",
              "      <th>nr_documento</th>\n",
              "      <th>status_contrato</th>\n",
              "      <th>dt_contrato</th>\n",
              "      <th>dt_desembolso</th>\n",
              "      <th>dt_vencimento</th>\n",
              "      <th>dt_wo</th>\n",
              "      <th>prazo</th>\n",
              "      <th>...</th>\n",
              "      <th>juros_mes</th>\n",
              "      <th>juros_diario</th>\n",
              "      <th>perc_retencao</th>\n",
              "      <th>vlr_pgto_realizado</th>\n",
              "      <th>vlr_pgto_esperado</th>\n",
              "      <th>vlr_saldo_devedor</th>\n",
              "      <th>vlr_saldo_devedor_esperado</th>\n",
              "      <th>dsp</th>\n",
              "      <th>dspp</th>\n",
              "      <th>flag_transacao</th>\n",
              "    </tr>\n",
              "  </thead>\n",
              "  <tbody>\n",
              "    <tr>\n",
              "      <th>0</th>\n",
              "      <td>356c02706c8e74b15004bb5964ade6bb</td>\n",
              "      <td>2022-03-01</td>\n",
              "      <td>2020-06</td>\n",
              "      <td>b0871d4e0d72afd1d44381e5b2453cb2</td>\n",
              "      <td>Settled</td>\n",
              "      <td>2020-06-24</td>\n",
              "      <td>2020-06-29</td>\n",
              "      <td>2020-12-24</td>\n",
              "      <td>2021-12-24</td>\n",
              "      <td>10.26</td>\n",
              "      <td>...</td>\n",
              "      <td>0.10788</td>\n",
              "      <td>0.00345</td>\n",
              "      <td>0.24000</td>\n",
              "      <td>0.00</td>\n",
              "      <td>163.00</td>\n",
              "      <td>0.55</td>\n",
              "      <td>0.00</td>\n",
              "      <td>0</td>\n",
              "      <td>0</td>\n",
              "      <td>0</td>\n",
              "    </tr>\n",
              "    <tr>\n",
              "      <th>1</th>\n",
              "      <td>1eb0e13f83f336146227ccc9efb08c47</td>\n",
              "      <td>2022-03-01</td>\n",
              "      <td>2020-07</td>\n",
              "      <td>938513461b4a4fcd2bf99ffd8f12b9be</td>\n",
              "      <td>Settled</td>\n",
              "      <td>2020-07-26</td>\n",
              "      <td>2020-07-28</td>\n",
              "      <td>2021-10-26</td>\n",
              "      <td>2022-10-26</td>\n",
              "      <td>25.65</td>\n",
              "      <td>...</td>\n",
              "      <td>0.04788</td>\n",
              "      <td>0.00157</td>\n",
              "      <td>0.08400</td>\n",
              "      <td>0.00</td>\n",
              "      <td>46.87</td>\n",
              "      <td>0.00</td>\n",
              "      <td>0.00</td>\n",
              "      <td>0</td>\n",
              "      <td>0</td>\n",
              "      <td>0</td>\n",
              "    </tr>\n",
              "    <tr>\n",
              "      <th>2</th>\n",
              "      <td>8b03675f597974ca96f06648e96af6d4</td>\n",
              "      <td>2022-03-01</td>\n",
              "      <td>2020-08</td>\n",
              "      <td>4303bd71ee3fe80aba4efc8dbd6c7d70</td>\n",
              "      <td>Settled</td>\n",
              "      <td>2020-08-13</td>\n",
              "      <td>2020-08-17</td>\n",
              "      <td>2022-02-13</td>\n",
              "      <td>2023-02-13</td>\n",
              "      <td>30.78</td>\n",
              "      <td>...</td>\n",
              "      <td>0.05388</td>\n",
              "      <td>0.00176</td>\n",
              "      <td>0.08076</td>\n",
              "      <td>0.00</td>\n",
              "      <td>45.57</td>\n",
              "      <td>0.00</td>\n",
              "      <td>0.00</td>\n",
              "      <td>0</td>\n",
              "      <td>0</td>\n",
              "      <td>0</td>\n",
              "    </tr>\n",
              "    <tr>\n",
              "      <th>3</th>\n",
              "      <td>4207c25cdd13aba5a05ae348e889d798</td>\n",
              "      <td>2022-03-01</td>\n",
              "      <td>2021-03</td>\n",
              "      <td>9c1dc4403f8a4833bd58eea3ee85c917</td>\n",
              "      <td>Active</td>\n",
              "      <td>2021-03-01</td>\n",
              "      <td>2021-03-03</td>\n",
              "      <td>2022-06-01</td>\n",
              "      <td>2023-06-01</td>\n",
              "      <td>25.65</td>\n",
              "      <td>...</td>\n",
              "      <td>0.04788</td>\n",
              "      <td>0.00157</td>\n",
              "      <td>0.19200</td>\n",
              "      <td>0.00</td>\n",
              "      <td>43.06</td>\n",
              "      <td>9469.47</td>\n",
              "      <td>461.96</td>\n",
              "      <td>20</td>\n",
              "      <td>82</td>\n",
              "      <td>0</td>\n",
              "    </tr>\n",
              "    <tr>\n",
              "      <th>4</th>\n",
              "      <td>7dfdca96b6ff0dd844e5e130aee88b30</td>\n",
              "      <td>2022-03-01</td>\n",
              "      <td>2020-11</td>\n",
              "      <td>3b6951df3075979c99a4dfd9f93efd38</td>\n",
              "      <td>Active</td>\n",
              "      <td>2020-10-31</td>\n",
              "      <td>2020-11-04</td>\n",
              "      <td>2022-01-31</td>\n",
              "      <td>2023-01-31</td>\n",
              "      <td>25.65</td>\n",
              "      <td>...</td>\n",
              "      <td>0.04788</td>\n",
              "      <td>0.00157</td>\n",
              "      <td>1.20000</td>\n",
              "      <td>0.00</td>\n",
              "      <td>200.09</td>\n",
              "      <td>57783.55</td>\n",
              "      <td>0.00</td>\n",
              "      <td>134</td>\n",
              "      <td>167</td>\n",
              "      <td>0</td>\n",
              "    </tr>\n",
              "    <tr>\n",
              "      <th>5</th>\n",
              "      <td>a3aecc6b029cc77dd867e0e24e2d616f</td>\n",
              "      <td>2022-03-01</td>\n",
              "      <td>2020-12</td>\n",
              "      <td>9740eda3d6190add5703cd2dd280023c</td>\n",
              "      <td>Active</td>\n",
              "      <td>2020-12-18</td>\n",
              "      <td>2020-12-22</td>\n",
              "      <td>2022-06-18</td>\n",
              "      <td>2023-06-18</td>\n",
              "      <td>30.78</td>\n",
              "      <td>...</td>\n",
              "      <td>0.04188</td>\n",
              "      <td>0.00137</td>\n",
              "      <td>0.12000</td>\n",
              "      <td>0.00</td>\n",
              "      <td>89.99</td>\n",
              "      <td>36764.23</td>\n",
              "      <td>2745.73</td>\n",
              "      <td>196</td>\n",
              "      <td>250</td>\n",
              "      <td>0</td>\n",
              "    </tr>\n",
              "    <tr>\n",
              "      <th>6</th>\n",
              "      <td>3db18b4a0e36098c1ef1ee87f1491d84</td>\n",
              "      <td>2022-03-01</td>\n",
              "      <td>2020-07</td>\n",
              "      <td>c2766a0c65d1df592aeb4797efc893e0</td>\n",
              "      <td>Active</td>\n",
              "      <td>2020-07-08</td>\n",
              "      <td>2020-07-10</td>\n",
              "      <td>2021-10-08</td>\n",
              "      <td>2022-10-08</td>\n",
              "      <td>25.65</td>\n",
              "      <td>...</td>\n",
              "      <td>0.10188</td>\n",
              "      <td>0.00326</td>\n",
              "      <td>1.20000</td>\n",
              "      <td>0.00</td>\n",
              "      <td>82.61</td>\n",
              "      <td>66762.40</td>\n",
              "      <td>0.00</td>\n",
              "      <td>286</td>\n",
              "      <td>594</td>\n",
              "      <td>0</td>\n",
              "    </tr>\n",
              "    <tr>\n",
              "      <th>7</th>\n",
              "      <td>b4658a6d9785c527297cd14762240f09</td>\n",
              "      <td>2022-03-01</td>\n",
              "      <td>2020-12</td>\n",
              "      <td>d61e4f520ee20e9c693c9c4808d19f55</td>\n",
              "      <td>Active</td>\n",
              "      <td>2020-12-04</td>\n",
              "      <td>2020-12-08</td>\n",
              "      <td>2022-03-04</td>\n",
              "      <td>2023-03-04</td>\n",
              "      <td>25.65</td>\n",
              "      <td>...</td>\n",
              "      <td>0.04788</td>\n",
              "      <td>0.00157</td>\n",
              "      <td>0.14388</td>\n",
              "      <td>0.00</td>\n",
              "      <td>131.89</td>\n",
              "      <td>20054.13</td>\n",
              "      <td>0.00</td>\n",
              "      <td>76</td>\n",
              "      <td>76</td>\n",
              "      <td>0</td>\n",
              "    </tr>\n",
              "    <tr>\n",
              "      <th>8</th>\n",
              "      <td>c48198c89f94ca4fd075bf30b889b47d</td>\n",
              "      <td>2020-10-22</td>\n",
              "      <td>2020-04</td>\n",
              "      <td>77846fd227fe5270dbbfe752515d1af5</td>\n",
              "      <td>Active</td>\n",
              "      <td>2020-04-15</td>\n",
              "      <td>2020-04-22</td>\n",
              "      <td>2021-07-15</td>\n",
              "      <td>2022-07-15</td>\n",
              "      <td>25.65</td>\n",
              "      <td>...</td>\n",
              "      <td>0.04788</td>\n",
              "      <td>0.00157</td>\n",
              "      <td>0.05520</td>\n",
              "      <td>30.95</td>\n",
              "      <td>5.03</td>\n",
              "      <td>466.54</td>\n",
              "      <td>1127.39</td>\n",
              "      <td>0</td>\n",
              "      <td>0</td>\n",
              "      <td>0</td>\n",
              "    </tr>\n",
              "    <tr>\n",
              "      <th>9</th>\n",
              "      <td>05eddba83dc40815a1aa10b6d6259708</td>\n",
              "      <td>2020-10-22</td>\n",
              "      <td>2020-07</td>\n",
              "      <td>62290fe7c7682b1f829ae81b1fd08baf</td>\n",
              "      <td>Active</td>\n",
              "      <td>2020-07-02</td>\n",
              "      <td>2020-07-06</td>\n",
              "      <td>2021-10-02</td>\n",
              "      <td>2022-10-02</td>\n",
              "      <td>25.65</td>\n",
              "      <td>...</td>\n",
              "      <td>0.07188</td>\n",
              "      <td>0.00233</td>\n",
              "      <td>0.13200</td>\n",
              "      <td>130.59</td>\n",
              "      <td>34.91</td>\n",
              "      <td>7285.04</td>\n",
              "      <td>8756.04</td>\n",
              "      <td>0</td>\n",
              "      <td>0</td>\n",
              "      <td>0</td>\n",
              "    </tr>\n",
              "  </tbody>\n",
              "</table>\n",
              "<p>10 rows × 22 columns</p>\n",
              "</div>\n",
              "      <button class=\"colab-df-convert\" onclick=\"convertToInteractive('df-f4f789b9-5467-415f-8d80-9e2dfb95e3ef')\"\n",
              "              title=\"Convert this dataframe to an interactive table.\"\n",
              "              style=\"display:none;\">\n",
              "        \n",
              "  <svg xmlns=\"http://www.w3.org/2000/svg\" height=\"24px\"viewBox=\"0 0 24 24\"\n",
              "       width=\"24px\">\n",
              "    <path d=\"M0 0h24v24H0V0z\" fill=\"none\"/>\n",
              "    <path d=\"M18.56 5.44l.94 2.06.94-2.06 2.06-.94-2.06-.94-.94-2.06-.94 2.06-2.06.94zm-11 1L8.5 8.5l.94-2.06 2.06-.94-2.06-.94L8.5 2.5l-.94 2.06-2.06.94zm10 10l.94 2.06.94-2.06 2.06-.94-2.06-.94-.94-2.06-.94 2.06-2.06.94z\"/><path d=\"M17.41 7.96l-1.37-1.37c-.4-.4-.92-.59-1.43-.59-.52 0-1.04.2-1.43.59L10.3 9.45l-7.72 7.72c-.78.78-.78 2.05 0 2.83L4 21.41c.39.39.9.59 1.41.59.51 0 1.02-.2 1.41-.59l7.78-7.78 2.81-2.81c.8-.78.8-2.07 0-2.86zM5.41 20L4 18.59l7.72-7.72 1.47 1.35L5.41 20z\"/>\n",
              "  </svg>\n",
              "      </button>\n",
              "      \n",
              "  <style>\n",
              "    .colab-df-container {\n",
              "      display:flex;\n",
              "      flex-wrap:wrap;\n",
              "      gap: 12px;\n",
              "    }\n",
              "\n",
              "    .colab-df-convert {\n",
              "      background-color: #E8F0FE;\n",
              "      border: none;\n",
              "      border-radius: 50%;\n",
              "      cursor: pointer;\n",
              "      display: none;\n",
              "      fill: #1967D2;\n",
              "      height: 32px;\n",
              "      padding: 0 0 0 0;\n",
              "      width: 32px;\n",
              "    }\n",
              "\n",
              "    .colab-df-convert:hover {\n",
              "      background-color: #E2EBFA;\n",
              "      box-shadow: 0px 1px 2px rgba(60, 64, 67, 0.3), 0px 1px 3px 1px rgba(60, 64, 67, 0.15);\n",
              "      fill: #174EA6;\n",
              "    }\n",
              "\n",
              "    [theme=dark] .colab-df-convert {\n",
              "      background-color: #3B4455;\n",
              "      fill: #D2E3FC;\n",
              "    }\n",
              "\n",
              "    [theme=dark] .colab-df-convert:hover {\n",
              "      background-color: #434B5C;\n",
              "      box-shadow: 0px 1px 3px 1px rgba(0, 0, 0, 0.15);\n",
              "      filter: drop-shadow(0px 1px 2px rgba(0, 0, 0, 0.3));\n",
              "      fill: #FFFFFF;\n",
              "    }\n",
              "  </style>\n",
              "\n",
              "      <script>\n",
              "        const buttonEl =\n",
              "          document.querySelector('#df-f4f789b9-5467-415f-8d80-9e2dfb95e3ef button.colab-df-convert');\n",
              "        buttonEl.style.display =\n",
              "          google.colab.kernel.accessAllowed ? 'block' : 'none';\n",
              "\n",
              "        async function convertToInteractive(key) {\n",
              "          const element = document.querySelector('#df-f4f789b9-5467-415f-8d80-9e2dfb95e3ef');\n",
              "          const dataTable =\n",
              "            await google.colab.kernel.invokeFunction('convertToInteractive',\n",
              "                                                     [key], {});\n",
              "          if (!dataTable) return;\n",
              "\n",
              "          const docLinkHtml = 'Like what you see? Visit the ' +\n",
              "            '<a target=\"_blank\" href=https://colab.research.google.com/notebooks/data_table.ipynb>data table notebook</a>'\n",
              "            + ' to learn more about interactive tables.';\n",
              "          element.innerHTML = '';\n",
              "          dataTable['output_type'] = 'display_data';\n",
              "          await google.colab.output.renderOutput(dataTable, element);\n",
              "          const docLink = document.createElement('div');\n",
              "          docLink.innerHTML = docLinkHtml;\n",
              "          element.appendChild(docLink);\n",
              "        }\n",
              "      </script>\n",
              "    </div>\n",
              "  </div>\n",
              "  "
            ]
          },
          "metadata": {},
          "execution_count": 23
        }
      ],
      "source": [
        "#Visualizando as primeiras 10 linhas do arquivo\n",
        "PORTFOLIO_GERAL.head(10)"
      ]
    },
    {
      "cell_type": "code",
      "execution_count": null,
      "metadata": {
        "colab": {
          "base_uri": "https://localhost:8080/"
        },
        "id": "Dab0P9tpOhhc",
        "outputId": "0657c681-01b3-4058-b33e-fd417426d3db"
      },
      "outputs": [
        {
          "output_type": "execute_result",
          "data": {
            "text/plain": [
              "Index(['contrato_id', 'dt_ref_portfolio', 'safra', 'nr_documento',\n",
              "       'status_contrato', 'dt_contrato', 'dt_desembolso', 'dt_vencimento',\n",
              "       'dt_wo', 'prazo', 'vlr_desembolsado', 'vlr_tarifa', 'juros_mes',\n",
              "       'juros_diario', 'perc_retencao', 'vlr_pgto_realizado',\n",
              "       'vlr_pgto_esperado', 'vlr_saldo_devedor', 'vlr_saldo_devedor_esperado',\n",
              "       'dsp', 'dspp', 'flag_transacao'],\n",
              "      dtype='object')"
            ]
          },
          "metadata": {},
          "execution_count": 24
        }
      ],
      "source": [
        "#Verificando os nomes das colunas\n",
        "PORTFOLIO_GERAL.columns"
      ]
    },
    {
      "cell_type": "code",
      "execution_count": null,
      "metadata": {
        "colab": {
          "base_uri": "https://localhost:8080/"
        },
        "id": "vr3xYl1CPsAo",
        "outputId": "343e57f4-8c79-4b15-d86f-4909d11c188d"
      },
      "outputs": [
        {
          "output_type": "execute_result",
          "data": {
            "text/plain": [
              "contrato_id                    object\n",
              "dt_ref_portfolio               object\n",
              "safra                          object\n",
              "nr_documento                   object\n",
              "status_contrato                object\n",
              "dt_contrato                    object\n",
              "dt_desembolso                  object\n",
              "dt_vencimento                  object\n",
              "dt_wo                          object\n",
              "prazo                         float64\n",
              "vlr_desembolsado              float64\n",
              "vlr_tarifa                    float64\n",
              "juros_mes                     float64\n",
              "juros_diario                  float64\n",
              "perc_retencao                 float64\n",
              "vlr_pgto_realizado            float64\n",
              "vlr_pgto_esperado             float64\n",
              "vlr_saldo_devedor             float64\n",
              "vlr_saldo_devedor_esperado    float64\n",
              "dsp                             int64\n",
              "dspp                            int64\n",
              "flag_transacao                  int64\n",
              "dtype: object"
            ]
          },
          "metadata": {},
          "execution_count": 5
        }
      ],
      "source": [
        "# tipos das colunas do arquivo\n",
        "PORTFOLIO_GERAL.dtypes"
      ]
    },
    {
      "cell_type": "code",
      "execution_count": null,
      "metadata": {
        "colab": {
          "base_uri": "https://localhost:8080/"
        },
        "id": "wAM8UfL0OqWD",
        "outputId": "939a718b-4fa0-4906-edcd-72b63eb5dbaf"
      },
      "outputs": [
        {
          "output_type": "execute_result",
          "data": {
            "text/plain": [
              "(8061006, 22)"
            ]
          },
          "metadata": {},
          "execution_count": 6
        }
      ],
      "source": [
        "#Analisando quantidade de linhas e colunas\n",
        "PORTFOLIO_GERAL.shape"
      ]
    },
    {
      "cell_type": "code",
      "execution_count": null,
      "metadata": {
        "colab": {
          "base_uri": "https://localhost:8080/"
        },
        "id": "l2RzqMAZbWvc",
        "outputId": "03da4c7a-1ee7-4a03-cce8-ac106f573f6e"
      },
      "outputs": [
        {
          "output_type": "execute_result",
          "data": {
            "text/plain": [
              "contrato_id                   0\n",
              "dt_ref_portfolio              0\n",
              "safra                         0\n",
              "nr_documento                  0\n",
              "status_contrato               0\n",
              "dt_contrato                   0\n",
              "dt_desembolso                 0\n",
              "dt_vencimento                 0\n",
              "dt_wo                         0\n",
              "prazo                         0\n",
              "vlr_desembolsado              0\n",
              "vlr_tarifa                    0\n",
              "juros_mes                     0\n",
              "juros_diario                  0\n",
              "perc_retencao                 0\n",
              "vlr_pgto_realizado            0\n",
              "vlr_pgto_esperado             0\n",
              "vlr_saldo_devedor             0\n",
              "vlr_saldo_devedor_esperado    0\n",
              "dsp                           0\n",
              "dspp                          0\n",
              "flag_transacao                0\n",
              "dtype: int64"
            ]
          },
          "metadata": {},
          "execution_count": 7
        }
      ],
      "source": [
        "#verificando se existe alguma linha em branco de todas as colunas\n",
        "PORTFOLIO_GERAL.isnull().sum()"
      ]
    },
    {
      "cell_type": "code",
      "source": [
        "#Gerar tabela correlação para colunas númericas\n",
        "corr = PORTFOLIO_GERAL.corr()\n",
        "sns.heatmap(corr, cmap = \"gist_gray_r\", linewidths = 0.1)\n",
        "plt.show()"
      ],
      "metadata": {
        "colab": {
          "base_uri": "https://localhost:8080/",
          "height": 401
        },
        "id": "cgeyNaGzcar_",
        "outputId": "d7b83d68-3cfe-44a0-c688-15d183c8b610"
      },
      "execution_count": null,
      "outputs": [
        {
          "output_type": "display_data",
          "data": {
            "text/plain": [
              "<Figure size 432x288 with 2 Axes>"
            ],
            "image/png": "[encoded data removed]"
          },
          "metadata": {
            "needs_background": "light"
          }
        }
      ]
    },
    {
      "cell_type": "code",
      "execution_count": null,
      "metadata": {
        "id": "GfvMk4SlgAnB"
      },
      "outputs": [],
      "source": [
        "#Criando uma copia do arquivo original para o arquivo tratado\n",
        "PORTFOLIO_GERAL_TRATADO = PORTFOLIO_GERAL"
      ]
    },
    {
      "cell_type": "code",
      "execution_count": null,
      "metadata": {
        "id": "PjSdKqK9b34T"
      },
      "outputs": [],
      "source": [
        "#observação, Eu decidi com base em minha interpretação dos dados excluir 03 colunas\n",
        "\n",
        "dropcoluns = ['vlr_tarifa','juros_mes','juros_diario']\n",
        "PORTFOLIO_GERAL_TRATADO.drop(dropcoluns, axis='columns', inplace=True)\n"
      ]
    },
    {
      "cell_type": "code",
      "execution_count": null,
      "metadata": {
        "colab": {
          "base_uri": "https://localhost:8080/"
        },
        "id": "mUuYmulGd6bH",
        "outputId": "ba69ef02-7221-497e-c7ec-f392aeba7b5b"
      },
      "outputs": [
        {
          "output_type": "execute_result",
          "data": {
            "text/plain": [
              "(8061006, 19)"
            ]
          },
          "metadata": {},
          "execution_count": 28
        }
      ],
      "source": [
        "#Confirmando quantidades de colunas excluidas\n",
        "PORTFOLIO_GERAL_TRATADO.shape"
      ]
    },
    {
      "cell_type": "code",
      "execution_count": null,
      "metadata": {
        "id": "8STPbZ4HIqUA"
      },
      "outputs": [],
      "source": [
        "#Importar bibliotecas para correlação\n",
        "import matplotlib.pyplot as plt\n",
        "import seaborn as sns"
      ]
    },
    {
      "cell_type": "code",
      "execution_count": null,
      "metadata": {
        "colab": {
          "base_uri": "https://localhost:8080/"
        },
        "id": "jpC88oABUGyC",
        "outputId": "33f001f6-2fa6-4b90-c0ee-82e30aab26bd"
      },
      "outputs": [
        {
          "output_type": "stream",
          "name": "stdout",
          "text": [
            "0          356c02706c8e74b15004bb5964ade6bb\n",
            "1          1eb0e13f83f336146227ccc9efb08c47\n",
            "2          8b03675f597974ca96f06648e96af6d4\n",
            "3          4207c25cdd13aba5a05ae348e889d798\n",
            "4          7dfdca96b6ff0dd844e5e130aee88b30\n",
            "                         ...               \n",
            "8061001    b532ce3583bf083b58dcbb3156e9a6fb\n",
            "8061002    c5cce1cc49025572c7378279c1469923\n",
            "8061003    67348b340a082aa77a67b7431cc91145\n",
            "8061004    835d1f4def59389b5fbd64eaf195ece6\n",
            "8061005    e4753f517397dec57e638d49b982fc96\n",
            "Name: contrato_id, Length: 8061006, dtype: object\n",
            "\n",
            "\n",
            "0          2022-03-01\n",
            "1          2022-03-01\n",
            "2          2022-03-01\n",
            "3          2022-03-01\n",
            "4          2022-03-01\n",
            "              ...    \n",
            "8061001    2020-10-04\n",
            "8061002    2020-10-04\n",
            "8061003    2020-10-31\n",
            "8061004    2020-09-14\n",
            "8061005    2020-10-17\n",
            "Name: dt_ref_portfolio, Length: 8061006, dtype: object\n",
            "\n",
            "\n",
            "0          2020-06\n",
            "1          2020-07\n",
            "2          2020-08\n",
            "3          2021-03\n",
            "4          2020-11\n",
            "            ...   \n",
            "8061001    2020-09\n",
            "8061002    2020-05\n",
            "8061003    2020-06\n",
            "8061004    2020-02\n",
            "8061005    2020-03\n",
            "Name: safra, Length: 8061006, dtype: object\n",
            "\n",
            "\n",
            "0          b0871d4e0d72afd1d44381e5b2453cb2\n",
            "1          938513461b4a4fcd2bf99ffd8f12b9be\n",
            "2          4303bd71ee3fe80aba4efc8dbd6c7d70\n",
            "3          9c1dc4403f8a4833bd58eea3ee85c917\n",
            "4          3b6951df3075979c99a4dfd9f93efd38\n",
            "                         ...               \n",
            "8061001    66a443539af19dc890cafbebe0e1de8e\n",
            "8061002    f9d63ef575f20c5698146e2c796eedcd\n",
            "8061003    28283b4f3cc1654a879b64251f98164b\n",
            "8061004    e45b288b207f5fce1707d6c8f3555aa2\n",
            "8061005    6cc7b4e91e82d38b829248fabda7f305\n",
            "Name: nr_documento, Length: 8061006, dtype: object\n",
            "\n",
            "\n",
            "0          Settled\n",
            "1          Settled\n",
            "2          Settled\n",
            "3           Active\n",
            "4           Active\n",
            "            ...   \n",
            "8061001     Active\n",
            "8061002    Settled\n",
            "8061003     Active\n",
            "8061004    Settled\n",
            "8061005    Settled\n",
            "Name: status_contrato, Length: 8061006, dtype: object\n",
            "\n",
            "\n",
            "0          2020-06-24\n",
            "1          2020-07-26\n",
            "2          2020-08-13\n",
            "3          2021-03-01\n",
            "4          2020-10-31\n",
            "              ...    \n",
            "8061001    2020-09-25\n",
            "8061002    2020-05-26\n",
            "8061003    2020-06-17\n",
            "8061004    2020-01-31\n",
            "8061005    2020-03-03\n",
            "Name: dt_contrato, Length: 8061006, dtype: object\n",
            "\n",
            "\n",
            "0          2020-06-29\n",
            "1          2020-07-28\n",
            "2          2020-08-17\n",
            "3          2021-03-03\n",
            "4          2020-11-04\n",
            "              ...    \n",
            "8061001    2020-09-29\n",
            "8061002    2020-05-29\n",
            "8061003    2020-06-23\n",
            "8061004    2020-02-05\n",
            "8061005    2020-03-04\n",
            "Name: dt_desembolso, Length: 8061006, dtype: object\n",
            "\n",
            "\n",
            "0          2020-12-24\n",
            "1          2021-10-26\n",
            "2          2022-02-13\n",
            "3          2022-06-01\n",
            "4          2022-01-31\n",
            "              ...    \n",
            "8061001    2021-12-25\n",
            "8061002    2021-08-26\n",
            "8061003    2021-09-17\n",
            "8061004    2020-10-31\n",
            "8061005    2021-03-03\n",
            "Name: dt_vencimento, Length: 8061006, dtype: object\n",
            "\n",
            "\n",
            "0          2021-12-24\n",
            "1          2022-10-26\n",
            "2          2023-02-13\n",
            "3          2023-06-01\n",
            "4          2023-01-31\n",
            "              ...    \n",
            "8061001    2022-12-25\n",
            "8061002    2022-08-26\n",
            "8061003    2022-09-17\n",
            "8061004    2021-10-31\n",
            "8061005    2022-03-03\n",
            "Name: dt_wo, Length: 8061006, dtype: object\n",
            "\n",
            "\n",
            "0          10.26\n",
            "1          25.65\n",
            "2          30.78\n",
            "3          25.65\n",
            "4          25.65\n",
            "           ...  \n",
            "8061001    25.65\n",
            "8061002    25.65\n",
            "8061003    25.65\n",
            "8061004    13.68\n",
            "8061005    20.52\n",
            "Name: prazo, Length: 8061006, dtype: float64\n",
            "\n",
            "\n",
            "0          22686.57\n",
            "1          16074.00\n",
            "2          17100.00\n",
            "3          14588.01\n",
            "4          68400.00\n",
            "             ...   \n",
            "8061001    11332.17\n",
            "8061002     3628.62\n",
            "8061003     1692.90\n",
            "8061004    11286.00\n",
            "8061005     8748.36\n",
            "Name: vlr_desembolsado, Length: 8061006, dtype: float64\n",
            "\n",
            "\n",
            "0          0.24000\n",
            "1          0.08400\n",
            "2          0.08076\n",
            "3          0.19200\n",
            "4          1.20000\n",
            "            ...   \n",
            "8061001    0.18000\n",
            "8061002    0.30000\n",
            "8061003    0.10800\n",
            "8061004    0.24228\n",
            "8061005    0.11844\n",
            "Name: perc_retencao, Length: 8061006, dtype: float64\n",
            "\n",
            "\n",
            "0          0.0\n",
            "1          0.0\n",
            "2          0.0\n",
            "3          0.0\n",
            "4          0.0\n",
            "          ... \n",
            "8061001    0.0\n",
            "8061002    0.0\n",
            "8061003    0.0\n",
            "8061004    0.0\n",
            "8061005    0.0\n",
            "Name: vlr_pgto_realizado, Length: 8061006, dtype: float64\n",
            "\n",
            "\n",
            "0          163.00\n",
            "1           46.87\n",
            "2           45.57\n",
            "3           43.06\n",
            "4          200.09\n",
            "            ...  \n",
            "8061001     35.41\n",
            "8061002      9.91\n",
            "8061003      5.64\n",
            "8061004     54.64\n",
            "8061005     34.75\n",
            "Name: vlr_pgto_esperado, Length: 8061006, dtype: float64\n",
            "\n",
            "\n",
            "0              0.55\n",
            "1              0.00\n",
            "2              0.00\n",
            "3           9469.47\n",
            "4          57783.55\n",
            "             ...   \n",
            "8061001    11201.47\n",
            "8061002        0.02\n",
            "8061003     2064.82\n",
            "8061004        0.02\n",
            "8061005        0.29\n",
            "Name: vlr_saldo_devedor, Length: 8061006, dtype: float64\n",
            "\n",
            "\n",
            "0              0.00\n",
            "1              0.00\n",
            "2              0.00\n",
            "3            461.96\n",
            "4              0.00\n",
            "             ...   \n",
            "8061001    11229.76\n",
            "8061002     2756.18\n",
            "8061003     1342.64\n",
            "8061004     2350.90\n",
            "8061005     4042.83\n",
            "Name: vlr_saldo_devedor_esperado, Length: 8061006, dtype: float64\n",
            "\n",
            "\n",
            "0            0\n",
            "1            0\n",
            "2            0\n",
            "3           20\n",
            "4          134\n",
            "          ... \n",
            "8061001      2\n",
            "8061002      0\n",
            "8061003    122\n",
            "8061004      0\n",
            "8061005      0\n",
            "Name: dsp, Length: 8061006, dtype: int64\n",
            "\n",
            "\n",
            "0            0\n",
            "1            0\n",
            "2            0\n",
            "3           82\n",
            "4          167\n",
            "          ... \n",
            "8061001      2\n",
            "8061002      0\n",
            "8061003    122\n",
            "8061004      0\n",
            "8061005      0\n",
            "Name: dspp, Length: 8061006, dtype: int64\n",
            "\n",
            "\n",
            "0          0\n",
            "1          0\n",
            "2          0\n",
            "3          0\n",
            "4          0\n",
            "          ..\n",
            "8061001    0\n",
            "8061002    0\n",
            "8061003    0\n",
            "8061004    1\n",
            "8061005    1\n",
            "Name: flag_transacao, Length: 8061006, dtype: int64\n",
            "\n",
            "\n"
          ]
        }
      ],
      "source": [
        "#Verificando as estruturas de todas as colunas do arquivo tratado\n",
        "for i in PORTFOLIO_GERAL_TRATADO:\n",
        "  print(PORTFOLIO_GERAL_TRATADO[i])\n",
        "  print('\\n')"
      ]
    },
    {
      "cell_type": "code",
      "execution_count": null,
      "metadata": {
        "colab": {
          "base_uri": "https://localhost:8080/"
        },
        "id": "-NyB4IPcXAdR",
        "outputId": "5d004e4a-aa7b-45b2-f872-1770a8f4961c"
      },
      "outputs": [
        {
          "output_type": "stream",
          "name": "stdout",
          "text": [
            "Active                   5642791\n",
            "Settled                  2239468\n",
            "Suspended                 173373\n",
            "DisbursementConfirmed       2427\n",
            "DisbursementRequested       1797\n",
            "Accepted                    1150\n",
            "Name: status_contrato, dtype: int64\n",
            "\n",
            "\n",
            "25.65    4282021\n",
            "30.78    1056162\n",
            "35.91     831407\n",
            "13.68     656354\n",
            "15.39     536238\n",
            "27.36     307901\n",
            "20.52     224623\n",
            "10.26     166300\n",
            "Name: prazo, dtype: int64\n",
            "\n",
            "\n",
            "1    4487418\n",
            "0    3573588\n",
            "Name: flag_transacao, dtype: int64\n",
            "\n",
            "\n"
          ]
        }
      ],
      "source": [
        "#Criando uma lista personalizada com as colunas escolhidas para contagem de valores\n",
        "lista = ['status_contrato','prazo','flag_transacao']\n",
        "\n",
        "#Realizando a contagem de valores das colunas escolhidas no arquivo PORTFOLIO_GERAL_TRATADO\n",
        "for i in lista:\n",
        "  print(PORTFOLIO_GERAL_TRATADO[i].value_counts())\n",
        "  print('\\n')\n"
      ]
    },
    {
      "cell_type": "code",
      "source": [
        "#validando os tipos de contrato existente\n",
        "PORTFOLIO_GERAL_TRATADO['status_contrato'].unique()"
      ],
      "metadata": {
        "colab": {
          "base_uri": "https://localhost:8080/"
        },
        "id": "m52qcuRXbCY1",
        "outputId": "009d8d6e-f0f1-4482-8c01-eaaf86f6c5a5"
      },
      "execution_count": null,
      "outputs": [
        {
          "output_type": "execute_result",
          "data": {
            "text/plain": [
              "array(['Settled', 'Active', 'Suspended', 'DisbursementRequested',\n",
              "       'Accepted', 'DisbursementConfirmed'], dtype=object)"
            ]
          },
          "metadata": {},
          "execution_count": 32
        }
      ]
    },
    {
      "cell_type": "code",
      "execution_count": null,
      "metadata": {
        "id": "58YZy5dOif3l"
      },
      "outputs": [],
      "source": [
        "#Criando uma compactação para Zip\n",
        "compression_opts = dict(method='zip',\n",
        "                         archive_name='PORTFOLIO_GERAL_TRATADO.csv')"
      ]
    },
    {
      "cell_type": "code",
      "execution_count": null,
      "metadata": {
        "id": "HY0dID4jlEhX"
      },
      "outputs": [],
      "source": [
        "#Salvando o arquivo compactado com nome 'PORTFOLIO_GERAL_TRATADO_COMPACTADO' no caminho /content/\n",
        "PORTFOLIO_GERAL_TRATADO.to_csv ('PORTFOLIO_GERAL_TRATADO_COMPACTADO.zip', index=False, compression= compression_opts)"
      ]
    },
    {
      "cell_type": "markdown",
      "source": [
        "**Analise Exploratória do Arquivo: PORTFOLIO_TPV.csv**"
      ],
      "metadata": {
        "id": "hKKK5ozBu03c"
      }
    },
    {
      "cell_type": "code",
      "source": [
        "#Carregando o arquivo que está no drive\n",
        "PORTFOLIO_TPV = pd.read_csv('/content/drive/MyDrive/Colab Notebooks/DC22/Arquivos_Originais/portfolio_tpv.csv')"
      ],
      "metadata": {
        "id": "Uv8kmPdvwSRQ"
      },
      "execution_count": null,
      "outputs": []
    },
    {
      "cell_type": "code",
      "source": [
        "#Visualizando as primeiras 10 linhas do arquivo\n",
        "PORTFOLIO_TPV.head(10)\n"
      ],
      "metadata": {
        "colab": {
          "base_uri": "https://localhost:8080/",
          "height": 363
        },
        "id": "8oRkw3qfw8b_",
        "outputId": "5dd5feb1-09be-4feb-b1c4-42b8c083a4da"
      },
      "execution_count": null,
      "outputs": [
        {
          "output_type": "execute_result",
          "data": {
            "text/plain": [
              "                       nr_documento  dt_transacao  qtd_transacoes  vlr_tpv\n",
              "0  7f0464355620bc7c137b3546eb90867a      20210505               4    116.5\n",
              "1  7f0464355620bc7c137b3546eb90867a      20210506              20    537.0\n",
              "2  7f0464355620bc7c137b3546eb90867a      20210507              17    440.0\n",
              "3  7f0464355620bc7c137b3546eb90867a      20210508              29   1328.0\n",
              "4  7f0464355620bc7c137b3546eb90867a      20210509              35    969.5\n",
              "5  7f0464355620bc7c137b3546eb90867a      20210510              18    688.0\n",
              "6  7f0464355620bc7c137b3546eb90867a      20210511               7    310.5\n",
              "7  7f0464355620bc7c137b3546eb90867a      20210512              15    497.5\n",
              "8  7f0464355620bc7c137b3546eb90867a      20210513              11    396.5\n",
              "9  7f0464355620bc7c137b3546eb90867a      20210514              22    644.5"
            ],
            "text/html": [
              "\n",
              "  <div id=\"df-1cd2f88a-7eb2-4acf-97e0-6888df979b37\">\n",
              "    <div class=\"colab-df-container\">\n",
              "      <div>\n",
              "<style scoped>\n",
              "    .dataframe tbody tr th:only-of-type {\n",
              "        vertical-align: middle;\n",
              "    }\n",
              "\n",
              "    .dataframe tbody tr th {\n",
              "        vertical-align: top;\n",
              "    }\n",
              "\n",
              "    .dataframe thead th {\n",
              "        text-align: right;\n",
              "    }\n",
              "</style>\n",
              "<table border=\"1\" class=\"dataframe\">\n",
              "  <thead>\n",
              "    <tr style=\"text-align: right;\">\n",
              "      <th></th>\n",
              "      <th>nr_documento</th>\n",
              "      <th>dt_transacao</th>\n",
              "      <th>qtd_transacoes</th>\n",
              "      <th>vlr_tpv</th>\n",
              "    </tr>\n",
              "  </thead>\n",
              "  <tbody>\n",
              "    <tr>\n",
              "      <th>0</th>\n",
              "      <td>7f0464355620bc7c137b3546eb90867a</td>\n",
              "      <td>20210505</td>\n",
              "      <td>4</td>\n",
              "      <td>116.5</td>\n",
              "    </tr>\n",
              "    <tr>\n",
              "      <th>1</th>\n",
              "      <td>7f0464355620bc7c137b3546eb90867a</td>\n",
              "      <td>20210506</td>\n",
              "      <td>20</td>\n",
              "      <td>537.0</td>\n",
              "    </tr>\n",
              "    <tr>\n",
              "      <th>2</th>\n",
              "      <td>7f0464355620bc7c137b3546eb90867a</td>\n",
              "      <td>20210507</td>\n",
              "      <td>17</td>\n",
              "      <td>440.0</td>\n",
              "    </tr>\n",
              "    <tr>\n",
              "      <th>3</th>\n",
              "      <td>7f0464355620bc7c137b3546eb90867a</td>\n",
              "      <td>20210508</td>\n",
              "      <td>29</td>\n",
              "      <td>1328.0</td>\n",
              "    </tr>\n",
              "    <tr>\n",
              "      <th>4</th>\n",
              "      <td>7f0464355620bc7c137b3546eb90867a</td>\n",
              "      <td>20210509</td>\n",
              "      <td>35</td>\n",
              "      <td>969.5</td>\n",
              "    </tr>\n",
              "    <tr>\n",
              "      <th>5</th>\n",
              "      <td>7f0464355620bc7c137b3546eb90867a</td>\n",
              "      <td>20210510</td>\n",
              "      <td>18</td>\n",
              "      <td>688.0</td>\n",
              "    </tr>\n",
              "    <tr>\n",
              "      <th>6</th>\n",
              "      <td>7f0464355620bc7c137b3546eb90867a</td>\n",
              "      <td>20210511</td>\n",
              "      <td>7</td>\n",
              "      <td>310.5</td>\n",
              "    </tr>\n",
              "    <tr>\n",
              "      <th>7</th>\n",
              "      <td>7f0464355620bc7c137b3546eb90867a</td>\n",
              "      <td>20210512</td>\n",
              "      <td>15</td>\n",
              "      <td>497.5</td>\n",
              "    </tr>\n",
              "    <tr>\n",
              "      <th>8</th>\n",
              "      <td>7f0464355620bc7c137b3546eb90867a</td>\n",
              "      <td>20210513</td>\n",
              "      <td>11</td>\n",
              "      <td>396.5</td>\n",
              "    </tr>\n",
              "    <tr>\n",
              "      <th>9</th>\n",
              "      <td>7f0464355620bc7c137b3546eb90867a</td>\n",
              "      <td>20210514</td>\n",
              "      <td>22</td>\n",
              "      <td>644.5</td>\n",
              "    </tr>\n",
              "  </tbody>\n",
              "</table>\n",
              "</div>\n",
              "      <button class=\"colab-df-convert\" onclick=\"convertToInteractive('df-1cd2f88a-7eb2-4acf-97e0-6888df979b37')\"\n",
              "              title=\"Convert this dataframe to an interactive table.\"\n",
              "              style=\"display:none;\">\n",
              "        \n",
              "  <svg xmlns=\"http://www.w3.org/2000/svg\" height=\"24px\"viewBox=\"0 0 24 24\"\n",
              "       width=\"24px\">\n",
              "    <path d=\"M0 0h24v24H0V0z\" fill=\"none\"/>\n",
              "    <path d=\"M18.56 5.44l.94 2.06.94-2.06 2.06-.94-2.06-.94-.94-2.06-.94 2.06-2.06.94zm-11 1L8.5 8.5l.94-2.06 2.06-.94-2.06-.94L8.5 2.5l-.94 2.06-2.06.94zm10 10l.94 2.06.94-2.06 2.06-.94-2.06-.94-.94-2.06-.94 2.06-2.06.94z\"/><path d=\"M17.41 7.96l-1.37-1.37c-.4-.4-.92-.59-1.43-.59-.52 0-1.04.2-1.43.59L10.3 9.45l-7.72 7.72c-.78.78-.78 2.05 0 2.83L4 21.41c.39.39.9.59 1.41.59.51 0 1.02-.2 1.41-.59l7.78-7.78 2.81-2.81c.8-.78.8-2.07 0-2.86zM5.41 20L4 18.59l7.72-7.72 1.47 1.35L5.41 20z\"/>\n",
              "  </svg>\n",
              "      </button>\n",
              "      \n",
              "  <style>\n",
              "    .colab-df-container {\n",
              "      display:flex;\n",
              "      flex-wrap:wrap;\n",
              "      gap: 12px;\n",
              "    }\n",
              "\n",
              "    .colab-df-convert {\n",
              "      background-color: #E8F0FE;\n",
              "      border: none;\n",
              "      border-radius: 50%;\n",
              "      cursor: pointer;\n",
              "      display: none;\n",
              "      fill: #1967D2;\n",
              "      height: 32px;\n",
              "      padding: 0 0 0 0;\n",
              "      width: 32px;\n",
              "    }\n",
              "\n",
              "    .colab-df-convert:hover {\n",
              "      background-color: #E2EBFA;\n",
              "      box-shadow: 0px 1px 2px rgba(60, 64, 67, 0.3), 0px 1px 3px 1px rgba(60, 64, 67, 0.15);\n",
              "      fill: #174EA6;\n",
              "    }\n",
              "\n",
              "    [theme=dark] .colab-df-convert {\n",
              "      background-color: #3B4455;\n",
              "      fill: #D2E3FC;\n",
              "    }\n",
              "\n",
              "    [theme=dark] .colab-df-convert:hover {\n",
              "      background-color: #434B5C;\n",
              "      box-shadow: 0px 1px 3px 1px rgba(0, 0, 0, 0.15);\n",
              "      filter: drop-shadow(0px 1px 2px rgba(0, 0, 0, 0.3));\n",
              "      fill: #FFFFFF;\n",
              "    }\n",
              "  </style>\n",
              "\n",
              "      <script>\n",
              "        const buttonEl =\n",
              "          document.querySelector('#df-1cd2f88a-7eb2-4acf-97e0-6888df979b37 button.colab-df-convert');\n",
              "        buttonEl.style.display =\n",
              "          google.colab.kernel.accessAllowed ? 'block' : 'none';\n",
              "\n",
              "        async function convertToInteractive(key) {\n",
              "          const element = document.querySelector('#df-1cd2f88a-7eb2-4acf-97e0-6888df979b37');\n",
              "          const dataTable =\n",
              "            await google.colab.kernel.invokeFunction('convertToInteractive',\n",
              "                                                     [key], {});\n",
              "          if (!dataTable) return;\n",
              "\n",
              "          const docLinkHtml = 'Like what you see? Visit the ' +\n",
              "            '<a target=\"_blank\" href=https://colab.research.google.com/notebooks/data_table.ipynb>data table notebook</a>'\n",
              "            + ' to learn more about interactive tables.';\n",
              "          element.innerHTML = '';\n",
              "          dataTable['output_type'] = 'display_data';\n",
              "          await google.colab.output.renderOutput(dataTable, element);\n",
              "          const docLink = document.createElement('div');\n",
              "          docLink.innerHTML = docLinkHtml;\n",
              "          element.appendChild(docLink);\n",
              "        }\n",
              "      </script>\n",
              "    </div>\n",
              "  </div>\n",
              "  "
            ]
          },
          "metadata": {},
          "execution_count": 37
        }
      ]
    },
    {
      "cell_type": "code",
      "source": [
        "#Verificando os nomes das colunas\n",
        "PORTFOLIO_TPV.columns"
      ],
      "metadata": {
        "colab": {
          "base_uri": "https://localhost:8080/"
        },
        "id": "jl4yAAXOxJVH",
        "outputId": "e6996368-3626-4415-bcc9-8485bbdd705c"
      },
      "execution_count": null,
      "outputs": [
        {
          "output_type": "execute_result",
          "data": {
            "text/plain": [
              "Index(['nr_documento', 'dt_transacao', 'qtd_transacoes', 'vlr_tpv'], dtype='object')"
            ]
          },
          "metadata": {},
          "execution_count": 38
        }
      ]
    },
    {
      "cell_type": "code",
      "source": [
        "# tipos das colunas do arquivo\n",
        "PORTFOLIO_TPV.dtypes"
      ],
      "metadata": {
        "colab": {
          "base_uri": "https://localhost:8080/"
        },
        "id": "p5h8vU6TxP23",
        "outputId": "5141ffe5-b854-4315-e517-07c144759f5c"
      },
      "execution_count": null,
      "outputs": [
        {
          "output_type": "execute_result",
          "data": {
            "text/plain": [
              "nr_documento       object\n",
              "dt_transacao        int64\n",
              "qtd_transacoes      int64\n",
              "vlr_tpv           float64\n",
              "dtype: object"
            ]
          },
          "metadata": {},
          "execution_count": 40
        }
      ]
    },
    {
      "cell_type": "code",
      "source": [
        "#Analisando quantidade de linhas e colunas\n",
        "PORTFOLIO_TPV.shape"
      ],
      "metadata": {
        "colab": {
          "base_uri": "https://localhost:8080/"
        },
        "id": "holH5piKxbS-",
        "outputId": "9f4db151-2441-4622-8866-3e87db905276"
      },
      "execution_count": null,
      "outputs": [
        {
          "output_type": "execute_result",
          "data": {
            "text/plain": [
              "(4408597, 4)"
            ]
          },
          "metadata": {},
          "execution_count": 41
        }
      ]
    },
    {
      "cell_type": "code",
      "source": [
        "#verificando se existe alguma linha em branco de todas as colunas\n",
        "PORTFOLIO_TPV.isnull().sum()"
      ],
      "metadata": {
        "colab": {
          "base_uri": "https://localhost:8080/"
        },
        "id": "pJcce7fUxkU-",
        "outputId": "ddcafee7-aa9a-43bc-9003-2213815562c6"
      },
      "execution_count": null,
      "outputs": [
        {
          "output_type": "execute_result",
          "data": {
            "text/plain": [
              "nr_documento      0\n",
              "dt_transacao      0\n",
              "qtd_transacoes    0\n",
              "vlr_tpv           0\n",
              "dtype: int64"
            ]
          },
          "metadata": {},
          "execution_count": 42
        }
      ]
    },
    {
      "cell_type": "code",
      "source": [
        "#Gerar tabela correlação para colunas númericas\n",
        "corr_tpv = PORTFOLIO_TPV.corr()\n",
        "sns.heatmap(corr_tpv, cmap = \"gist_gray_r\", linewidths = 0.1)\n",
        "plt.show()"
      ],
      "metadata": {
        "colab": {
          "base_uri": "https://localhost:8080/",
          "height": 270
        },
        "id": "vMli_JH9xoqu",
        "outputId": "4b669a8a-650b-4bcc-cc5a-58283df1e1d3"
      },
      "execution_count": null,
      "outputs": [
        {
          "output_type": "display_data",
          "data": {
            "text/plain": [
              "<Figure size 432x288 with 2 Axes>"
            ],
            "image/png": "[encoded data removed]"
          },
          "metadata": {
            "needs_background": "light"
          }
        }
      ]
    },
    {
      "cell_type": "code",
      "source": [
        "#Verificando as estruturas de todas as colunas do arquivo tratado\n",
        "for a in PORTFOLIO_TPV:\n",
        "  print(PORTFOLIO_TPV[a])\n",
        "  print('\\n')"
      ],
      "metadata": {
        "colab": {
          "base_uri": "https://localhost:8080/"
        },
        "id": "GydzJOTGyE8t",
        "outputId": "ef7acf51-812d-44af-9131-17a0926b000e"
      },
      "execution_count": null,
      "outputs": [
        {
          "output_type": "stream",
          "name": "stdout",
          "text": [
            "0          7f0464355620bc7c137b3546eb90867a\n",
            "1          7f0464355620bc7c137b3546eb90867a\n",
            "2          7f0464355620bc7c137b3546eb90867a\n",
            "3          7f0464355620bc7c137b3546eb90867a\n",
            "4          7f0464355620bc7c137b3546eb90867a\n",
            "                         ...               \n",
            "4408592    1addbacfc5ca5fa417aef899d2cd849d\n",
            "4408593    1addbacfc5ca5fa417aef899d2cd849d\n",
            "4408594    1addbacfc5ca5fa417aef899d2cd849d\n",
            "4408595    1addbacfc5ca5fa417aef899d2cd849d\n",
            "4408596    1addbacfc5ca5fa417aef899d2cd849d\n",
            "Name: nr_documento, Length: 4408597, dtype: object\n",
            "\n",
            "\n",
            "0          20210505\n",
            "1          20210506\n",
            "2          20210507\n",
            "3          20210508\n",
            "4          20210509\n",
            "             ...   \n",
            "4408592    20210325\n",
            "4408593    20210327\n",
            "4408594    20210329\n",
            "4408595    20210330\n",
            "4408596    20210409\n",
            "Name: dt_transacao, Length: 4408597, dtype: int64\n",
            "\n",
            "\n",
            "0           4\n",
            "1          20\n",
            "2          17\n",
            "3          29\n",
            "4          35\n",
            "           ..\n",
            "4408592     2\n",
            "4408593     2\n",
            "4408594     2\n",
            "4408595     1\n",
            "4408596     1\n",
            "Name: qtd_transacoes, Length: 4408597, dtype: int64\n",
            "\n",
            "\n",
            "0           116.5\n",
            "1           537.0\n",
            "2           440.0\n",
            "3          1328.0\n",
            "4           969.5\n",
            "            ...  \n",
            "4408592     200.0\n",
            "4408593     200.0\n",
            "4408594     480.0\n",
            "4408595      80.0\n",
            "4408596     190.0\n",
            "Name: vlr_tpv, Length: 4408597, dtype: float64\n",
            "\n",
            "\n"
          ]
        }
      ]
    },
    {
      "cell_type": "markdown",
      "source": [
        "**Analise Exploratória do Arquivo: PORTFOLIO_COMUNICADOS.csv**"
      ],
      "metadata": {
        "id": "8X3-5Bvb7Bks"
      }
    },
    {
      "cell_type": "code",
      "source": [
        "#Carregando o arquivo que está no drive\n",
        "PORTFOLIO_COMUNICADOS = pd.read_csv('/content/drive/MyDrive/Colab Notebooks/DC22/Arquivos_Originais/portfolio_comunicados.csv')"
      ],
      "metadata": {
        "id": "yUTx9sJZ7FoE"
      },
      "execution_count": null,
      "outputs": []
    },
    {
      "cell_type": "code",
      "source": [
        "#Visualizando as primeiras 10 linhas do arquivo\n",
        "PORTFOLIO_COMUNICADOS.head(10)"
      ],
      "metadata": {
        "colab": {
          "base_uri": "https://localhost:8080/",
          "height": 363
        },
        "id": "qizqRNuU7qNj",
        "outputId": "8ec0b8f3-3db6-4ef0-d286-e087e1f95d9a"
      },
      "execution_count": null,
      "outputs": [
        {
          "output_type": "execute_result",
          "data": {
            "text/plain": [
              "                        contrato_id dt_ref_portfolio   data_acao tipo_acao  \\\n",
              "0  0d823ddff1839eb938dccc68586ae365       2021-01-16  2021-01-18       HSM   \n",
              "1  c2f8a21671dbaeaa4157e03682c639e1       2021-05-22  2021-05-24       HSM   \n",
              "2  e19a222c233d46ff4984489c13aa1b98       2020-09-15  2020-09-15       HSM   \n",
              "3  c24fc7630fe5b89928ba9478c2cdd9b2       2021-07-20  2021-07-20       HSM   \n",
              "4  0abe9c2f21e941f2bd3b086277e33ebc       2020-12-26  2020-12-28       HSM   \n",
              "5  90329f6c65f6b7f07e4fd251925a90b9       2020-05-16  2020-05-18       HSM   \n",
              "6  b4c216d4e06517e219528d21a4d8b28a       2021-09-11  2021-09-13       HSM   \n",
              "7  12802c4021a563458541a34123a3f95c       2021-01-17  2021-01-19       HSM   \n",
              "8  d14424714e2f8fdb66d437e2ae121040       2021-09-07  2021-09-07       HSM   \n",
              "9  16086eb8382bd845b6747ebec5730fd9       2021-10-06  2021-10-06       HSM   \n",
              "\n",
              "                 acao        status  \n",
              "0  campanhaobservacao          LIDO  \n",
              "1  campanhaobservacao      ENTREGUE  \n",
              "2  campanhaobservacao  NAO ENTREGUE  \n",
              "3  campanhaobservacao  NAO ENTREGUE  \n",
              "4  campanhaobservacao      ENTREGUE  \n",
              "5  campanhaobservacao      ENTREGUE  \n",
              "6  campanhaobservacao      ENTREGUE  \n",
              "7  campanhaobservacao  NAO ENTREGUE  \n",
              "8  campanhaobservacao      ENTREGUE  \n",
              "9  campanhaobservacao  NAO ENTREGUE  "
            ],
            "text/html": [
              "\n",
              "  <div id=\"df-eb21242f-fabe-497b-b6ca-86d41482dfa7\">\n",
              "    <div class=\"colab-df-container\">\n",
              "      <div>\n",
              "<style scoped>\n",
              "    .dataframe tbody tr th:only-of-type {\n",
              "        vertical-align: middle;\n",
              "    }\n",
              "\n",
              "    .dataframe tbody tr th {\n",
              "        vertical-align: top;\n",
              "    }\n",
              "\n",
              "    .dataframe thead th {\n",
              "        text-align: right;\n",
              "    }\n",
              "</style>\n",
              "<table border=\"1\" class=\"dataframe\">\n",
              "  <thead>\n",
              "    <tr style=\"text-align: right;\">\n",
              "      <th></th>\n",
              "      <th>contrato_id</th>\n",
              "      <th>dt_ref_portfolio</th>\n",
              "      <th>data_acao</th>\n",
              "      <th>tipo_acao</th>\n",
              "      <th>acao</th>\n",
              "      <th>status</th>\n",
              "    </tr>\n",
              "  </thead>\n",
              "  <tbody>\n",
              "    <tr>\n",
              "      <th>0</th>\n",
              "      <td>0d823ddff1839eb938dccc68586ae365</td>\n",
              "      <td>2021-01-16</td>\n",
              "      <td>2021-01-18</td>\n",
              "      <td>HSM</td>\n",
              "      <td>campanhaobservacao</td>\n",
              "      <td>LIDO</td>\n",
              "    </tr>\n",
              "    <tr>\n",
              "      <th>1</th>\n",
              "      <td>c2f8a21671dbaeaa4157e03682c639e1</td>\n",
              "      <td>2021-05-22</td>\n",
              "      <td>2021-05-24</td>\n",
              "      <td>HSM</td>\n",
              "      <td>campanhaobservacao</td>\n",
              "      <td>ENTREGUE</td>\n",
              "    </tr>\n",
              "    <tr>\n",
              "      <th>2</th>\n",
              "      <td>e19a222c233d46ff4984489c13aa1b98</td>\n",
              "      <td>2020-09-15</td>\n",
              "      <td>2020-09-15</td>\n",
              "      <td>HSM</td>\n",
              "      <td>campanhaobservacao</td>\n",
              "      <td>NAO ENTREGUE</td>\n",
              "    </tr>\n",
              "    <tr>\n",
              "      <th>3</th>\n",
              "      <td>c24fc7630fe5b89928ba9478c2cdd9b2</td>\n",
              "      <td>2021-07-20</td>\n",
              "      <td>2021-07-20</td>\n",
              "      <td>HSM</td>\n",
              "      <td>campanhaobservacao</td>\n",
              "      <td>NAO ENTREGUE</td>\n",
              "    </tr>\n",
              "    <tr>\n",
              "      <th>4</th>\n",
              "      <td>0abe9c2f21e941f2bd3b086277e33ebc</td>\n",
              "      <td>2020-12-26</td>\n",
              "      <td>2020-12-28</td>\n",
              "      <td>HSM</td>\n",
              "      <td>campanhaobservacao</td>\n",
              "      <td>ENTREGUE</td>\n",
              "    </tr>\n",
              "    <tr>\n",
              "      <th>5</th>\n",
              "      <td>90329f6c65f6b7f07e4fd251925a90b9</td>\n",
              "      <td>2020-05-16</td>\n",
              "      <td>2020-05-18</td>\n",
              "      <td>HSM</td>\n",
              "      <td>campanhaobservacao</td>\n",
              "      <td>ENTREGUE</td>\n",
              "    </tr>\n",
              "    <tr>\n",
              "      <th>6</th>\n",
              "      <td>b4c216d4e06517e219528d21a4d8b28a</td>\n",
              "      <td>2021-09-11</td>\n",
              "      <td>2021-09-13</td>\n",
              "      <td>HSM</td>\n",
              "      <td>campanhaobservacao</td>\n",
              "      <td>ENTREGUE</td>\n",
              "    </tr>\n",
              "    <tr>\n",
              "      <th>7</th>\n",
              "      <td>12802c4021a563458541a34123a3f95c</td>\n",
              "      <td>2021-01-17</td>\n",
              "      <td>2021-01-19</td>\n",
              "      <td>HSM</td>\n",
              "      <td>campanhaobservacao</td>\n",
              "      <td>NAO ENTREGUE</td>\n",
              "    </tr>\n",
              "    <tr>\n",
              "      <th>8</th>\n",
              "      <td>d14424714e2f8fdb66d437e2ae121040</td>\n",
              "      <td>2021-09-07</td>\n",
              "      <td>2021-09-07</td>\n",
              "      <td>HSM</td>\n",
              "      <td>campanhaobservacao</td>\n",
              "      <td>ENTREGUE</td>\n",
              "    </tr>\n",
              "    <tr>\n",
              "      <th>9</th>\n",
              "      <td>16086eb8382bd845b6747ebec5730fd9</td>\n",
              "      <td>2021-10-06</td>\n",
              "      <td>2021-10-06</td>\n",
              "      <td>HSM</td>\n",
              "      <td>campanhaobservacao</td>\n",
              "      <td>NAO ENTREGUE</td>\n",
              "    </tr>\n",
              "  </tbody>\n",
              "</table>\n",
              "</div>\n",
              "      <button class=\"colab-df-convert\" onclick=\"convertToInteractive('df-eb21242f-fabe-497b-b6ca-86d41482dfa7')\"\n",
              "              title=\"Convert this dataframe to an interactive table.\"\n",
              "              style=\"display:none;\">\n",
              "        \n",
              "  <svg xmlns=\"http://www.w3.org/2000/svg\" height=\"24px\"viewBox=\"0 0 24 24\"\n",
              "       width=\"24px\">\n",
              "    <path d=\"M0 0h24v24H0V0z\" fill=\"none\"/>\n",
              "    <path d=\"M18.56 5.44l.94 2.06.94-2.06 2.06-.94-2.06-.94-.94-2.06-.94 2.06-2.06.94zm-11 1L8.5 8.5l.94-2.06 2.06-.94-2.06-.94L8.5 2.5l-.94 2.06-2.06.94zm10 10l.94 2.06.94-2.06 2.06-.94-2.06-.94-.94-2.06-.94 2.06-2.06.94z\"/><path d=\"M17.41 7.96l-1.37-1.37c-.4-.4-.92-.59-1.43-.59-.52 0-1.04.2-1.43.59L10.3 9.45l-7.72 7.72c-.78.78-.78 2.05 0 2.83L4 21.41c.39.39.9.59 1.41.59.51 0 1.02-.2 1.41-.59l7.78-7.78 2.81-2.81c.8-.78.8-2.07 0-2.86zM5.41 20L4 18.59l7.72-7.72 1.47 1.35L5.41 20z\"/>\n",
              "  </svg>\n",
              "      </button>\n",
              "      \n",
              "  <style>\n",
              "    .colab-df-container {\n",
              "      display:flex;\n",
              "      flex-wrap:wrap;\n",
              "      gap: 12px;\n",
              "    }\n",
              "\n",
              "    .colab-df-convert {\n",
              "      background-color: #E8F0FE;\n",
              "      border: none;\n",
              "      border-radius: 50%;\n",
              "      cursor: pointer;\n",
              "      display: none;\n",
              "      fill: #1967D2;\n",
              "      height: 32px;\n",
              "      padding: 0 0 0 0;\n",
              "      width: 32px;\n",
              "    }\n",
              "\n",
              "    .colab-df-convert:hover {\n",
              "      background-color: #E2EBFA;\n",
              "      box-shadow: 0px 1px 2px rgba(60, 64, 67, 0.3), 0px 1px 3px 1px rgba(60, 64, 67, 0.15);\n",
              "      fill: #174EA6;\n",
              "    }\n",
              "\n",
              "    [theme=dark] .colab-df-convert {\n",
              "      background-color: #3B4455;\n",
              "      fill: #D2E3FC;\n",
              "    }\n",
              "\n",
              "    [theme=dark] .colab-df-convert:hover {\n",
              "      background-color: #434B5C;\n",
              "      box-shadow: 0px 1px 3px 1px rgba(0, 0, 0, 0.15);\n",
              "      filter: drop-shadow(0px 1px 2px rgba(0, 0, 0, 0.3));\n",
              "      fill: #FFFFFF;\n",
              "    }\n",
              "  </style>\n",
              "\n",
              "      <script>\n",
              "        const buttonEl =\n",
              "          document.querySelector('#df-eb21242f-fabe-497b-b6ca-86d41482dfa7 button.colab-df-convert');\n",
              "        buttonEl.style.display =\n",
              "          google.colab.kernel.accessAllowed ? 'block' : 'none';\n",
              "\n",
              "        async function convertToInteractive(key) {\n",
              "          const element = document.querySelector('#df-eb21242f-fabe-497b-b6ca-86d41482dfa7');\n",
              "          const dataTable =\n",
              "            await google.colab.kernel.invokeFunction('convertToInteractive',\n",
              "                                                     [key], {});\n",
              "          if (!dataTable) return;\n",
              "\n",
              "          const docLinkHtml = 'Like what you see? Visit the ' +\n",
              "            '<a target=\"_blank\" href=https://colab.research.google.com/notebooks/data_table.ipynb>data table notebook</a>'\n",
              "            + ' to learn more about interactive tables.';\n",
              "          element.innerHTML = '';\n",
              "          dataTable['output_type'] = 'display_data';\n",
              "          await google.colab.output.renderOutput(dataTable, element);\n",
              "          const docLink = document.createElement('div');\n",
              "          docLink.innerHTML = docLinkHtml;\n",
              "          element.appendChild(docLink);\n",
              "        }\n",
              "      </script>\n",
              "    </div>\n",
              "  </div>\n",
              "  "
            ]
          },
          "metadata": {},
          "execution_count": 46
        }
      ]
    },
    {
      "cell_type": "code",
      "source": [
        "#Verificando os nomes das colunas\n",
        "PORTFOLIO_COMUNICADOS.columns"
      ],
      "metadata": {
        "colab": {
          "base_uri": "https://localhost:8080/"
        },
        "id": "iPCfzz7w7y06",
        "outputId": "56e49057-56b4-4bb5-a2dd-5ad030666ac4"
      },
      "execution_count": null,
      "outputs": [
        {
          "output_type": "execute_result",
          "data": {
            "text/plain": [
              "Index(['contrato_id', 'dt_ref_portfolio', 'data_acao', 'tipo_acao', 'acao',\n",
              "       'status'],\n",
              "      dtype='object')"
            ]
          },
          "metadata": {},
          "execution_count": 47
        }
      ]
    },
    {
      "cell_type": "code",
      "source": [
        "# tipos das colunas do arquivo\n",
        "PORTFOLIO_COMUNICADOS.dtypes"
      ],
      "metadata": {
        "colab": {
          "base_uri": "https://localhost:8080/"
        },
        "id": "X3mkHw8173jC",
        "outputId": "2839096d-7cfd-4911-edb5-be554333ee50"
      },
      "execution_count": null,
      "outputs": [
        {
          "output_type": "execute_result",
          "data": {
            "text/plain": [
              "contrato_id         object\n",
              "dt_ref_portfolio    object\n",
              "data_acao           object\n",
              "tipo_acao           object\n",
              "acao                object\n",
              "status              object\n",
              "dtype: object"
            ]
          },
          "metadata": {},
          "execution_count": 48
        }
      ]
    },
    {
      "cell_type": "code",
      "source": [
        "#Analisando quantidade de linhas e colunas\n",
        "PORTFOLIO_COMUNICADOS.shape"
      ],
      "metadata": {
        "colab": {
          "base_uri": "https://localhost:8080/"
        },
        "id": "RCC3sdo679Rq",
        "outputId": "ccc4baaa-0c7e-4c15-e5a1-b70d2f42c689"
      },
      "execution_count": null,
      "outputs": [
        {
          "output_type": "execute_result",
          "data": {
            "text/plain": [
              "(403740, 6)"
            ]
          },
          "metadata": {},
          "execution_count": 49
        }
      ]
    },
    {
      "cell_type": "code",
      "source": [
        "#verificando se existe alguma linha em branco de todas as colunas\n",
        "PORTFOLIO_COMUNICADOS.isnull().sum()"
      ],
      "metadata": {
        "colab": {
          "base_uri": "https://localhost:8080/"
        },
        "id": "ep7w4LEd8P_h",
        "outputId": "1f15a6b2-0a04-4190-e2ca-1f36e6196989"
      },
      "execution_count": null,
      "outputs": [
        {
          "output_type": "execute_result",
          "data": {
            "text/plain": [
              "contrato_id         0\n",
              "dt_ref_portfolio    0\n",
              "data_acao           0\n",
              "tipo_acao           0\n",
              "acao                0\n",
              "status              0\n",
              "dtype: int64"
            ]
          },
          "metadata": {},
          "execution_count": 50
        }
      ]
    },
    {
      "cell_type": "code",
      "source": [
        "#Verificando as estruturas de todas as colunas do arquivo tratado\n",
        "for b in PORTFOLIO_COMUNICADOS:\n",
        "  print(PORTFOLIO_COMUNICADOS[b])\n",
        "  print('\\n')"
      ],
      "metadata": {
        "colab": {
          "base_uri": "https://localhost:8080/"
        },
        "id": "Y8hpDyOT9DJg",
        "outputId": "0528cce1-c7ce-4612-dccb-41aa44ceb46f"
      },
      "execution_count": null,
      "outputs": [
        {
          "output_type": "stream",
          "name": "stdout",
          "text": [
            "0         0d823ddff1839eb938dccc68586ae365\n",
            "1         c2f8a21671dbaeaa4157e03682c639e1\n",
            "2         e19a222c233d46ff4984489c13aa1b98\n",
            "3         c24fc7630fe5b89928ba9478c2cdd9b2\n",
            "4         0abe9c2f21e941f2bd3b086277e33ebc\n",
            "                        ...               \n",
            "403735    c7dc25f386144912b90500ffd45e71c5\n",
            "403736    76c9917af4fa0810bd2e5638523a1a30\n",
            "403737    724407e5260f93c0e3ea385564bdc731\n",
            "403738    42b5d6594f79ee300ce0966c894b04c5\n",
            "403739    83ead8d8ac5cf8e60759058ec3588bdb\n",
            "Name: contrato_id, Length: 403740, dtype: object\n",
            "\n",
            "\n",
            "0         2021-01-16\n",
            "1         2021-05-22\n",
            "2         2020-09-15\n",
            "3         2021-07-20\n",
            "4         2020-12-26\n",
            "             ...    \n",
            "403735    2020-10-19\n",
            "403736    2020-06-19\n",
            "403737    2021-06-28\n",
            "403738    2021-09-26\n",
            "403739    2021-02-07\n",
            "Name: dt_ref_portfolio, Length: 403740, dtype: object\n",
            "\n",
            "\n",
            "0         2021-01-18\n",
            "1         2021-05-24\n",
            "2         2020-09-15\n",
            "3         2021-07-20\n",
            "4         2020-12-28\n",
            "             ...    \n",
            "403735    2020-10-19\n",
            "403736    2020-06-19\n",
            "403737    2021-06-28\n",
            "403738    2021-09-28\n",
            "403739    2021-02-09\n",
            "Name: data_acao, Length: 403740, dtype: object\n",
            "\n",
            "\n",
            "0         HSM\n",
            "1         HSM\n",
            "2         HSM\n",
            "3         HSM\n",
            "4         HSM\n",
            "         ... \n",
            "403735    HSM\n",
            "403736    HSM\n",
            "403737    HSM\n",
            "403738    HSM\n",
            "403739    HSM\n",
            "Name: tipo_acao, Length: 403740, dtype: object\n",
            "\n",
            "\n",
            "0            campanhaobservacao\n",
            "1            campanhaobservacao\n",
            "2            campanhaobservacao\n",
            "3            campanhaobservacao\n",
            "4            campanhaobservacao\n",
            "                  ...          \n",
            "403735    campanhaboletoquitado\n",
            "403736    campanhaboletoquitado\n",
            "403737    campanhaboletoquitado\n",
            "403738    campanhaboletoquitado\n",
            "403739    campanhaboletoquitado\n",
            "Name: acao, Length: 403740, dtype: object\n",
            "\n",
            "\n",
            "0                 LIDO\n",
            "1             ENTREGUE\n",
            "2         NAO ENTREGUE\n",
            "3         NAO ENTREGUE\n",
            "4             ENTREGUE\n",
            "              ...     \n",
            "403735    NAO ENTREGUE\n",
            "403736            LIDO\n",
            "403737    NAO ENTREGUE\n",
            "403738    NAO ENTREGUE\n",
            "403739    NAO ENTREGUE\n",
            "Name: status, Length: 403740, dtype: object\n",
            "\n",
            "\n"
          ]
        }
      ]
    },
    {
      "cell_type": "code",
      "source": [
        "#Criando uma lista personalizada com as colunas escolhidas para contagem de valores\n",
        "lista_com = ['tipo_acao','acao','status']\n",
        "\n",
        "#Realizando a contagem de valores das colunas escolhidas no arquivo PORTFOLIO_GERAL_TRATADO\n",
        "for c in lista_com:\n",
        "  print(PORTFOLIO_COMUNICADOS[c].value_counts())"
      ],
      "metadata": {
        "colab": {
          "base_uri": "https://localhost:8080/"
        },
        "id": "aJlKJ12F9W_S",
        "outputId": "3cb3392e-9b9b-4100-c8e8-62ee7c41d7e8"
      },
      "execution_count": null,
      "outputs": [
        {
          "output_type": "stream",
          "name": "stdout",
          "text": [
            "HSM      201870\n",
            "EMAIL    201870\n",
            "Name: tipo_acao, dtype: int64\n",
            "campanhaobservacao        213334\n",
            "campanhaparcelamento       89926\n",
            "campanhaboletoquitado      68370\n",
            "campanhaprenegativacao     21190\n",
            "campanhanegativacao        10920\n",
            "Name: acao, dtype: int64\n",
            "NAO ENTREGUE    191207\n",
            "ENTREGUE        137951\n",
            "LIDO             71380\n",
            "RESPONDIDO        3202\n",
            "Name: status, dtype: int64\n"
          ]
        }
      ]
    },
    {
      "cell_type": "markdown",
      "source": [
        "**Analise Exploratória do Arquivo: PORTFOLIO_CLIENTES.csv**"
      ],
      "metadata": {
        "id": "fUcupWp9-vJz"
      }
    },
    {
      "cell_type": "code",
      "source": [
        "#Carregando o arquivo que está no drive\n",
        "PORTFOLIO_CLIENTES = pd.read_csv('/content/drive/MyDrive/Colab Notebooks/DC22/Arquivos_Originais/portfolio_clientes.csv')"
      ],
      "metadata": {
        "id": "xDqw-VpA-wKD"
      },
      "execution_count": null,
      "outputs": []
    },
    {
      "cell_type": "code",
      "source": [
        "#Visualizando as primeiras 10 linhas do arquivo\n",
        "PORTFOLIO_CLIENTES.head(10)"
      ],
      "metadata": {
        "colab": {
          "base_uri": "https://localhost:8080/",
          "height": 363
        },
        "id": "bTnq0peJ_BhG",
        "outputId": "c591724b-5e2b-4e5e-a8cf-0a978e123eb8"
      },
      "execution_count": null,
      "outputs": [
        {
          "output_type": "execute_result",
          "data": {
            "text/plain": [
              "                       nr_documento tipo_empresa                 cidade  \\\n",
              "0  094aaed740bbd7fcddb6c678c18d883a           PJ                Caucaia   \n",
              "1  eaade7915611fcdcbba747e3a83365c6           PF       Cidade Ocidental   \n",
              "2  1f21958fd296f1b04a1f0c2658913856          MEI                 Manaus   \n",
              "3  fcdfe15db4520db1a1fe8b6a72878655          MEI  São Bernardo do Campo   \n",
              "4  ba57e8837452b5e0114d7e273de039b4           PJ          Foz do Iguaçu   \n",
              "5  fccfcf9e822150a18a853dc8b8513aa9           PJ              Paranavaí   \n",
              "6  f2e61554da65b70f98e36fe7e8a9633a           PJ               Mongaguá   \n",
              "7  ad8c01c0291171a4e9cbe11ef55dc9ca           PF         Rio de Janeiro   \n",
              "8  c7892d0f843cc3a0af025986ae7ca7b3           PJ       Pontal do Paraná   \n",
              "9  f53fbbf2af08ed10141ed4a8e6e4dc13           PJ              Apucarana   \n",
              "\n",
              "  estado           subsegmento                  segmento  \n",
              "0     CE    Alimentação Rápida               Alimentação  \n",
              "1     GO        Lojas Diversas                    Varejo  \n",
              "2     AM    Alimentação Rápida               Alimentação  \n",
              "3     SP    Alimentação Rápida               Alimentação  \n",
              "4     PR        Lojas Diversas     Supermercado/Farmácia  \n",
              "5     PR            Automotivo             Bens duráveis  \n",
              "6     SP       Lazer & Turismo  Viagens e entretenimento  \n",
              "7     RJ    Alimentação Rápida               Alimentação  \n",
              "8     PR    Postos de Gasolina                     Posto  \n",
              "9     PR  Bares e Restaurantes               Alimentação  "
            ],
            "text/html": [
              "\n",
              "  <div id=\"df-891532c9-fa72-44b7-9f15-8d9d0e8fc028\">\n",
              "    <div class=\"colab-df-container\">\n",
              "      <div>\n",
              "<style scoped>\n",
              "    .dataframe tbody tr th:only-of-type {\n",
              "        vertical-align: middle;\n",
              "    }\n",
              "\n",
              "    .dataframe tbody tr th {\n",
              "        vertical-align: top;\n",
              "    }\n",
              "\n",
              "    .dataframe thead th {\n",
              "        text-align: right;\n",
              "    }\n",
              "</style>\n",
              "<table border=\"1\" class=\"dataframe\">\n",
              "  <thead>\n",
              "    <tr style=\"text-align: right;\">\n",
              "      <th></th>\n",
              "      <th>nr_documento</th>\n",
              "      <th>tipo_empresa</th>\n",
              "      <th>cidade</th>\n",
              "      <th>estado</th>\n",
              "      <th>subsegmento</th>\n",
              "      <th>segmento</th>\n",
              "    </tr>\n",
              "  </thead>\n",
              "  <tbody>\n",
              "    <tr>\n",
              "      <th>0</th>\n",
              "      <td>094aaed740bbd7fcddb6c678c18d883a</td>\n",
              "      <td>PJ</td>\n",
              "      <td>Caucaia</td>\n",
              "      <td>CE</td>\n",
              "      <td>Alimentação Rápida</td>\n",
              "      <td>Alimentação</td>\n",
              "    </tr>\n",
              "    <tr>\n",
              "      <th>1</th>\n",
              "      <td>eaade7915611fcdcbba747e3a83365c6</td>\n",
              "      <td>PF</td>\n",
              "      <td>Cidade Ocidental</td>\n",
              "      <td>GO</td>\n",
              "      <td>Lojas Diversas</td>\n",
              "      <td>Varejo</td>\n",
              "    </tr>\n",
              "    <tr>\n",
              "      <th>2</th>\n",
              "      <td>1f21958fd296f1b04a1f0c2658913856</td>\n",
              "      <td>MEI</td>\n",
              "      <td>Manaus</td>\n",
              "      <td>AM</td>\n",
              "      <td>Alimentação Rápida</td>\n",
              "      <td>Alimentação</td>\n",
              "    </tr>\n",
              "    <tr>\n",
              "      <th>3</th>\n",
              "      <td>fcdfe15db4520db1a1fe8b6a72878655</td>\n",
              "      <td>MEI</td>\n",
              "      <td>São Bernardo do Campo</td>\n",
              "      <td>SP</td>\n",
              "      <td>Alimentação Rápida</td>\n",
              "      <td>Alimentação</td>\n",
              "    </tr>\n",
              "    <tr>\n",
              "      <th>4</th>\n",
              "      <td>ba57e8837452b5e0114d7e273de039b4</td>\n",
              "      <td>PJ</td>\n",
              "      <td>Foz do Iguaçu</td>\n",
              "      <td>PR</td>\n",
              "      <td>Lojas Diversas</td>\n",
              "      <td>Supermercado/Farmácia</td>\n",
              "    </tr>\n",
              "    <tr>\n",
              "      <th>5</th>\n",
              "      <td>fccfcf9e822150a18a853dc8b8513aa9</td>\n",
              "      <td>PJ</td>\n",
              "      <td>Paranavaí</td>\n",
              "      <td>PR</td>\n",
              "      <td>Automotivo</td>\n",
              "      <td>Bens duráveis</td>\n",
              "    </tr>\n",
              "    <tr>\n",
              "      <th>6</th>\n",
              "      <td>f2e61554da65b70f98e36fe7e8a9633a</td>\n",
              "      <td>PJ</td>\n",
              "      <td>Mongaguá</td>\n",
              "      <td>SP</td>\n",
              "      <td>Lazer &amp; Turismo</td>\n",
              "      <td>Viagens e entretenimento</td>\n",
              "    </tr>\n",
              "    <tr>\n",
              "      <th>7</th>\n",
              "      <td>ad8c01c0291171a4e9cbe11ef55dc9ca</td>\n",
              "      <td>PF</td>\n",
              "      <td>Rio de Janeiro</td>\n",
              "      <td>RJ</td>\n",
              "      <td>Alimentação Rápida</td>\n",
              "      <td>Alimentação</td>\n",
              "    </tr>\n",
              "    <tr>\n",
              "      <th>8</th>\n",
              "      <td>c7892d0f843cc3a0af025986ae7ca7b3</td>\n",
              "      <td>PJ</td>\n",
              "      <td>Pontal do Paraná</td>\n",
              "      <td>PR</td>\n",
              "      <td>Postos de Gasolina</td>\n",
              "      <td>Posto</td>\n",
              "    </tr>\n",
              "    <tr>\n",
              "      <th>9</th>\n",
              "      <td>f53fbbf2af08ed10141ed4a8e6e4dc13</td>\n",
              "      <td>PJ</td>\n",
              "      <td>Apucarana</td>\n",
              "      <td>PR</td>\n",
              "      <td>Bares e Restaurantes</td>\n",
              "      <td>Alimentação</td>\n",
              "    </tr>\n",
              "  </tbody>\n",
              "</table>\n",
              "</div>\n",
              "      <button class=\"colab-df-convert\" onclick=\"convertToInteractive('df-891532c9-fa72-44b7-9f15-8d9d0e8fc028')\"\n",
              "              title=\"Convert this dataframe to an interactive table.\"\n",
              "              style=\"display:none;\">\n",
              "        \n",
              "  <svg xmlns=\"http://www.w3.org/2000/svg\" height=\"24px\"viewBox=\"0 0 24 24\"\n",
              "       width=\"24px\">\n",
              "    <path d=\"M0 0h24v24H0V0z\" fill=\"none\"/>\n",
              "    <path d=\"M18.56 5.44l.94 2.06.94-2.06 2.06-.94-2.06-.94-.94-2.06-.94 2.06-2.06.94zm-11 1L8.5 8.5l.94-2.06 2.06-.94-2.06-.94L8.5 2.5l-.94 2.06-2.06.94zm10 10l.94 2.06.94-2.06 2.06-.94-2.06-.94-.94-2.06-.94 2.06-2.06.94z\"/><path d=\"M17.41 7.96l-1.37-1.37c-.4-.4-.92-.59-1.43-.59-.52 0-1.04.2-1.43.59L10.3 9.45l-7.72 7.72c-.78.78-.78 2.05 0 2.83L4 21.41c.39.39.9.59 1.41.59.51 0 1.02-.2 1.41-.59l7.78-7.78 2.81-2.81c.8-.78.8-2.07 0-2.86zM5.41 20L4 18.59l7.72-7.72 1.47 1.35L5.41 20z\"/>\n",
              "  </svg>\n",
              "      </button>\n",
              "      \n",
              "  <style>\n",
              "    .colab-df-container {\n",
              "      display:flex;\n",
              "      flex-wrap:wrap;\n",
              "      gap: 12px;\n",
              "    }\n",
              "\n",
              "    .colab-df-convert {\n",
              "      background-color: #E8F0FE;\n",
              "      border: none;\n",
              "      border-radius: 50%;\n",
              "      cursor: pointer;\n",
              "      display: none;\n",
              "      fill: #1967D2;\n",
              "      height: 32px;\n",
              "      padding: 0 0 0 0;\n",
              "      width: 32px;\n",
              "    }\n",
              "\n",
              "    .colab-df-convert:hover {\n",
              "      background-color: #E2EBFA;\n",
              "      box-shadow: 0px 1px 2px rgba(60, 64, 67, 0.3), 0px 1px 3px 1px rgba(60, 64, 67, 0.15);\n",
              "      fill: #174EA6;\n",
              "    }\n",
              "\n",
              "    [theme=dark] .colab-df-convert {\n",
              "      background-color: #3B4455;\n",
              "      fill: #D2E3FC;\n",
              "    }\n",
              "\n",
              "    [theme=dark] .colab-df-convert:hover {\n",
              "      background-color: #434B5C;\n",
              "      box-shadow: 0px 1px 3px 1px rgba(0, 0, 0, 0.15);\n",
              "      filter: drop-shadow(0px 1px 2px rgba(0, 0, 0, 0.3));\n",
              "      fill: #FFFFFF;\n",
              "    }\n",
              "  </style>\n",
              "\n",
              "      <script>\n",
              "        const buttonEl =\n",
              "          document.querySelector('#df-891532c9-fa72-44b7-9f15-8d9d0e8fc028 button.colab-df-convert');\n",
              "        buttonEl.style.display =\n",
              "          google.colab.kernel.accessAllowed ? 'block' : 'none';\n",
              "\n",
              "        async function convertToInteractive(key) {\n",
              "          const element = document.querySelector('#df-891532c9-fa72-44b7-9f15-8d9d0e8fc028');\n",
              "          const dataTable =\n",
              "            await google.colab.kernel.invokeFunction('convertToInteractive',\n",
              "                                                     [key], {});\n",
              "          if (!dataTable) return;\n",
              "\n",
              "          const docLinkHtml = 'Like what you see? Visit the ' +\n",
              "            '<a target=\"_blank\" href=https://colab.research.google.com/notebooks/data_table.ipynb>data table notebook</a>'\n",
              "            + ' to learn more about interactive tables.';\n",
              "          element.innerHTML = '';\n",
              "          dataTable['output_type'] = 'display_data';\n",
              "          await google.colab.output.renderOutput(dataTable, element);\n",
              "          const docLink = document.createElement('div');\n",
              "          docLink.innerHTML = docLinkHtml;\n",
              "          element.appendChild(docLink);\n",
              "        }\n",
              "      </script>\n",
              "    </div>\n",
              "  </div>\n",
              "  "
            ]
          },
          "metadata": {},
          "execution_count": 57
        }
      ]
    },
    {
      "cell_type": "code",
      "source": [
        "#Verificando os nomes das colunas\n",
        "PORTFOLIO_CLIENTES.columns"
      ],
      "metadata": {
        "colab": {
          "base_uri": "https://localhost:8080/"
        },
        "id": "ct2qHH_b_JZF",
        "outputId": "86cab783-4d4d-45b5-f6cf-807f75822b3a"
      },
      "execution_count": null,
      "outputs": [
        {
          "output_type": "execute_result",
          "data": {
            "text/plain": [
              "Index(['nr_documento', 'tipo_empresa', 'cidade', 'estado', 'subsegmento',\n",
              "       'segmento'],\n",
              "      dtype='object')"
            ]
          },
          "metadata": {},
          "execution_count": 59
        }
      ]
    },
    {
      "cell_type": "code",
      "source": [
        "# tipos das colunas do arquivo\n",
        "PORTFOLIO_CLIENTES.dtypes"
      ],
      "metadata": {
        "colab": {
          "base_uri": "https://localhost:8080/"
        },
        "id": "hQGMBv88_No1",
        "outputId": "c172b736-6142-4dce-b0e7-4cdabc71842f"
      },
      "execution_count": null,
      "outputs": [
        {
          "output_type": "execute_result",
          "data": {
            "text/plain": [
              "nr_documento    object\n",
              "tipo_empresa    object\n",
              "cidade          object\n",
              "estado          object\n",
              "subsegmento     object\n",
              "segmento        object\n",
              "dtype: object"
            ]
          },
          "metadata": {},
          "execution_count": 60
        }
      ]
    },
    {
      "cell_type": "code",
      "source": [
        "#Analisando quantidade de linhas e colunas\n",
        "PORTFOLIO_CLIENTES.shape"
      ],
      "metadata": {
        "colab": {
          "base_uri": "https://localhost:8080/"
        },
        "id": "yHv2B8sw_UcV",
        "outputId": "73f676ee-7947-4f66-8c80-67173cd5d324"
      },
      "execution_count": null,
      "outputs": [
        {
          "output_type": "execute_result",
          "data": {
            "text/plain": [
              "(14405, 6)"
            ]
          },
          "metadata": {},
          "execution_count": 61
        }
      ]
    },
    {
      "cell_type": "code",
      "source": [
        "#verificando se existe alguma linha em branco de todas as colunas\n",
        "PORTFOLIO_CLIENTES.isnull().sum()"
      ],
      "metadata": {
        "colab": {
          "base_uri": "https://localhost:8080/"
        },
        "id": "80ow6FjU_YUT",
        "outputId": "606c452d-42ec-4be7-d805-f5105da00db4"
      },
      "execution_count": null,
      "outputs": [
        {
          "output_type": "execute_result",
          "data": {
            "text/plain": [
              "nr_documento    0\n",
              "tipo_empresa    0\n",
              "cidade          0\n",
              "estado          0\n",
              "subsegmento     0\n",
              "segmento        0\n",
              "dtype: int64"
            ]
          },
          "metadata": {},
          "execution_count": 62
        }
      ]
    },
    {
      "cell_type": "code",
      "source": [
        "#Verificando as estruturas de todas as colunas do arquivo tratado\n",
        "for d in PORTFOLIO_CLIENTES:\n",
        "  print(PORTFOLIO_CLIENTES[d])\n",
        "  print('\\n')"
      ],
      "metadata": {
        "colab": {
          "base_uri": "https://localhost:8080/"
        },
        "id": "4ym9ZaRl_sb2",
        "outputId": "49bea89a-05b3-413e-bffa-08d56eb23caa"
      },
      "execution_count": null,
      "outputs": [
        {
          "output_type": "stream",
          "name": "stdout",
          "text": [
            "0        094aaed740bbd7fcddb6c678c18d883a\n",
            "1        eaade7915611fcdcbba747e3a83365c6\n",
            "2        1f21958fd296f1b04a1f0c2658913856\n",
            "3        fcdfe15db4520db1a1fe8b6a72878655\n",
            "4        ba57e8837452b5e0114d7e273de039b4\n",
            "                       ...               \n",
            "14400    bfed2a37a79957ea53cf1b70d467e4f1\n",
            "14401    fbcba6437b248dfce69ac494b4c266f1\n",
            "14402    29b16c64a0d582d0162c8346bcbab1b0\n",
            "14403    2ba5b641cad668157ede5a32fe1f3b00\n",
            "14404    a00dd98d3d874de9d73e154aa02d5ca0\n",
            "Name: nr_documento, Length: 14405, dtype: object\n",
            "\n",
            "\n",
            "0         PJ\n",
            "1         PF\n",
            "2        MEI\n",
            "3        MEI\n",
            "4         PJ\n",
            "        ... \n",
            "14400     PJ\n",
            "14401    MEI\n",
            "14402     PJ\n",
            "14403    MEI\n",
            "14404     PF\n",
            "Name: tipo_empresa, Length: 14405, dtype: object\n",
            "\n",
            "\n",
            "0                      Caucaia\n",
            "1             Cidade Ocidental\n",
            "2                       Manaus\n",
            "3        São Bernardo do Campo\n",
            "4                Foz do Iguaçu\n",
            "                 ...          \n",
            "14400                     Bage\n",
            "14401                   Osasco\n",
            "14402               São Carlos\n",
            "14403                 Imbituba\n",
            "14404      Barra dos Coqueiros\n",
            "Name: cidade, Length: 14405, dtype: object\n",
            "\n",
            "\n",
            "0        CE\n",
            "1        GO\n",
            "2        AM\n",
            "3        SP\n",
            "4        PR\n",
            "         ..\n",
            "14400    RS\n",
            "14401    SP\n",
            "14402    SP\n",
            "14403    SC\n",
            "14404    SE\n",
            "Name: estado, Length: 14405, dtype: object\n",
            "\n",
            "\n",
            "0        Alimentação Rápida\n",
            "1            Lojas Diversas\n",
            "2        Alimentação Rápida\n",
            "3        Alimentação Rápida\n",
            "4            Lojas Diversas\n",
            "                ...        \n",
            "14400                Outros\n",
            "14401            Automotivo\n",
            "14402    Alimentação Rápida\n",
            "14403              Educação\n",
            "14404        Lojas Diversas\n",
            "Name: subsegmento, Length: 14405, dtype: object\n",
            "\n",
            "\n",
            "0                  Alimentação\n",
            "1                       Varejo\n",
            "2                  Alimentação\n",
            "3                  Alimentação\n",
            "4        Supermercado/Farmácia\n",
            "                 ...          \n",
            "14400                 Serviços\n",
            "14401            Bens duráveis\n",
            "14402              Alimentação\n",
            "14403     Serviços recorrentes\n",
            "14404            Bens duráveis\n",
            "Name: segmento, Length: 14405, dtype: object\n",
            "\n",
            "\n"
          ]
        }
      ]
    },
    {
      "cell_type": "code",
      "source": [
        "#Criando uma lista personalizada com as colunas escolhidas para contagem de valores\n",
        "lista_clientes = ['tipo_empresa','cidade','estado','subsegmento','segmento']\n",
        "\n",
        "#Realizando a contagem de valores das colunas escolhidas no arquivo PORTFOLIO_GERAL_TRATADO\n",
        "for e in lista_clientes:\n",
        "  print(PORTFOLIO_CLIENTES[e].value_counts())\n",
        "  print('\\n')"
      ],
      "metadata": {
        "colab": {
          "base_uri": "https://localhost:8080/"
        },
        "id": "90bp0mjXANR9",
        "outputId": "2c12a568-54e7-4fe1-d885-9b738437bce4"
      },
      "execution_count": null,
      "outputs": [
        {
          "output_type": "stream",
          "name": "stdout",
          "text": [
            "PJ     7893\n",
            "MEI    4843\n",
            "PF     1669\n",
            "Name: tipo_empresa, dtype: int64\n",
            "\n",
            "\n",
            "São Paulo                 1040\n",
            "Rio de Janeiro             675\n",
            "Brasília                   498\n",
            "Curitiba                   308\n",
            "Fortaleza                  263\n",
            "                          ... \n",
            "Urandi                       1\n",
            "Parambu                      1\n",
            "Sirinhaém                    1\n",
            "Feira Nova do Maranhão       1\n",
            "Bage                         1\n",
            "Name: cidade, Length: 1502, dtype: int64\n",
            "\n",
            "\n",
            "SP    3767\n",
            "RJ    1853\n",
            "PR    1213\n",
            "MG     913\n",
            "BA     806\n",
            "SC     792\n",
            "RS     669\n",
            "GO     568\n",
            "PE     533\n",
            "DF     510\n",
            "CE     430\n",
            "ES     307\n",
            "PA     268\n",
            "MT     234\n",
            "RN     233\n",
            "MS     184\n",
            "PB     181\n",
            "MA     159\n",
            "AL     146\n",
            "AM     145\n",
            "SE     142\n",
            "TO      72\n",
            "PI      71\n",
            "AP      69\n",
            "RO      65\n",
            "RR      38\n",
            "AC      34\n",
            "ND       3\n",
            "Name: estado, dtype: int64\n",
            "\n",
            "\n",
            "Alimentação Rápida        2959\n",
            "Lojas Diversas            2710\n",
            "Outros                    1590\n",
            "Bares e Restaurantes      1306\n",
            "Supermercados             1198\n",
            "Automotivo                1107\n",
            "Vestuário                 1014\n",
            "Saúde                      836\n",
            "Material de Construção     540\n",
            "Atacadistas Gerais         416\n",
            "Educação                   193\n",
            "Postos de Gasolina         166\n",
            "Lazer & Turismo            117\n",
            "Academias                  117\n",
            "None                        86\n",
            "Atacadista de Alimento      50\n",
            "Name: subsegmento, dtype: int64\n",
            "\n",
            "\n",
            "Alimentação                 5216\n",
            "Varejo                      2723\n",
            "Bens duráveis               2238\n",
            "Serviços                    2187\n",
            "Supermercado/Farmácia       1310\n",
            "Serviços recorrentes         294\n",
            "Viagens e entretenimento     191\n",
            "Posto                        167\n",
            "Outros                        79\n",
            "Name: segmento, dtype: int64\n",
            "\n",
            "\n"
          ]
        }
      ]
    },
    {
      "cell_type": "code",
      "source": [
        "#validando as cidades existentes\n",
        "cidades = []\n",
        "cidades_upper = []\n",
        "\n",
        "for f in PORTFOLIO_CLIENTES['cidade']:\n",
        "  cidades.append(f)\n",
        "\n",
        "for x in cidades:\n",
        "  novo = x.upper()\n",
        "  cidades_upper.append(novo)\n",
        "\n",
        "print('Qtde. Total Cidade: {} '.format(len(sorted(set(cidades_upper)))))\n",
        "print(cidades)"
      ],
      "metadata": {
        "colab": {
          "base_uri": "https://localhost:8080/"
        },
        "id": "Hi8nq5R7BT6s",
        "outputId": "123705e4-6e94-43f0-c2dc-9ea46da10ea3"
      },
      "execution_count": null,
      "outputs": [
        {
          "output_type": "stream",
          "name": "stdout",
          "text": [
            "Qtde. Total Cidade: 1488 \n",
            "['Caucaia', 'Cidade Ocidental', 'Manaus', 'São Bernardo do Campo', 'Foz do Iguaçu', 'Paranavaí', 'Mongaguá', 'Rio de Janeiro', 'Pontal do Paraná', 'Apucarana', 'Belo Horizonte', 'Caxias do Sul', 'Goiânia', 'Caxias do Sul', 'Brasília', 'Curitiba', 'Limeira', 'Florianópolis', 'Rio Das Ostras', 'Brasília', 'Nova Iguaçu', 'Rio Claro', 'Várzea Grande', 'Londrina', 'Rio de Janeiro', 'Pitangui', 'Jaraguá', 'Telêmaco Borba', 'Campinas', 'Campinas', 'Itaquaquecetuba', 'Palestina', 'Rio de Janeiro', 'São Paulo', 'Palestina', 'Campinas', 'Juiz de Fora', 'Muriaé', 'Belo Horizonte', 'Belém', 'Embu-Guaçu', 'Porto Alegre', 'Recife', 'Cabedelo', 'Brasília', 'Itu', 'Santana de Parnaíba', 'Itanhaém', 'Caraguatatuba', 'Capivari de Baixo', 'Caxias do Sul', 'Imperatriz', 'São Paulo', 'São Paulo', 'Igaraçu do Tietê', 'São Luís', 'Cabo de Santo Agostinho', 'Ilhéus', 'Mogi das Cruzes', 'Aracruz', 'Rio de Janeiro', 'Salvador', 'Porto Alegre', 'Macaé', 'Sao Paulo', 'Parnamirim', 'Petrolina', 'Franco da Rocha', 'Manaus', 'Cascavel', 'Atibaia', 'Castanhal', 'Ijuí', 'Curitiba', 'São José do Rio Preto', 'Fazenda Rio Grande', 'Presidente Venceslau', 'Ji-Parana', 'Piratininga', 'Belém', 'Nova Iguaçu', 'Ribeirão das Neves', 'Assis Chateaubriand', 'Itaquaquecetuba', 'Taubaté', 'Taboão da Serra', 'Cuiabá', 'Maceió', 'Porto Alegre', 'Campo Grande', 'Eunápolis', 'Diadema', 'Porto Alegre', 'Pindamonhangaba', 'Olinda', 'Araraquara', 'Blumenau', 'Sinop', 'Camaçari', 'Rio de Janeiro', 'Curitiba', 'Serra', 'Mafra', 'São Paulo', 'João Neiva', 'Garça', 'São Francisco Xavier', 'Rio de Janeiro', 'Belo Horizonte', 'Barbacena', 'São Paulo', 'Manaus', 'Macapá', 'Serra', 'Ipatinga', 'Porto Alegre', 'São Paulo', 'Telêmaco Borba', 'Gravataí', 'Brasília', 'Valparaíso de Goiás', 'Magé', 'Rio de Janeiro', 'Indaiatuba', 'Santo Antônio do Descoberto', 'Barretos', 'Curitiba', 'São Paulo', 'Guarulhos', 'Uberlândia', 'Belém', 'Jacareí', 'Natal', 'Penha', 'Betim', 'Nova Andradina', 'Sete Lagoas', 'Salvador', 'Fortaleza', 'Santa Maria', 'Bom Jardim', 'Montes Claros', 'Guarulhos', 'Rio de Janeiro', 'Cabo de Santo Agostinho', 'João Pessoa', 'Ijuí', 'Goianira', 'Goiânia', 'Frutal', 'Itaperuçu', 'Maringá', 'São José', 'Barra de São João', 'João Pessoa', 'Toledo', 'Rio de Janeiro', 'Cachoeirinha', 'Curitiba', 'Brasília', 'Bombinhas', 'João Pessoa', 'Brasília', 'São José dos Campos', 'Ponte Nova', 'Braço do Norte', 'São Paulo', 'Rio de Janeiro', 'Curitiba', 'Recife', 'Belém', 'Barra Bonita', 'Volta Redonda', 'Niterói', 'Bauru', 'Carapicuíba', 'Feira de Santana', 'Duque de Caxias', 'Camaragibe', 'Cachoeira', 'São José do Rio Preto', 'Caucaia', 'Serra', 'Joinville', 'Araçoiaba', 'Rio de Janeiro', 'Camaçari', 'São Paulo', 'Barra Bonita', 'Cristalina', 'Estância Velha', 'Cristalina', 'Santo André', 'Caucaia', 'Curitiba', 'Lages', 'São Bernardo do Campo', 'São Luís', 'Alto Araguaia', 'Olinda', 'Parnamirim', 'Campo Grande', 'Rolim de Moura', 'Serra', 'Jandaia do Sul', 'Guarulhos', 'Maceió', 'Itupeva', 'São Paulo', 'Rio de Janeiro', 'São Paulo', 'Nossa Senhora do Socorro', 'Barretos', 'São Paulo', 'Maria da Fé', 'São Paulo', 'Brasília', 'Brasília', 'Guaranésia', 'Nossa Senhora do Socorro', 'Nossa Senhora do Socorro', 'Presidente Olegário', 'Campos dos Goytacazes', 'Anchieta', 'Forquilha', 'Macapá', 'Anchieta', 'Luzimangues', 'Belo Horizonte', 'São Carlos', 'Cariacica', 'Porto Alegre', 'São Paulo', 'Joinville', 'Bauru', 'Juazeiro do Norte', 'Pedro Leopoldo', 'Várzea Paulista', 'Londrina', 'Presidente Prudente', 'Ananindeua', 'Carambeí', 'Surubim', 'Alvorada do Sul', 'Santa Teresa', 'Guarujá', 'Itajaí', 'Curitiba', 'Porto Seguro', 'Feira de Santana', 'Tucuruí', 'São Sebastião', 'Cachoeiro de Itapemirim', 'São Paulo', 'Itapevi', 'Curitiba', 'Guarapari', 'Campo Grande', 'Osasco', 'Marília', 'Brasília', 'Brasília', 'Londrina', 'Sarzedo', 'Cabo Frio', 'Marituba', 'Curitiba', 'São Paulo', 'Campinas', 'Fortaleza', 'Goiânia', 'Rio de Janeiro', 'Valença', 'Macapá', 'Maracanaú', 'Curaçá', 'Sorocaba', 'Recife', 'Juquitiba', 'Sinop', 'São Luís', 'Ribeirão Pires', 'Farroupilha', 'Porto Alegre', 'Catalão', 'Bauru', 'São Paulo', 'Rio de Janeiro', 'Fortaleza', 'Santa Maria', 'Betim', 'Barreiras', 'São Paulo', 'Boa Vista', 'Caxias do Sul', 'Formosa', 'Santo André', 'Tubarão', 'Macaé', 'São Sebastião', 'Nova Iguaçu', 'Curitiba', 'Campina Grande', 'Cabo Frio', 'Bragança Paulista', 'Itupiranga', 'Venâncio Aires', 'Guaíra', 'Campo Grande', 'Macapá', 'Maringá', 'Vargem Grande Paulista', 'Uberlândia', 'Cruzeiro do Sul', 'João Pessoa', 'Penapolis', 'Salvador', 'Porto Alegre', 'São Paulo', 'São Paulo', 'Cariacica', 'Cabo Frio', 'Ipatinga', 'Manaus', 'Telêmaco Borba', 'São Paulo', 'Alagoinhas', 'Parnamirim', 'Matias Barbosa', 'Sorocaba', 'Carapicuíba', 'São Paulo', 'Mogi das Cruzes', 'Bauru', 'Brasília', 'Jales', 'Brasília', 'Brasília', 'Araguari', 'Natal', 'Catanduva', 'Campina Grande', 'Ribeirão Preto', 'Aracaju', 'Porto Velho', 'Goianira', 'Rio de Janeiro', 'São José dos Pinhais', 'Nova Esperança', 'Avaré', 'Brasília', 'Jaboatão dos Guararapes', 'Luziânia', 'Pomerode', 'Itirapina', 'Santana de Parnaíba', 'Arapongas', 'Goiânia', 'São Paulo', 'São João da Boa Vista', 'Avaré', 'Fortaleza', 'Cianorte', 'Campo Grande', 'Parnamirim', 'Brotas', 'Rio de Janeiro', 'Bauru', 'Curitiba', 'Palmas', 'Vitória', 'São Paulo', 'Bela Vista do Paraíso', 'Paulista', 'Vitória da Conquista', 'Cruz do Espírito Santo', 'Santana', 'Vitória da Conquista', 'Salvador', 'Cascavel', 'Pinhais', 'Fortaleza', 'Brasília', 'Primavera', 'Marília', 'Camaçari', 'Brasília', 'Gravataí', 'Campinas', 'Rio de Janeiro', 'Várzea Grande', 'Curitiba', 'Manaus', 'São Paulo', 'Araucária', 'Uberaba', 'Manaus', 'Patos de Minas', 'Olímpia', 'Belo Horizonte', 'Brasília', 'Salvador', 'Valinhos', 'Guarulhos', 'Campos dos Goytacazes', 'Porto Real', 'Três Lagoas', 'Brasília', 'Nossa Senhora do Socorro', 'Campinas', 'Porto Real', 'São Paulo', 'São José dos Campos', 'Santa Terezinha de Itaipu', 'Cipó', 'Brasília', 'Porto Alegre', 'Batatais', 'Jacaré', 'São Paulo', 'Campo Magro', 'Cipó', 'Barra do Jacuípe', 'Resende', 'Maceio', 'Barreiras', 'Guarujá', 'João Pessoa', 'Rio de Janeiro', 'Joinville', 'Presidente Prudente', 'Nova Iguaçu', 'Porto Seguro', 'Novo Hamburgo', 'São Paulo', 'Manaus', 'Brasília', 'Marituba', 'Campo Grande', 'São Paulo', 'Cuiabá', 'Quatis', 'Nova Iguaçu', 'Belo Horizonte', 'Feira de Santana', 'Jequié', 'Sorocaba', 'Urupês', 'Guarujá', 'Varginha', 'São Paulo', 'Salvador', 'Salvador', 'São José do Norte', 'Rio de Janeiro', 'Paranaguá', 'Cascavel', 'Rio de Janeiro', 'Resende', 'São Luís', 'Porto Alegre', 'Belo Horizonte', 'Campina Grande', 'São Paulo', 'Teresina', 'Pato Branco', 'Jaboatão dos Guararapes', 'Criciúma', 'Belo Horizonte', 'Santa Maria', 'Jacarezinho', 'Itumbiara', 'Saquarema', 'São Paulo', 'Diadema', 'Macaé', 'Colombo', 'São Paulo', 'Uberlândia', 'Águas Claras', 'Guarapari', 'Maceió', 'Brasília', 'Juazeiro do Norte', 'Conselheiro Lafaiete', 'São Roque', 'Brasília', 'Cubatão', 'Uberlândia', 'Porto Alegre', 'Foz do Iguaçu', 'São Paulo', 'Assis Chateaubriand', 'Cascavel', 'São Paulo', 'Maceió', 'Alvorada', 'Carapicuíba', 'Mogi das Cruzes', 'Cuiabá', 'Cascavel', 'Itaú de Minas', 'Pinhais', 'Guapó', 'Patos', 'Passos', 'Macapá', 'Pelotas', 'Camaçari', 'Brasília', 'Recife', 'Balneário Piçarras', 'Caraguatatuba', 'Dourados', 'Valparaíso de Goiás', 'São João da Boa Vista', 'Joinville', 'Guarulhos', 'Rio de Janeiro', 'Niterói', 'Várzea Grande', 'Nísia Floresta', 'Curitiba', 'Rio Branco', 'Barra Velha', 'Arapongas', 'Brasília', 'Pojuca', 'Porto Alegre', 'Petrópolis', 'Porto Alegre', 'São Paulo', 'Extremoz', 'Volta Redonda', 'Carapicuíba', 'Mirandópolis', 'Caruaru', 'Rio de Janeiro', 'Rio de Janeiro', 'Vila Velha', 'Cabreúva', 'Camaragibe', 'Goiânia', 'Itumbiara', 'Uberlândia', 'Araguari', 'Seropédica', 'São Paulo', 'São Bernardo do Campo', 'Campo Grande', 'Juazeiro', 'João Pessoa', 'Brasília', 'São Bernardo do Campo', 'São José dos Campos', 'Praia Grande', 'Bauru', 'Jales', 'Avaré', 'Catanduva', 'Campos dos Goytacazes', 'Cotia', 'Eunapolis', 'Araucária', 'Rio de Janeiro', 'São João de Meriti', 'São Paulo', 'Cabo Frio', 'Uberlândia', 'Fortaleza', 'Pompéu', 'Paracambi', 'Macapá', 'Porto Alegre', 'Montes Claros', 'Aracaju', 'Betim', 'Sorocaba', 'Rio Claro', 'Niterói', 'Viamão', 'Parnamirim', 'Jandira', 'São Paulo', 'Sumaré', 'Piracicaba', 'Monte Sião', 'Curitiba', 'Nova Iguaçu', 'Porto Velho', 'São Carlos', 'Nova Iguaçu', 'Barra Velha', 'Feira de Santana', 'Maceió', 'Fortaleza', 'Salvador', 'Fortaleza', 'Maranguape', 'Rio de Janeiro', 'Crato', 'Fortaleza', 'Rio de Janeiro', 'Parnamirim', 'Montenegro', 'Cariacica', 'Uruguaiana', 'Cascavel', 'Franca', 'Duque De Caxias', 'Resende', 'Igarassu', 'Osasco', 'Camacari', 'São João Del Rei', 'Ilhéus', 'Primavera', 'Inhambupe', 'Serra', 'São Paulo', 'Taboão da Serra', 'Cascavel', 'Patrocinio', 'Sorocaba', 'Rio de Janeiro', 'Uberaba', 'Nova Iguaçu', 'Palmas', 'Recife', 'Bragança Paulista', 'Recife', 'Rio de Janeiro', 'São Paulo', 'Brasilia', 'Petrópolis', 'Paço do Lumiar', 'Feira de Santana', 'Ilhéus', 'Rio de Janeiro', 'Florianópolis', 'Passos', 'Sapucaia do Sul', 'Goiânia', 'Porto Seguro', 'Brasília', 'Belo Horizonte', 'São Paulo', 'Lavras', 'Taboão da Serra', 'Rio das Ostras', 'São João de Meriti', 'Teresópolis', 'Cruz Alta', 'Teresina', 'Petrolina', 'Brasília', 'Barretos', 'Anápolis', 'Manaus', 'Cravinhos', 'Volta Redonda', 'Fortaleza', 'Rio de Janeiro', 'Pinhais', 'Igaraçu do Tietê', 'Guarulhos', 'Jaraguá do Sul', 'Niterói', 'Natal', 'Belém', 'Ilha Solteira', 'Niterói', 'São Luís', 'Boa Vista', 'Aracaju', 'São Gonçalo', 'Paulista', 'Mogi das Cruzes', 'Madre de Deus', 'Arapiraca', 'Governador Valadares', 'Teresina', 'Águas Lindas de Goiás', 'Santos', 'Ourinhos', 'Fortaleza', 'Araruama', 'Paulínia', 'Igarassu', 'São Paulo', 'Goiânia', 'Cuiabá', 'Boa Vista', 'Brasília', 'Dourados', 'Francisco Beltrão', 'São Paulo', 'Presidente Prudente', 'Ribeirão Preto', 'São Paulo', 'Niterói', 'Rio de Janeiro', 'Brasília', 'São Gonçalo', 'Cachoeira Do Sul', 'Osasco', 'Teixeira de Freitas', 'Nova Odessa', 'Itabaiana', 'Imbituba', 'Ponta Grossa', 'Ilhéus', 'Jaraguá do Sul', 'Alvorada', 'Cascavel', 'Várzea Grande', 'Araçatuba', 'Ponta Grossa', 'Vitória de Santo Antão', 'São Paulo', 'Rio Das Ostras', 'São Paulo', 'Fortaleza', 'Morretes', 'Barreiras', 'Aparecida de Goiânia', 'Valparaíso de Goiás', 'Crato', 'São Paulo', 'Guaçu', 'Curitiba', 'Bauru', 'Antonina', 'Rio de Janeiro', 'São Paulo', 'Nilópolis', 'Porto Alegre', 'Balneário Camboriú', 'Rio de Janeiro', 'Ibicoara', 'Campo Magro', 'Florianópolis', 'Rio de Janeiro', 'Barra de São Francisco', 'Rio Largo', 'São Sebastião', 'Eunápolis', 'Rio de Janeiro', 'Caxias do Sul', 'Itaperuçu', 'Vinhedo', 'Conceição de Macabu', 'Fortaleza', 'Tubarão', 'Curitiba', 'Salvador', 'Foz do Iguaçu', 'Cabedelo', 'Embu-Guaçu', 'Maceió', 'Jandira', 'Rio de Janeiro', 'Recife', 'Brasília', 'Joinville', 'Jaboatao Dos Guararapes', 'Natal', 'Uberlândia', 'Petropolis', 'Armação dos Búzios', 'São Paulo', 'Araranguá', 'São Paulo', 'Colombo', 'Uberlândia', 'Araçatuba', 'Cabo Frio', 'Mário Campos', 'Porto Alegre', 'Goiânia', 'Goiânia', 'Rio de Janeiro', 'Rio Bonito', 'Alvorada', 'Macapá', 'Osasco', 'Jaboatão dos Guararapes', 'Petrópolis', 'Itapecerica da Serra', 'Itapetininga', 'Porto Velho', 'São Paulo', 'São Paulo', 'Barra de Guabiraba', 'Custódia', 'Brasília', 'Rio Branco', 'Bandeirantes', 'Matinhos', 'Rio de Janeiro', 'Sao Luis', 'Bragança Paulista', 'Açu', 'Praia Grande', \"Dias D'Ávila\", 'Quixeramobim', 'Maceió', 'Fortaleza', 'Nova Iguaçu', 'Teixeira De Freitas', 'Aracaju', 'Balneário Camboriú', 'Tangará da Serra', 'Paulista', 'Rondonópolis', 'São José dos Pinhais', 'Pinhais', 'Vitória', 'Juiz de Fora', 'Santa Maria', 'Recife', 'Ilhéus', 'Itajaí', 'Guaratinguetá', 'Serra', 'Tanguá', 'Camaragibe', 'São Paulo', 'Porto Seguro', 'Valparaiso De Goias', 'Parnamirim', 'Brasilia', 'Mogi das Cruzes', 'Vitória da Conquista', 'Bragança Paulista', 'Beberibe', 'Cachoeira', 'João Pessoa', 'Embu das Artes', 'Curitiba', 'Garanhuns', 'Fortaleza', 'São Pedro da Aldeia', 'Diadema', 'Águas Lindas de Goiás', 'Presidente Prudente', 'Brasília', 'Jacareí', 'Nossa Senhora do Socorro', 'Bodoquena', 'Natal', 'Alexânia', 'Rio de Janeiro', 'Duque de Caxias', 'São Paulo', 'Formosa', 'Caruaru', 'Várzea Grande', 'Campo Grande', 'São José dos Campos', 'Goiânia', 'Araguari', 'Ferraz de Vasconcelos', 'Jaraguá do Sul', 'Santa Rosa', 'Maranguape', 'Capivari', 'Santa Rosa', 'Itabira', 'Rio de Janeiro', 'Caçapava', 'São Paulo', 'Ipanema', 'Limeira', 'Fortaleza', 'Porto Velho', 'Rio de Janeiro', 'Tijucas', 'Pontal do Paraná', 'Ribeirão Preto', 'São Francisco do Sul', 'Aquidauana', 'Bauru', 'Curitiba', 'Goiânia', 'Castanhal', 'Escada', 'Conchal', 'Guarulhos', 'São Paulo', 'Itabaiana', 'Jacareí', 'Araçatuba', 'Florianópolis', 'Curitiba', 'Indaial', 'Brasília', 'Leopoldina', 'Vitória', 'Cambé', 'Paudalho', 'Angra dos Reis', 'Taubaté', 'São Paulo', 'Guarulhos', 'Itu', 'Rio de Janeiro', 'Anápolis', 'João Pessoa', 'Nova Iguaçu', 'Caxias do Sul', 'Rio de Janeiro', 'Maringá', 'Campos dos Goytacazes', 'Niterói', 'Duque de Caxias', 'Caraguatatuba', 'Cuiabá', 'Londrina', 'Diamantina', 'Recife', 'Marataízes', 'Novo Gama', 'Patos', 'Três Coroas', 'Abreu e Lima', 'Londrina', 'Saquarema', 'Curitiba', 'São Paulo', 'Recife', 'Nova Iguaçu', 'São Gonçalo', 'Rio de Janeiro', 'João Pessoa', 'Cachoeira', 'Limeira', 'Mesquita', 'Várzea Grande', 'São João de Meriti', 'Alvorada', 'Alexânia', 'Campo Grande', 'Salvador', 'Hortolândia', 'Cabo Frio', 'João Pessoa', 'São Paulo', 'Duque de Caxias', 'Maceió', 'Brasília', 'São Paulo', 'Penha', 'Passos', 'Sao Gabriel', 'Carpina', 'São Paulo', 'Luziânia', 'São Gonçalo', 'Petrópolis', 'Rio de Janeiro', 'Fortaleza', 'Camboriú', 'Itapeva', 'Rio de Janeiro', 'Anápolis', 'São Luís', 'Limeira', 'Belém', 'São Luís', 'Várzea Grande', 'Recife', 'Aparecida de Goiânia', 'Barueri', 'São Carlos', 'Campinas', 'Salvador', 'Aparecida de Goiânia', 'Sorocaba', 'Petrolina', 'Balneário Camboriú', 'Muriaé', 'São Paulo', 'Foz do Iguaçu', 'Novo Hamburgo', 'Fortaleza', 'Fortaleza', 'São Gonçalo', 'São Paulo', 'Assis', 'Castanhal', 'Quatipuru', 'Carapicuíba', 'Brasília', 'Rio de Janeiro', 'São Paulo', 'Campo Mourão', 'Taquara', 'Osasco', 'Garopaba', 'São Paulo', 'Mossoró', 'Três Rios', 'Porto Ferreira', 'São Paulo', 'Mossoro', 'Venâncio Aires', 'Rondonópolis', 'Pindorama', 'João Pessoa', 'Cascavel', 'Nova Lima', 'Rio de Janeiro', 'Amapá do Maranhão', 'Uberaba', 'Recife', 'Brasília', 'Campinas', 'Aracaju', 'Xangri-Lá', 'Paulista', 'São Gonçalo do Amarante', 'Paulista', 'Feira de Santana', 'Salvador', 'Dourados', 'Natal', 'São Paulo', 'Volta Redonda', 'Porto Alegre', 'Muriaé', 'Araraquara', 'Curitiba', 'Ilha Comprida', 'São Caetano do Sul', 'Florianópolis', 'Registro', 'Pedro Osório', 'São José dos Campos', 'Duque de Caxias', 'Valparaíso de Goiás', 'Cariacica', 'São Leopoldo', 'Castro', 'Mossoró', 'Campos dos Goytacazes', 'São José do Rio Preto', 'Paulínia', 'Caruaru', 'Brasília', 'Olinda', 'Cruzeiro', 'Campo Bom', 'Recife', 'Arapongas', 'Nova Iguaçu', 'Mairiporã', 'Nova Iguaçu', 'Colombo', 'Juazeiro do Norte', 'Mandaguaçu', 'Canoas', 'Vitória', 'Indaial', 'Salvador', 'Três Pontas', 'Itumbiara', 'Porto Alegre', 'Rio das Ostras', 'São Francisco do Sul', 'Bauru', 'Queimadas', 'Anápolis', 'Cascavel', 'Brumadinho', 'Alfenas', 'Esteio', 'São Paulo', 'União da Vitória', 'Belém', 'Brasília', 'Aparecida de Goiânia', \"Herval D'Oeste\", 'Salvador', 'Itapoá', 'Rio Verde', 'Juiz de Fora', 'Içara', 'Arapiraca', 'Araucária', 'São José dos Campos', 'Campinas', 'São Gonçalo', 'São Paulo', 'Goiânia', 'Teresina', 'Serrana', 'Pouso Alegre', 'Blumenau', 'Rio de Janeiro', 'Brasília', 'Manaus', 'Macapá', 'Santos Dumont', 'Brasília', 'Araguaína', 'Campina Grande', 'Teutônia', 'Cotia', 'Rio de Janeiro', 'João Pessoa', 'Londrina', 'Campo Largo', 'Santarém', 'Aracaju', 'Pitangui', 'Curitiba', 'Paço do Lumiar', 'Sorocaba', 'Itabira', 'Santa Isabel', 'Rio de Janeiro', 'São José dos Pinhais', 'Salvador', 'Nova Iguaçu', 'Itatiaia', 'Florianópolis', 'Nova Iguaçu', 'São Paulo', 'Petrolina', 'Linhares', 'Parnamirim', 'Nova Iguaçu', 'Taubaté', 'Lorena', 'Boa Vista', 'Feira de Santana', 'Cascavel', 'Sapucaia do Sul', 'Paulista', 'Palhoça', 'Atibaia', 'São Paulo', 'São Paulo', 'Atibaia', 'Uberaba', 'Volta Redonda', 'Rio de Janeiro', 'Montes Claros', 'Fortaleza', 'Rio de Janeiro', 'São João Del Rei', 'Bayeux', 'Bayeux', 'Ibicaraí', 'Bragança Paulista', 'Cornélio Procópio', 'Vitória', 'Surubim', 'Santana de Parnaíba', 'Teixeira de Freitas', 'Praia Grande', 'São Paulo', 'Cianorte', 'Salvador', 'Catanduva', 'Belo Horizonte', 'Campo Grande', 'Macapá', 'Timbaúba', 'São Caetano do Sul', 'Itaboraí', 'Curitiba', 'Botucatu', 'Florianópolis', 'São Paulo', 'Aracaju', 'Rio de Janeiro', 'Jacareí', 'Quixada', 'Ferraz de Vasconcelos', 'Alfenas', 'Cruzeiro do Sul', 'Mineiros', 'Resende', 'Presidente Prudente', 'Pinhalzinho', 'Cascavel', 'Rio de Janeiro', 'Rio de Janeiro', 'São Paulo', 'Assis', 'Penapolis', 'Paulista', 'Bertioga', 'Olinda', 'Rio de Janeiro', 'Guabiruba', 'Valparaíso de Goiás', 'Teixeira de Freitas', 'Francisco Morato', 'Olinda', 'Garopaba', 'Pelotas', 'Manaus', 'Campina Grande', 'Suzano', 'Siqueira Campos', 'Curitiba', 'Bauru', 'Navegantes', 'Três Fronteiras', 'Blumenau', 'Cascavel', 'Uberlândia', 'Cachoeirinha', 'Goiânia', 'Chapecó', 'Divinópolis', 'Esteio', 'Várzea Grande', 'São Paulo', 'Bonfim', 'Resende', 'Otacílio Costa', 'Canoas', 'Natal', 'Castanhal', 'Foz do Iguaçu', 'Florianópolis', 'Caxias do Sul', 'Franco da Rocha', 'Mauá', 'São Paulo', 'Fazenda Rio Grande', 'Recife', 'Palmas', 'Cuiabá', 'Jaraguá do Sul', 'Brasília', 'João Pessoa', 'Piquete', 'Apucarana', 'Rio de Janeiro', 'Brasília', 'São Gonçalo', 'Cianorte', 'Rio de Janeiro', 'Porto Alegre', 'João Pessoa', 'Jandira', 'São Paulo', 'Porto Velho', 'Osasco', 'Brasília', 'São Paulo', 'Porto Velho', 'Duque de Caxias', 'Eldorado', 'Rio Grande', 'São Bento do Sul', 'Benedito Novo', 'Taboão da Serra', 'Brasília', 'Apiaí', 'Mata de São João', 'Jacarezinho', 'Uberaba', 'Cuiabá', 'Aracaju', 'Palhoça', 'Sinop', 'Colombo', 'Fortaleza', 'Petrópolis', 'Montes Claros', 'Santos', 'São Paulo', 'Araraquara', 'Uberlândia', 'Ouroeste', 'Cabo de Santo Agostinho', 'Cachoeiro de Itapemirim', 'São Paulo', 'Governador Valadares', 'Careiro da Várzea', 'São Carlos', 'Quatis', 'Rio de Janeiro', 'São Paulo', 'Barra Bonita', 'Belo Horizonte', 'Bauru', 'Saquarema', 'Manaus', 'Curitiba', 'Pederneiras', 'Santana', 'Rio de Janeiro', 'Belo Horizonte', 'Maracanaú', 'Taubaté', 'Itapevi', 'Canoas', 'Diadema', 'Duque de Caxias', 'Duque de Caxias', 'Barueri', 'Salvador', 'Engenheiro Coelho', 'Barra Mansa', 'Bragança Paulista', 'Limeira', 'Goiânia', 'Rio de Janeiro', 'Caraguatatuba', 'Arapongas', 'Águas Lindas de Goiás', 'Manaus', 'Mossoró', 'Cambé', 'Campinas', 'Fortaleza', 'São Paulo', 'Sinop', 'Niterói', 'Corumbataí', 'Cachoeiras de Macacu', 'Araguaína', 'Rio de Janeiro', 'Mandaguaçu', 'São Paulo', 'Niterói', 'Campinas', 'Araçatuba', 'Flórida Paulista', 'São Paulo', 'Pelotas', 'São Paulo', 'São Paulo', 'Estância', 'Nova Granada', 'Cotia', 'Salvador', 'Niterói', 'Porto Alegre', 'Mendonça', 'Rio de Janeiro', 'Manaus', 'São João Del Rei', 'Poços de Caldas', 'João Pessoa', 'Cachoeira', 'Pinhalzinho', 'Vargem Grande Paulista', 'Birigüi', 'Juiz de Fora', 'Brasília', 'Belo Horizonte', 'Castanhal', 'Rio de Janeiro', 'Guarapari', 'São Paulo', 'Nova Iguaçu', 'Rio de Janeiro', 'Guarulhos', 'Feira de Santana', 'Bento Gonçalves', 'Volta Redonda', 'São Paulo', 'Palmas', 'Primavera', 'Boa Vista', 'Brasília', 'Paulo Afonso', 'Porto Alegre', 'São Paulo', 'Paracuru', 'Barreiros', 'Ananindeua', 'Eusébio', 'São Paulo', 'Aracruz', 'São Sebastião', 'Curitiba', 'Campina Grande do Sul', 'Campina Grande', 'Jundiaí', 'Londrina', 'Belém', 'Itirapina', 'Imperatriz', 'Olinda', 'Lages', 'Praia Grande', 'Piracicaba', 'Olinda', 'Macaé', 'Dourados', 'Itupeva', 'Carangola', 'Catu', 'Guararapes', 'Rio de Janeiro', 'Palmas', 'Patos de Minas', 'Niterói', 'Macaé', 'Presidente Prudente', 'Suzano', 'Osasco', 'Juiz de Fora', 'Suzano', 'Brasília', 'Brasília', 'Pelotas', 'Brasília', 'Marília', 'São João de Meriti', 'Nova Iguaçu', 'Petrolina', 'Indaiatuba', 'Curitiba', 'Marília', 'São José dos Pinhais', 'Lajinha', 'São Gonçalo', 'Juiz de Fora', 'Queimados', 'Votuporanga', 'São Paulo', 'Cachoeirinha', 'Brasília', 'Navegantes', 'São Paulo', 'São José dos Campos', 'Rio Negro', 'Palhoça', 'Diadema', 'Santa Rita', 'Criciúma', 'Rio de Janeiro', 'São Paulo', 'Teresina', 'Alexânia', 'São Paulo', 'Rio de Janeiro', 'Rio das Ostras', 'Casimiro de Abreu', 'Petrolina', 'São Paulo', 'Belford Roxo', 'Guará', 'Porto Alegre', 'Marília', 'Rio de Janeiro', 'Queimados', 'Paulista', 'João Pessoa', 'Parnaíba', 'Rio de Janeiro', 'Palmas', 'Campina Grande', 'Sobral', 'São Francisco do Sul', 'Jeceaba', 'Belo Horizonte', 'Brasília', 'Porto Alegre', 'Balneário Camboriú', 'Rio Branco do Sul', 'Guaramirim', 'Guaramirim', 'Barueri', 'Canela', 'Porto Alegre', 'Lagoa Grande', 'Recife', 'Fortaleza', 'Lagoa de Velhos', 'Brasília', 'Petrópolis', 'Governador Valadares', 'Ji-Paraná', 'Uberlândia', 'Franca', 'Almirante Tamandaré', 'Osasco', 'Mesquita', 'Ipanguaçu', 'Brasilia', 'Rio de Janeiro', 'Mauá', 'São Luís', 'Manaus', 'Duque de Caxias', 'Piraju', 'Ananindeua', 'Caxias do Sul', 'Resende', 'Blumenau', 'Luís Eduardo Magalhães', 'Itabatan', 'Feira de Santana', 'Fortaleza', 'Caucaia', 'Luís Eduardo Magalhães', 'São Gonçalo', 'Hortolândia', 'Valparaíso de Goiás', 'Aracaju', 'Rio de Janeiro', 'Barueri', 'Campo Magro', 'Ponta Grossa', 'Timon', 'Juazeiro do Norte', 'Içara', 'Curitiba', 'Maricá', 'Itapoá', 'Piracaia', 'Terezópolis de Goiás', 'Vitória', 'Brasília', 'Ferraz de Vasconcelos', 'Iguape', 'Ananindeua', 'Serra Negra', 'Cuiabá', 'São Paulo', 'Rio de Janeiro', 'Curitiba', 'São Gonçalo', 'Volta Redonda', 'Campina Grande', 'Joanópolis', 'São Paulo', 'Barueri', 'Jacareí', 'Itabuna', 'Rio de Janeiro', 'Sao Paulo', 'Penha', 'Campo Grande', 'Fortaleza', 'Teresópolis', 'Fortaleza', 'Louveira', 'Patos de Minas', 'Vitória', 'Brasília', 'Duque de Caxias', 'Beberibe', 'Belém', 'Cornélio Procópio', 'Mesquita', 'Assis', 'Goiânia', 'Montenegro', 'Porto Alegre', 'Estancia Velha', 'Maricá', 'Itaitinga', 'Ibirité', 'Serra', 'Resende', 'Palhoça', 'Curitiba', 'Colombo', 'Pinhais', 'Jataí', 'Vitória da Conquista', 'Aracaju', 'Maceió', 'Salvador', 'Brasília', 'Trindade', 'Couto de Magalhães de Minas', 'Arapiraca', 'Ribeirão Preto', 'Manaus', 'Campo Mourão', 'São Paulo', 'Itapetininga', 'Ariquemes', 'Primavera do Leste', 'Maringá', 'Parnaíba', 'Água Boa', 'Pontal do Paraná', 'São Sebastião', 'Itabuna', 'Cotia', 'Eldorado do Sul', 'Cascavel', 'Itaquaquecetuba', 'Ubatuba', 'Volta Redonda', 'Duque de Caxias', 'Curitiba', 'Santa Maria', 'Pelotas', 'Goiânia', 'São Paulo', 'Cotia', 'Cianorte', 'Sarandi', 'Criciúma', 'São Paulo', 'Paranavaí', 'Salvador', 'Rio Grande', 'Rio de Janeiro', 'Marília', 'Araucária', 'Campinas', 'Caratinga', 'Aracati', 'Penapolis', 'São Paulo', 'Castanhal', 'Curitiba', 'Cuiabá', 'Santiago', 'Goiânia', 'Brasília', 'São Gonçalo', 'Barra do Jacuípe', 'São Paulo', 'Amparo', 'Avaré', 'São Paulo', 'Balneário Camboriú', 'São Paulo', 'Presidente Prudente', 'Poços de Caldas', 'Aracaju', 'Sao Paulo', 'São Luís', 'Palmas', 'Campo Grande', 'São Sebastião', 'Belém', 'Duque de Caxias', 'Colina', 'Ituverava', 'Taubaté', 'Adamantina', 'Cascavel', 'Rio do Sul', 'Eunapolis', 'Blumenau', 'Duque de Caxias', 'Curitiba', 'São Paulo', 'Chapecó', 'Joinville', 'Contagem', 'Foz do Iguaçu', 'Paulista', 'Mossoró', 'Joinville', 'Aracaju', 'Fortaleza', 'Catalão', 'Balneário Camboriú', 'Iturama', 'São José dos Campos', 'Aracaju', 'Cáceres', 'Caruaru', 'Londrina', 'Taboão da Serra', 'São Paulo', 'São Paulo', 'Parnamirim', 'Linhares', 'Arapongas', 'Niterói', 'Ilhéus', 'Rio de Janeiro', 'Vitória de Santo Antão', 'Barra de São Francisco', 'Belém', 'Parnamirim', 'São João de Meriti', 'Aparecida de Goiânia', 'Palhoça', 'Suzano', 'Diadema', 'Belém', 'São Paulo', 'Barueri', 'São Paulo', 'Rio de Janeiro', 'Aparecida de Goiânia', 'Rio Claro', 'Francisco Beltrão', 'Caldas Novas', 'São Mateus', 'Cuiabá', 'Porto Alegre', 'Fortaleza', 'Carmo', 'Mogi das Cruzes', 'Colombo', 'Resende', 'São Paulo', 'Rio de Janeiro', 'Caieiras', 'Belo Horizonte', 'Guaxupé', 'Brasília', 'Brasília', 'São Paulo', 'Porto Alegre', 'Salvador', 'Teresina', 'Piracicaba', 'Aracaju', 'Brasília', 'São Paulo', 'São Luís', 'Rio de Janeiro', 'Carapicuíba', 'Fortaleza', 'Santa Gertrudes', 'Indaiatuba', 'Fortaleza', 'Engenheiro Paulo De Frontin', 'São Paulo', 'Teófilo Otoni', 'São Paulo', 'Santa Cruz do Rio Pardo', 'Eldorado do Sul', 'Santos', 'Natal', 'Santa Cruz do Rio Pardo', 'Campos Novos', 'São Paulo', 'Videira', 'Petrópolis', 'Volta Redonda', 'Andradina', 'Rio de Janeiro', 'Manaus', 'Rio de Janeiro', 'Ferraz de Vasconcelos', 'Curitiba', 'Novo Hamburgo', 'Cedral', 'Marília', 'São Gonçalo', 'Fortaleza', 'Mauá', 'São Paulo', 'Boa Vista', 'Casimiro de Abreu', 'São Lourenço da Mata', 'Saquarema', 'Belém', 'Anápolis', 'São José dos Pinhais', 'Atibaia', 'São Roque', 'Japeri', 'Campo Verde', 'Maringá', 'São Bernardo do Campo', 'Embu das Artes', 'Belo Horizonte', 'Recife', 'São Gonçalo', 'Rio de Janeiro', 'Manhuacu', 'Belford Roxo', 'Salvador', 'Curitiba', 'Mococa', 'Hortolândia', 'Balneário Pinhal', 'Vitória do Mearim', 'Angra dos Reis', 'Campinas', 'Maceió', 'São Paulo', 'Joinville', 'Rio das Ostras', 'Pindamonhangaba', 'Belém', 'São Vicente', 'Igarassu', 'Curitiba', 'Niterói', 'Ipameri', 'Itumbiara', 'Osasco', 'Limeira', 'Goiânia', 'São Paulo', 'Ijuí', 'Porto Alegre', 'Conceição de Macabu', 'Juazeiro do Norte', 'Cuiabá', 'Castanhal', 'Bicas', 'Frutal', 'Duque de Caxias', 'Campo Grande', 'Suzano', 'São Vicente', 'Ilhéus', 'Fortaleza', 'São Paulo', 'Pedreira', 'Uberlândia', 'Mogi das Cruzes', 'Porto Alegre', 'São Paulo', 'Jaguariaíva', 'Bauru', 'São Gonçalo do Amarante', 'Itaboraí', 'Manaus', 'Itumbiara', 'São Paulo', 'Pelotas', 'Palmas', 'Blumenau', 'Salvador', 'Juiz de Fora', 'Curitiba', 'Rio Claro', 'Porto Real', 'Jandira', 'Fortaleza', 'Itapecerica da Serra', 'Cascavel', 'Caruaru', 'Brasília', 'Mirassol', 'Curitiba', 'Teresópolis', 'Goiânia', 'Mandaguaçu', 'Cachoeirinha', 'Porto Alegre', 'Ilhabela', 'Vila Velha', 'Porto Alegre', 'Colombo', 'Atibaia', 'Brasília', 'Dourados', 'Rio de Janeiro', 'Florianópolis', 'Paraguaçu Paulista', 'Recife', 'Betim', 'Contagem', 'Marília', 'Petrolina', 'Rio de Janeiro', 'São Paulo', 'Jaraguá do Sul', 'Salvador', 'Campo Grande', 'Lauro De Freitas', 'Atibaia', 'Curitiba', 'Volta Redonda', 'Rio de Janeiro', 'Suzano', 'Contagem', 'Catu', 'Mogi das Cruzes', 'Jandaia do Sul', 'Itaquaquecetuba', 'Osório', 'Curitiba', 'São Paulo', 'Belo Horizonte', 'Canoas', 'São Sebastião', 'Cosmópolis', 'Vila Velha', 'Rio de Janeiro', 'Juazeiro Do Norte', 'Mogi das Cruzes', 'Fortaleza', 'Candeias', 'João Pessoa', 'São Paulo', 'São Paulo', 'Campinas', 'Duque de Caxias', 'Valparaíso de Goiás', 'Aracruz', 'Foz do Iguaçu', 'Volta Redonda', 'Feira de Santana', 'Camaçari', 'Salvador', 'São Gonçalo', 'Pontal do Paraná', 'Mossoró', 'Taboão da Serra', 'Fortaleza', 'São Paulo', 'Luziania', 'Rio de Janeiro', 'Anchieta', 'Goiânia', 'São Paulo', 'Rio de Janeiro', 'Lauro De Freitas', 'Recife', 'São José dos Pinhais', 'Itaquaquecetuba', 'Uberlandia', 'Jandira', 'Barretos', 'São Paulo', 'Criciúma', 'Patos de Minas', 'Jaboatao Dos Guararapes', 'Guarujá', 'Rio Claro', 'Rio de Janeiro', 'Duque de Caxias', 'Rio de Janeiro', 'Natal', 'Arraial do Cabo', 'Suzano', 'Leopoldina', 'Passo Fundo', 'Itirapina', 'Ubaitaba', 'Serra', 'Venâncio Aires', 'Arraial do Cabo', 'São Paulo', 'Salvador', 'Brasília', 'São Paulo', 'Lagoa Santa', 'Caxias do Sul', 'São Bento do Sul', 'Caldas Novas', 'Caldas Novas', 'Belo Horizonte', 'Belém', 'São Luís de Montes Belos', 'Parauapebas', 'Campinas', 'Guarulhos', 'Serra', 'São Paulo', 'Sorocaba', 'Bauru', 'Peruíbe', 'Mossoró', 'Rondonópolis', 'Varjota', 'Franca', 'São José do Cedro', 'Jandira', 'Paranaiguara', 'Goiânia', 'Jacareí', 'Itatiaia', 'Uberlândia', 'Ponta Grossa', 'Catanduva', 'Patos de Minas', 'Rio de Janeiro', 'Dourados', 'Maringá', 'Santos', 'Quixada', 'São Paulo', 'Rio de Janeiro', 'Boa Vista', 'Porto Alegre', 'Ituiutaba', 'Joinville', 'Natal', 'Presidente Prudente', 'Cuiabá', 'Brasília', 'Salvador', 'Belo Horizonte', 'Maringá', 'São Paulo', 'São Paulo', 'Brasília', 'Indaial', 'São Paulo', 'Sorocaba', 'Marabá', 'São Vicente', 'Bofete', 'Brasília', 'Londrina', 'Araguari', 'Cabo Frio', 'Rio de Janeiro', 'Itajaí', 'Camaçari', 'Marituba', 'Manaus', 'Olinda', 'São Paulo', 'Belém', 'Dourados', 'Tucuruí', 'Goiânia', 'Iguaba Grande', 'Ananindeua', 'Brasília', 'Teresina', 'Feira de Santana', 'São Paulo', 'Palmas', 'São Gonçalo', 'Campinas', 'Curitiba', 'Primavera do Leste', 'Rio de Janeiro', 'Teresina', 'Brasília', 'Feira de Santana', 'Marituba', 'Carapicuíba', 'Taquaritinga', 'São João de Meriti', 'Brasília', 'Salvador', 'São Paulo', \"Santa Bárbara D'Oeste\", 'Cristalina', 'Foz do Iguaçu', 'Rio de Janeiro', 'Aparecida', 'Boituva', 'Londrina', 'São Paulo', 'São Leopoldo', 'Mossoro', 'Armação dos Búzios', 'Osasco', 'Belém', 'Parati', 'Aquiraz', 'Casimiro de Abreu', 'Petrolina', 'Caruaru', 'Belém', 'Campo Grande', 'Camboriú', 'Manaus', 'Macaé', 'Guarulhos', 'Lauro De Freitas', 'Caucaia', 'Uberlândia', 'Lorena', 'São Gonçalo', 'Oliveira', 'Piúma', 'São Paulo', 'Cabo Frio', 'Florianópolis', 'João Pinheiro', 'Salvador', 'Salvador', 'Macapá', 'Rio de Janeiro', 'Rio de Janeiro', 'Ribeirão Preto', 'Teresina', 'São João de Meriti', 'Laguna', 'São Paulo', 'Araguari', 'Santa Rita', 'Assis', 'São Paulo', 'Campos dos Goytacazes', 'Sinop', 'Resende', 'Uberlândia', 'São Luís', 'Joinville', 'São Carlos', 'Unai', 'Marabá', 'Rondonópolis', 'São Paulo', 'Goiânia', 'Catanduva', 'Alta Floresta', 'Resende', 'Porto Velho', 'Parnamirim', 'Belém', 'Maricá', 'Goiânia', 'Porto Alegre', 'Nova Friburgo', 'Aracaju', 'São Paulo', 'Coronel Vivida', 'Brasília', 'Barueri', 'Crateus', 'Juazeiro', 'Campo Grande', 'Imperatriz', 'Macapá', 'Joinville', 'Uberlândia', 'Lauro De Freitas', 'Foz do Iguaçu', 'São José dos Campos', 'Curitiba', 'Americana', 'Natal', 'São Paulo', 'Mogi das Cruzes', 'Cornélio Procópio', 'Mauá', 'Rolândia', 'Rio De Janeiro', 'Campinas', 'Natal', 'Santos', 'Louveira', 'Uberlândia', 'Ilhéus', 'Salvador', 'Rio Verde', 'Belford Roxo', 'São Paulo', 'Florianópolis', 'Vitória', 'Vera Cruz', 'Belo Horizonte', 'Jundiaí', 'Curitiba', 'Francisco Morato', 'Alvorada', 'Barretos', 'Ilicínea', 'Caçapava', 'Botucatu', 'Brasília', 'Itaboraí', 'Mariana', 'Guarulhos', 'Rio de Janeiro', 'Cabo Frio', 'Jaraguá do Sul', 'Volta Redonda', 'Recife', 'Salvador', 'Macae', 'Penha', 'Colombo', 'Itapema', 'Araguari', 'Divinópolis', 'Piracicaba', 'Taboão da Serra', 'Castanhal', 'Brasilia', 'Balneário Camboriú', 'Cascavel', 'Juatuba', 'São Paulo', 'Campinas', 'São Paulo', 'Goiânia', 'Cerquilho', 'Terra Boa', 'Santana', 'Nova Iguaçu', 'Londrina', 'Rondonópolis', 'Cabo Frio', 'Dracena', 'Brasília', 'Joinville', 'Porto Alegre', 'Bauru', 'Camacari', 'Jesuítas', 'Natal', 'São Paulo', 'Jauá', 'Parauapebas', 'Franco da Rocha', 'Vila Velha', 'Rancharia', 'Florianópolis', 'Macaé', 'Mineiros', 'Guarapuava', 'Rio Verde', 'Novais', 'Maringá', 'Petrópolis', 'Santo Antonio Do Descoberto', 'Garuva', 'Navegantes', 'Ibirité', 'Acupe', 'Toledo', 'Londrina', 'Boa Vista', 'Sarzedo', 'Mogi das Cruzes', 'Curvelo', 'Florianópolis', 'Aracaju', 'São Gonçalo', 'Brusque', 'Monte Gordo', 'Paraguaçu Paulista', 'Rio de Janeiro', 'Goiânia', 'Afonso Arinos', 'Bela Vista', 'Recife', 'Santa Cruz do Sul', 'Quixadá', 'São Paulo', 'Araraquara', 'Tubarão', 'Natal', 'São Sebastião do Passe', 'Brasília', 'Cascavel', 'São José de Ribamar', 'Anaurilândia', 'Votorantim', 'Poços de Caldas', 'Planaltina', 'Natal', 'Maringá', 'Nísia Floresta', 'Cotia', 'Brasília', 'Jandira', 'Palhoça', 'Carapicuíba', 'Ararangua', 'São Bernardo do Campo', 'Barreiras', 'Londrina', 'Unai', 'Osasco', 'Londrina', 'Curitiba', 'Belém', 'Ponta Grossa', 'Ilhéus', 'Curitiba', 'Porto Velho', 'Uberlândia', 'Itapevi', 'Fortaleza', 'Cascavel', 'Rio De Janeiro', 'Diadema', 'Duque de Caxias', 'Rio Claro', 'Porto Velho', 'Grajaú', 'Joinville', 'Saquarema', 'São Paulo', 'Goiânia', 'São Mateus', 'Fortaleza', 'Anápolis', 'Nova Friburgo', 'Curitiba', 'São José dos Campos', 'Armação dos Búzios', 'Franca', 'Londrina', 'Campo Mourao', 'Campo Grande', 'Rio de Janeiro', \"Dias D'Ávila\", 'Campo Grande', 'Natal', 'Belém', 'Dourados', 'Valinhos', 'Porto Ferreira', 'Tatuí', 'Pelotas', 'Penha', 'Belo Horizonte', 'Santo Antônio de Jesus', 'Ibiporã', 'São Paulo', 'Brasília', 'Caieiras', 'Viamão', 'Itabuna', 'Marabá', 'Guerém', 'Aracaju', 'Guarulhos', 'Pacajus', 'Santa Maria', 'Três Rios', 'São Paulo', 'Aparecida do Taboado', 'Itumbiara', 'Beberibe', 'Maceió', 'Rio de Janeiro', 'Iracemápolis', 'Petrópolis', 'São Paulo', 'Bento Gonçalves', 'Aracaju', 'Cambé', 'Resende', 'Londrina', 'Betim', 'Paripiranga', 'Nova Friburgo', 'Uberlândia', 'Maceió', 'Maracanaú', 'Sorocaba', 'São José dos Campos', 'Volta Redonda', 'Porto Alegre', 'Itaguaí', 'Fortaleza', 'Embu das Artes', 'Rio de Janeiro', 'Campinas', 'Manaus', 'Aracaju', 'Ourinhos', 'São José', 'São Paulo', 'Olinda', 'Brasília', 'Varginha', 'Curitiba', 'Feira de Santana', 'Queimados', 'Poá', 'São Paulo', 'São Francisco do Sul', 'Fazenda Rio Grande', 'Primavera do Leste', 'São Paulo', 'Foz do Iguaçu', 'Porto Alegre', 'Santa Luzia', 'Nova Iguaçu', 'Curitiba', 'Comodoro', 'Rio Branco', 'São Carlos', 'São Paulo', 'Ananindeua', 'Parnaíba', 'Horizonte', 'Valparaíso de Goiás', 'Rio do Sul', 'Pomerode', 'Itaboraí', 'Rio Acima', 'Brasília', 'Novo Hamburgo', 'Maceió', 'Santo Antônio de Jesus', 'Capinópolis', 'Campo Grande', 'Curitiba', 'Catanduva', 'Uberlândia', 'Colatina', 'Brasília', 'Campina Grande', 'Niterói', 'Mauá', 'Santo André', 'Aparecida de Goiânia', 'Curitiba', 'Ribeirão das Neves', 'São Lourenço da Serra', 'Laguna', 'Camaragibe', 'Cuiabá', 'Brasília', 'Campina Grande do Sul', 'Fortaleza', 'Macae', 'Itanhaém', 'Aquiraz', 'Guarapuava', 'Niterói', 'São Paulo', 'Cariacica', 'Manaus', 'Manaus', 'Belo Horizonte', 'Moita Bonita', 'Rio das Ostras', 'Várzea Grande', 'Barra Mansa', 'João Pessoa', 'Americana', 'Pilar', 'Bauru', 'Brasília', 'Cuiabá', 'Brusque', 'Belford Roxo', 'Bariri', 'Toledo', 'São Vicente', 'Goiânia', 'Rio das Ostras', 'Acreúna', 'Maceió', 'São Paulo', 'Imperatriz', 'Rio de Janeiro', 'Porto Alegre', 'Juiz de Fora', 'Luziânia', 'Belo Horizonte', 'Curitiba', \"Santa Bárbara D'Oeste\", 'Nova Odessa', 'Fortaleza', 'Massaranduba', 'Mococa', 'Luiz Alves', 'Itumbiara', 'Blumenau', 'Porto Alegre', 'Joinville', 'Guarapuava', 'Teresópolis', 'Fortaleza', 'Campo Belo', 'Porto Alegre', 'São Paulo', 'São Paulo', 'Duque de Caxias', 'Londrina', 'Feira de Santana', 'Eusébio', 'Santa Rita', 'Caieiras', 'Recife', 'Ituverava', 'Sertãozinho', 'Curitiba', 'Pirenópolis', 'Maceió', 'Itaú de Minas', 'Brasília', 'Hortolândia', 'Franca', 'Boa Vista', 'Vila Muriqui', 'São Paulo', 'Jandaia do Sul', 'Rio de Janeiro', 'Almirante Tamandaré', 'Joinville', 'Rio das Ostras', 'Rio de Janeiro', 'Bauru', 'Jequié', 'São Luís', 'São José', 'São Paulo', 'Várzea Grande', 'Salvador', 'Rio de Janeiro', 'Vila Velha', 'Touros', 'Parintins', 'Alvorada', 'Bonito', 'Campo Grande', 'Pirapora', 'Niterói', 'Guaíba', 'Ananindeua', 'Itaguaí', 'Campinas', 'Taubaté', 'Piedade', 'Goiânia', 'Marabá', 'São Luís', 'Trindade', 'Campos dos Goytacazes', 'Três Rios', 'Salvador', 'Campos dos Goytacazes', 'Recife', 'Fortaleza', 'Cambé', 'Rio das Ostras', 'Campinas', 'Curitiba', 'Rio de Janeiro', 'São José dos Campos', 'Manaus', 'Paracatu', 'Holambra', 'Cabo Frio', 'Campo Grande', 'São Paulo', 'Rio de Janeiro', 'Goiânia', 'Campos dos Goytacazes', 'Montes Claros', 'Jequié', 'São Paulo', 'Taboão da Serra', 'Canoas', 'Cascavel', 'Joinville', 'Dourados', 'São Benedito', 'Curitiba', 'Cuiabá', 'Sapucaia Do Sul', 'Aracruz', 'Rio Grande', 'Porto Alegre', 'Camacari', 'São João de Meriti', 'Manaus', 'Rio de Janeiro', 'Esteio', 'Fortaleza', 'Barra do Garças', 'Feira de Santana', 'Artur Nogueira', 'Alagoinhas', 'Osasco', 'Rio de Janeiro', 'Jaguariaíva', 'Osasco', 'Uberlândia', 'Tupi Paulista', 'Londrina', 'Ribeirão das Neves', 'Petrolina', 'Ararangua', 'Lençóis Paulista', 'Rio de Janeiro', 'Pomerode', 'São João de Meriti', 'Rio Real', 'Recife', 'São Paulo', 'Nova Iguaçu', 'Prudente de Morais', 'São Paulo', 'Caraguatatuba', 'Itajaí', 'Rio de Janeiro', 'Uberaba', 'Brasília', 'Anápolis', 'Araruama', 'Irati', 'Campanha', 'Quissamã', 'Jaboatão dos Guararapes', 'Delmiro Gouveia', 'Fortaleza', 'Curitiba', 'São Paulo', 'Tiradentes', 'Jacareí', 'Belo Jardim', 'Brasília', 'Jandira', 'Olinda', 'Bertioga', 'São Paulo', 'Rio de Janeiro', 'Maceio', 'São Paulo', 'Joinville', 'Nísia Floresta', 'Criciúma', 'Cabo de Santo Agostinho', 'Barra Do Garcas', 'Paverama', 'Extremoz', 'Mossoró', 'Umuarama', 'Goiânia', 'São José do Alegre', 'Alexania', 'Schroeder', 'Campina Grande', 'Campo Grande', 'Mairipora', 'Santos', 'Várzea Grande', 'Manaus', 'Feira de Santana', 'Joinville', 'Três Rios', 'Salvador', 'São José do Rio Preto', 'Itajaí', 'Itajaí', 'Brasília', 'São Paulo', 'Maua', 'Caraguatatuba', 'Barueri', 'Ijuí', 'Pouso Alegre', 'Curitiba', 'Nova Iguaçu', 'Teresina', 'Almirante Tamandaré', 'Ipatinga', 'Campo Mourão', 'Uberaba', 'São Paulo', 'Campinas', 'Campo Grande', 'Camaçari', 'Santa Mariana', 'Curitiba', 'Carandaí', 'Itupeva', 'Guaratinguetá', 'Brasília', 'Salvador', 'Maceió', 'Adamantina', 'São José dos Campos', 'Brasília', 'Aparecida', 'Natal', 'Três Rios', 'Criciúma', 'Bebedouro', 'Petrolândia', 'Rio de Janeiro', 'São Paulo', 'Ponta Grossa', 'Votuporanga', 'São Paulo', 'Muriaé', 'Macaé', 'Araçoiaba da Serra', 'Brasília', 'Campina Grande do Sul', 'Rio de Janeiro', 'Pindamonhangaba', 'Maceió', 'Rio de Janeiro', 'São Paulo', 'São Luís', 'Itajaí', 'Manaus', 'Nova Venécia', 'Rio de Janeiro', 'Não-Me-Toque', 'Belém', 'Goiânia', 'Porto Alegre', 'Rio de Janeiro', 'Belém', 'Petrópolis', 'Cariacica', 'Palhoça', 'Lauro De Freitas', 'Caldas Novas', 'Brasília', 'Fortaleza', 'Joinville', 'Santos', 'Aparecida de Goiânia', 'Blumenau', 'Limeira', 'Bauru', 'Campinas', 'São Paulo', 'Armação dos Búzios', 'Guaratinguetá', 'Suzano', 'Goiânia', 'Saquarema', 'Armação dos Búzios', 'Mara Rosa', 'Feira de Santana', 'Nova Guataporanga', 'Florianópolis', 'Campo Grande', 'Praia Grande', 'Brasília', 'Rio Grande', 'Rio de Janeiro', 'São Paulo', 'Viamão', 'Cascavel', 'Brasília', 'Jundiaí', 'Jaraguá do Sul', 'São José dos Campos', 'Uberlândia', 'São Paulo', 'Santo Amaro da Imperatriz', 'Atibaia', 'Patos', 'Goiânia', 'Itumbiara', 'Bayeux', 'Mesquita', 'Presidente Prudente', 'Curitiba', 'Atibaia', 'Atibaia', 'Andradina', 'São Paulo', 'Boa Vista', 'Londrina', 'Brasília', 'Mário Campos', 'São Paulo', 'Cuiabá', 'Curitiba', 'Patrocínio', 'Paulista', 'São Paulo', 'Belo Horizonte', 'Americana', 'Belém', 'Brasília', 'Porto Alegre', 'Florianópolis', 'Rio de Janeiro', 'São José dos Pinhais', 'Sarandi', 'Bauru', 'Nova Friburgo', 'Goiânia', 'Itabatan', 'Salvador', 'São Gonçalo', 'São Paulo', 'Juazeiro', 'Itabatan', 'Guarulhos', 'Contagem', 'Blumenau', 'Contagem', 'Belo Horizonte', 'Petrópolis', 'Divinópolis', 'Campo Bom', 'Macae', 'Franca', 'Ribeirão', 'São João Del Rei', 'Rio de Janeiro', 'Fortaleza', 'Blumenau', 'Camacari', 'São Paulo', 'Cambé', 'Rio de Janeiro', 'Brasília', 'Itabuna', 'Itaberá', 'Parnamirim', 'Curitiba', 'Uberlândia', 'São Paulo', 'Brasília', 'Santiago', 'Assis', 'Arraial do Cabo', 'Itabuna', 'Macapá', 'Tijucas do Sul', 'Brasília', 'Belém', 'Rio de Janeiro', 'São José dos Campos', 'São José dos Campos', 'Guarulhos', 'Barra do Bugres', 'Barra do Bugres', 'Recife', 'Florianópolis', 'Volta Redonda', 'Rio de Janeiro', 'Boa Vista', 'Canápolis', 'Itabuna', 'Trindade', 'Franco da Rocha', 'Fortaleza', 'Guaramirim', 'São Gonçalo do Amarante', 'Goianinha', 'Petrópolis', 'Porto Alegre', 'Curitiba', 'Blumenau', 'Brasília', 'Magé', 'Joinville', 'Rio de Janeiro', 'Nova Andradina', 'Lauro De Freitas', 'São Sebastião', 'Salvador', 'Camacari', 'Viamão', 'Cabo Frio', 'Blumenau', 'Osório', 'São Vicente Ferrer', 'Louveira', 'Maceió', 'Uberlândia', 'Lauro De Freitas', 'Cacoal', 'São Paulo', 'Taquara', 'Cariacica', 'Brasília', 'Rio de Janeiro', 'Londrina', 'Alta Floresta', 'Cascavel', 'Sarandi', \"Santa Bárbara D'Oeste\", 'Maceió', 'São Paulo', 'São Paulo', 'Porto Alegre', 'Maceió', 'Praia Grande', 'Campos dos Goytacazes', 'Parintins', 'Maringá', 'Jundiaí', 'Ubatuba', 'São Carlos', 'Brasília', 'Navegantes', 'Maracaju', 'Fortaleza', 'Blumenau', 'Francisco Morato', 'Feira de Santana', 'Sinop', 'Duque de Caxias', 'Aracaju', 'Rio de Janeiro', 'Duque de Caxias', 'São Paulo', 'Mogi Mirim', 'Novo Gama', 'Aquiraz', 'Cabo Frio', 'Presidente Prudente', 'Santa Terezinha de Itaipu', 'Brasília de Minas', 'Jaraguá do Sul', 'São Francisco Xavier', 'Jaboatão dos Guararapes', 'Juazeiro do Norte', 'Santa Maria', 'Londrina', 'Carapicuíba', 'Araraquara', 'Itaquaquecetuba', 'São José', 'Rio de Janeiro', 'Brasília', 'Camboriú', 'Londrina', 'Pilar', 'São Paulo', 'São Paulo', 'Garopaba', 'Jundiaí', 'Vitória de Santo Antão', 'Canápolis', 'Itajaí', 'Maringá', 'Abadiânia', 'Goiânia', 'Florianópolis', 'Recife', 'Mirandópolis', 'Osasco', 'Santo André', 'Rio de Janeiro', 'São Paulo', 'São Paulo', 'Salvador', 'Joinville', 'Tupã', 'Fortaleza', 'Belo Horizonte', 'São Paulo', 'Uberlândia', 'São Paulo', 'Teresina', 'Recife', 'Campinas', 'Ilhabela', 'São Miguel do Gostoso', 'Anápolis', 'Camboriú', 'São Paulo', 'Curitiba', 'Cotia', 'Maceió', 'Vila Velha', 'Niterói', 'Rio de Janeiro', 'Araçatuba', 'Rio de Janeiro', 'Mogi das Cruzes', 'Aparecida do Taboado', 'Duque de Caxias', 'Santos', 'Rio de Janeiro', 'Sumidouro', 'Três Rios', 'Guarapari', 'Ribeirão Preto', 'Maringá', 'São Paulo', 'Belo Horizonte', 'Maringá', 'Campo Grande', 'Umuarama', 'Goiânia', 'Pato Branco', 'Osasco', 'Barbacena', 'Londrina', 'Curitiba', 'São Paulo', 'Portelandia', 'Belém', 'São Leopoldo', 'São Carlos', 'Santa Tereza do Oeste', 'Ponta Grossa', 'Mongaguá', 'São Paulo', 'Balneário Camboriú', 'Feira de Santana', 'Santiago', 'Betim', 'Contagem', 'Rio de Janeiro', 'Diadema', 'São Leopoldo', 'Campinas', 'Olinda', 'Curitiba', 'Parnamirim', 'Piracicaba', 'Mossoró', 'São Paulo', 'Guarulhos', 'Frederico Westphalen', 'Jandira', 'Florianópolis', 'São Gonçalo', 'Pirapora', 'Teresina', 'Canoas', 'Patos de Minas', 'Brasília', 'Uberaba', 'Fortaleza', 'Camaçari', 'Aparecida de Goiânia', 'Sorocaba', 'Goiânia', 'Belford Roxo', 'Guaratuba', 'Borborema', 'Sacramento', 'João Pinheiro', 'Londrina', 'Imperatriz', 'Ribeirão das Neves', 'Goiânia', 'Cuiabá', 'Belford Roxo', 'Eusébio', 'Caraguatatuba', 'Nova Petrópolis', 'Campo Grande', 'Contagem', 'Londrina', 'Eusébio', 'Sarandi', 'Brasília', 'Fortaleza', 'Brasília', 'Manaus', 'Armação dos Búzios', 'Blumenau', 'Marília', 'Sabáudia', 'Ribeirão Pires', 'Varzea Grande', 'São Paulo', 'Canoas', 'Sao Jose', 'Castanhal', 'Cidreira', 'Recife', 'Uba', 'Garuva', 'Manaus', 'Imperatriz', 'Cruzeiro do Sul', 'Santa Maria', 'Trindade', 'Farroupilha', 'Brasília', 'Recife', 'Boa Vista', 'Ribeirão Preto', 'São Paulo', 'Porto Alegre', 'Carapicuíba', 'Cachoeirinha', 'Valparaíso', 'Uberlândia', 'Igarassu', 'São Paulo', 'Taquaritinga', 'Araucária', 'Curitiba', 'Florianópolis', 'São Lourenço', 'Pinhais', 'Baependi', 'São José dos Campos', 'Itapevi', 'Balneário Camboriú', 'Caruaru', 'Nova Petrópolis', 'Curitiba', 'Blumenau', 'Passos', 'São Luís', 'Rio de Janeiro', 'Crato', 'Petrolina', 'Niterói', 'Rio Branco', 'Praia Grande', 'Ribeirão Preto', 'Cuiabá', 'Maceió', 'Magé', 'Serra', 'Pires do Rio', 'Pinhais', 'Aracaju', 'São Paulo', 'Barra Velha', 'Brasília', 'Juiz de Fora', 'Jundiaí', 'Montes Claros', 'Formosa', 'Itajaí', 'Itu', 'Curitiba', 'Bragança Paulista', 'Campinas', 'Catende', 'Nova Iguaçu', 'Itajaí', 'São Paulo', 'Recife', 'Porto Alegre', 'Juiz de Fora', 'João Pessoa', 'Olinda', 'Fortaleza', 'Patos de Minas', 'Candeias', 'Curitiba', 'Joinville', 'Barra Bonita', 'Araçás', 'Florianópolis', 'Recife', 'Brasília', 'Ponta Pora', 'Itajaí', 'Maceió', 'Jaraguá do Sul', 'Palmeira dos Índios', 'Osório', 'São Gonçalo', 'Porto Alegre', 'Rio Das Ostras', 'São Gonçalo', 'Rio Das Ostras', 'Belford Roxo', 'Recife', 'Angra dos Reis', 'Guarulhos', 'Pinhais', 'Joinville', 'Curitiba', 'Fortaleza', 'Angatuba', 'Piraquara', 'Rio de Janeiro', 'Açu da Torre', 'Jaboatão dos Guararapes', 'São Paulo', 'N/D', 'São José do Rio Preto', 'Cuiabá', 'Brasília', 'Petrolina', 'Recife', 'Feira de Santana', 'Rio de Janeiro', 'Campinas', 'Itapicuru', 'Bezerros', 'Vassouras', 'Taboão da Serra', 'Barra do Piraí', 'Belo Horizonte', 'Indaiatuba', 'Cabo Frio', 'Moreno', 'Caiabu', 'São José dos Campos', 'Teresópolis', 'Contagem', 'Presidente Epitácio', 'Hortolândia', 'Brasília', 'Belo Horizonte', 'São Paulo', 'Curitiba', 'Camboriú', 'Brasília', 'São Paulo', 'Petrolina', 'Ribeirão das Neves', 'Passo Fundo', 'Curitiba', 'Abreu e Lima', 'Aparecida de Goiânia', 'Peruíbe', 'Ribeirão Preto', 'Paraíba do Sul', 'São Paulo', 'Recife', 'Ibicuitinga', 'Queimados', 'São Paulo', 'São Paulo', 'Penha', 'São José dos Pinhais', 'Camacari', 'Barra Do Garcas', 'São Paulo', 'São Paulo', 'Rio de Janeiro', 'Campinas', 'São Paulo', 'Morretes', 'Pinheiral', 'Petrolina', 'Poços de Caldas', 'Morretes', 'Boa Vista', 'São Paulo', 'São Luís', 'Brasília', 'Nazaré da Mata', 'São Paulo', 'Ibiporã', 'Conceição do Araguaia', 'Rio Grande', 'Betim', 'Várzea Grande', 'Teresopolis', 'São José do Rio Preto', 'Itaboraí', 'Porto Velho', 'Itapevi', 'Fortaleza', 'Maracanaú', 'Marília', 'Blumenau', 'Campinas', 'Maranguape', 'Curitiba', 'Maringá', 'Fortaleza', 'Vitória', 'Brasília', 'Limeira', 'Campinas', 'Belém', 'Betim', 'João Pinheiro', 'Rio de Janeiro', 'São José de Ribamar', 'Esteio', 'Aracaju', 'Rio de Janeiro', 'São José do Egito', 'Brasília', 'Dois Irmãos', 'Contagem', 'Novo Gama', 'Guarulhos', 'Nova Iguaçu', 'Cubatão', 'Paulista', 'Caraguatatuba', 'Campo Grande', 'Recife', 'Limeira', 'São Roque', 'Guarulhos', 'Areia Branca', 'Uberaba', 'Brasília', 'Franca', 'São José dos Pinhais', 'Joinville', 'Pacatuba', 'Catalão', 'Amparo', 'Guarulhos', 'Brasília', 'São João de Pirabas', 'Lauro Müller', 'Sorocaba', 'Duque de Caxias', 'Jundiaí', 'Caldas Novas', 'Araçatuba', 'Joinville', 'São Paulo', 'Curitiba', 'Tubarão', 'Florianópolis', 'São Bento do Sul', 'Ananindeua', 'Paulista', 'Valinhos', 'Dourados', 'Navegantes', 'Sorocaba', 'Ananindeua', 'Fortaleza', 'Indaiatuba', 'Belo Horizonte', 'Ananindeua', 'Diadema', 'Fortaleza', 'Magé', 'Betim', 'Teresina', 'Sobral', 'Camacari', 'Curitiba', 'Curitiba', 'Balneário Camboriú', 'Florianópolis', 'Campos dos Goytacazes', 'Itumbiara', 'Pederneiras', 'Belo Horizonte', 'Macururé', 'Santana do Livramento', 'Manaus', 'Balneário Piçarras', 'Brasília', 'Araras', 'Caxias do Sul', 'Carapicuíba', 'Rio de Janeiro', 'Rio de Janeiro', 'Limeira', 'Dracena', 'Belford Roxo', 'Belém', 'Maceió', 'Cuiabá', 'São José do Rio Preto', 'São Paulo', 'Rio Das Ostras', 'Florianópolis', 'Porto Alegre', 'Goiânia', 'Boa Esperança', 'Santos', 'Recife', 'Carapicuíba', 'Miguel Pereira', 'Itaporã', 'Salvador', 'Brasília', 'Ananindeua', 'Embu das Artes', 'São João dos Patos', 'Guabiruba', 'Brasília', 'Ribeirão Pires', 'São Paulo', 'Belo Horizonte', 'Goianesia', 'Feira de Santana', 'Eunápolis', 'Manaus', 'Santarém', 'Manaus', 'São Paulo', 'Limeira', 'Sao Pedro Da Aldeia', 'Telêmaco Borba', 'Canela', 'São Paulo', 'Uberlândia', 'Armação dos Búzios', 'Recife', 'Caucaia', 'Rio das Ostras', 'Itaipava', 'Cachoeiro de Itapemirim', 'Bauru', 'Blumenau', 'Hortolândia', 'Rio de Janeiro', 'São Paulo', 'Petrópolis', 'Rio de Janeiro', 'Marília', 'Jacareí', 'São Paulo', 'Itumbiara', 'Campo Grande', 'São José do Rio Preto', 'Campinas', 'Recife', 'Salvador', 'Brasília', 'Batatais', 'Valparaíso', 'Itabuna', 'Santarém', 'Porto Alegre', 'São Paulo', 'Anápolis', 'Vitoria De Santo Antao', 'São Paulo', 'Rio de Janeiro', 'Içara', 'Capela do Alto', 'Rio Negrinho', 'Fortaleza', 'São Paulo', 'Cajamar', 'Marialva', 'Pacoti', 'Peruíbe', 'São Paulo', 'Marabá', 'Mossoró', 'Salvador', 'Marabá', 'Fortaleza', 'São Paulo', 'Curitiba', 'Mossoró', 'Caldas Novas', 'Guaçuí', 'Itaguaí', 'Cáceres', 'Santana da Vargem', 'Itapira', 'Caraguatatuba', 'Aracaju', 'Recife', 'Rio de Janeiro', 'Curitiba', 'São José do Rio Preto', 'Contagem', 'Curitiba', 'Sinop', 'Campinas', 'São Gonçalo', 'São José do Rio Preto', 'Umuarama', 'Foz do Iguaçu', 'Taíba', 'São Mateus', 'São Paulo', 'São José', 'Araranguá', 'Pouso Alegre', 'Mossoró', 'Vitória', 'Nilópolis', 'Curitiba', 'Brasília', 'Francisco Beltrão', 'Cotia', 'Mongaguá', 'Piripiri', 'Barra do Bugres', 'Balneário Rincão', 'Mogi das Cruzes', 'Guarulhos', 'Eldorado do Sul', 'Inhumas', 'Santa Cruz do Rio Pardo', 'São Francisco de Itabapoana', 'Campos dos Goytacazes', 'Osasco', 'São Paulo', 'Pelotas', 'Presidente Epitácio', 'São Paulo', 'Casimiro de Abreu', 'Foz do Iguaçu', 'Sapiranga', 'São Luís', 'Aparecida de Goiânia', 'Queimados', 'Santo André', 'Brusque', 'Cajueiro da Praia', 'São Luís', 'Carambeí', 'Vitória', 'Boa Vista', 'Alegrete', 'Maraú', 'Rio de Janeiro', 'Juiz de Fora', 'Taquaritinga', 'Belém', 'Maracanaú', 'Blumenau', 'Valinhos', 'Goiânia', 'Campo Grande', 'Resende', 'Goiânia', 'Telêmaco Borba', 'Rio de Janeiro', 'Três Rios', 'Penha', 'Santo André', 'Rondon', 'Criciúma', 'Rio de Janeiro', 'Cuiabá', 'Barra Mansa', 'Cotia', 'Serra do Mel', 'Linhares', 'Brasília', 'Goiânia', 'São Paulo', 'Guarulhos', 'Lavras', 'Goiânia', 'Brasília', 'Amparo', 'Petrópolis', 'Campo Grande', 'Brasília', 'Rio de Janeiro', 'Arapiraca', 'Contagem', 'Forquilha', 'São Paulo', 'Paulínia', 'Praia Grande', 'Rio de Janeiro', 'Anchieta', 'Campo Grande', 'São Paulo', 'Fazenda Rio Grande', 'Fortaleza', 'Pontal do Paraná', 'Campo Novo', 'Boa Vista', 'Artur Nogueira', 'Belém', 'Recife', 'Itaquaquecetuba', 'Castanhal', 'Juazeiro', 'Campina Grande', 'Criciúma', 'Campos Belos', 'São Paulo', 'Duque de Caxias', 'São Paulo', 'Paripiranga', 'São Paulo', 'Rio de Janeiro', 'Rio de Janeiro', 'Santa Cruz do Capibaribe', 'São Paulo', 'São Bento do Sul', 'Maringá', 'Mogi das Cruzes', 'Massaranduba', 'Vitória', 'Osasco', 'Cotia', 'Curitiba', 'São Roque', 'Foz do Iguaçu', 'Fortaleza', 'Lagarto', 'Limeira', 'Rio de Janeiro', 'Piedade', 'Piedade', 'Camaçari', 'Osasco', 'Rio de Janeiro', 'Porto Alegre', 'Maracanaú', 'Palmas', 'Telêmaco Borba', 'Sumaré', 'Lages', 'Campo Mourão', 'Alvorada', 'Cabo de Santo Agostinho', 'Brasília', 'Caucaia', 'Sapiranga', 'São Bernardo do Campo', 'Ferraz de Vasconcelos', 'Sorocaba', 'Resende', 'Marica', 'Taquaritinga', 'São Paulo', 'Contagem', 'Belo Horizonte', 'Maceió', 'São Paulo', 'Curitiba', 'Carapicuíba', 'Brasília', 'Curitiba', \"Estrela D'Oeste\", 'Petrolina', 'São Paulo', 'Alagoinhas', 'Maricá', 'Guaratinguetá', 'Eusébio', 'Novo Hamburgo', 'Chapecó', 'Petropolis', 'Eusébio', 'Araguari', 'Angra dos Reis', 'Timbaúba', 'Itaboraí', 'Praia Grande', 'Itaparica', 'Curitiba', 'São Paulo', 'Juazeiro do Norte', 'São Paulo', 'Cambé', 'Jaraguá do Sul', 'Tubarão', 'Goiânia', 'Carpina', 'Maringá', 'Alvorada', 'Atibaia', 'Limeira', 'Imbé', 'Candido Mota', 'Pato Branco', 'Piraquara', 'Brasília', 'Uberaba', 'Rio de Janeiro', 'Campinas', 'Brasília', 'Araranguá', 'Belo Horizonte', 'Indaiatuba', 'Guarapari', 'Teresópolis', 'Macapá', 'Brasília', 'Salvador', 'Porto Alegre', 'Três Rios', 'Aracati', 'Assis', 'Cuiabá', 'Rio Grande', 'Feira de Santana', 'Planaltina', 'Cuiabá', 'São Bernardo do Campo', 'São Paulo', 'Belém', 'Arapongas', 'Araruama', 'Curitiba', 'São Francisco do Sul', 'Jundiaí', 'Primavera do Leste', 'São Paulo', 'Marabá', 'Salvador', 'Curitiba', 'Brasília', 'Ribeirão Pires', 'Rio de Janeiro', 'Curitiba', 'Abaeté', 'Limeira', 'Belem', 'Porto Alegre', 'Várzea Nova', 'Ilhabela', 'Araçatuba', 'Campo Grande', 'Ceará-Mirim', 'Feira de Santana', 'Marília', 'Itabaianinha', 'Fortaleza', 'Santo Agostinho', 'Sorocaba', 'Votorantim', 'Belo Horizonte', 'Piraquara', 'Itapecerica da Serra', 'Birigüi', 'Osasco', 'Nossa Senhora do Socorro', 'Barra Mansa', 'Uberlândia', 'Curitiba', 'Várzea Grande', 'Toledo', 'Eunápolis', 'Guaíra', 'Rio Verde', 'Itaberá', 'Bagé', 'Guarulhos', 'Altamira', 'Luziânia', 'Pindamonhangaba', 'Rio de Janeiro', 'Caratinga', 'Balneário Camboriú', 'Salvador', 'São Paulo', 'Jaboatão dos Guararapes', 'Luziânia', 'Fortaleza', 'São Paulo', 'Nova Iguaçu', 'Brasília', 'Natal', 'Lençóis Paulista', 'Limeira', 'Caraguatatuba', 'Bagé', 'Natal', 'Marília', 'Mogi das Cruzes', 'Olinda', 'Franca', 'Pinhais', 'Assis', 'Porto Seguro', 'Porto Seguro', 'Iturama', 'Mangaratiba', 'Campo Mourão', 'Embu-Guaçu', 'Mossoró', 'Rio de Janeiro', 'Teresina', 'Duque de Caxias', 'São Pedro da Água Branca', 'Curitiba', 'Boa Vista', 'Gurupi', 'Valparaíso de Goiás', 'Patrocínio', 'Rurópolis', 'Manaus', 'São Paulo', 'Portão', 'Almirante Tamandaré', 'Guaratuba', 'Hortolândia', 'Salvador', 'São Paulo', 'Belford Roxo', 'Rio de Janeiro', 'Blumenau', 'Lauro De Freitas', 'Gramado', 'Vassouras', 'Fazenda Rio Grande', 'Bariri', 'Nova Iguaçu', 'Itajaí', 'Macapá', 'Jaboatao Dos Guararapes', 'Joinville', 'Nova Andradina', 'Guarulhos', 'Paulista', 'Santa Cruz Cabrália', 'São Paulo', 'Brasília', 'São Paulo', 'Belém', 'Londrina', 'Caldas Novas', 'São Bernardo do Campo', 'São Paulo', 'Caldas Novas', 'Balneário Barra do Sul', 'Brasília', 'Brasília', 'Joinville', 'Brasília', 'Goiânia', 'Bauru', 'Maceió', 'Santo Antônio do Sudoeste', 'Santa Maria', 'Telêmaco Borba', 'Curitiba', 'Goiânia', 'Itaquaquecetuba', 'Marabá', 'Brasília', 'Araguaína', 'Macapá', 'Londrina', 'Vitória', 'Sabará', 'Aracaju', 'Volta Redonda', 'Petrolina', 'Osório', 'Vitoria Da Conquista', 'Pelotas', 'Fazenda Rio Grande', 'Saquarema', 'São Paulo', 'Ji-Paraná', 'Natal', 'Rio de Janeiro', 'Maringá', 'Manaus', 'Anápolis', 'Petrópolis', 'Campo Grande', 'Uberlândia', 'Castanhal', 'Blumenau', 'Belo Horizonte', 'Gramado', 'Minas Novas', 'Bezerros', 'Araguaína', 'Tucuruí', 'São Paulo', 'São Paulo', 'Ananindeua', 'Eusébio', 'Concórdia', 'Colombo', 'Embu das Artes', 'Fortaleza', 'Osasco', 'Foz do Iguaçu', 'Guarapari', 'Uberlândia', 'São José dos Campos', 'Goiânia', 'Manaus', 'Aracaju', 'Araguari', 'Curitiba', 'São Luís', 'Feira de Santana', 'São Paulo', 'Imperatriz', 'Planaltina', 'Fortaleza', 'Recife', 'Itajaí', 'Sorocaba', 'Cortês', 'João Pessoa', 'Petrópolis', 'Brasília', 'Santarém', 'São Paulo', 'São Paulo', 'Contagem', 'Paracuru', 'São Paulo', 'Goiânia', 'Muriaé', 'Rio de Janeiro', 'Santo André', 'Curitiba', 'Porto Velho', 'Natal', 'Coaraci', 'Manaus', 'Itatiaia', 'Goiânia', 'Piracicaba', 'Toledo', 'Canoas', 'Ibirá', 'Nova Iguaçu', 'Recife', 'Pirassununga', 'Salinas', 'Bauru', 'Itapetininga', 'São Paulo', 'Lençóis Paulista', 'Guarulhos', 'Ilha de Itamaracá', 'Forquilhinha', 'Osasco', 'Londrina', 'São Gonçalo', 'Martinópolis', 'Maceió', 'Angical', 'São Paulo', 'São Luís', 'Nova Iguaçu', 'Fortaleza', 'Bento Gonçalves', 'Petrópolis', 'Uberlândia', 'Ilhéus', 'Janiópolis', 'Rio de Janeiro', 'Miracema', 'Salvador', 'Curitiba', 'São Paulo', 'Salvador', 'Fortaleza', 'São Paulo', 'Vera Cruz', 'Rio de Janeiro', 'Olimpia', 'Peruíbe', 'Teresina', 'Passo Fundo', 'Brasília', 'Pindamonhangaba', 'Nova Lima', 'Maringá', 'Queimados', 'Brasília', 'Sorocaba', 'Camacari', 'Monte Mor', 'Santana de Parnaíba', 'Urutaí', 'Anápolis', 'Manaus', 'Balneário Pinhal', 'Garopaba', 'Itu', 'Novo Hamburgo', 'Fortaleza', 'Mogi das Cruzes', 'Lages', 'Viamão', 'Nova Odessa', 'Maceió', 'Brasília', 'Ilha de Itamaracá', 'São Paulo', 'Santa Maria', 'São Paulo', 'Guaratinguetá', 'Natal', 'São Paulo', 'Rio De Janeiro', 'São Paulo', 'Jaboatão dos Guararapes', 'São Bernardo do Campo', 'Bonito', 'Imaruí', 'Vila Velha', 'Belém', 'Macaé', 'Goiatuba', 'Dracena', 'Maceió', 'Presidente Getúlio', 'Vespasiano', 'Brasília', 'Rondonópolis', 'Vespasiano', 'Paulista', 'Mairipora', 'Anápolis', 'Itapira', 'Goiânia', 'São José dos Pinhais', 'Raposos', 'Vicosa', 'Jaguariuna', 'Joinville', 'São Paulo', 'Taquara', 'Conselheiro Lafaiete', 'Goianésia', 'Conceição do Jacuípe', 'Castanhal', 'São Miguel do Oeste', 'Peruíbe', 'Sabará', 'Lauro de Freitas', 'Blumenau', 'Osasco', 'Curitiba', 'Blumenau', 'Rio de Janeiro', 'Valparaíso de Goiás', 'Macaé', 'Ipiaú', 'Belo Horizonte', 'Goiânia', 'São Paulo', 'Mossoró', 'Itajaí', 'Rio de Janeiro', 'São Paulo', 'Céu Azul', 'Taubaté', 'Mossoró', 'Domiciano Ribeiro', 'Teresópolis', 'Cascavel', 'Marcolândia', 'Mococa', 'Bragança Paulista', 'Santa Cruz do Sul', 'São Paulo', 'Goiatuba', 'Balneário Camboriú', 'Cambé', 'Brasília', 'Paranaguá', 'Garça', 'Goiânia', 'Cornélio Procópio', 'Dracena', 'São Carlos', 'Salvador', 'Piranhas', 'São Paulo', 'Araucária', 'Salvador', 'São José', 'Maceió', 'Itumbiara', 'Araxá', 'Salvador', 'Piranhas', 'Mendes', 'Palmas', 'Ananindeua', 'Dourados', 'Caroba', 'São João Del Rei', 'Suzano', 'Sao Caetano Do Sul', 'Brasília', 'Massaranduba', 'Aparecida do Taboado', 'Petrópolis', 'São José do Rio Claro', 'Peruíbe', 'Serra', 'Patos de Minas', 'Alta Floresta', 'Ananindeua', 'Vargem Grande Paulista', 'Poços de Caldas', 'Duque De Caxias', 'Araçatuba', 'Brasília', 'São Paulo', 'Foz do Iguaçu', 'Brasília', 'Feira De Santana', 'Salvador', 'Pelotas', 'Chapecó', 'Porto Alegre', 'Brasília', 'Garanhuns', 'Guarujá', 'Canoas', 'Cândido Sales', 'Curitiba', 'Rio de Janeiro', 'Natal', 'Manaus', 'Camboriú', 'Curitiba', 'Balneário Camboriú', 'Duque de Caxias', 'Presidente Prudente', 'Uberaba', 'Palmas', 'São Paulo', 'Barra Seca', 'Uba', 'Salvador', 'Belém', 'Aracaju', 'Ponta Grossa', 'Navegantes', 'Rio de Janeiro', 'Brasília', 'Cariacica', 'Teresina', 'Tremembé', 'Estancia Velha', 'Joinville', 'Rio de Janeiro', 'Curitiba', 'Rio de Janeiro', 'Boituva', 'Indaiatuba', 'Taboão da Serra', 'Pinhais', 'Nova Iguaçu', 'Rio de Janeiro', 'Sapiranga', 'São José dos Campos', 'Jaraguá do Sul', 'São Paulo', 'Mossoró', 'Cariacica', 'Jaboatao Dos Guararapes', 'Tupi Paulista', 'Juazeiro', 'Alto Castelinho', 'Embu das Artes', 'Avelar', 'Rio de Janeiro', 'Osasco', 'São Paulo', 'Gonçalves', 'Lagarto', 'Itacimirim', 'São Carlos', 'São Paulo', 'Maringá', 'Poá', 'Aracati', 'Camocim de São Félix', 'Porto Seguro', 'Papagaios', 'Caruaru', 'São Paulo', 'Bombinhas', 'São Caetano do Sul', 'Vila Velha', 'São José dos Pinhais', 'Sapiranga', 'Águas de Lindóia', 'Barra Mansa', 'Toledo', 'Florianópolis', 'Sorriso', 'Goiânia', 'Itanhaém', 'Rio de Janeiro', 'Eusébio', 'Paulo Afonso', 'Ilha de Itamaracá', 'São Paulo', 'Rio de Janeiro', 'São Carlos', 'Rio Branco', 'São Paulo', 'Saquarema', 'Cascavel', 'Rio de Janeiro', 'Brejo Santo', 'São José', 'Ibiporã', 'Dianópolis', 'Olinda', 'Itajaí', 'Santa Maria', 'Uberlândia', 'Porto Alegre', 'São Paulo', 'Rio Largo', 'Feira de Santana', 'Barra de São Francisco', 'São José', 'Brotas', 'São Luís', 'Águas Lindas de Goiás', 'Rio de Janeiro', 'São João Del Rei', 'Armação dos Búzios', 'Vila Velha', 'São Paulo', 'Aracaju', 'Serra', 'São Paulo', 'Foz do Iguaçu', 'Serra', 'Santo André', 'Rio de Janeiro', 'Valença', 'Canoas', 'Sao Luis', 'Cataguases', 'Florianópolis', 'São Gonçalo', 'Campo Grande', 'Itaguaí', 'Capão do Leão', 'São José do Rio Preto', 'Palmas', 'Claraval', 'Brasília', 'Boa Vista', 'Caxias do Sul', 'Niterói', 'Brasília', 'Porto Alegre', 'Curitiba', 'Valparaíso de Goiás', 'Curitiba', 'Araras', 'Uberlândia', 'Duque de Caxias', 'Maricá', 'Caraguatatuba', 'Sertanópolis', 'Uchoa', 'São Paulo', 'Rio de Janeiro', 'São Paulo', 'Franca', 'Indaiatuba', 'Niterói', 'Campo Grande', 'Teixeira De Freitas', 'Blumenau', 'Pinhais', 'Mata', 'Assis', 'Barretos', 'Aparecida de Goiânia', 'São Paulo', 'Manaus', 'Rio De Janeiro', 'Guarujá', 'Belém', 'Joinville', 'Quatá', 'Araras', 'São Paulo', 'Gramado', 'Itapevi', 'Navegantes', 'Belo Horizonte', 'Rio Negro', 'São Vicente', 'Paulista', 'Piracicaba', 'Belford Roxo', 'Taquaraçu de Minas', 'Salto', 'Venâncio Aires', 'Nova Friburgo', 'Arraial do Cabo', 'Arraial do Cabo', 'São Paulo', 'Palhoça', 'São Paulo', 'São Paulo', 'Caldas Novas', 'Itaperuçu', 'Maricá', 'Cajamar', 'Serra', 'São Gonçalo', 'Nova Iguaçu', 'Jequie', 'Itabuna', 'Ilhéus', 'Rio de Janeiro', 'Mococa', 'Londrina', 'Mogi das Cruzes', 'Poços de Caldas', 'Aparecida', 'Joinville', 'Adamantina', 'Vargem Grande Paulista', 'Diadema', 'Curitiba', 'São Paulo', 'Adamantina', 'Salvador', 'Florianópolis', 'Astorga', 'Serra do Mel', 'São Paulo', 'Santana de Parnaíba', 'Palhoça', 'Salvador', 'Aracaju', 'Ituiutaba', 'Rio de Janeiro', 'São Paulo', 'Itaquaquecetuba', 'Campinas', 'Londrina', 'Parajuru', 'Rondonópolis', 'Ribeirão Preto', 'Macapá', 'Toledo', 'Londrina', 'João Pessoa', 'Manaus', 'Entre Rios', 'Porto Alegre', 'Jaboatão dos Guararapes', 'Petrópolis', 'São Carlos', 'Pracinha', 'Campinas', 'Fazenda Rio Grande', 'Torre de Pedra', 'Brasília', 'Recife', 'Governador Valadares', 'Botucatu', 'Lontras', 'Toledo', 'Atibaia', 'Brasília', 'Camacari', 'Sarzedo', 'Porto Alegre', 'Natal', 'Fortaleza', 'Rio de Janeiro', 'Mogi Mirim', 'Palmas', 'Manaus', 'Taubaté', 'Brasília', 'Salto', 'Campo Largo', 'Porto Alegre', 'Maricá', 'Campina Grande', 'Aracaju', 'Cuiabá', 'Nova Friburgo', 'Porto Alegre', 'Porto Seguro', 'Tatuí', 'Aracaju', 'Congonhas', 'Brasília', 'Campina Grande', 'Dois Vizinhos', 'Marabá', 'Marechal Cândido Rondon', 'Carapicuíba', 'São Caetano do Sul', 'Pompéia', 'Serra', 'Niterói', 'Rio de Janeiro', 'Brasília', 'São Paulo', 'Eusébio', 'Macaé', 'Esteio', 'Curitiba', 'São Paulo', 'Uberlândia', 'Fortaleza', 'São Paulo', 'Embu das Artes', 'Cuiabá', 'Caldas Novas', 'Maringá', 'João Pessoa', 'Vitória da Conquista', 'Vila Velha', 'Curitiba', 'Rio de Janeiro', 'Extrema', 'Natal', 'Itaboraí', 'Rio de Janeiro', 'Aracaju', 'Guamaré', 'Montes Claros', 'Pindamonhangaba', 'Maranguape', 'Luís Eduardo Magalhães', 'São Paulo', 'Jaboatão dos Guararapes', 'Várzea Grande', 'Anchieta', 'Teresópolis', 'Marechal Floriano', 'São Paulo', 'Dourados', 'Curitiba', 'Caldas Novas', 'Ilhéus', 'Piracaia', 'Curitiba', 'Sao Bento Do Sul', 'Curitiba', 'Salvador', 'Caraguatatuba', 'Rio Claro', 'Rio de Janeiro', 'Recife', 'Maceió', 'Porto Alegre', 'Magé', 'Leopoldo de Bulhões', 'Caraguatatuba', 'Petrolina', 'Natal', 'Fortaleza', 'Maceió', 'São José dos Campos', 'Ponta Grossa', 'Águas Lindas de Goiás', 'Fortaleza', 'São Mateus', 'Turvo', 'Joinville', 'Goiânia', 'Maceió', 'Belo Horizonte', 'Porto Seguro', 'Salvador', 'Serra', 'Maceió', 'Poá', 'São Paulo', 'Recife', 'Nova Iguaçu', 'Franca', 'Pontalina', 'Recife', 'Barretos', 'São Paulo', 'Campinas', 'Balneário Piçarras', 'Rio de Janeiro', 'João Pinheiro', 'Caucaia', 'Brusque', 'Formosa', 'Duque de Caxias', 'Osório', 'São Paulo', 'Barueri', 'Macatuba', 'Serra', 'Queimadas', 'Campo Grande', 'Brasília', 'Criciúma', 'Vitória da Conquista', 'Magé', 'Duque de Caxias', 'Porto Velho', 'São José dos Pinhais', 'São Paulo', 'São José dos Pinhais', 'São José dos Pinhais', 'Sorocaba', 'Uba', 'Itaboraí', 'Aracruz', 'Brasília', 'Itapeva', 'Maraú', 'Desemboque', 'Cabo Frio', 'Campo Belo', 'Patos', 'Apucarana', 'Jacareí', 'São Paulo', 'São Paulo', 'Canoas', 'Mogi das Cruzes', 'Cabedelo', 'Jataí', 'São Paulo', 'Maringá', 'Dourados', 'Goiânia', 'São Paulo', 'Brusque', 'Primavera', 'São José dos Campos', 'Vitória de Santo Antão', 'Bertioga', 'Toritama', 'Belém', 'Maricá', 'São Paulo', 'Xaxim', 'Paulo Afonso', 'Rio de Janeiro', 'Paranaguá', 'Rio Claro', 'São Paulo', 'Arraial do Cabo', 'Foz do Iguaçu', 'São Paulo', 'Goiânia', 'Jandira', 'Piraquara', 'Piumhi', 'Cabo de Santo Agostinho', 'Campina Grande', 'Paranaguá', 'Franco da Rocha', 'São Leopoldo', 'Barreiras', 'Campo Grande', 'Uberlândia', 'Rio de Janeiro', 'Rio de Janeiro', 'Ferraz de Vasconcelos', 'Rio de Janeiro', 'Cruzeiro', 'Indaiatuba', 'Curitiba', 'Nova Iguaçu', 'Fortaleza', 'Mossoró', 'Ubatuba', 'Salvador', 'Fortaleza', 'Rio de Janeiro', 'São Gonçalo', 'Rio de Janeiro', 'Natal', 'Parnamirim', 'Assis Chateaubriand', 'Mogi das Cruzes', 'São Paulo', 'Curitiba', 'Mogi das Cruzes', 'São Paulo', 'Canoas', 'Rio de Janeiro', 'Fortaleza', 'Glória', 'Tucuruí', 'Fortaleza', 'Curitiba', 'Barueri', 'Santo André', 'Rio De Janeiro', 'Campos dos Goytacazes', 'Campinas', 'Castanhal', 'Indaiatuba', 'Itapevi', 'Miracema', 'Recife', 'São Pedro da Aldeia', 'Santo Antônio do Tauá', 'Brasília', 'Porto Velho', 'Leopoldo de Bulhões', 'Brasília', 'Maceió', 'Osasco', 'São Paulo', 'Foz do Iguaçu', 'Araraquara', 'Camboriú', 'Limeira', 'Niterói', 'Salvador', 'Curitiba', 'Itupeva', 'Guarulhos', 'Itapevi', 'Juazeiro', 'Osasco', 'São Paulo', 'Imperatriz', 'Itumbiara', 'Caieiras', 'Curitiba', 'Blumenau', 'São Carlos', 'Ananindeua', 'Campinas', \"Santa Bárbara D'Oeste\", 'Presidente Epitácio', 'Santiago', 'São Paulo', 'São Gonçalo', 'Rio de Janeiro', 'Fortaleza', 'Itumbiara', 'Ponta Grossa', 'General Carneiro', 'Cuiabá', 'João Pessoa', 'Valinhos', 'São Paulo', 'Rio de Janeiro', 'Vitória da Conquista', 'Marechal Deodoro', 'Florianópolis', 'Itaberá', 'Nova Campina', 'Rio Branco', 'São Bernardo do Campo', 'Ribeirão Preto', 'Rio das Ostras', 'Campinas', 'Governador Valadares', 'Aracaju', 'São Paulo', 'Brasília', 'Votuporanga', 'Maceió', 'Curitiba', 'Betim', 'Pederneiras', 'Brasília', 'Serra', 'Ilhéus', 'Parnamirim', 'Cruzeiro', 'Guarulhos', 'Manaus', 'Rio de Janeiro', 'Muriaé', 'Camaçari', 'Rio de Janeiro', 'Vitória da Conquista', 'Pindamonhangaba', 'São Gonçalo', 'Socorro', 'Fortaleza', 'Brasília', 'Caraguatatuba', 'Tucuruí', 'Colatina', 'Curvelo', 'Brasília', 'Florianópolis', 'Duque de Caxias', 'São Luís', 'São Paulo', 'Caxias', 'Recife', 'São Paulo', 'Teresina', 'Joinville', 'Rio de Janeiro', 'Rio de Janeiro', 'Indaiatuba', 'Aracaju', 'Juiz de Fora', 'Barra Mansa', 'Rio de Janeiro', 'Salvador', 'Londrina', 'Vargem Grande Paulista', 'São Paulo', 'Taubaté', 'Fortaleza', 'Manaus', 'São Paulo', 'São Paulo', 'Brodowski', 'São Bernardo do Campo', 'Boa Vista', 'Camacari', 'Cotia', 'Belém', 'Pirassununga', 'Esteio', 'Parnamirim', 'Londrina', 'Estreito', 'Resende', 'Ananindeua', 'Ji-Paraná', 'Vitória', 'Presidente Médici', 'Caxias do Sul', 'Camacari', 'Rio de Janeiro', 'Içara', 'São Paulo', 'Campinas', 'Santa Cruz Cabrália', 'Diadema', 'Manaus', 'Jequié', 'Paraíso do Tocantins', 'Caraguatatuba', 'Itumbiara', 'Valinhos', 'Conceição de Macabu', 'Cariacica', 'Fazenda Rio Grande', 'Lorena', 'Pato Branco', 'Glória do Goitá', 'Suzano', 'Colatina', 'Boa Vista', 'São Leopoldo', 'Assis', 'Porto Alegre', 'Campo Grande', 'Promissão', 'São Paulo', 'Goiânia', 'Joao Pessoa', 'Aguas Lindas De Goias', 'Brasília', 'Palhoça', 'Manaus', 'Niterói', 'Belo Horizonte', 'Foz do Iguaçu', 'Pato Branco', 'Três Lagoas', 'Nova Odessa', 'São Gonçalo', 'Ananindeua', 'Mesquita', 'Juiz de Fora', 'Juazeiro do Norte', 'Aracaju', 'Maringá', 'Orobó', 'Maringá', 'Rio de Janeiro', 'Recife', 'Fortaleza', 'Goianápolis', 'Bertioga', 'São João da Boa Vista', 'Anápolis', 'Duque de Caxias', 'Macapá', 'Cajuru', 'Itaboraí', 'Guaratinguetá', 'Cambé', 'Vila Velha', 'São Paulo', 'Parapuã', 'Pouso Alegre', 'Cascavel', 'São Paulo', 'Schroeder', 'São Paulo', 'Goiânia', 'Araquari', 'Curitiba', 'Juazeiro do Norte', 'Campinas', 'Boa Vista', 'São Gonçalo', 'Rio Verde', 'Brasília', 'Primavera do Leste', 'Rio de Janeiro', 'Tucuruí', 'Sao Luis', 'Recife', 'Rio de Janeiro', 'Gandu', 'Águas Lindas de Goiás', 'Marília', 'Curitiba', 'Santa Rita', 'Volta Redonda', 'Lajeado', 'Pinhais', 'São Paulo', 'Rio Branco', 'Ponta Grossa', 'Duque de Caxias', 'Mossoró', 'Brusque', 'Piúma', 'Recife', 'Itu', 'Canoas', 'São Miguel do Oeste', 'Pato Branco', 'Feira de Santana', 'Mineiros', 'Caçador', 'Uberaba', 'São João de Meriti', 'São Caetano do Sul', 'Paulista', 'Rio de Janeiro', 'Itajaí', 'São Carlos', 'Santo Antonio De Jesus', 'Silvanópolis', 'Mogi das Cruzes', 'Salvador', 'São Paulo', 'Serra', 'Cabo Frio', 'Itapecerica da Serra', 'Curitiba', 'Caraguatatuba', 'Itatiaia', 'Brasília', 'Niterói', 'Rio Claro', 'Brasília', 'Ji-Paraná', 'Belo Horizonte', 'Recife', 'Jaraguá do Sul', 'São José dos Campos', 'Osasco', 'Vinhedo', 'Colombo', 'São João de Meriti', 'Rio de Janeiro', 'Juazeiro', 'Humildes', 'Araruama', 'Fortaleza', 'Maceió', 'Assis', 'Jaú', 'Rio de Janeiro', 'Juiz de Fora', 'Salvador', 'Batatais', 'Eunápolis', 'Florianópolis', 'Brasília', 'Vinhedo', 'Recife', 'Niterói', 'Olinda', 'Jandira', 'Barreiras', 'São Paulo', 'Fortaleza', 'Americana', 'Brasília', 'São Bernardo do Campo', 'São Joaquim da Barra', 'Carapicuíba', 'Juazeiro', 'São José dos Campos', 'São Paulo', 'São Paulo', 'Ubatuba', 'São Bernardo do Campo', 'Vespasiano', 'Petrópolis', 'Paracuru', 'Goiânia', 'Goiânia', 'São Pedro da Aldeia', 'Ilhéus', 'Rio de Janeiro', 'São Paulo', 'Nova Iguaçu', 'Paracambi', 'Telêmaco Borba', 'Maringá', 'Américo Brasiliense', 'Sinop', 'Belford Roxo', 'São Paulo', 'João Monlevade', 'Teresina', 'Garça', 'Palmas', 'São Gonçalo', 'São Paulo', 'Araruama', 'Cianorte', 'Mirassol', 'Porto Alegre', 'Rio de Janeiro', 'Cascavel', 'Farroupilha', 'Rio Branco do Sul', 'Sorocaba', 'Juiz de Fora', 'Viamao', 'Recife', 'Porto Seguro', 'Aracaju', 'Brasilia', 'Porto Velho', 'Taubaté', 'Rio Branco', 'Rio de Janeiro', 'Guaratinguetá', 'Itapevi', 'Franca', 'Jandira', 'Mogi das Cruzes', 'Americana', 'Nova Iguaçu', 'Belém', 'Bofete', 'São Paulo', 'São Paulo', 'Belo Horizonte', 'Belém', 'São Paulo', 'Petrópolis', 'Uberlândia', 'João Pessoa', 'Maceió', 'Serra Talhada', 'Toledo', 'São Paulo', 'Osasco', 'Ananindeua', 'Itajaí', 'Brusque', 'São Bernardo do Campo', 'Brasília', 'São Paulo', 'Limeira', 'Barra Do Garcas', 'Cuiabá', 'Santa Maria', 'Campos dos Goytacazes', 'Ilhabela', 'Ilhabela', 'São Paulo', 'Ilhabela', 'Fortaleza', 'Joinville', 'Mauá', 'Natal', 'São Gonçalo', \"Nova Brasilândia D'Oeste\", 'Campo Grande', 'Araçatuba', 'Toledo', 'Rondon', 'Itabaiana', 'Cosmópolis', 'Erechim', 'Sao Leopoldo', 'Itaberá', 'Toledo', 'Fundão', 'Guarulhos', 'São Paulo', 'Macaíba', 'Rio de Janeiro', 'Brasília', 'Salvador', 'Vitória da Conquista', 'Jaú', 'Cascavel', 'Pilar', 'Brusque', 'Rio de Janeiro', 'Senhora dos Remédios', 'Curitiba', 'Maringá', 'Cachoeira de Minas', 'Marituba', 'Horizonte', 'São Caetano do Sul', 'São Paulo', 'Urandi', 'Presidente Prudente', 'Camacari', 'Parambu', 'Londrina', 'Brasília', 'Feira de Santana', 'Itajaí', 'São Paulo', 'Sirinhaém', 'Aracaju', 'Uberlândia', 'Vitória da Conquista', 'Jequié', 'Belém', 'Maceió', 'Cabo de Santo Agostinho', 'Rio de Janeiro', 'Linhares', 'Belford Roxo', 'Rio de Janeiro', 'Nova Friburgo', 'Maricá', 'Rio de Janeiro', 'Rio de Janeiro', 'Fortaleza', 'Manaus', 'São Paulo', 'Tucuruí', 'Uberlandia', 'Campo Grande', 'Suzano', 'Mata de São João', 'Manaus', 'Alfenas', 'Foz do Iguaçu', 'Palmas', 'Rio Grande', 'Grajaú', 'Rio de Janeiro', 'Nova Andradina', 'Cachoeiro de Itapemirim', 'Diamantina', 'Brasília', 'Fortaleza', 'Santa Luzia', 'Gravataí', 'Belo Horizonte', 'São José', 'Curitiba', 'São Paulo', 'Ponta Grossa', 'Rio de Janeiro', 'Rio de Janeiro', 'Palhoça', 'Elias Fausto', 'Fortaleza', 'Rio de Janeiro', 'Goianésia', 'Florianópolis', 'Itapecerica da Serra', 'Rio de Janeiro', 'Braço do Norte', 'Rio de Janeiro', 'Valparaíso de Goiás', 'São João da Boa Vista', 'Itabira', 'Teresina', 'Aracaju', 'São José de Ribamar', 'Cosmopolis', 'Pinhais', 'Porto Velho', 'São João de Meriti', 'Blumenau', 'Uberlândia', 'Osasco', 'Brasília', 'Muriaé', 'Feira de Santana', 'Itaboraí', 'Feira Nova do Maranhão', 'Franca', 'Açu', 'Macapá', 'Teresópolis', 'Vitória', 'Brasilândia do Sul', 'Piraquara', 'Goiânia', 'Contagem', 'Rio Branco', 'Arauá', 'Machado', 'Rio de Janeiro', 'Brasília', 'Campo Grande', 'Belém', 'Porto Alegre', 'Ibituruna', 'Palmeira dos Índios', 'Itumbiara', 'Lajeado', 'São Paulo', 'Timon', 'Goiana', 'Niterói', 'Macaíba', 'Natal', 'Feira de Santana', 'Rio Grande da Serra', 'Cachoeiro de Itapemirim', 'Belém', 'São Luís', 'Vitória', 'Foz do Iguaçu', 'Ipubi', 'Lauro De Freitas', 'São Paulo', 'Rio Grande', 'Cordeiro', 'Itabuna', 'Cruz Alta', 'Salvador', 'Lauro de Freitas', 'Itabirito', 'Vargem Grande Paulista', 'Palmas', 'São Gonçalo', 'São Paulo', 'Jandira', 'Juiz de Fora', 'São Paulo', 'Bragança Paulista', 'Rio de Janeiro', 'Diadema', 'Palmas', 'Goiânia', 'Itaboraí', 'Rio de Janeiro', 'Araucária', 'Diadema', 'Nova Friburgo', 'Magé', 'Itu', 'Uberlândia', 'Santos', 'Caruaru', 'Paulista', 'Ribeirão Branco', 'Porto Alegre', 'Feira de Santana', 'São Paulo', 'Santiago', 'Feira de Santana', 'Criciúma', 'Araquari', 'São José dos Pinhais', 'Serra', 'Campina Grande', 'São José dos Campos', 'Brasília', 'Juiz de Fora', 'Santo Antônio de Jesus', 'Aracaju', 'Santo Antônio de Jesus', 'São Paulo', 'Itu', 'Goiânia', 'São Gonçalo', 'São Paulo', 'Telêmaco Borba', 'Porto Feliz', 'São Paulo', 'Caucaia', 'Matozinhos', 'Manaus', 'Bombinhas', 'São José', 'Balneário Camboriú', 'Itaquaquecetuba', 'Cornélio Procópio', 'São Paulo', 'Brasília', 'Imbituba', 'Osasco', 'Aramari', 'Almirante Tamandaré', 'Guarulhos', 'Guararapes', 'São Paulo', 'Camboriu', 'Porto Alegre', 'Nova Iguaçu', 'Joinville', 'Santana de Parnaíba', 'Bragança Paulista', 'São Luís', 'Londrina', 'Jarinu', 'Rio de Janeiro', 'Fortaleza', 'São Paulo', 'Batatais', 'Hidrolândia', 'Itajaí', 'Macaé', 'Campo Bom', 'Ituiutaba', 'Campo Grande', 'Corumbá', 'Toledo', 'Ponta Grossa', 'Rondonópolis', 'Viamão', 'Rio de Janeiro', 'Porto Alegre', 'Barueri', 'Macatuba', 'Brasília', 'São Paulo', 'Natal', 'Uberlândia', 'Brasília', 'Unaí', 'Rio de Janeiro', 'Fortaleza', 'Amparo', 'Macapá', 'Rio de Janeiro', 'Londrina', 'Arraial do Cabo', 'Santa Maria', 'São João de Meriti', 'Rio de Janeiro', 'Florianópolis', 'São Paulo', 'Rio Verde', 'Santo Antônio do Descoberto', 'São João Del Rei', 'Colina', 'Anápolis', 'Ilhéus', 'Maringá', 'Armação dos Búzios', 'São José dos Pinhais', 'Diadema', 'Uberaba', 'Curitiba', 'Capela do Alto', 'Almirante Tamandaré', 'São Paulo', 'Belém', 'Petrópolis', 'Joinville', 'Sertanópolis', 'Mogi das Cruzes', 'Ribeirão Pires', 'São Leopoldo', 'Itapeva', 'Nova Iguaçu', 'São Paulo', 'Itumbiara', 'Serra', 'Alfenas', 'Campinas', 'Guarujá', 'Manaus', 'Rio de Janeiro', 'Pires do Rio', 'Brasília', 'Guaraniaçu', 'São José', 'Tubarão', 'Barretos', 'Itapira', 'Dracena', 'Natal', 'Itu', 'Biguaçu', 'Rio de Janeiro', 'Rio Verde', 'Feira de Santana', 'Feira de Santana', 'Mongaguá', 'João Pessoa', 'Goiânia', 'Jundiaí', 'Joinville', 'Brasília', 'Santo André', 'Volta Redonda', 'Rio De Janeiro', 'Mogi das Cruzes', 'Braúna', 'Chapecó', 'Vitória', 'Barueri', 'Rio de Janeiro', 'Joinville', 'Limeira', 'Foz do Iguaçu', 'Montividiu', 'Porto Alegre', 'São Paulo', 'Barretos', 'São Paulo', 'Igarassu', 'Juruaia', 'Bragança Paulista', 'Curitiba', 'São Bernardo do Campo', 'Rio de Janeiro', 'Timbó', 'Tucuruí', 'Mirandópolis', 'Rio de Janeiro', 'Joinville', 'Anápolis', 'São Paulo', 'Vitória de Santo Antão', 'Belo Horizonte', 'Niterói', 'Maringá', 'Brasília', 'Rio de Janeiro', 'Rio de Janeiro', 'Aracaju', 'Sertãozinho', 'Luz', 'Santos', 'Porto Alegre', 'Joanópolis', 'Campo Grande', 'Rio de Janeiro', 'São Paulo', 'Açu', 'Salvador', 'Colombo', 'Pompéia', 'Mossoro', 'São Gonçalo', 'Baianopolis', 'Bauru', 'São Paulo', 'Santa Cruz do Capibaribe', 'Cachoeira Paulista', 'Brasília', 'Franco da Rocha', 'Campinas', 'Feira de Santana', 'Campos do Jordão', 'Igaraçu do Tietê', 'Olímpia', 'Campo Limpo Paulista', 'Caçapava', 'Guarulhos', 'Caçapava', 'Jundiaí', 'Barueri', 'Blumenau', 'São Paulo', 'Embu das Artes', 'Itapeva', 'Americana', 'Santana', 'São Joaquim de Bicas', 'São Paulo', 'Campinas', 'Jacarezinho', 'Caraguatatuba', 'Arraial do Cabo', 'Brasilia', 'Porto Alegre', 'Cidade Ocidental', 'Caçapava', 'Araraquara', 'Botucatu', 'São Carlos', 'Mossoró', 'Adamantina', 'Porto Ferreira', 'São Carlos', 'Brasília', 'Salvador', 'Rio de Janeiro', 'Goiânia', 'Curiúva', 'Jequié', 'Bebedouro', 'Vitória da Conquista', 'Mateus Leme', 'Pederneiras', 'Alvorada', 'Manaus', 'Conselheiro Lafaiete', 'Sabará', 'São Gonçalo', 'São Paulo', 'São Paulo', 'Olinda', 'Anapolis', 'Eunápolis', 'Maceio', 'Rondonópolis', 'Guarulhos', 'Cuiabá', 'Petrópolis', 'Campo Bom', 'Barroso', 'Rio de Janeiro', 'Ribeirão', 'Araçatuba', 'Porto Alegre', 'São Paulo', 'Rio de Janeiro', 'Belo Horizonte', 'São Paulo', 'Várzea Grande', 'Itajubá', 'Foz do Iguaçu', 'Caçador', 'Osasco', 'Caçapava', 'Rio de Janeiro', 'Manaus', 'São Francisco do Sul', 'Curitiba', 'Itapevi', 'Petrópolis', 'Laje', 'São Paulo', 'Indaial', 'Bagé', 'Timbó', 'Natal', 'Rio de Janeiro', 'Contagem', 'São Sebastião', 'Boa Vista', 'Goiânia', 'São Luís', 'Rio de Janeiro', 'Vila Velha', 'Maceió', 'Macapá', 'Olinda', 'São Paulo', 'Cianorte', 'Araçatuba', 'Porto Alegre', 'Araquari', 'Itabaiana', 'Criciúma', 'Caraguatatuba', 'São Sebastião', 'Cerquilho', 'Porto Alegre', 'Brasília', 'Nova Friburgo', 'Itumirim', 'Diadema', 'Rio Negrinho', 'Barretos', 'Ilhéus', 'São Paulo', 'Curitiba', 'Penapolis', 'Barreiras', 'Duque de Caxias', 'Vila Velha', 'Indaiatuba', 'Guarapuava', 'Macapá', 'Rio de Janeiro', 'Telêmaco Borba', 'Belo Horizonte', 'São Paulo', 'Contagem', 'São Gonçalo', 'Osasco', 'Sorocaba', 'Goiânia', 'Toledo', 'Imbituba', 'Manaus', 'Rio de Janeiro', 'Santa Gertrudes', 'São Gonçalo', 'Colombo', 'São Paulo', 'São Paulo', 'Rio de Janeiro', 'Ribeirão Preto', 'Rio de Janeiro', 'Taubaté', 'Luís Eduardo Magalhães', 'Itajaí', 'Nova Friburgo', 'Duque de Caxias', 'Duque de Caxias', 'Caxias do Sul', 'Varginha', 'Campinas', 'Mafra', 'Franco da Rocha', 'Campanha', 'Dracena', 'Ouro Branco', 'Goiatuba', 'São Paulo', 'Natal', 'Alegrete', 'Morretes', 'Conquista', 'Sao Leopoldo', 'Registro', 'Águas Lindas de Goiás', 'Três Lagoas', 'Vila Velha', 'Piraí', 'Goiânia', 'Porto Alegre', 'Bento Gonçalves', 'Curitiba', 'Cascavel', 'Barueri', 'Jaú', 'Cachoeirinha', 'Pompéu', 'São Paulo', 'Palmas', 'Curiúva', 'Manaus', 'Recife', 'Recife', 'Rondonópolis', 'Santa Cruz do Sul', 'Três Lagoas', 'Canela', 'Goiânia', 'Cariacica', 'Valinhos', 'Juazeiro do Norte', 'Toledo', 'Porto Alegre', 'Uberaba', 'São Caetano do Sul', 'São Gonçalo', 'Governador Valadares', 'Rio de Janeiro', 'Itabuna', 'Santo Antônio de Jesus', 'Campina Grande do Sul', 'Recife', 'Brasília', 'Anápolis', 'Recife', 'Niterói', 'Cruz Alta', 'Fortaleza', 'Salvador', 'Salvador', 'Santo André', 'Primavera', 'São Paulo', 'Cosmopolis', 'São Paulo', 'São José dos Pinhais', 'Vassouras', 'Embu das Artes', 'São Caetano do Sul', 'Rio de Janeiro', 'Surubim', 'Araguaina', 'Gravataí', 'Vitória da Conquista', 'Jacarezinho', 'Brasília', 'Curitiba', 'Belford Roxo', 'Betim', 'Paiçandu', 'Eunápolis', 'Jacarezinho', 'São Paulo', 'Rio de Janeiro', 'Araçariguama', 'Cabo Frio', 'Curitiba', 'São Paulo', 'Sinop', 'Brasília', 'São João de Meriti', 'Sorocaba', 'Carapicuíba', 'Rio de Janeiro', 'Curitiba', 'Londrina', 'Salvador', 'Itu', 'Niterói', 'Leme', 'Santos', 'São José', 'Dois Vizinhos', 'Uberlândia', 'Ivoti', 'Arujá', 'Cascavel', 'Blumenau', 'Viamão', 'Itumbiara', 'Praia Grande', 'Macapá', 'Bragança Paulista', 'Salvador', 'Paranaguá', 'Brasília', 'Anápolis', 'Trindade', 'Jundiaí', 'Caldas Novas', 'Aparecida', 'Joinville', 'Recife', 'Taboão da Serra', 'Limeira', 'Santa Cruz do Capibaribe', 'Rondonópolis', 'Niterói', 'São Paulo', 'São Paulo', 'Itapevi', 'Fortaleza', 'Curitiba', 'Nova Iguaçu', 'São Paulo', 'São Paulo', 'Imperatriz', 'Indaiatuba', 'Uberlândia', 'Novo Hamburgo', 'Lajeado', 'Resende', 'Brasília', 'Carapicuíba', 'São Paulo', 'Andirá', 'Cabo Frio', 'São Paulo', 'Ribeirão Preto', \"Dias D'Ávila\", 'Volta Redonda', 'Gaspar', 'Goianesia', 'Palmas', 'Feira de Santana', 'Vicência', 'Atibaia', 'Maringá', 'Lauro De Freitas', 'Brasília', 'Novo Hamburgo', 'Uberlândia', 'São Raimundo Nonato', 'Rio de Janeiro', 'São Paulo', 'São Paulo', 'Maceio', 'Guarulhos', 'Jacarezinho', 'Viana', 'Uberlândia', 'Jacareí', 'Barueri', 'Trancoso', 'Novo Hamburgo', 'Rio de Janeiro', 'Joinville', 'Novo Gama', 'Guaratinguetá', 'São Paulo', 'Suzano', 'Feira de Santana', 'São Leopoldo', 'São Paulo', 'Santa Luzia', 'Tatuí', 'São Paulo', 'Lavras', 'Londrina', 'Nova Iguaçu', 'Marília', 'São Paulo', 'Salvador', 'Petrópolis', 'Martinópolis', 'Belo Horizonte', 'Volta Redonda', 'Maracanaú', 'Belém', 'Paranaguá', 'Recife', 'Castanhal', 'São Paulo', 'Teresópolis', 'Araraquara', 'Oriente', 'Feira De Santana', 'São Paulo', 'Barra Mansa', 'Sumaré', 'Itaitinga', 'Campo Limpo Paulista', 'Saquarema', 'Joinville', 'Marília', 'Taubaté', 'Saquarema', 'São Paulo', 'Taubaté', 'Campo Largo', 'Catanduva', 'Jaboatão dos Guararapes', 'São Paulo', 'Manaus', 'Rio de Janeiro', 'Santo Antônio de Pádua', 'São Brás do Suaçuí', 'Palestina', 'Caraguatatuba', 'Barra Velha', 'Presidente Prudente', 'Tatuí', 'Salvador', 'Florianópolis', 'Cariacica', 'São José de Ribamar', 'João Pinheiro', 'São Paulo', 'São Paulo', 'Catanduva', 'Curitiba', 'Canoas', 'Brusque', 'Fortaleza', 'São João Del Rei', 'Belo Horizonte', 'Mendes', 'Rio de Janeiro', 'Porto Alegre', 'Varginha', 'Areia Branca', 'Carapicuíba', 'Cabo Frio', 'Novo Hamburgo', 'Aracaju', 'Fortaleza', 'Nossa Senhora do Socorro', 'Macapá', 'Curitiba', 'Conceição da Barra', 'Curitiba', 'Brasília', 'Rio de Janeiro', 'Dracena', 'Igarassu', 'Rio das Ostras', 'Brasília', 'Feira de Santana', 'Rio de Janeiro', 'Blumenau', 'São José dos Campos', 'Campinas', 'Uberaba', 'São Paulo', 'Itaperuna', 'Rio de Janeiro', 'Campinas', 'Salvador', 'Ijuí', 'Itajaí', 'Brasília', 'Itaboraí', 'Rio de Janeiro', 'Curitiba', 'São Paulo', 'Rio Branco', 'Angra dos Reis', 'São Paulo', 'São Paulo', 'Duque de Caxias', 'São João da Boa Vista', 'Cafelândia', 'Estrela', 'Blumenau', 'São Bernardo do Campo', 'Jaboti', 'Campos Dos Goytacazes', 'Santo Antônio de Jesus', 'São Carlos', 'Curitiba', 'Ribeirão Pires', 'Joinville', 'São Paulo', 'Diadema', 'Magé', 'Barueri', 'Santos', 'Brasília', 'São José dos Campos', 'Londrina', 'Nossa Senhora do Socorro', 'Conceição da Barra', 'Nonoai', 'Manaus', 'Cruz Alta', 'Águas Claras', 'Rio de Janeiro', 'São Paulo', 'Ourinhos', 'São Paulo', 'São Paulo', 'Morro Agudo', 'Ararangua', 'Lauro De Freitas', 'Presidente Venceslau', 'Salvador', 'Madre de Deus', 'Betim', 'Mauá da Serra', 'Corbélia', 'Belém', 'Arceburgo', 'Jequié', 'São Paulo', 'Macaé', 'Queimadas', 'Porto Alegre', 'São Mateus', 'São Paulo', 'Uberaba', 'Fortaleza', 'São Paulo', 'Camboriú', 'Araraquara', 'Jundiaí', 'Curitiba', 'Araçuaí', 'Almirante Tamandaré', 'Diadema', 'Foz do Iguaçu', 'Jundiaí', 'Duque de Caxias', 'Porto Velho', 'Jaguaquara', 'Joinville', 'Itapevi', 'Indaiatuba', 'Americana', 'Indaial', 'Cajati', 'Marília', 'Santa Maria', 'São Gonçalo', 'Lençóis Paulista', 'Camboriú', 'Rio de Janeiro', 'Itaperuçu', 'São Roque', 'São Paulo', 'Fortaleza', 'São José dos Pinhais', 'Santos', 'Caruaru', 'Duque de Caxias', 'Itajaí', 'Bertioga', 'Garuva', 'Niterói', 'Fortaleza', 'Campinas', 'Campinas', 'Brasília', 'São Paulo', 'Rio de Janeiro', 'Warta', 'Rio de Janeiro', 'Manaus', 'Marília', 'Juiz de Fora', 'Simões Filho', 'Fazenda Rio Grande', 'Olinda', 'Aracaju', 'Curitiba', 'Campinas', 'Dourados', 'Brasília', 'Santa Rita', 'Santana', 'Osasco', 'Guarulhos', 'Rio de Janeiro', 'Ibirama', 'Recife', 'Rurópolis', 'São Luís', 'Várzea Grande', 'Guarujá', 'Rio de Janeiro', 'João Pessoa', 'Itajaí', 'Rio de Janeiro', 'Goiânia', 'Mogi Guaçu', 'Guaramirim', 'Rio de Janeiro', 'Trajano de Moraes', 'Fortaleza', 'João Pessoa', 'Taubaté', 'Formosa', 'Sinop', 'Goiânia', 'Camaçari', 'Maceió', 'Maceio', 'Vera Cruz do Oeste', 'São Bernardo do Campo', 'Osasco', 'Niterói', 'Nova Iguaçu', 'São Paulo', 'Camaçari', 'Parnamirim', 'Mogi das Cruzes', 'Rio Verde', 'Caxias do Sul', 'Candeias', 'Brasília', 'Recife', 'Vargem Grande Paulista', 'Curitiba', 'Rio de Janeiro', 'Palmas', 'Aparecida de Goiânia', 'Juiz de Fora', 'Pirenópolis', 'São Paulo', 'Salvador', 'Macapá', 'Sumaré', 'Fortaleza', 'Muriaé', 'Rondonópolis', 'Goiânia', 'Londrina', 'Terra Boa', 'Maceió', 'Cariacica', 'Ilhéus', 'Timon', 'Belo Horizonte', 'São José', 'Canindé de São Francisco', 'Lebon Régis', 'Serra', 'Ourinhos', 'Santa Maria', 'Mogi Guaçu', 'Jequié', 'Cascavel', 'Porto Alegre', 'Salvador', 'Campo Mourão', 'Barueri', 'São Luís', 'Sorriso', 'Blumenau', 'Indaiatuba', 'Ananindeua', 'Planaltina', 'Agudos', 'Aracaju', 'Salvador', 'São Paulo', 'Dourados', 'Almirante Tamandaré', 'Recife', 'Caucaia', 'Porto Seguro', 'Feira de Santana', 'Rio de Janeiro', 'São Paulo', 'Maricá', 'Paulo Lopes', 'Brasília', 'Paulo Lopes', 'Sumaré', 'Jaraguá do Sul', 'Moreno', 'Campinas', 'Londrina', 'Rio de Janeiro', 'São Paulo', 'Apiaba', 'Muzambinho', 'Mesquita', 'Aparecida de Goiânia', 'Uberaba', 'Brasília', 'Pontal', 'Jaboatão dos Guararapes', 'São Paulo', 'Pombos', 'Sapucaia Do Sul', 'Rio Branco', 'Americana', 'Goiânia', 'São Paulo', 'Adamantina', 'Goiânia', 'Jaboatão dos Guararapes', 'Rio Claro', 'Candeias', 'Duque de Caxias', 'Maringá', 'Campinas', 'Vila Velha', 'Ceará-Mirim', 'Olímpia', 'Olímpia', 'Igarapé', 'Mauá', 'Paripiranga', 'Palhoça', 'Lauro De Freitas', 'Rio de Janeiro', 'Paraguaçu', 'Goiânia', 'Aparecida de Goiânia', 'Alagoinhas', 'Rio Largo', 'Curitiba', 'Feira de Santana', 'São José dos Campos', 'Campina Grande', 'Castanhal', 'Quatro Barras', 'Timbó', 'Ribeirão do Sul', 'Rio de Janeiro', 'Itumbiara', 'Uberaba', 'Recife', 'Piracicaba', 'João Pessoa', 'Goiânia', 'Balneário Camboriú', 'Brasília', 'Joinville', 'Joinville', 'Maceió', 'Brasília', 'Aracaju', 'Parnamirim', 'Manaus', 'Rio de Janeiro', 'Campo Grande', 'Belém', 'Ladário', 'Gravataí', 'Fortaleza', 'São José de Mipibu', 'São Paulo', 'Belém', 'Catu', 'Brasília', 'Cabo Frio', 'São Paulo', 'São Paulo', 'Rio de Janeiro', 'São Carlos', 'Braço do Norte', 'Pomerode', 'Salvador', 'São Paulo', 'Florianópolis', 'São Paulo', 'Vila Muriqui', 'Londrina', 'Santana de Parnaíba', 'Campinas', 'Marabá', 'Marília', 'Fortaleza', 'Bento Simões', 'Belém', 'Tiradentes', 'Carandaí', 'Jaraguá do Sul', 'Salvador', 'Paripiranga', 'Brasília', 'São José dos Campos', 'Paulista', 'Goiatuba', 'Fortaleza', 'Brasília', 'Aracaju', 'Belém', 'Gravataí', 'Vila Velha', 'Maranguape', 'Maceió', 'Campo Grande', 'São Paulo', 'Cajamar', 'Três Lagoas', 'Uberlândia', 'Cascavel', 'Olinda', 'São Joaquim do Monte', 'São Paulo', 'Campos dos Goytacazes', 'Sorocaba', 'Aparecida de Goiânia', 'Goiânia', 'Três Lagoas', 'Barueri', 'Belém', 'Fortaleza', 'São Paulo', 'Carolina', 'Fortaleza', 'Feira de Santana', 'São Luís', 'Adrianópolis', 'Vitória da Conquista', 'Alvorada', 'Conceição do Coité', 'Petrópolis', 'Duque de Caxias', 'São Paulo', 'Brasília', 'Mossoró', 'Caucaia', 'Itariri', 'João Pessoa', 'Vila Velha', 'Armação dos Búzios', 'Campina Grande', 'São José do Norte', 'Carapicuíba', 'Belo Horizonte', 'Dois Córregos', 'São Paulo', 'Petrópolis', 'Fortaleza', 'Campo Grande', 'Pelotas', 'Tianguá', 'Araguari', 'Belém', 'Rio Verde', 'João Pessoa', 'Vitória', 'Americo Brasiliense', 'Jaboatão dos Guararapes', 'Caxias do Sul', 'Nova Iguaçu', 'Luziânia', 'Recife', 'Bauru', 'Campo Grande', 'Belém', 'Manaus', 'Várzea Grande', 'Assis Chateaubriand', 'Mauá', 'Araripina', 'Mogi das Cruzes', 'São Gonçalo', 'Buritama', 'Caruaru', 'São Paulo', 'Campo Grande', 'Florianópolis', 'Navegantes', 'Piedade', 'São Bernardo do Campo', 'Olinda', 'João Pessoa', 'Bebedouro', 'Fortaleza', 'Rio de Janeiro', 'Aracaju', 'São Vicente', 'Palmeira dos Índios', 'Toledo', 'Dourado', 'Curitiba', 'Fortaleza', 'Salvador', 'Santo Antônio da Platina', 'São Sebastião do Caí', 'Brasília', 'Araucária', 'João Pessoa', 'Bauru', 'São Luís', 'Petrópolis', 'Mogi das Cruzes', 'Serrania', 'Campo Verde', 'Campina Grande', 'Tubarão', 'Curitiba', 'Canoas', 'Angra dos Reis', 'Suzano', 'Curitiba', 'Cabedelo', 'Balneário Camboriú', 'Esteio', 'Corumbaíba', 'Linhares', 'Ibitiúva', 'Rio de Janeiro', 'Brasília', 'Indaiatuba', 'Recife', 'São Paulo', 'Ferraz de Vasconcelos', 'Nova Iguaçu', 'Sao Jose Dos Campos', 'Bragança Paulista', 'Rio de Janeiro', 'Formosa', 'Salvador', 'São Paulo', 'Capanema', 'São Paulo', 'Petrolina', 'Redenção', 'Itajaí', 'Três Rios', 'Queimadas', 'São Francisco do Sul', 'Curitiba', 'São José de Ribamar', 'Artur Nogueira', 'Rio Negro', 'Joinville', 'Jaú', 'Cornélio Procópio', 'Caruaru', 'Caruaru', 'Fortaleza', 'Itumbiara', 'Macapá', 'São Paulo', 'Vila Velha', 'Grajaú', 'Curitiba', 'São Paulo', 'São Paulo', 'Joinville', 'Umuarama', 'Amparo', 'Guariba', 'Pelotas', 'Brasília', 'Salvador', 'Juiz de Fora', 'Guariba', 'Rio de Janeiro', 'Campinas', 'Pardinho', 'Belo Horizonte', 'Curitiba', 'Gramado', 'Ribeirão Preto', 'Santa Rosa', 'Capivari', 'Nilópolis', 'Belo Horizonte', 'Neves Paulista', 'Manaus', 'Nossa Senhora do Socorro', 'Guaratinguetá', 'Pirapora', 'Barueri', 'Nossa Senhora do Socorro', 'Itupeva', 'Brasília', 'Maceió', 'Barretos', 'Varginha', 'Maracanaú', 'São Paulo', 'Rio de Janeiro', 'Mossoró', 'Mossoró', 'Florianópolis', 'Porto Alegre', 'Pontal do Paraná', 'Olímpia', 'Imbituba', 'Campo Grande', 'Joinville', 'Laguna', 'Porto Alegre', 'Jundiaí', 'Brasília', 'Guarapuava', 'Sinop', 'Laguna', 'Limeira', 'Osasco', 'Brasília', 'São Mateus', 'Brasília', 'Lauro De Freitas', 'Fortaleza', 'São Paulo', 'Araguari', 'São Paulo', 'Catanduva', 'Cotia', 'Rio de Janeiro', 'Curitiba', 'Paulista', 'Dourados', 'Guarujá', 'Arraial do Cabo', 'Petrópolis', 'Cotia', 'Nova Iguaçu', 'Curitiba', 'Petrolina', 'São Gonçalo dos Campos', 'Botucatu', 'Serra', 'Campos dos Goytacazes', 'Lages', 'Campo Grande', 'Osasco', 'São Bernardo do Campo', 'Limeira', 'Indaiatuba', 'Porto Velho', 'Campinas', 'Brusque', 'Tijucas', 'Primavera do Leste', 'Goiânia', 'Rio de Janeiro', 'Manaus', 'Caraguatatuba', 'Pato Branco', 'Belém', 'São Paulo', 'Recife', 'Chapecó', 'Rio Das Pedras', 'Anápolis', 'Cuiaba', 'Campo Grande', 'Mesquita', 'Juiz de Fora', 'Rio de Janeiro', 'São Paulo', 'Curitiba', 'Franco da Rocha', 'Ribeirão das Neves', 'Brusque', 'Campo Grande', 'São Paulo', 'Nova Iguaçu', 'Santa Maria', 'Iguaba Grande', \"Dias D'Ávila\", 'Embu das Artes', 'Belo Horizonte', 'São Paulo', 'Natal', 'São José dos Campos', 'Parnamirim', 'Aguas Lindas De Goias', 'Papucaia', 'Santa Cruz do Capibaribe', 'Natal', 'Luís Eduardo Magalhães', 'Cachoeiras de Macacu', 'Cachoeirinha', 'São Paulo', 'Jaguapitã', 'Sorocaba', 'Tianguá', 'Florianópolis', 'Brusque', 'Campo Belo', 'São Paulo', 'Ribeirão Preto', 'Parnamirim', 'Curitiba', 'Brasília', 'Jaboatão dos Guararapes', 'Caucaia', 'Santo Amaro de Campos', 'Brasília', 'Serra', 'Curitiba', 'Belém', 'Ribeirão das Neves', 'São Luís', 'Cosmopolis', 'Matão', 'Taquaritinga', 'Vitória de Santo Antão', 'Belford Roxo', 'São Paulo', 'Goiânia', 'Poços de Caldas', 'São Paulo', 'Curitiba', 'Caçador', 'Feira de Santana', 'Rio das Ostras', 'Goiania', 'Rio de Janeiro', 'Fortaleza', 'Manaus', 'Santa Rita do Passa Quatro', 'Vila Velha', 'Balneário Pinhal', 'Valença', 'Santa Maria', 'Niterói', 'Rio de Janeiro', 'Medianeira', 'Camacari', 'Guarapari', 'Juiz de Fora', 'Serra', 'Jaguariaíva', 'Brasília', 'Itaboraí', 'Marechal Deodoro', 'Colina', 'Rio de Janeiro', 'Santa Rita do Sapucaí', 'São José dos Pinhais', 'Rio de Janeiro', 'Rio Verde', 'Rio de Janeiro', 'Fortaleza', 'Goiatuba', 'Ibicaraí', 'Paulista', 'Brasília', 'Imperatriz', 'São Paulo', 'Salvador', 'Rio de Janeiro', 'União da Vitória', 'Cristalina', 'Parati', 'São Gonçalo', 'Rio Grande', 'Alagoinhas', 'Piracicaba', 'São João de Meriti', 'Jaboatão dos Guararapes', 'Aracaju', 'Açu', 'Rio de Janeiro', 'Marília', 'São Bernardo do Campo', 'Camanducaia', 'Várzea Grande', 'Marília', 'Aracaju', 'Parnaíba', 'Ferraz de Vasconcelos', 'Campo Grande', 'Porto Seguro', 'Petrópolis', 'Nova Iguaçu', 'Rio de Janeiro', 'Sapucaia do Sul', 'Turiaçu', 'São Gonçalo', 'Nova Europa', 'Recife', 'São Paulo', 'Serra', 'Cabo Frio', 'Cotia', 'Florianópolis', 'Canoas', 'Matinhos', 'São Bento do Sul', 'Valparaíso de Goiás', 'Uberlândia', 'Santa Rita', 'Brasília', 'Rio de Janeiro', 'Iracemápolis', 'Porto Alegre', 'Rondonópolis', 'São Gonçalo', 'São Pedro da Aldeia', 'Saquarema', 'Brasília', 'Pirassununga', 'Goiânia', 'Jundiaí', 'Salvador', 'Rio de Janeiro', 'Jales', 'Araguari', 'Campo Grande', 'Belo Horizonte', 'Cachoeirinha', 'São Paulo', 'Cianorte', 'Santos', 'Rio de Janeiro', 'Piraquara', 'Itumbiara', 'Videira', 'Fazenda Rio Grande', 'Juazeiro', 'Parnamirim', 'Cuiabá', 'Arujá', 'São Luís', 'Aparecida de Goiânia', 'Elói Mendes', 'Brasília', 'Praia Grande', 'Rio de Janeiro', 'Ipojuca', 'São Bernardo do Campo', 'Palmas', 'Ananindeua', 'Luziânia', 'Sorocaba', 'Arraial do Cabo', 'Curitiba', 'Manaus', 'Catanduva', 'Fortaleza', 'Cachoeirinha', 'Taboão da Serra', 'Feira de Santana', 'Itaitinga', 'Registro', 'Fortaleza', 'Florianópolis', 'Osvaldo Cruz', 'Manaus', 'Salvador', 'Curitiba', 'Afogados da Ingazeira', \"Arraial D'Ajuda\", 'Osvaldo Cruz', 'Aparecida de Goiânia', 'Paulista', 'Brasília', 'Astorga', 'São Paulo', 'Ourinhos', 'Brasília', 'Londrina', 'Camaçari', 'Porto Alegre', 'Poços de Caldas', 'Curitiba', 'Rio de Janeiro', 'Rio de Janeiro', 'Porto Velho', 'Belém', 'Santo André', 'Natal', 'Campina Grande', 'Curitiba', 'São João da Boa Vista', 'Criciúma', 'Rio de Janeiro', 'Aparecida de Goiânia', 'Floresta', 'São Paulo', 'Petrolina', 'São Luís', 'Teixeira de Freitas', 'Brasília', 'Campo Grande', 'São Gonçalo', 'Salvador', 'União da Vitória', 'Chapecó', 'Guarapuava', 'Serra Talhada', 'Santa Rosa', 'Manaus', 'Santa Rosa', 'Santo André', 'Brasília', 'Itapema', 'Vila dos Cabanos', 'Mogi Guaçu', 'São Paulo', 'São Paulo', 'Serra', 'Cabo Frio', 'Osasco', 'Baependi', 'Potim', 'Rio de Janeiro', 'Rio Branco', 'Cabo Frio', 'Iaçu', 'Duque de Caxias', 'São José dos Pinhais', 'Joinville', 'Tatuí', 'Belo Horizonte', 'Novo Hamburgo', 'Fortaleza', 'Santa Cruz Do Rio Pardo', 'Fortaleza', 'Criciúma', 'Embu das Artes', 'Foz do Iguaçu', 'Ouro Verde', 'Mossoró', 'Ribeirão Pires', 'Paulo Afonso', 'Quirinópolis', 'Belo Horizonte', 'São Gonçalo', 'Guarujá', 'Botucatu', 'Águas Lindas de Goiás', 'Barreiras', 'São Paulo', 'Viana', 'São Paulo', 'Belford Roxo', 'Goiânia', 'São José do Rio Preto', 'Nova Iguaçu', 'Cajazeiras', 'Fortaleza', 'Bom Jesus do Itabapoana', 'Aparecida de Goiânia', 'Tucano', 'Horizonte', 'Toledo', 'Campo Limpo Paulista', 'Eunapolis', 'João Pessoa', 'Guarulhos', 'Brasília', 'Guarulhos', 'Curitiba', 'Petrópolis', 'Macapá', 'Brasília', 'Porto Alegre', 'Valença', 'São Paulo', 'Goiânia', 'Contagem', 'Mogi das Cruzes', 'Brasília', 'Recife', 'Maceió', 'Niteroi', 'Cariacica', 'Itabuna', 'Uberaba', 'Campo Verde', 'Viana', 'Goianesia', 'Mossoró', 'Curitiba', 'Franca', 'Recife', 'Cuiabá', 'São Paulo', 'Pinhais', 'Palhoça', 'Canela', 'Nova Iguaçu', 'São Paulo', 'Rio de Janeiro', 'Serra', 'Araguari', 'Curvelo', 'Ivaiporã', 'Viamão', 'Curitiba', 'Brasília', 'São Paulo', 'Recife', 'Juazeiro', 'São Paulo', 'Jaraguá do Sul', 'Recife', 'Vila Velha', 'Arujá', 'Duque de Caxias', 'Guarapari', 'São Paulo', 'Barueri', 'Limeira', 'Santa Maria', 'Salvador', 'Joinville', 'São Paulo', 'São Luís', 'Guarapuava', 'Rio de Janeiro', 'Santa Rosa', 'Uniao Da Vitoria', 'Fortaleza', 'Itabela', 'Arcoverde', 'Serra', 'Porto Velho', 'São Paulo', 'Anapolis', 'São Carlos', 'Curitiba', 'Fortaleza', 'São Sebastião', 'Santa Rita do Sapucaí', 'São Gonçalo', 'São Paulo', 'Ferraz de Vasconcelos', 'São Lourenço', 'Rio de Janeiro', 'Curitiba', 'Fortaleza', 'São Paulo', 'Olinda', 'Maceió', 'Votuporanga', 'Fortaleza', 'Aracatiaçu', 'Capinzal', 'Rio de Janeiro', 'Mogi das Cruzes', 'Campo Grande', 'Belo Horizonte', 'Paulínia', 'Santos', 'Nova Friburgo', 'São Paulo', 'Brasília', 'São Paulo', 'Dom Pedro', 'Jataí', 'Goianésia', 'Fortaleza', 'Brasília', 'Tatuí', 'São José', 'Araçoiaba da Serra', 'São Bernardo do Campo', 'Brasília', 'Curitiba', 'Campo Belo', 'Jaú', 'São Paulo', 'São Paulo', 'Suzano', 'Simões Filho', 'Serra', 'São Carlos', 'São Paulo', 'Cabo Frio', 'Tupã', 'São Paulo', 'Diadema', 'Birigüi', 'Várzea Grande', 'Betim', 'Pomerode', 'Contagem', 'Joinville', 'Mauá', 'Osasco', 'Além Paraíba', 'Brasília', \"São João do Pau d'Alho\", 'Nova Iguaçu', 'São Gonçalo', 'Itabatan', 'Blumenau', 'Alta Floresta', 'Alta Floresta', 'Brasília', 'Farroupilha', 'Bom Jesus', 'Vila Velha', 'Guarulhos', 'Curitiba', 'Porto Alegre', 'Paço do Lumiar', 'Vitória', 'Campo Grande', 'Nova Iguaçu', 'Itapecerica da Serra', 'Almirante Tamandaré', 'Paraibuna', 'São Paulo', 'Caldas Novas', 'Curitiba', 'Aracaju', 'Rio de Janeiro', 'Cascavel', 'Itapeva', 'Porto Alegre', 'Sorocaba', 'São José', 'São Paulo', 'Fortaleza', 'Campo Mourão', 'Curitiba', 'Bauru', 'Cianorte', 'Campinas', 'Porto Velho', 'Fortaleza', 'Rio do Sul', 'Maranguape', 'Belém', 'São Paulo', 'Quatiguá', 'Feira de Santana', 'Quatiguá', 'Feira de Santana', 'São Paulo', 'Cianorte', 'Araguaína', 'São Luís', 'Serra', 'Florianópolis', 'São Paulo', 'Belo Horizonte', 'Pindamonhangaba', 'Ouro Branco', 'Recife', 'Salvador', 'São José dos Campos', 'São João da Boa Vista', 'Joinville', 'Guanambi', 'São Paulo', 'Cotia', 'São José dos Campos', 'Curitiba', 'São José dos Campos', 'Montenegro', 'Gravatá', 'Embu das Artes', 'Goiânia', 'Campo Grande', 'São Paulo', 'São Paulo', 'Novo Cravinhos', 'Osasco', 'Blumenau', 'Brasília', 'Rio das Ostras', 'São Paulo', 'Fortaleza', \"Arraial D'Ajuda\", 'Brasília', 'Marituba', 'Rio de Janeiro', 'Salvador', 'Manaus', 'Aparecida de Goiânia', 'Belo Horizonte', 'São Paulo', 'Macapá', 'Brasília', 'Tubarão', 'São José dos Pinhais', 'Duque de Caxias', 'Curitiba', 'Salvador', 'Formosa', 'Mesquita', 'Vitória', 'Campinas', 'Itajaí', 'Recife', 'Curitiba', 'Lorena', 'Curitiba', 'Itabaiana', 'Lajeado', 'Laguna', 'Pacajus', 'Pirapora', 'Brasília', 'Marabá', 'Araraquara', 'Suzano', 'Rio de Janeiro', 'Rio de Janeiro', 'Varzea Grande', 'Curitiba', 'Indaiatuba', 'Serra', 'Votuporanga', 'Belém', 'Fortaleza', 'Inaciolândia', 'Rio de Janeiro', 'Fortaleza', 'Eunápolis', 'Rio de Janeiro', 'Alto Garças', 'Barroso', 'Rio Quente', 'Manaus', 'Rio de Janeiro', 'São Bernardo do Campo', 'Niterói', 'São Paulo', 'Quedas do Iguaçu', 'Salvador', 'Itumbiara', 'Brasília', 'Campo Belo', 'Fazenda Rio Grande', 'Jacareí', 'Paulista', 'São Luís', 'Maringá', 'Matinhos', 'Mauá', 'São José do Rio Preto', 'Louveira', 'Pirapora', 'Santos', 'Votuporanga', 'Pato Branco', 'Macaé', 'Rio Branco', 'Jaraguá do Sul', 'Governador Valadares', 'São José dos Campos', 'Ananindeua', 'Valparaíso', 'São Paulo', 'Cabo Frio', 'São Paulo', 'Curitiba', 'Niterói', 'Petrolina', 'Diadema', 'Aracati', 'Barra Mansa', 'São Gonçalo dos Campos', 'Belém', 'Petrolina', 'Campina Grande', 'Uberlândia', 'Blumenau', 'Mogi das Cruzes', 'Samambaia', 'Nova Iguaçu', 'Goiânia', 'Itaguaí', 'São João da Barra', 'Rio de Janeiro', 'Ilhéus', 'Curitiba', 'Telêmaco Borba', 'Biritiba-Mirim', 'Sinop', 'São Joaquim da Barra', 'Palmas', 'Duque de Caxias', 'Blumenau', 'Salvador', 'São Paulo', 'Telêmaco Borba', 'Cabo de Santo Agostinho', 'Florianópolis', 'Curitiba', 'Brasília', 'Brasília', 'Salto', 'Cuiabá', 'Aracaju', 'Maringá', 'Mossoró', 'Jaboatão dos Guararapes', 'Moreno', 'Carazinho', 'Indaiatuba', 'São Carlos', 'Ribeirão Pires', 'Armação dos Búzios', 'Guaratinguetá', 'Rio de Janeiro', 'Manaus', 'Fortaleza', 'Rio de Janeiro', 'Belo Horizonte', 'Colatina', 'São José dos Campos', 'Planaltina', 'Guarulhos', 'São Paulo', 'Rio de Janeiro', 'Jandira', 'Rio de Janeiro', 'Serra', 'Barra de São Miguel', 'São Paulo', 'Aracaju', 'São Paulo', 'Campo Largo', 'Castanhal', 'Santa Rita do Passa Quatro', 'Araguaína', 'Macaé', 'Goiânia', 'Recife', 'Recife', 'Dracena', 'Jaboatão dos Guararapes', 'Araçatuba', 'São José', 'Araruama', 'Juiz de Fora', 'Campo Largo', 'Santo Ângelo', 'Almirante Tamandaré', 'Mossoró', 'Joinville', 'São Bernardo do Campo', 'São Paulo', 'Ribeirão', 'Resende', 'Cajazeiras', 'São Paulo', 'São Paulo', 'Campinas', 'Campina Grande', 'Vargem Grande Paulista', 'Brasília', 'Dourados', 'Palmas', 'Rio de Janeiro', 'Florianópolis', 'Lagoa Formosa', 'Fortaleza', 'Campina Grande do Sul', 'Ponta Grossa', 'Manaus', 'Jales', 'Maceió', 'Birigüi', 'Umbuzeiro', 'Umuarama', 'Terra Boa', 'São Paulo', 'Tambaú', 'São Paulo', 'Mage', 'Arapongas', 'Rio Negro', 'Rio Negro', 'Curitiba', 'Castanhal', 'Belo Horizonte', 'Abelardo Luz', 'Rio de Janeiro', 'Novo Hamburgo', 'Fortaleza', 'Botucatu', 'Teresina', 'Camboriú', 'Rio de Janeiro', 'Salto de Pirapora', 'Bertioga', 'Boituva', 'Mateus Leme', 'Guapimirim', 'São Paulo', 'São Paulo', 'Goiânia', 'Itambé', 'Florianopolis', 'Caiçara do Rio do Vento', 'Marabá', 'Itapetininga', 'São Luís', 'Arapiraca', 'Mogi das Cruzes', 'Natal', 'Maceió', 'São Paulo', 'Balneário Camboriú', 'Extrema', 'Ponta Grossa', 'Florianópolis', 'Brasília', 'Guarulhos', 'São Paulo', 'Mesquita', 'Jataí', 'São Paulo', 'Fortaleza', 'Fortaleza', 'São Gonçalo', 'Serrinha', 'Mogi das Cruzes', 'Contagem', 'Guaratinguetá', 'Rondonópolis', 'São Paulo', 'Rio de Janeiro', 'Mossoró', 'Maraú', 'São Paulo', 'Manaus', 'Mogi das Cruzes', 'Campo Mourão', 'São Paulo', 'Petrópolis', 'São Bernardo do Campo', 'Curitiba', 'Natal', 'Rio de Janeiro', 'Poços de Caldas', 'Natal', 'Aracaju', 'Macapá', 'Matão', 'Governador Valadares', 'Rio de Janeiro', 'São Paulo', 'Toledo', 'São Paulo', 'Maricá', 'Sapucaia do Sul', 'Caieiras', 'Cachoeira Paulista', 'Rio de Janeiro', \"Santa Bárbara D'Oeste\", 'Fortaleza', 'Piracicaba', 'Caxias', 'Salvador', 'Nova Iguaçu', 'Brasília', 'Tamandaré', 'Guarulhos', 'Natal', 'Palhoça', 'Capão do Leão', 'São Vicente', 'João Pessoa', 'Uberlândia', 'Parnaíba', 'Uberlândia', 'Campo Grande', 'Jequié', 'Rio de Janeiro', 'Bertioga', 'Luís Antônio', 'Salto de Pirapora', 'Niterói', 'Bombinhas', 'Assis', 'Bauru', 'Carpina', 'Feira de Santana', 'São Paulo', 'Fortaleza', 'Maravilha', 'Camacari', 'São Pedro da Aldeia', 'São Paulo', 'Brasília', 'Maceió', 'Patrocinio', 'Rio de Janeiro', 'Natal', 'Nossa Senhora da Glória', 'São José de Ribamar', 'Aracaju', 'Campo Mourão', 'Curitiba', 'Telêmaco Borba', 'São João da Barra', 'Nova Iguaçu', 'Guarapari', 'Ribeirão Preto', 'Macaé', 'Juatuba', 'Simões', 'Pirassununga', 'Goiânia', 'João Pessoa', 'Campo Grande', 'Cuiabá', 'Brasília', 'Curitiba', 'Maceió', 'Petrópolis', 'Aracati', 'Macapá', 'Brasília', 'Barueri', 'Belo Horizonte', 'Itajubá', 'Jaraguá do Sul', 'Cuiabá', 'Rio de Janeiro', 'Campinas', 'Rio de Janeiro', 'Aracruz', 'Caxias do Sul', 'Hortolândia', 'Aracruz', 'Brasília', 'Natal', 'Taubaté', 'Jaguariúna', 'Curitiba', 'Santo André', 'Rio de Janeiro', 'São Gonçalo do Sapucaí', 'Brasília', 'Jaboatão dos Guararapes', 'Belo Horizonte', 'Duque de Caxias', 'Quixada', 'Colombo', 'São Luís', 'Curitiba', 'Caldas Novas', 'Cabo Frio', 'Macaé', 'Boa Vista', 'Goiânia', 'Linhares', 'Fazenda Rio Grande', 'Brasília', 'Juiz de Fora', 'Itajaí', 'Itapetininga', 'Sapucaia', 'São Paulo', 'Palmas', 'Salvador', 'São Paulo', 'Reginópolis', 'Paulista', 'São Paulo', 'Brasília', 'São Paulo', 'Três Pontas', 'Rio de Janeiro', 'Curitiba', 'Mossoró', 'Içara', 'Rondonópolis', 'Serra', 'Várzea Grande', 'Paranaguá', 'Palmas', 'Rio de Janeiro', 'São Roque', 'Jaú', 'São Gonçalo do Amarante', 'Feira de Santana', 'Fortaleza', 'Surubim', 'Niterói', 'Praia Grande', 'Várzea Grande', 'Bauru', 'Jaboatao Dos Guararapes', 'São Paulo', 'Toledo', 'Duque de Caxias', 'São Paulo', 'São João de Meriti', 'Guarulhos', 'Joinville', 'Maracás', 'São Bento do Sul', 'Osasco', 'Caraguatatuba', 'Piedade', 'São Joaquim da Barra', 'Piracicaba', 'Várzea Paulista', 'Rio de Janeiro', 'Santa Rosa', 'Brasília', 'Maringá', 'Montes Claros', 'Gramado', 'Sinop', 'Araucária', 'São Paulo', 'São Paulo', \"Dias D'Ávila\", 'Balneário Camboriú', 'Itajubá', 'São Paulo', 'Tianguá', 'Teresina', 'Niterói', 'Nova Iguaçu', 'Itatinga', 'Rio de Janeiro', 'São Luís', 'Maceió', 'Fortaleza', 'São José do Rio Preto', 'Ponta Grossa', 'Vitória', 'São Paulo', 'Campinas', 'São Paulo', 'Palmas', 'Belford Roxo', 'Itamaraju', 'Rio de Janeiro', 'Itatiba', 'Santarém', 'Itajaí', 'Itatiaia', 'Rio de Janeiro', 'Joinville', 'Telêmaco Borba', 'Campo Mourao', 'Nova Iguaçu', 'Belém', 'Curitiba', 'Ananindeua', 'São Paulo', 'Rio de Janeiro', 'Jardinópolis', 'Várzea Grande', 'Poço Redondo', 'Rio De Janeiro', 'Vitória da Conquista', 'Colombo', 'São Gonçalo', 'Belo Horizonte', 'São Paulo', 'Petrolina', 'Salvador', 'Brasília', 'Joinville', 'Osasco', 'Curitiba', 'Itapetininga', 'Brasília', 'Itajubá', 'Travessão', 'Lauro De Freitas', 'Mossoró', 'Araguaína', \"Santa Bárbara D'Oeste\", 'Petrópolis', 'Ribeirão Pires', 'Barra Bonita', 'Fortaleza', 'Maringá', 'Rio Bonito', 'Belford Roxo', 'Três Rios', 'Cerquilho', 'Aracaju', 'Tatuí', 'Bauru', 'Rio de Janeiro', 'Anápolis', 'São Paulo', 'Conceição de Macabu', 'Boa Esperança', 'Manhuacu', 'Salvador', 'Goiânia', 'Salvador', 'Petrópolis', 'Campo Grande', 'Campinas', 'São José de Ribamar', 'Olinda', 'Caratinga', 'Rio de Janeiro', 'Guarapari', 'Alvorada', 'Indaiatuba', 'Guarapari', 'Itaquaquecetuba', 'Cabo Frio', 'Massaranduba', 'Imperatriz', 'Limeira', 'Catu', 'Campo Grande', 'Marituba', 'Guarulhos', 'Cabo Frio', 'Manaus', 'São Cristóvão', 'Itupeva', 'São Bernardo do Campo', 'Rio de Janeiro', 'Marabá', 'Macaé', 'Fortaleza', 'São Paulo', 'Itanhaém', 'Blumenau', 'Camacari', 'Caruaru', 'Itajaí', 'Mogi das Cruzes', 'São Sebastião', 'Praia Grande', 'Serra Talhada', 'Nilópolis', 'São Gonçalo', 'Uberlândia', 'Barra Mansa', 'São Bernardo do Campo', 'Carapicuíba', 'Salto de Pirapora', 'São José dos Campos', 'Louveira', 'Jaboatão dos Guararapes', 'Juquiá', 'Assis', 'Sorocaba', 'Mamanguape', 'São Paulo', 'Colatina', 'Belo Horizonte', 'Chapecó', 'São Paulo', 'Goiânia', 'Uberlândia', 'Brasília', 'Itumbiara', 'Garca', 'São Paulo', 'Brasília', 'Porto Alegre', 'Recife', 'Almirante Tamandaré', 'Brasília', 'Rio das Ostras', 'Rio de Janeiro', 'São Paulo', 'Paraíso do Tocantins', 'Vila Velha', 'Águas Lindas de Goiás', 'São Gonçalo do Amarante', 'Eugenópolis', 'Cotia', 'Belém', 'Volta Redonda', 'Passos', 'Camaçari', 'Capivari', 'Guarulhos', 'Brasília', 'Caxias do Sul', 'Massapê', 'Castanhal', 'Hortolândia', 'Uberlândia', 'São Paulo', 'Goitacazes', 'Blumenau', 'Salvador', 'Presidente Prudente', 'Fortaleza', 'Rio de Janeiro', 'Ortigueira', 'Valinhos', 'São Paulo', 'Juazeiro do Norte', 'Aguiarnópolis', 'Salvador', 'Ilhéus', 'São Paulo', 'Fazenda Rio Grande', 'Curitiba', 'Caruaru', 'Caruaru', 'Salvador', 'Recife', 'São Paulo', 'Lagoa do Carro', 'Paripiranga', 'Caraguatatuba', 'Piraju', 'Campo Grande', 'Diadema', 'Rio de Janeiro', 'Santana', 'Fortaleza', 'São Paulo', 'Nova Olinda', 'Belo Horizonte', 'Erechim', 'Nova Iguaçu', 'Santa Maria', 'Goiânia', 'Ponta Grossa', 'Guaraci', 'Maracanaú', 'São Paulo', 'Parnaíba', 'Parnamirim', 'Gravatá', 'São Mateus', 'Jaboatão dos Guararapes', 'Almirante Tamandaré', 'Rio de Janeiro', 'São Paulo', 'Barbacena', 'Esteio', 'Natal', 'Brasília', 'Chapecó', 'Curitiba', 'Pesqueira', 'São Bernardo do Campo', 'Angra dos Reis', 'Feira De Santana', 'Juiz de Fora', 'Salinópolis', 'São Cristóvão', 'Manaus', 'São Luís', 'Cascavel', 'São Paulo', 'Sumaré', 'Governador Valadares', 'São Paulo', 'Cabo Frio', 'Angra dos Reis', 'Palmas', 'Guarujá', 'Paranaguá', 'Comodoro', 'Jaraguá do Sul', 'Teresina', 'São Paulo', 'Viana', 'Cariacica', 'São Paulo', 'Porto Ferreira', 'Bertioga', 'Santa Maria', 'Descalvado', 'Dourados', 'Criciúma', 'Belém', 'Jacareí', 'São Paulo', 'Socorro', 'Bebedouro', 'Campo Largo', 'São Paulo', 'Contagem', 'Caxias do Sul', 'Campo Grande', 'Curitiba', 'Curitiba', 'Uberlândia', 'Salvador', 'Vitória', 'Rio de Janeiro', 'Rio Largo', 'Manaus', 'São Paulo', 'Unaí', 'Jaboatao Dos Guararapes', 'Cuiabá', 'São Paulo', 'Biquinhas', 'Sumaré', 'São Luís', 'Cravinhos', 'Pomerode', 'Palmas', 'São Paulo', 'Maceió', 'João Pessoa', 'Teresópolis', 'Ceará-Mirim', 'Rio Branco', 'Juiz de Fora', 'Santa Maria de Jetibá', 'Cabo Frio', 'Joinville', 'São Paulo', 'Poços de Caldas', 'Salvador', 'São Paulo', 'Guaxupé', 'Petrópolis', 'Brasília', 'Bayeux', 'Itabuna', 'Macatuba', 'São Leopoldo', 'Natal', 'Guarulhos', 'Ivoti', 'Duque de Caxias', 'Fortaleza', 'Belém', 'Vitoria', 'Blumenau', 'Navegantes', 'Juiz de Fora', 'São Luís', 'Paulista', 'Salvador', 'Lauro De Freitas', 'Ananindeua', 'Governador Valadares', 'Balneário Camboriú', 'São Luís', 'Bragança Paulista', 'Cariacica', 'São Paulo', 'Lauro De Freitas', 'Araruama', 'Itapeva', 'João Pessoa', 'Cornélio Procópio', 'Fortaleza', 'Guaratinguetá', 'Beberibe', 'Assis', 'Parnamirim', 'Crato', 'Rio de Janeiro', 'Anápolis', 'Barra do Piraí', 'Cataguases', 'Recife', 'Rio de Janeiro', 'Rio de Janeiro', 'Brasília', 'São Luís', 'Rio do Sul', 'São Paulo', 'Cariacica', 'João Monlevade', 'Barreiras', 'Paraíso do Tocantins', 'Paulista', 'Blumenau', 'Colatina', 'Niterói', 'São José dos Pinhais', 'Itabuna', 'Iguape', 'Embu das Artes', 'Cabo de Santo Agostinho', 'Sertãozinho', 'Lençóis Paulista', 'Gravataí', 'Juiz de Fora', 'Porto Alegre', 'Belford Roxo', 'Sinop', 'Manaus', 'Itajaí', 'Barueri', 'Cascavel', 'Guarujá', 'Primavera do Leste', 'Recife', 'Palmas', 'Brasília', 'Rio de Janeiro', 'Itumbiara', 'Brasília', 'Balneário Camboriú', 'Brasília', 'Ilhéus', 'Belo Horizonte', 'Araçatuba', 'Brasília', 'Patos de Minas', 'Araguari', 'Belo Horizonte', 'Duque de Caxias', 'Jaboatão dos Guararapes', 'Balneário Camboriú', 'Nova Iguaçu', 'Uberlândia', 'Curitiba', 'Jaboatão dos Guararapes', 'Amparo', 'Santo Antonio De Jesus', 'Toledo', 'São Paulo', 'Suzano', 'Brasília', 'Guararema', 'Santa Mariana', 'Jandaia do Sul', 'Rio de Janeiro', 'Barreiras', 'Quatro Barras', 'Ribeirão Preto', 'São Gonçalo', 'Taubaté', 'Barueri', 'Petrópolis', 'Belém', 'Salvador', 'Alagoinhas', 'Juiz de Fora', 'Touros', 'Cuiabá', 'Taboão da Serra', 'Rio de Janeiro', 'Sooretama', 'João Pessoa', 'Feira de Santana', 'Sorocaba', 'Campo Grande', 'Cascavel', 'Vila Velha', 'Uberlândia', 'Nova Soure', 'João Pessoa', 'Cambé', 'Bauru', 'Cariacica', 'Belém', 'São Paulo', 'João Pessoa', 'Salvador', 'Rio Verde', 'Pelotas', 'Aracaju', 'Vinhedo', 'São Joaquim de Bicas', 'São Paulo', 'Manaus', 'Guarulhos', 'Natal', 'Rio Branco', 'São Gonçalo', 'Japeri', 'Salvador', 'Araçatuba', 'Mossoró', 'Curitiba', 'Niterói', 'Penha', 'Taquara', 'Campinas', 'São Bernardo do Campo', 'Londrina', 'Fazenda Rio Grande', 'Praia Grande', 'Santo Antonio De Jesus', 'Osasco', 'Brasília', 'São Paulo', 'Brasília', 'São Luís', 'Rio de Janeiro', 'Seropédica', 'Vitória da Conquista', 'Belo Horizonte', 'Belford Roxo', 'Sobral', 'Nova Independência', 'Mossoró', 'Jaraguá do Sul', 'Belém', 'Rio de Janeiro', 'São Paulo', 'Guarujá', 'Campinas', 'Brasília', 'Goiânia', 'São Carlos', 'Registro', 'Casimiro de Abreu', 'Campo Bom', 'Cuiabá', 'Manoel Ribas', 'Uniao Da Vitoria', 'Brusque', 'Maceió', 'São Paulo', 'Salvador', 'Colina', 'Caxias do Sul', 'Carapicuíba', 'Ponta Grossa', 'Embu-Guaçu', 'São Paulo', 'Jatai', 'Porto Seguro', 'Curitiba', 'Rio de Janeiro', 'São Paulo', 'Além Paraíba', 'Mococa', 'Santa Cruz do Capibaribe', 'Mandaguaçu', 'Itapetininga', 'São Gonçalo', 'Belo Horizonte', 'Timon', 'Santarém', 'Florianópolis', 'Mococa', 'São Paulo', 'Macapá', 'Rio de Janeiro', 'Angra dos Reis', 'Sorocaba', 'São Paulo', 'Brasília', 'Belém', 'Rio Verde', 'Salvador', 'Ipirá', 'Macaé', 'Porto Alegre', 'Foz do Iguaçu', 'Mogi Guaçu', 'Petrópolis', 'Mossoró', 'Capanema', 'São Luís', 'Porto Seguro', 'Lauro De Freitas', 'Trindade', 'Santa Rita', 'Minaçu', 'Rio de Janeiro', 'Nossa Senhora da Glória', 'Salvador', 'Juiz de Fora', 'Petrolina', 'Macapá', 'Petrópolis', 'Ponta Grossa', 'Juazeiro', 'Fortaleza', 'Açu', 'Conselheiro Lafaiete', 'Cariacica', 'Campina Grande', 'Foz do Iguaçu', 'Rio Branco', 'Sorocaba', 'Blumenau', 'Floresta do Araguaia', 'Cristalina', 'União da Vitória', 'Cascavel', 'Marialva', 'Vargem Grande Paulista', 'Feira de Santana', 'Almenara', 'Divinópolis', 'Salvador', 'Fortaleza', 'Passo Fundo', 'Viamão', 'Telêmaco Borba', 'Armação dos Búzios', 'Dourados', 'Pirapetinga', 'São Paulo', 'Pinheiral', 'Viamão', 'Londrina', 'Alta Floresta', 'Cascavel', 'Farroupilha', 'Balneário Camboriú', 'Brasília', 'Santa Maria', 'Águas Lindas de Goiás', 'Arcoverde', 'Abrantes', 'São Paulo', 'São Francisco do Sul', 'Primavera do Leste', 'São João da Boa Vista', 'Maringá', 'Belo Horizonte', 'Recife', 'Teresina', 'Caraguatatuba', 'Votorantim', 'Valparaíso de Goiás', 'São João Batista do Glória', 'São Paulo', 'Salvador', 'Santiago', 'São Sebastião', \"Dias D'Ávila\", 'Valinhos', 'Maricá', 'Paranapanema', 'Nova Iguaçu', 'Rio de Janeiro', 'Telêmaco Borba', 'Petrópolis', 'Contagem', 'Natal', 'Vila Velha', 'Rio de Janeiro', 'Ventania', 'Jequié', 'Foz do Iguaçu', 'Penapolis', 'Campo Grande', 'Ribeirão Pires', 'Itajaí', 'Mogi das Cruzes', 'Recife', 'Pelotas', 'Imperatriz', 'São Paulo', 'Rio de Janeiro', 'São Paulo', 'Belém', 'São Paulo', 'Guaratinguetá', 'Barbacena', 'Lajeado', 'Belo Horizonte', 'Presidente Prudente', 'Rio de Janeiro', 'Cortês', 'Londrina', 'Londrina', 'Belém', 'Penha', 'Piraí', 'São Paulo', 'Ferraz de Vasconcelos', 'Salvador', 'Paranaguá', 'São Gonçalo', 'Porto Alegre', 'São Paulo', 'Registro', 'Curitiba', 'Abaetetuba', 'São Carlos', 'São Paulo', 'Rio de Janeiro', 'Bady Bassitt', 'Palmas', 'São José', 'Santo Inácio', 'Belford Roxo', 'Guaratinguetá', 'Catanduva', 'Rio de Janeiro', 'Rio de Janeiro', 'Atibaia', 'São Bernardo do Campo', 'Recife', 'Laguna', 'Brasília', 'Ponta Grossa', 'Natal', 'São Paulo', 'Timbaúba', 'Jundiaí', 'Cascavel', 'Blumenau', 'Atibaia', 'Rio dos Cedros', 'Itatiba', 'Votuporanga', 'São Paulo', 'Paranavaí', 'Ijuí', 'São Paulo', 'Taboão da Serra', 'Saquarema', 'Recife', 'Maceió', 'Fortaleza', 'Araçatuba', 'São Carlos', 'Pacaembu', 'Rio de Janeiro', 'Criciúma', 'Araguari', 'Recife', 'São Paulo', 'São José', 'Rio Grande', 'Rio de Janeiro', 'Uberaba', 'Maceió', 'Campinas', 'Cuiabá', 'São Paulo', 'Brasília', 'Serra', 'São Bernardo do Campo', 'Londrina', 'Itu', \"Arraial D'Ajuda\", 'Três Passos', 'Macapá', 'Recife', 'Iguaba Grande', 'Hortolândia', 'Hortolândia', 'Paulínia', 'Campinas', 'Pitanga', 'São Paulo', 'Petrolina', 'Colombo', 'Lavras', 'Bragança Paulista', 'Telêmaco Borba', 'Santo Antônio de Jesus', 'Fortaleza', 'Suzano', 'Curitiba', 'Lorena', 'Passo Fundo', 'São João de Meriti', 'Maceió', 'Itaboraí', 'Guapó', 'Curitiba', 'Camacari', 'Santa Gertrudes', 'Jaú', 'Brasília', 'Fortaleza', 'Montes Claros', 'Varzea Grande', 'Catanduva', 'Cascavel', 'Santa Fé do Sul', 'Embu-Guaçu', 'Paulista', 'São Paulo', 'Curitiba', 'Natal', 'Campinas', 'Várzea Grande', 'São Paulo', 'Porto Alegre', 'Curitiba', 'São Luís', 'Cubatão', 'Luziânia', 'São Vicente', 'Olinda', 'Florianópolis', 'Eusébio', 'Nova Petrópolis', 'Campina Grande do Sul', 'Brusque', 'Viamão', 'Jaboatão dos Guararapes', 'Macapá', 'Rio de Janeiro', 'Muriaé', 'Niterói', 'Sinop', 'Porto Alegre', 'Novo Hamburgo', 'São Paulo', 'São Paulo', 'Juazeiro', \"Santa Bárbara D'Oeste\", 'Gravatá', 'Sumaré', 'Juazeiro do Norte', 'São José dos Pinhais', 'Parintins', 'Ipiranga', 'Macaé', 'Guaratinguetá', 'Cornélio Procópio', 'Embu das Artes', 'Santo Antônio da Platina', 'Vitória', 'Barbacena', 'Uberaba', 'Osasco', 'Marília', 'São Paulo', 'São Paulo', 'Brasília', 'Goiânia', 'Macapá', 'Itumbiara', 'Campinas', 'Brasília', 'Ferraz de Vasconcelos', 'Mossoró', 'Itabuna', 'Mogi das Cruzes', 'Curitiba', 'Vila Velha', 'Salvador', 'Duque de Caxias', 'Rio Das Ostras', 'Macapá', 'São Paulo', 'Juiz de Fora', 'Mogi das Cruzes', 'Diadema', 'Porto Velho', 'São Paulo', 'Juazeiro do Norte', 'Camacari', 'Rio de Janeiro', 'Candeias', 'Praia Grande', 'Rio Verde', 'Cravinhos', 'Imperatriz', 'Varzea Grande', 'Natal', 'Curitiba', 'Manaus', 'Felixlândia', 'Novo Hamburgo', 'Brasília', 'Manaus', 'São Bernardo do Campo', 'Açu', 'Campo Grande', 'Macaé', 'Porto Belo', 'Ourinhos', 'Gravatá', 'Caieiras', 'Serra', 'Taboão da Serra', 'São Paulo', 'Dourados', 'Balsas', 'Cornélio Procópio', 'Fazenda Rio Grande', 'Curitiba', 'Belo Horizonte', 'Londrina', 'Itumbiara', 'Rio Negrinho', 'Cachoeira do Sul', 'Ilhéus', 'Salvador', 'Alfenas', 'Belém', 'Jales', 'Eunapolis', 'Arapoti', 'Maricá', 'Fazenda Rio Grande', 'Patos', 'Ponta Grossa', 'Capão da Canoa', 'Mateus Leme', 'Umuarama', 'Boituva', 'Cariacica', 'Varginha', 'Guarapuava', 'Tuneiras do Oeste', 'Guarujá', 'Angra dos Reis', 'São Paulo', 'Lavras', 'Vinhedo', 'Santana', 'Curitiba', 'São Gonçalo', 'Santana de Parnaíba', 'Resende', 'Caucaia', 'Goiânia', 'São Paulo', 'Fortaleza', 'Feira de Santana', 'Londrina', 'Brasília', 'Gravataí', 'Chapecó', 'Petrópolis', 'Belém', 'São Paulo', 'Juazeiro', 'Rio Branco', 'São Luís', 'Assis', 'Belém', 'Blumenau', 'Embu das Artes', 'Belém', 'Hidrolândia', 'Belém', 'Cabo Frio', 'Salvador', 'Salvador', 'Pinhais', 'São João da Barra', 'Tailândia', 'Valparaíso de Goiás', 'Itumbiara', 'Cabo de Santo Agostinho', 'João Pessoa', 'Arcos', 'Brasília', 'Jundiaí', 'São Paulo', 'Salvador', 'Joinville', 'São Paulo', 'Uberlândia', 'Hortolândia', 'Imperatriz', 'Petrópolis', 'Porto Alegre', 'Brasília', 'Timbó', 'Irineópolis', 'Juazeiro do Norte', 'Canoinhas', 'Monte Alegre', 'Parnamirim', 'Limoeiro', 'Matinhos', 'Niterói', 'Santa Maria', 'São Paulo', 'Porto Velho', 'Belém', 'São Paulo', 'Piranhas', 'Ilhéus', 'Osasco', 'Igarassu', 'Goiânia', 'Sertanópolis', 'São Paulo', 'Maracanaú', 'Fortaleza', 'Taquara', 'Paranaguá', 'Belo Horizonte', 'Rio de Janeiro', 'Belo Horizonte', 'Goiânia', 'São Paulo', 'Maringá', 'Itamarandiba', 'Rio de Janeiro', 'Aparecida de Goiânia', 'Cotia', 'Capivari de Baixo', 'Rio de Janeiro', 'São Paulo', 'Rio Grande', 'Muriaé', 'Araucária', 'Niterói', 'São Paulo', 'São Paulo', 'Rio de Janeiro', 'Passo de Torres', 'Eunápolis', 'Maringá', 'São João da Barra', 'Santana', 'Florianópolis', 'Brasília', 'Rio de Janeiro', 'Cascavel', 'Salvador', 'Formosa', 'Cornélio Procópio', 'Brasília', 'São Sebastião', 'Cascavel', 'Colombo', 'Campo Grande', 'São Paulo', 'Cuiabá', 'Barroso', 'Jundiaí', 'Brasília', 'Quixada', 'Brasília', 'Ibiúna', 'Cabo de Santo Agostinho', 'Goiana', 'Rio de Janeiro', 'Brasília', 'Santa Rita do Passa Quatro', 'Francisco Morato', 'Campo Grande', 'São Bento do Sul', 'Mogi das Cruzes', 'Araraquara', 'São José', 'Ouro Verde do Oeste', 'Atibaia', 'Serra', 'Joinville', 'Feira de Santana', 'Dracena', 'Salvador', 'Pontal do Paraná', 'Brasília', 'Sinop', 'Muriaé', 'Varre-Sai', 'Salvador', 'Salvador', 'Pinheiral', 'Manaus', 'Registro', 'Olinda', 'Santo André', 'Aracaju', 'Florianópolis', 'Brasília', 'Salvador', 'Mesquita', 'São Paulo', 'Uberlândia', 'Itaperuçu', 'Campo Grande', 'Poá', 'Rio de Janeiro', 'Porto Velho', 'Presidente Epitácio', 'Pouso Alegre', 'São Paulo', 'Iguaba Grande', 'Carapicuíba', 'Petrópolis', 'Belo Horizonte', 'Ecoporanga', 'Embu das Artes', 'Cristalina', 'Aparecida', 'Macaé', 'Fortaleza', 'Ananindeua', 'Salvador', 'Uberaba', 'Rolândia', 'Pitimbu', 'Rio de Janeiro', 'João Lisboa', 'Jaguariuna', 'São Cristóvão', 'Guararema', 'Inaciolândia', 'Gravataí', 'Aparecida do Taboado', 'Rio de Janeiro', 'São Paulo', 'Várzea Paulista', 'São José dos Campos', 'São Paulo', 'Americana', 'Goiânia', 'Campina Grande', 'Apucarana', 'Aparecida de Goiânia', 'Balneário Arroio do Silva', 'Porto Alegre', 'Viamão', 'Americana', 'São João de Meriti', 'Rio de Janeiro', 'Rio Verde', 'Maringá', 'Joinville', 'Juiz de Fora', 'Santa Helena', 'Joinville', 'Goiatuba', 'Teresina', 'Passos', 'Sobral', 'Aparecida de Goiânia', 'Águas Lindas de Goiás', 'Londrina', 'Rio de Janeiro', 'Itajaí', 'Porto Alegre', 'São José dos Campos', 'Lagarto', 'Concordia', 'Camocim de São Félix', 'Paraíso do Tocantins', 'Mafra', 'São Paulo', 'São Paulo', 'Pelotas', 'Curitiba', 'Crateus', 'Rio de Janeiro', 'Patrocinio', 'Betim', 'Brasília', 'Curitiba', 'Cariacica', 'Petropolis', 'Jundiaí', 'Nossa Senhora do Socorro', 'Jaraguá do Sul', 'Rio de Janeiro', 'Vila Velha', 'Cabo de Santo Agostinho', 'Saquarema', 'Rio de Janeiro', 'Sales', 'Serra', 'Curitiba', 'Brasília', 'Maricá', 'Marília', 'Campo Grande', 'Carambeí', 'Surubim', 'Manaus', 'Vila Velha', 'Camaragibe', 'Descalvado', 'Avaré', 'Morretes', 'Itabuna', 'Jundiaí', 'Ribeira do Pombal', 'Marabá', 'Sumaré', 'Ijuí', 'São Paulo', 'Ibiporã', 'Diamantina', 'São Gonçalo', 'Rio de Janeiro', 'Rio de Janeiro', 'Presidente Epitácio', 'Rio de Janeiro', 'Santiago', 'Araucária', 'Nova Iguaçu', 'Bauru', 'Ribeirão Preto', 'Ribeirão Pires', 'Itaquaquecetuba', 'Mineiros', 'Mineiros', 'Rio Verde', 'Aguiar', 'Várzea Grande', 'Mogi das Cruzes', 'Gramado', 'Rio de Janeiro', 'Campina Grande', 'Dourados', 'Duque de Caxias', 'São Paulo', 'Olinda', 'Itabatan', 'São Paulo', 'São Paulo', 'Nova Lima', 'Caxias do Sul', 'Rio de Janeiro', 'Ubatuba', 'São José', 'Recife', 'Blumenau', 'Carnaubais', 'São Mateus', 'Recife', 'Mogi das Cruzes', \"Santa Bárbara D'Oeste\", 'São Paulo', 'Paracatu', 'São José dos Pinhais', 'Porto Seguro', 'Rio de Janeiro', 'Cotia', 'Ferraz de Vasconcelos', 'Magé', 'Resende', 'Imbaú', 'Cariacica', 'Duque de Caxias', 'São Paulo', 'São Gonçalo', 'Presidente Prudente', 'São Francisco do Sul', 'São Paulo', 'Volta Redonda', 'Campina Grande', 'Maceió', 'Manaus', 'Cabo Frio', 'Belém', 'Arraial do Cabo', 'São João de Meriti', 'Curitiba', 'Caraguatatuba', 'Campo Bom', 'Arapongas', 'Linhares', 'São Paulo', 'Fortaleza', 'Joinville', 'Brasília', 'São Bernardo do Campo', 'Palhoça', 'Presidente Prudente', 'Maringá', 'Florianópolis', 'Florianópolis', 'São Gonçalo', 'Catalão', 'Almirante Tamandaré', 'Rio de Janeiro', 'Guaiúba', 'Poços de Caldas', 'Angra dos Reis', 'Rio Branco', 'São Paulo', 'Paulínia', 'São José dos Pinhais', 'Itaborai', 'Niterói', 'Goiânia', 'Praia Grande', 'Rio Das Ostras', 'Ourinhos', 'Curitiba', 'Imbituba', 'São Paulo', 'Santo Estevão', 'Salvador', 'São Paulo', 'Umuarama', 'Mirassol', 'Mogi Guaçu', 'Candeias', 'Rio de Janeiro', 'São Paulo', 'Conceição do Araguaia', 'Niterói', 'Curitiba', 'Camacari', 'Cajati', 'São Gonçalo', 'São Carlos', 'Canoas', 'São Gonçalo', 'Campo Grande', 'Cabo Frio', 'Jataí', 'Tibau', 'São Luís', 'Avaí', 'Londrina', 'Sinop', 'Dourados', 'Caxias do Sul', 'São José', 'Colatina', 'Blumenau', 'Ponta Grossa', 'Araruama', 'Goiatuba', 'Muriaé', 'Barra Mansa', 'Curitiba', 'Teresina', 'Cebrasa', 'Porto Alegre', 'Cuiabá', 'Caçador', 'Osasco', 'Rio de Janeiro', 'Rio de Janeiro', 'Salvador', 'São Paulo', 'Cabo de Santo Agostinho', 'Nova Iguaçu', 'Santo André', 'Guaratinguetá', 'Maringá', 'Saquarema', 'Taubaté', 'São José dos Pinhais', 'Campo Grande', 'Niterói', 'Nossa Senhora das Graças', 'Porto Seguro', 'Ribeirão Preto', 'São Paulo', 'Niterói', 'Juazeiro', 'Curitiba', 'Cachoeira do Sul', 'Ourinhos', 'Campo Grande', 'Elias Fausto', 'Porto Alegre', 'Gaspar', 'Mineiros', 'Curitiba', 'Bagé', 'Macapá', 'Pelotas', 'Várzea Grande', 'Franca', 'Ponta Grossa', 'Ribeirão das Neves', 'Brasília', 'Itaboraí', 'Guarulhos', 'Rio de Janeiro', 'Araruama', 'Teresina', 'Crateús', 'Peruíbe', 'Rio de Janeiro', 'Brasília', 'Rondonópolis', 'Niterói', 'Marília', 'Mariana', 'Macapá', 'São Joaquim da Barra', 'Brasília', 'Aracaju', 'Bauru', 'Fortaleza', 'São João de Meriti', 'São Paulo', 'Resende', 'Catanduva', 'Arapiraca', 'Bertioga', 'Porto Alegre', 'São Leopoldo', 'Gravatá', 'Itapeva', 'Brasília', 'Erechim', 'Águas Lindas de Goiás', 'Camaragibe', 'Americana', 'Vitoria Da Conquista', 'Belo Horizonte', 'Brasília', 'Tupã', 'Macapá', 'Guarajuba', 'Jequié', 'Jarinu', 'Lençóis Paulista', 'Recife', 'São Francisco do Sul', 'Salvador', 'Pontal do Paraná', 'Linhares', 'Sorriso', 'Joinville', 'Rio de Janeiro', 'Boa Vista', 'Capinzal', 'Jataí', 'Diadema', 'Maceió', 'Alta Floresta', 'Olinda', 'São Paulo', 'Salvador', 'Brasília', 'Cotia', 'Brasília', 'Ribeirão Preto', 'Goianesia', 'São José dos Campos', \"Dias D'Ávila\", 'Embu das Artes', 'Bauru', 'São Paulo', 'São José dos Campos', 'Rio de Janeiro', 'São Paulo', 'Fortaleza', 'São Paulo', 'Anápolis', 'Paulo Afonso', 'Nova Iguaçu', 'Rio de Janeiro', 'Bento Gonçalves', 'Caçapava', 'Rio de Janeiro', 'Francisco Beltrão', 'Campinas', 'Barretos', 'Ararangua', 'Telêmaco Borba', 'Manaus', 'Porto Alegre', 'Concordia', 'Rio de Janeiro', 'Aracati', 'Teófilo Otoni', 'Humaitá', 'Rio de Janeiro', 'Campos dos Goytacazes', 'São José', 'Macapá', 'Jaguaruna', 'Balneário Camboriú', 'Cotia', 'São Paulo', 'Aracaju', 'Santo Antônio de Jesus', 'Rio Claro', 'Brasilia', 'Aracaju', 'Aparecida de Goiânia', 'Manaus', 'São Paulo', 'Cachoeira Dourada', 'Curitiba', 'Ilhéus', 'São Paulo', 'Canela', 'Resende', 'Petrópolis', 'Rio de Janeiro', 'Balneário Camboriú', 'Araraquara', 'Belo Horizonte', 'Araxá', 'Indaiatuba', 'Caratinga', 'Belford Roxo', 'Santos', 'Campo Limpo Paulista', 'Uberaba', 'Macapá', 'Caraguatatuba', 'Brasília', 'Salvador', 'Fortaleza', 'Canoas', 'São Paulo', 'Betim', 'Jaraguá', 'Ilhabela', 'São Paulo', 'Queimadas', 'Jaboatão dos Guararapes', 'Maceió', 'São Paulo', 'Maceió', 'Caruaru', 'Nova Tebas', 'Brasília', 'Goiana', 'Osasco', 'Recife', 'São Vicente', 'Praia Grande', 'Belém', 'Mauá', 'São Paulo', 'Ourinhos', 'Rondonópolis', 'Fortaleza', 'Cabo de Santo Agostinho', 'Luziânia', 'Vassouras', 'Jundiaí', 'Jundiaí', 'João Pessoa', 'São Paulo', 'Itapema', 'São José de Mipibu', 'São Paulo', 'Gaspar', 'Formosa', 'São Paulo', 'Palmas', 'Fortaleza', 'Serra', 'Piquete', 'Alfenas', 'Carapicuíba', 'Cascavel', 'Salgueiro', 'Serra', 'São Sebastião do Passe', 'Itapetininga', 'Rio Grande da Serra', 'São Paulo', 'Itumbiara', 'Itabuna', 'Fortaleza', 'Lençóis Paulista', 'Rio de Janeiro', 'Uberaba', 'Caxias', 'Salvador', 'Valparaíso de Goiás', 'Fortaleza', 'Fortaleza', 'São Paulo', 'Patrocinio', 'Maringá', 'São Paulo', 'Urupês', 'Recife', 'Caldas Novas', 'Serra', 'Osasco', 'Mauá', 'Recife', 'Mossoró', 'Branquinha', 'Fortaleza', 'Fortaleza', 'Brasília', 'Ararangua', 'Varzea Grande', 'Salvador', 'Recife', 'Londrina', 'Uberlândia', 'Sarandi', 'Brasília', 'Caldas Novas', 'Campo Grande', 'Passa Quatro', 'Ji-Paraná', 'Brasília', 'Maracanaú', 'Bateias', 'Conceição do Jacuípe', 'Anápolis', 'Aparecida de Goiânia', 'Tucuruí', 'Balneário Camboriú', 'Catu', 'São João Del Rei', 'Recife', 'Niterói', 'São Bernardo do Campo', 'Brasília', 'Jandira', 'Aracaju', 'São Paulo', 'Nossa Senhora do Socorro', 'Nossa Senhora do Socorro', 'São Francisco do Sul', 'Manaus', 'Guarulhos', 'Cruzeiro', 'Cariacica', 'Recife', 'Cruzeiro', 'Campinas', 'Satuba', 'Rio de Janeiro', 'Recife', 'Tupã', 'Indápolis', 'Juazeiro', 'Brasília', 'Suzano', 'Cajamar', 'Campinas', 'Caraguatatuba', 'São Paulo', 'Ipojuca', 'Camboriú', 'Vitória da Conquista', 'São Paulo', 'Araruama', 'Araruama', 'Guaxupé', 'Rio de Janeiro', 'Itatiba', 'Estancia Velha', 'São Paulo', 'Caldas Novas', 'Sete Lagoas', 'São José dos Campos', 'Campinas', 'Santos', 'Campinas', 'Salvador', 'São Gonçalo', 'Curitiba', 'Belo Horizonte', 'Matinhos', 'Matinhos', 'São José dos Pinhais', 'São Paulo', 'Cabo Frio', 'Itumbiara', 'Teresina', 'Rondonópolis', 'Nilópolis', 'Angra dos Reis', 'Santos Dumont', 'Recife', 'Piumhi', 'Indaiatuba', 'São João Del Rei', 'Taboão da Serra', 'Manaus', 'Indaiatuba', 'Serra', 'Rio Claro', 'Pederneiras', 'Salvador', 'Curitiba', 'Muriaé', 'Pederneiras', 'Maringá', 'Fortaleza', 'Maceió', 'Avaré', 'Timon', 'Macapá', 'Balneário Piçarras', 'Criciúma', 'Nova Iguaçu', 'Marília', 'Canoas', 'Itabaiana', 'Dourados', 'Vinhedo', 'Natal', 'Rio de Janeiro', 'São Paulo', 'Serrinha', 'Campina Grande', 'São Paulo', 'Rio de Janeiro', 'Piracicaba', 'Caxias do Sul', 'Limeira', 'Belo Horizonte', 'Recife', 'Itabuna', 'Palmas', 'Fortaleza', 'São Paulo', 'Recife', 'São Paulo', 'Aracaju', 'Canoas', 'Ouro Verde', 'Guaçuí', 'Salvador', 'Macapá', 'Rio de Janeiro', 'Rio de Janeiro', 'Presidente Prudente', 'Hortolândia', 'Elias Fausto', 'Francisco Beltrão', 'São Paulo', 'São José dos Campos', 'Vinhedo', 'São João de Meriti', 'São Paulo', 'Caruaru', 'Rio Verde', 'Goiânia', 'São Paulo', 'Brasília', 'Nova Olinda', 'Ilhéus', 'João Pessoa', 'Treze Tílias', 'Salvador', 'Seropédica', 'São Paulo', 'Magé', 'Vila Velha', 'Belém', 'Marechal Deodoro', 'Belo Horizonte', 'Magé', 'Mirandópolis', 'Niterói', 'Belo Horizonte', 'Resende', 'Santos', 'Barra Bonita', 'Itajaí', 'Vargem Grande Paulista', 'São Gonçalo', 'Florianópolis', 'São Gonçalo', 'Balsa Nova', 'São Paulo', 'Nova Iguaçu', 'Cachoeirinha', 'Lages', 'Três Lagoas', 'Cabo Frio', 'Valinhos', 'Mesquita', 'Aracaju', 'Marataízes', 'Olímpia', \"Santa Bárbara D'Oeste\", 'Guarulhos', 'Uberlândia', 'Rio de Janeiro', 'Criciúma', 'Mauá', 'Belém', 'Bauru', 'Campinas', 'Brasília', 'Iguaba Grande', \"Dias D'Ávila\", 'Porto Alegre', 'Araquari', 'Rio Grande', 'Brasília', 'Goiânia', 'Paulista', 'Altamira', 'São Paulo', 'São Paulo', 'Manaus', 'Sapé', 'Maricá', 'São Paulo', 'Rio de Janeiro', 'Mossoró', 'Sarandi', 'Rio de Janeiro', 'Belém', 'Águas Lindas de Goiás', 'Brusque', 'Campo Grande', 'Porto Alegre', 'São Paulo', 'Lençóis Paulista', 'Barra do Piraí', 'Fortaleza', 'Petrolina', 'Paiçandu', 'Abreu E Lima', 'Buritama', 'Salvador', 'Caruaru', 'Joinville', 'Pontal do Paraná', 'Rio de Janeiro', 'Rio Branco', 'Araranguá', 'São Paulo', 'Uberlândia', 'Boa Vista', 'Porto Velho', 'Campinas', 'Cascavel', 'Açu', 'Porto Alegre', 'Aracaju', 'Campina Grande', 'Juiz de Fora', 'Campinas', 'Vinhedo', 'São João Del Rei', 'Ilha Comprida', 'Curitiba', 'Rio de Janeiro', 'Boa Vista', 'Aracaju', 'Brasília', 'Rio de Janeiro', 'Petrolina', 'Rio de Janeiro', 'Santo Antônio da Platina', 'São José', 'Brasília', 'Serra', 'Rio de Janeiro', 'Jundiaí', 'Gramado', 'São José do Belmonte', 'Bauru', 'São Gonçalo', 'Niterói', 'Vila Velha', 'Belo Horizonte', 'Pelotas', 'São Paulo', 'Serra', 'Guarulhos', 'São Paulo', 'Rio de Janeiro', 'João Monlevade', 'São Paulo', 'Telêmaco Borba', 'Brasília', 'Monte Mor', 'Pouso Alegre', 'Campo Mourão', 'Rio de Janeiro', 'Curitiba', 'Manaus', 'Salvador', 'Brasília', 'Dourados', 'Rolandia', 'Goianesia', 'Marabá', 'Florianópolis', 'Salvador', 'São Carlos', 'Volta Redonda', 'Belém', 'Bragança Paulista', 'Joinville', 'São Paulo', 'São Paulo', 'Campinas', 'Duartina', 'Rio de Janeiro', 'Jaraguá do Sul', 'Suzano', 'Bauru', 'Ourinhos', 'Botucatu', 'Barra do Piraí', 'Recife', 'Campo Grande', 'Sapucaia do Sul', 'São Paulo', 'Rio de Janeiro', 'Recife', 'Tatuí', 'São Paulo', 'Breu Branco', 'Capivari', 'São Paulo', 'Serra', 'Taboão da Serra', 'Recife', 'Natal', 'Divinópolis', 'São Sebastião', 'Ilhabela', 'Ilhabela', 'Hortolândia', 'Arujá', 'São Paulo', 'Jaboatão dos Guararapes', 'São Leopoldo', 'Catanduva', 'Mogi das Cruzes', 'Toledo', 'Nova Iguaçu', 'Cotia', 'Macapá', 'Rio de Janeiro', 'Aguiarnópolis', 'Marituba', 'Tiradentes', 'Brasília', 'Parnamirim', 'Palhoça', 'Araraquara', 'São Paulo', 'Seropédica', 'Campinas', 'Pinhais', 'Recife', 'Limeira', 'Três Lagoas', 'Goiânia', 'Mogi das Cruzes', 'Jaci Paraná', 'Rio de Janeiro', 'São Paulo', 'Itaboraí', 'São Luís', 'Jatai', 'São Paulo', 'Belo Horizonte', 'Rio de Janeiro', 'Itajubá', 'São Caetano do Sul', 'São Luís', 'Cuiabá', 'Rosário do Sul', 'Curitiba', 'Mossoró', 'Imperatriz', 'Brasília', 'Magé', 'Maceió', 'Rio Claro', 'Chapecó', 'Rio Bonito', 'João Câmara', 'Caçador', 'São Luís', 'Estância Velha', 'Itajaí', 'Recife', 'Rodeio', 'Brasília', 'Recife', 'Esperança', 'N/D', 'Curitiba', 'Recife', 'São José do Rio Preto', 'Nova Friburgo', 'Foz do Iguaçu', 'Piraju', 'Salvador', 'Araguari', 'João Pessoa', 'São Luís', 'Magé', 'Manaus', 'Rondon', 'São Paulo', 'Londrina', 'Osasco', 'São Luís', 'Taubaté', 'Pinhais', 'Carambeí', 'Rio de Janeiro', 'Campo Grande', 'Duque de Caxias', 'Caruaru', 'São Paulo', 'Olinda', 'Curitiba', 'São Paulo', 'São Paulo', 'São Paulo', 'São Paulo', 'Brasília', 'Cascavel', 'São Paulo', 'Rio de Janeiro', 'Penapolis', 'Bauru', 'João Pessoa', 'Guarulhos', 'Jaú', 'Ilheus', 'Cachoeiras de Macacu', 'Juiz de Fora', \"São João do Pau d'Alho\", 'Itapetininga', 'Belo Horizonte', 'Boa Vista', 'Porto Alegre', 'Manaus', 'São Paulo', 'Porto Alegre', 'Belém', 'Pinhais', 'Cordeirópolis', 'Penapolis', 'Itatiaia', 'Tucuruí', 'Ribeirão Preto', 'Salvador', 'Capitão Leônidas Marques', 'Curitiba', 'São Paulo', 'São Francisco do Conde', 'Manaus', 'Aparecida de Goiânia', 'Rondonópolis', 'Brasília', 'Guarapari', 'Natal', 'Araruama', 'Balneário Camboriú', 'Craíbas', 'Fortaleza', 'Natal', 'Ibaiti', 'Bauru', 'Mogi das Cruzes', 'São Paulo', 'Rio de Janeiro', 'Cuiabá', 'Rio de Janeiro', 'Barra de São João', 'Arujá', 'Rio de Janeiro', 'Monte Mor', 'Embu das Artes', 'Goiânia', 'Ibiporã', 'Fortaleza', 'Barra de São João', 'São Paulo', 'Pouso Alegre', 'Januária', 'Porto Velho', 'Teixeira de Freitas', 'Valinhos', 'Juiz de Fora', 'Pedra Branca', 'Jundiaí', 'Macaé', 'São Bernardo do Campo', 'Taubaté', 'São José do Rio Pardo', 'Barueri', 'São José dos Campos', 'Brusque', 'Salvador', 'Maringá', 'Sarandi', 'Afogados da Ingazeira', 'Feira de Santana', 'Delfim Moreira', 'Rio de Janeiro', 'Itajubá', 'Serra', 'Brasília', 'Rio de Janeiro', 'Mogi das Cruzes', 'Anápolis', 'Wagner', 'Londrina', 'Campinas', 'Contagem', 'Tietê', 'Porto Alegre', 'Paulista', 'Planaltina', 'Rio de Janeiro', 'Juiz de Fora', 'Imperatriz', 'Rio de Janeiro', 'Porto Alegre', 'Atibaia', 'Belém', 'Goiânia', 'Lucianópolis', 'Guaratinguetá', 'Ananindeua', 'Piúma', 'Sorocaba', 'João Pessoa', 'Penápolis', 'Maceió', 'Araçatuba', 'Governador Valadares', 'Foz do Iguaçu', 'Ilhéus', 'Recife', 'Fortaleza', 'Santo Antonio De Jesus', 'São Paulo', 'Taubaté', 'Curitiba', 'São José do Rio Preto', 'Itaperuna', 'Marília', 'Cajamar', 'Registro', 'Rosário do Sul', 'Eunápolis', 'Porto Alegre', 'São Luís', 'Araruama', 'Brasília', 'Curitiba', 'Brasília', 'Alpinópolis', 'Recife', 'Magé', 'Caçapava', 'João Pessoa', 'Canarana', 'Rio Claro', 'São João da Barra', 'Bauru', 'Bayeux', 'Nova Serrana', 'Cacoal', 'São Lourenço do Oeste', 'Porto Velho', 'Feira de Santana', 'Brasília', 'Salvador', 'Camacari', 'Fortaleza', 'Rio de Janeiro', 'Cariacica', 'Rio das Ostras', 'Curitiba', 'Brasília', 'Alagoinhas', 'Carapicuíba', 'Andradina', 'Jaramataia', 'Paulista', 'Indaiatuba', 'Manaus', 'Suzano', 'Carapicuíba', 'São Paulo', 'Salvador', 'Recife', 'Chapecó', 'Balneário Piçarras', 'Brasília', 'Barreiras', 'Brasília', 'Campo Grande', 'Peruíbe', 'Goiânia', 'Igarassu', 'Camamu', 'Manaus', 'Jaraguá do Sul', 'Curitiba', 'São Paulo', 'Curitiba', 'Marília', 'São Paulo', 'Flores da Cunha', 'Mogi das Cruzes', 'Riachuelo', 'Fortaleza', 'Curitiba', 'São Joaquim da Barra', 'Itapetininga', 'Hortolândia', 'Boa Vista', 'Rio Largo', 'Florianópolis', 'Uberlândia', 'Cachoeira Paulista', 'Goiânia', 'Abreu e Lima', 'Caraguatatuba', 'São Paulo', 'Itajaí', 'São Paulo', 'Santos', 'Realeza', 'Ponta Grossa', 'Castanhal', 'Rio de Janeiro', 'Cachoeirinha', 'São José do Rio Preto', 'Florianópolis', 'Ananindeua', 'Fortaleza', 'Fortaleza', 'Belo Horizonte', 'Itatiaia', 'Itajubá', 'Belo Horizonte', 'Taubaté', 'Guarulhos', 'Palhoça', 'Brasília', 'Aracaju', 'Brasília', 'Jaboatão dos Guararapes', 'Curitiba', 'Valparaíso de Goiás', 'Rio de Janeiro', 'São Paulo', 'Resende Costa', 'Nossa Senhora do Socorro', 'Nossa Senhora do Socorro', 'São Paulo', 'Cariacica', 'Sorocaba', 'Salvador', 'São Paulo', 'Rio de Janeiro', 'Linhares', 'São Paulo', 'Londrina', 'Joinville', 'Teresina', 'Criciúma', 'Cachoeiro de Itapemirim', 'Barra do Choça', 'Camboriu', 'Cascavel', 'Belo Horizonte', 'Novo Hamburgo', 'Araruama', 'Sorocaba', 'Bauru', 'São Luís', 'Aparecida de Goiânia', 'Sarandi', 'Araguaína', 'Brasília', 'São Gonçalo', 'Brasília', 'São João de Meriti', 'Camacari', 'Belo Horizonte', 'Itumbiara', 'Brasília', 'Jaraguá do Sul', 'Diadema', 'Pedro II', 'São Paulo', 'Macapá', 'Brasília', 'Manaus', 'Belo Horizonte', 'Londrina', 'Goiânia', 'Carpina', 'Rio de Janeiro', 'Petrolina', 'Toledo', 'Salvador', 'Petrópolis', 'Ubatuba', 'Araguaína', 'Timbó', 'Belo Horizonte', 'Belford Roxo', 'Londrina', 'Olinda', 'Candeias', 'Ituiutaba', 'Curitiba', 'Ferraz de Vasconcelos', 'Santo André', 'Petrolina', 'Salvador', 'Boa Vista', 'Fortaleza', 'Cabeceira Grande', 'São Caetano do Sul', 'Rio de Janeiro', 'Rio de Janeiro', 'Domingos Martins', 'Itaquaquecetuba', 'Serra', 'Goiânia', 'São Vicente', 'Rio de Janeiro', 'Blumenau', 'Maceió', 'Salvador', 'Recife', 'São Gonçalo', 'Viamão', 'Curitiba', 'Arapiraca', 'Vitória', 'Ilhéus', 'Rio de Janeiro', 'Alagoinhas', 'Petrópolis', 'Aparecida De Goiania', 'Brasília', 'Boa Esperança', 'Arapiraca', 'Natal', 'Serra', 'São Gonçalo', 'Goiânia', 'Santa Rita', 'Votuporanga', 'Marília', 'Maringá', 'Campina Grande', 'São Paulo', 'São Paulo', 'Salvador', 'Palmas', 'Lençóis Paulista', 'Sarandi', 'Rio de Janeiro', 'Blumenau', 'São Carlos', 'Curitiba', 'Itabatan', 'Ji-Paraná', 'Rio de Janeiro', 'Registro', 'São Paulo', 'Teresina', 'Campos dos Goytacazes', 'Cariacica', 'Barra do Jacuípe', 'Vitória', 'São Paulo', 'Curitiba', 'São Vicente', 'Descalvado', 'São Luís', 'Várzea Grande', 'Itumbiara', 'São Bernardo do Campo', 'Macaé', 'Volta Redonda', 'Piranhas', 'Serra Talhada', 'São Gonçalo', 'Rio Real', 'Maceió', 'Lauro De Freitas', 'São Leopoldo', 'Curitiba', 'Porto Belo', 'Rio de Janeiro', 'São Paulo', 'Macaé', 'Guarapari', 'Braço do Rio', 'Rio de Janeiro', 'Brasília', 'Maceió', 'Brasília', 'Fortaleza', 'Itapema', 'Telêmaco Borba', 'Votuporanga', 'Bom Jesus do Itabapoana', 'Três Lagoas', 'Palmas', 'Campos dos Goytacazes', 'Ponta Grossa', 'São Paulo', 'Porto Alegre', 'Penápolis', 'Rio de Janeiro', 'Recife', 'Luziânia', 'Campina Grande', 'Maracanaú', 'Duque de Caxias', 'Rio de Janeiro', 'Fortaleza', 'Rio de Janeiro', 'Avaré', 'João Pessoa', 'Paripueira', 'Cerquilho', 'São José do Rio Preto', 'Terra de Areia', 'Manaus', 'Novo Hamburgo', 'Campo Grande', 'Nova Iguaçu', 'Belém', 'Rio de Janeiro', 'Timbó', 'Gravatal', 'São João de Meriti', 'Goiânia', 'Rio de Janeiro', 'Vitória da Conquista', 'Londrina', 'Salvador', 'Itatiba', 'Barretos', 'Adamantina', 'Niterói', 'Nova Olinda', 'Ipatinga', 'Barreiras', 'São Paulo', 'Taubaté', 'Fortaleza', 'Porto Alegre', 'Manaus', 'Gramado', 'São Paulo', 'Sao Paulo', 'Rio de Janeiro', 'Itumbiara', 'Cascavel', 'Fortaleza', 'Pancas', 'Pedreira', 'São Pedro da Aldeia', 'Macaé', 'Anapolis', 'Mogi das Cruzes', 'São Paulo', 'Aparecida de Goiânia', 'São João de Meriti', 'Rio de Janeiro', 'Canoas', 'Curitiba', 'São Gonçalo', 'Fortaleza', 'Imbituba', 'Presidente Prudente', 'Arapongas', 'Valparaíso de Goiás', 'Natal', 'São Paulo', 'Brasília', 'Joinville', 'Fortaleza', 'Guarulhos', 'Nova Iguaçu', 'Cachoeira Dourada', 'São Paulo', 'São Luís', 'Goiânia', 'Bauru', 'Nova Iguaçu', 'Santos', 'Santa Rita', 'São Paulo', 'Dourados', 'Boa Vista', 'Rio de Janeiro', 'São Lourenço', 'Recife', 'Osasco', 'Rio de Janeiro', 'Saquarema', 'Goiânia', 'Jundiaí', 'Belo Horizonte', 'Ubatuba', 'Amanari', 'Macapá', 'José Bonifácio', 'Itatiaia', 'Magé', 'Rio de Janeiro', 'São Paulo', 'Bady Bassitt', 'Aracaju', 'Erechim', 'Volta Redonda', 'Rio de Janeiro', 'Rio de Janeiro', 'Foz do Iguaçu', 'Porto Alegre', 'Caraguatatuba', 'Eunápolis', 'Rio Grande', 'São Paulo', 'Rio de Janeiro', 'Rio Claro', 'Quedas do Iguaçu', 'Itaquaquecetuba', 'Feira de Santana', 'Uruguaiana', 'Fortaleza', 'Santos', 'São Carlos', 'Franca', 'Maringá', 'Jequié', 'Feira de Santana', 'Dourados', 'Umuarama', 'Salvador', 'Natal', 'Goiania', 'Curitiba', 'Anicuns', 'Cuiabá', 'São Luís', 'Aparecida de Goiânia', 'Brasília', 'Fortaleza', 'Araguaína', 'Auriflama', 'Guarujá', 'Goitacazes', 'Rio de Janeiro', 'Rio das Ostras', 'Itajubá', 'Indaiatuba', 'Alvorada', 'Camacari', 'São Paulo', 'Catanduva', 'São Paulo', 'Londrina', 'Florianópolis', 'Serra', 'Curitiba', 'Rio de Janeiro', 'Florianópolis', 'Serra', 'Imperatriz', 'Natal', 'Arraial do Cabo', 'Cravinhos', 'Arraial do Cabo', 'Cruzeiro', 'Belém', 'Catalão', 'Rio de Janeiro', 'Embu das Artes', 'São Paulo', 'Aracaju', 'Rio de Janeiro', 'Navegantes', 'Brasília', 'Juiz de Fora', 'Barroso', 'Casimiro de Abreu', 'Rio Claro', 'Esteio', 'Joinville', 'Itumbiara', 'Rio de Janeiro', 'Navegantes', 'São Francisco da Praia', 'Messias', 'Fortaleza', 'Araçatuba', 'Messias', 'Nova Iguaçu', 'Rio Branco do Sul', 'Jequié', 'Porto Alegre', 'Uberaba', 'São Paulo', 'Londrina', 'Nilópolis', 'Foz do Iguaçu', 'São Luís', 'Codó', 'Cariacica', 'Cascavel', 'Catanduva', 'Curitiba', 'Pontal do Paraná', 'Indaiatuba', 'Corbélia', 'Fortaleza', 'Porto Velho', 'Rio de Janeiro', 'Catalão', 'Canoas', 'Maceió', 'Itajubá', 'Rio de Janeiro', 'Anápolis', 'Ponta Grossa', 'São Paulo', 'Ilhéus', 'Guarulhos', 'Formiga', 'Jaraguá do Sul', 'Tocos', 'São Gonçalo', 'Praia Grande', 'Primavera do Leste', 'Brasília', 'Teresópolis', 'Matinhos', 'São Paulo', 'Campo Grande', 'São José', 'São Paulo', 'São Paulo', 'Santos', 'São João de Meriti', 'Campinas', 'Ceará-Mirim', 'Nova Cruz', 'Guarulhos', 'Marília', 'São Paulo', 'Cuiabá', 'Uberlândia', 'Travessão', \"Santa Bárbara D'Oeste\", 'Campinas', 'Curitiba', 'São Paulo', 'Ouro Preto', 'Balneário Piçarras', 'Serra Talhada', 'Caldas Novas', 'Belo Horizonte', 'Mogi das Cruzes', 'Belém', 'Mesquita', 'Rio de Janeiro', 'São Paulo', 'Novo Hamburgo', 'Paranacity', 'São Paulo', 'Patos de Minas', 'Ilhéus', 'Paranacity', 'Iguaba Grande', 'Brasília', 'Juiz de Fora', 'Astorga', 'Teresina', 'Unai', 'Rio de Janeiro', 'São Lourenço da Mata', 'Rio de Janeiro', 'Araguari', 'Feira de Santana', 'Taquari', 'Pirenópolis', 'Alfenas', 'Governador Valadares', 'Gaspar', 'Presidente Prudente', 'São Paulo', 'Nova Friburgo', 'Valparaíso de Goiás', 'Niterói', 'João Pessoa', 'Uberlândia', 'São Paulo', 'Curitiba', 'Linhares', 'Curitiba', 'Itajaí', 'Santa Rita', 'Piraju', 'Joinville', 'São Paulo', 'Floresta do Sul', 'Jaboatão dos Guararapes', 'Itaquaquecetuba', 'Rio de Janeiro', 'Parnamirim', 'Colombo', 'Estancia Velha', 'Campinas', 'Alta Floresta', 'Assis Chateaubriand', 'Florianópolis', 'Fortaleza', 'São Paulo', 'São Paulo', 'Rio de Janeiro', 'Rio de Janeiro', 'Santos', 'Santos', 'Joinville', 'Curitiba', 'Sorocaba', 'Canela', 'Rio de Janeiro', 'Sorocaba', 'Arraial do Cabo', 'Rio de Janeiro', 'Ipojuca', 'Andradina', 'Goiânia', 'Suzano', 'Guarulhos', 'São Paulo', 'Suzano', 'Curitiba', 'Caxias do Sul', 'Salto de Pirapora', 'Rio de Janeiro', 'Franca', 'Cuiabá', 'Orleans', 'São Paulo', 'Assis Chateaubriand', 'Queimados', 'São Gonçalo', 'Anápolis', 'Indaiatuba', 'Candeias', 'Guarulhos', 'Brasília', 'Tucuruí', 'Belém', 'Balneário Camboriú', 'Santo André', 'Angra dos Reis', 'Rio Preto da Eva', 'Porto Velho', 'São Paulo', 'Paraisópolis', 'Cidreira', 'Manaus', 'São Luís', 'Goiânia', 'Planaltina', 'Governador Valadares', 'São Roque', 'Rio de Janeiro', 'São Paulo', 'Petrolina', 'Boqueirão', 'Brasília', 'São Paulo', 'Rio Claro', 'Rio de Janeiro', 'Rio de Janeiro', 'Presidente Kennedy', 'Piraquara', 'Piraquara', 'Cabo Frio', 'Rio de Janeiro', 'São Paulo', 'Rio de Janeiro', 'Mossoró', 'Açailândia', 'Florianópolis', 'São Paulo', 'Pitangueiras', 'Pindamonhangaba', 'Porto Velho', 'Governador Valadares', 'São João de Meriti', 'São Paulo', 'Anápolis', 'Recife', 'Pirassununga', 'São Paulo', 'São Paulo', 'Teresópolis', 'Maracanaú', 'Campo Limpo Paulista', 'Maringá', 'Primavera do Leste', 'Fortaleza', 'Três Pontas', 'Fortaleza', 'Contagem', 'Luiz Alves', 'Campo Grande', 'Caiuá', 'Cambé', 'Praia Grande', 'Duque de Caxias', 'Custódia', 'Rio de Janeiro', 'Francisco Morato', 'Sobral', 'São Paulo', 'Porto União', 'Jaguariúna', 'Redenção', 'Porto Alegre', 'Pirassununga', 'Sorocaba', 'Aracaju', 'Itanhaém', 'Jaraguá do Sul', 'Porto Alegre', 'Mãe do Rio', 'Barreiras', 'Rio de Janeiro', 'Itatiaia', 'Rio Branco', 'Blumenau', 'Terra Roxa', 'Sumaré', 'Luís Eduardo Magalhães', 'São Paulo', 'Guarulhos', 'Papucaia', 'Piraquara', 'Pindamonhangaba', 'Diadema', 'Montes Claros', 'São Sebastião', 'Curitiba', 'Salvador', 'Gaspar', 'Rio de Janeiro', 'Colombo', 'Americana', 'Lavras', 'Barbalha', 'Teófilo Otoni', 'Rio de Janeiro', 'São José do Barreiro', 'Guaratinguetá', 'São Paulo', 'Nova Friburgo', 'Belém', 'Balneário Camboriú', 'Natal', 'São José dos Campos', 'Planaltina', 'Aracaju', 'Nova Friburgo', 'Governador Valadares', 'Caturaí', 'Joinville', 'São Gonçalo', 'Novo Horizonte', 'Pinhais', 'Manaus', 'São Luís', 'São Bernardo do Campo', 'Lages', 'Sarandi', 'Camacari', 'Alvorada', 'Brasília', 'Belo Horizonte', 'Florianópolis', 'São José dos Pinhais', 'Ilhéus', 'Viamão', 'São Paulo', 'Cachoeiras de Macacu', 'Ribeirão Pires', 'São Luís', 'São Paulo', 'Ribeirão das Neves', 'Santos', 'Florianópolis', 'São Paulo', 'Porto Alegre', 'Porto Alegre', 'Olinda', 'Senador Canedo', 'Taiobeiras', 'Belo Horizonte', 'Florianópolis', 'Apucarana', 'Osvaldo Cruz', 'Caxias do Sul', 'Teresópolis', 'Nossa Senhora do Socorro', 'Juquitiba', 'Curitiba', 'Conceição da Barra', 'Santa Maria', 'Curitiba', 'Chorozinho', 'Aracaju', 'Foz do Iguaçu', 'Cristalina', 'Taquari', 'Tres Coracoes', 'Ibiúna', 'Porto Alegre', 'Mogi das Cruzes', 'Pirajuí', 'São Luís', 'Cuiabá', 'Curitiba', 'Timbó', 'Juazeiro Do Norte', 'Sorocaba', 'Ourinhos', 'Ipiaú', 'Balneário Camboriú', 'Rio de Janeiro', 'São Paulo', 'São José dos Pinhais', 'São Paulo', 'Salvador', 'Campinas', 'Santarém', 'Jaraguá do Sul', 'Natal', 'Erechim', 'Itamonte', 'Santo André', 'Curitiba', 'São Gonçalo', 'Duque de Caxias', 'Juiz de Fora', 'Piracicaba', 'Pitangueiras', 'Osasco', 'Cotia', 'Belém', 'Araçatuba', 'Tupã', 'Paranaguá', 'Francisco Morato', 'Porto Belo', 'Manaus', 'Brasília', 'Guarujá', 'Castanhal', 'Macapá', 'São José dos Campos', 'Anápolis', 'Tabapuã', 'Matão', 'Feira de Santana', 'Cerquilho', 'Niteroi', 'Belém', 'Rio de Janeiro', 'Araruama', 'Araruama', 'Santo Antônio da Platina', 'Fortaleza', 'São João de Meriti', 'Rio de Janeiro', 'Timbó', 'Osasco', 'Perdizes', 'São Paulo', 'São Bento do Sapucaí', 'Serra', 'Balneário Camboriú', 'Guararema', 'São Paulo', 'Brasília', 'Niterói', 'Diadema', 'Vinhedo', 'Salvador', 'Maracanaú', 'Salvador', 'Rio de Janeiro', 'Sumaré', 'São Bernardo do Campo', 'Pinhais', 'Goiânia', 'Magé', 'Belo Horizonte', 'Pindamonhangaba', 'Guarulhos', 'Rio de Janeiro', 'Colombo', 'São Paulo', 'Rio de Janeiro', 'Brasília', 'Cruz das Almas', 'Palmas', 'Maricá', 'Lages', 'Olinda', 'Goiânia', 'Ibaté', 'Viana', 'Jaguariuna', 'Uberlândia', 'Águas Lindas de Goiás', 'Olinda', 'Rio de Janeiro', 'Niterói', 'Arapiraca', 'São Paulo', 'Rio de Janeiro', 'Curitiba', 'Macapá', 'Fortaleza', 'Porto Alegre', 'Goiânia', 'Castanhal', 'Pindorama', 'Miguel Pereira', 'Cuiabá', 'Pindorama', 'Cuiabá', 'Venâncio Aires', 'Jataí', 'São Paulo', 'João Pessoa', 'São Bernardo do Campo', 'Ipojuca', 'Campo Grande', 'Fortaleza', 'Brasília', 'Hortolândia', 'São João da Boa Vista', 'Jaboatão dos Guararapes', 'Pinhais', 'Aracaju', 'Juazeiro', 'Paracatu', 'Teresina', 'Sapucaia do Sul', 'Uberlândia', 'Arapongas', 'Franco da Rocha', 'Eldorado', 'São Paulo', 'Primavera do Leste', 'Curitiba', 'Praia Grande', 'Conceição da Barra', 'São Paulo', 'Nossa Senhora do Socorro', 'Belo Horizonte', 'Brasília', 'Caucaia', 'Uberaba', 'Nova Iguaçu', 'Campinas', 'São Paulo', 'Anchieta', 'Ananindeua', 'Londrina', 'Jequié', 'Mogi das Cruzes', 'São Paulo', 'São Paulo', 'Limeira', 'Cristalina', 'Macaé', 'Londrina', 'Petrópolis', 'Guarulhos', 'Ananindeua', 'Salto', 'Belo Horizonte', 'Conceição do Jacuípe', 'Rio de Janeiro', 'Canela', 'São Pedro da Aldeia', 'São Paulo', 'São Paulo', 'Caldas Novas', 'Ponta Grossa', 'Barra Mansa', 'Brasília', 'São José', 'São José', 'São Paulo', 'Xaxim', 'Embu das Artes', 'Navegantes', 'Rio Bonito', 'Feira de Santana', 'Indaiatuba', 'Aparecida de Goiânia', \"Diamante d'Oeste\", 'Juiz de Fora', 'Tramandaí', 'Rio de Janeiro', 'São Paulo', 'Rio Branco', 'Campinas', 'Rio de Janeiro', 'Uberlândia', 'Rio de Janeiro', 'Conselheiro Lafaiete', 'Araucária', 'Magé', 'Uberlândia', 'São Gonçalo', 'Brasília', 'Teresópolis', 'São Gonçalo', 'Contagem', 'Patrocínio', 'Frutal', 'Aracaju', 'Cuiabá', 'Guarulhos', 'Serrinha', 'Guarulhos', 'Arujá', 'Curitiba', 'Pinhais', 'Araripina', 'Brasília', 'São Paulo', 'Maracanaú', 'Campinas', 'Canoas', 'Guarulhos', 'Feira de Santana', 'São Paulo', 'Formosa', 'Maceió', 'Sooretama', 'Juiz de Fora', 'Itapoá', 'Matão', 'Ponta Grossa', 'Castanhal', 'Simões Filho', 'Brasília', 'Salvador', 'Uberaba', 'Imperatriz', 'Maracanaú', 'Campina Grande', 'São Paulo', 'Rio de Janeiro', 'Rio de Janeiro', 'Cachoeiro de Itapemirim', 'São Paulo', 'Feira de Santana', 'Valparaíso de Goiás', 'São José do Rio Preto', 'Catalão', 'Ibitinga', 'São Luís', 'Campo Grande', 'Guarulhos', 'Brasília', 'Colorado', 'Sorocaba', 'Campinas', 'Nova Prata do Iguaçu', 'Feira de Santana', 'Rio de Janeiro', 'Brasília', 'São Paulo', 'São Paulo', 'Araruama', 'Itu', 'Divinópolis', 'Uberlândia', 'Rio de Janeiro', 'Valparaíso de Goiás', 'Rio Branco', 'Mogi das Cruzes', 'Salvador', 'Macaé', 'Japeri', 'Teresina', 'Fortaleza', 'São Vicente', 'Maringá', 'Mossoró', 'Nova Friburgo', 'Recife', 'Manaus', 'Igarassu', 'Águas Lindas de Goiás', 'Bom Despacho', 'São Carlos', 'Umuarama', 'São Bernardo do Campo', 'Belo Horizonte', 'Campinas', 'Francisco Beltrão', 'Aracruz', 'Indaiatuba', 'Francisco Beltrão', 'Castanhal', 'Aracaju', 'Ubatuba', 'Salvador', 'Duque de Caxias', 'Pedreira', 'Goiânia', 'Medianeira', 'Telêmaco Borba', 'Trancoso', 'Campo Novo do Parecis', 'Santa Isabel', 'Cuiabá', 'Toritama', 'Bariri', 'Horizonte', 'Curitiba', 'Manaus', 'Aracaju', 'São Paulo', 'São Gonçalo do Amarante', 'Formosa', 'Porto Alegre', 'São Paulo', 'Porto Seguro', 'Curitiba', 'Fortaleza', 'Belford Roxo', 'Guarulhos', 'Pariquera-Açu', 'São Paulo', 'Teresina', 'Arujá', 'Porto Alegre', 'Juazeiro', 'Salvador', 'Campinas', 'Feira de Santana', 'Fortaleza', 'Belém', 'Petrolina', 'São Luís', 'Santos', 'Valparaíso de Goiás', 'Sobral', 'Cascavel', 'Cajazeiras', 'Juiz de Fora', 'Bragança Paulista', 'Bayeux', 'Mesquita', 'Natal', 'Atibaia', 'Caldas Novas', 'Brasília', 'Uberlândia', 'Bento Gonçalves', 'São Paulo', 'Teixeira De Freitas', 'Guaíra', 'Salvador', 'Guarujá', 'Rio Grande', 'Pindamonhangaba', 'Campinas', 'Brasília', 'Rio de Janeiro', 'Porangaba', 'Chapecó', 'Pederneiras', 'Rio Claro', 'Carapicuíba', 'Pedreira', 'Cuiabá', 'Araguaína', 'Saquarema', 'Sorocaba', 'São Paulo', 'Uberaba', 'São Paulo', 'Jaboatão dos Guararapes', 'Santana', 'Petrópolis', 'Peruíbe', 'São Paulo', 'São Paulo', 'Francisco Beltrão', 'Alagoinhas', 'Belo Horizonte', 'Rio das Ostras', 'Fortaleza', 'Maringá', 'Ribeirão', 'Goianésia', 'Campo Bom', 'Jaguaripe', 'Araçatuba', 'Brasília', 'Franca', 'Itaperuna', 'Salvador', 'Campinas', 'Fraiburgo', 'Brasília', 'Atibaia', 'São José dos Pinhais', 'Goiânia', 'Jaboticabal', 'Sorocaba', 'Esteio', 'Osasco', 'Balneário Camboriú', 'Itumbiara', 'Brusque', 'São Paulo', 'Itaguaí', 'Linhares', 'Brasília', 'Caruaru', 'Campina Grande do Sul', 'Brasília', 'Suzano', 'Camacari', 'Brasília', 'Canoas', 'Duque de Caxias', 'Duque de Caxias', 'Sorocaba', 'Goiana', 'Feira de Santana', 'São José dos Pinhais', 'Pelotas', 'Mogi das Cruzes', 'Feira de Santana', 'Belém', 'Natal', 'Fortaleza', 'Rio de Janeiro', 'Rio de Janeiro', 'Arneiroz', 'Fortaleza', 'Ribeirão das Neves', 'Santo Antônio da Patrulha', 'São Paulo', 'Cruzeiro', 'Juiz de Fora', 'Caceres', 'Três Lagoas', 'Florianópolis', 'Recife', 'Ituiutaba', 'São Paulo', 'Salvador', 'Osório', 'Toledo', 'Manaus', 'Itapeva', 'Porto Seguro', 'Cabo Frio', 'Balneário Camboriú', 'Guarulhos', 'Porto Alegre', 'Fortaleza', 'Santa Rita do Sapucaí', 'Aparecida de Goiânia', 'Eunápolis', 'Ji-Paraná', 'Telêmaco Borba', 'Brasília', 'Patrocínio', 'Ibiporã', 'Rio de Janeiro', 'Brasília', 'Nova Iguaçu', 'Serra', 'Macaé', 'Tubarão', 'Salvador', 'São José', 'Araruama', 'Araruama', 'Porto Alegre', 'Cambé', 'Barbacena', 'São João de Meriti', 'Fortaleza', 'São Miguel do Iguaçu', 'Caruaru', 'Macaé', 'Curitiba', 'Goiânia', 'Timóteo', 'São Pedro da Aldeia', 'São Paulo', 'Ribeirão Preto', 'Osasco', 'Belo Horizonte', 'Mogi das Cruzes', 'Extrema', 'Porto Alegre', 'Duque de Caxias', 'Imbituba', 'Itaquaquecetuba', 'Natal', 'Suzano', 'Rio de Janeiro', 'Itanhaém', 'Brasília', 'Nova Iguaçu', 'Angra dos Reis', 'Brasília', 'Rio de Janeiro', 'Fortaleza', 'Paranaguá', 'Carandaí', 'Governador Valadares', 'Ipaussu', 'Quirinópolis', 'Santo André', 'Matinhos', 'Macaé', 'Rio das Ostras', 'Salvador', 'Marechal Cândido Rondon', 'Nova Iguaçu', 'Uberlândia', 'Campinas', 'Salto de Pirapora', 'São Paulo', 'Natal', 'Brusque', 'Fazenda Rio Grande', 'São Vicente', 'Juiz de Fora', 'Niterói', 'Mossoró', 'São Bento do Sul', 'Itu', 'Mauá', 'Curitiba', 'Ituverava', 'Goiânia', 'Governador Lacerda de Aguiar', 'Rio de Janeiro', 'Rio de Janeiro', 'São Paulo', 'União da Vitória', 'Marília', 'Manaus', 'Boituva', 'Brasília', 'Cabo Frio', 'Tucuruí', 'Patos de Minas', 'São Paulo', 'Rio de Janeiro', 'Foz do Iguaçu', 'Itumbiara', 'Juiz de Fora', 'Brasília', 'Tanabi', 'São Luís', 'Ilhéus', 'Blumenau', 'Várzea Grande', 'Parati', 'São Luís', 'Bom Jesus dos Perdões', 'Salvador', 'São Paulo', 'Aracruz', 'Carpina', 'Valparaíso', 'Colombo', 'Fortaleza', 'Tangará da Serra', 'Macae', 'Sorocaba', 'Araguari', 'São Paulo', 'Blumenau', 'Rio de Janeiro', 'São João de Meriti', 'Juazeiro', 'Recife', 'Sorocaba', 'Rio de Janeiro', 'Vila Velha', 'Rio de Janeiro', 'Linhares', 'São Bernardo do Campo', 'Cotia', 'Santa Luzia', 'Rio de Janeiro', 'Japeri', 'Cuiabá', 'São Vicente', 'Rio de Janeiro', 'São Manuel', 'Curitiba', 'Guaçuí', 'Goiânia', 'Cascavel', 'Duque de Caxias', 'São Paulo', 'Campinas', 'Jaboticabal', 'Blumenau', 'Itaquaquecetuba', 'Guarulhos', 'Sertãozinho', 'São Paulo', 'Caruaru', 'Guarulhos', 'Tatuí', 'Rio de Janeiro', 'Rio de Janeiro', 'Nova Iguaçu', 'Cornélio Procópio', 'Londrina', 'Massaranduba', 'Parnamirim', 'Duque de Caxias', 'Passos', 'Nova Iguaçu', 'Alto Paraná', 'Angra dos Reis', 'São Paulo', 'Valinhos', 'Ilhéus', 'Rio de Janeiro', 'Rincão', 'Guaxupé', 'Erechim', 'Angra dos Reis', 'Assis Chateaubriand', 'Uberaba', 'Joinville', 'Brasília', 'Florianópolis', 'Salvador', 'Brasília', 'São Carlos', 'Alto Alegre', 'Campos Belos', 'Duque de Caxias', 'Angra dos Reis', 'São Paulo', 'Joinville', 'Goiânia', 'São João de Meriti', 'Marialva', 'Candeias', 'Passos', 'Salvador', 'Joinville', 'Porto Alegre', 'Campinas', 'Pedro de Toledo', 'São Paulo', 'Fortaleza', 'Várzea Grande', 'São Gonçalo', 'Pinhais', 'Chapecó', 'Mossoró', 'Brasília', 'Brasília', 'Campo Belo', 'São João de Meriti', 'Maceió', 'Guarulhos', 'Rio de Janeiro', 'Brasília', 'Itaquaquecetuba', 'São Roque', 'São Paulo', 'São Paulo', 'Brasília', 'Angra Dos Reis', 'São Paulo', 'Luís Eduardo Magalhães', 'Porto Ferreira', 'São Luís', 'São Paulo', 'Natal', 'São Paulo', 'Cascavel', 'Campo Mourão', 'Recife', 'Aparecida de Goiânia', 'Petrolina', 'Ourinhos', 'Bady Bassitt', 'São Gonçalo', 'Osasco', 'São Paulo', 'Belém', 'Indaiatuba', 'Travessão', 'Blumenau', 'São Paulo', 'Cabedelo', 'Campina Grande', 'Alfenas', 'Blumenau', 'Bom Jesus do Itabapoana', 'Patos de Minas', 'Mossoró', 'Bauru', 'Itumbiara', 'Olimpia', 'Santo Estevão', 'Brasília', 'Mineiros', 'Juiz de Fora', 'Simões Filho', 'São Bernardo do Campo', 'Curitiba', 'São José dos Campos', 'Curitiba', 'Candeias', 'Caruaru', 'Maragogi', 'São José dos Campos', 'Pouso Alegre', 'Conceição de Macabu', 'Itumbiara', 'Ouro Verde do Oeste', 'Maringá', 'Rio Claro', 'Belo Horizonte', 'Campina Grande', 'Cariacica', 'Brasília', 'São Paulo', 'Guanambi', 'Trindade', 'Petrolina', 'Centralina', 'Venâncio Aires', 'Contagem', 'Curitiba', 'Manaus', 'Ponta Grossa', 'Três de Maio', 'Brasília', 'Foz do Iguaçu', 'Osasco', 'Caldas Novas', 'Santo Angelo', 'Indaiatuba', 'Volta Redonda', 'Ubatuba', 'Taquarivaí', 'Brasília', 'Goiânia', 'Goiânia', 'Novo Horizonte', 'São Paulo', 'Monte Sião', 'Ilhéus', 'Itapeva', 'Duque de Caxias', 'Caxias do Sul', 'Boa Vista', 'São Paulo', 'Brasília', 'Macapá', 'Rio de Janeiro', 'Quedas do Iguaçu', 'Aracaju', 'Salvador', 'Alvorada', 'Vila Velha', 'Redenção do Gurguéia', 'Macaé', 'Goiânia', 'Salvador', 'Campo Grande', 'Rio de Janeiro', 'Maceió', 'Belém', 'Palmeira dos Índios', 'Campo Magro', 'Manaus', 'Boa Vista', 'Itambé', 'Manaus', 'Diadema', 'Olinda', 'Mogi Mirim', 'Lauro De Freitas', 'São Francisco do Sul', 'Natal', 'Brasília', 'Três Rios', 'Camacari', 'Armação dos Búzios', 'Atibaia', 'São José dos Campos', 'Armação dos Búzios', 'Blumenau', 'Jaraguá do Sul', 'Duque de Caxias', 'Itumbiara', 'Camboriú', 'Porto Alegre', 'Sapopema', 'Guarulhos', 'Goiânia', 'Niterói', 'Uberaba', 'Duque de Caxias', 'São Paulo', 'Osório', 'Leme', 'Ribeirão Preto', 'Floresta', 'Rio de Janeiro', 'Botucatu', 'Patrocinio', 'Bady Bassitt', 'Palmas', 'Joinville', 'Itu', 'Florianópolis', 'Uberlândia', 'Duque de Caxias', 'São Paulo', 'Timbó', 'Salvador', 'Belo Horizonte', 'Blumenau', 'Londrina', 'Gravataí', 'Brasília', 'Americana', 'São Paulo', 'Barretos', 'Natal', 'Três Lagoas', 'Cuiabá', 'Recife', 'Maringá', 'Serra Negra', 'Rio de Janeiro', 'Osasco', 'Teresina', 'Curitiba', 'São Paulo', 'Garça', 'Angra dos Reis', 'Queimados', 'Porto Alegre', 'Natal', 'Cornélio Procópio', 'Birigüi', 'Porto Alegre', 'Petrolina', 'Águas Lindas de Goiás', 'Londrina', 'São Paulo', 'Macapá', 'São Gonçalo', 'Maringá', 'Vitória', 'São Paulo', 'Teresina', 'São Paulo', \"Dias D'Ávila\", 'Barueri', 'Paulo Afonso', 'Quatiguá', 'Bento Gonçalves', 'Açu', 'Paragominas', 'São Paulo', 'Muriaé', 'Mogi das Cruzes', 'Rio de Janeiro', 'Bertioga', 'Rio de Janeiro', 'Brasília', 'Joinville', 'Florianópolis', 'Contagem', 'Magé', 'São Paulo', 'Uberlândia', 'Curitiba', 'Niterói', 'Jaraguá do Sul', 'Taubaté', 'São Paulo', 'Curitiba', 'Fazenda Rio Grande', 'Joinville', 'Patrocínio', 'Fortaleza', 'Ananindeua', 'Cambé', 'João Pessoa', 'Jandira', 'Aquiraz', 'Brasília', 'São Paulo', 'Vila Velha', 'Aracaju', 'Cristina', 'São Leopoldo', 'Miracatu', 'Barueri', 'Jandira', 'Rio de Janeiro', 'São Sebastião', 'Quirinópolis', 'Manaus', 'Goiânia', 'Foz do Iguaçu', 'Assis', 'Mogi das Cruzes', 'Joinville', 'Rio de Janeiro', 'Contagem', 'Mogi Mirim', 'Mairiporã', 'Aguas Lindas De Goias', 'São José do Rio Preto', 'Votorantim', 'Belo Horizonte', 'Maringá', 'Rio de Janeiro', 'Curitiba', 'Videira', 'Embu das Artes', 'Caraguatatuba', 'Brasília', 'João Pessoa', 'Mauá', 'Mangaratiba', 'Nossa Senhora do Socorro', 'Juiz de Fora', 'Osasco', 'Nova Iguaçu', 'Bauru', 'São Paulo', 'Embu das Artes', 'Jacareí', 'Guarapari', 'Recife', 'Mogi das Cruzes', 'Guaratuba', 'Capelinha', 'Cruz Alta', 'Taubaté', 'Cariacica', 'Mossoró', 'Brasília', 'Cruz Alta', 'Lençóis Paulista', 'São Paulo', 'Santa Terezinha de Itaipu', 'Campanha', 'Barueri', 'Sumaré', 'Tubarão', 'Recife', 'Fortaleza', 'Uberaba', 'Nova Odessa', 'Rio de Janeiro', 'Fortaleza', 'Campos do Jordão', 'Macaé', 'Toledo', 'Campinas', 'São José do Rio Preto', 'Primavera do Leste', 'São José do Rio Preto', 'Curionópolis', 'Jataí', 'Macaé', 'Carandaí', 'Embu das Artes', 'João Lisboa', 'São Paulo', 'Canela', 'Marília', 'Fortaleza', 'Guaratinguetá', 'Buritama', 'São Sebastião', 'Brasília', 'São Paulo', 'Viamão', 'Carpina', 'Chapecó', 'São Paulo', 'Gravataí', 'Guarulhos', 'Santa Maria', 'Bauru', 'São João de Meriti', 'Ananindeua', 'Catalão', 'Mossoró', 'Jaraguá do Sul', 'Parnaíba', 'Balneário Camboriú', 'Beberibe', 'Macaparana', 'Serra', 'Osasco', 'Marília', 'Pindamonhangaba', 'Contagem', 'São Bento do Sul', 'São Paulo', 'Florianópolis', 'São Paulo', 'João Pessoa', 'São Paulo', 'São Paulo', 'Fortaleza', 'Garanhuns', 'Timbaúba dos Batistas', 'Patrocínio', 'Balneário Piçarras', 'Vila Velha', 'Itapuí', 'São José dos Campos', 'Armação dos Búzios', 'São José dos Campos', 'Catalão', 'Santa Gertrudes', 'São José dos Campos', 'Ilhabela', 'Cafelândia', 'Caruaru', 'Campinas', 'Ananindeua', 'Brasília', 'Fraiburgo', 'Diamantina', 'São Roque', 'São Paulo', 'Curitiba', 'Rio de Janeiro', 'Curitiba', 'Pompéia', 'Rio de Janeiro', 'Londrina', 'Nova Iguaçu', 'Contagem', 'Itapetininga', 'Parnamirim', 'Castanhal', 'Parauapebas', 'Jaboatão dos Guararapes', 'Aparecida de Goiânia', 'Jaboatão dos Guararapes', 'São Luís', 'Fortaleza', 'Palmácia', 'Goiânia', 'Guarulhos', 'Curitiba', 'Aracruz', 'Embu-Guaçu', 'Rio de Janeiro', 'Anápolis', 'Jaboticabal', 'Recife', 'Recife', 'Cabo Frio', 'Cornélio Procópio', 'Curitiba', 'Uberlandia', 'Criciúma', 'Fortaleza', 'São Paulo', 'Balsas', 'Uberlândia', 'São Gonçalo', 'Belford Roxo', 'Lassance', 'São Paulo', 'Americana', 'Mogi das Cruzes', 'Osório', 'Sinop', 'Porto Velho', 'Itapira', 'São Luís', 'Rio de Janeiro', 'Rio de Janeiro', 'Blumenau', 'Ananindeua', 'Cacoal', 'Senhor do Bonfim', 'Tatuí', 'Cotia', 'Caicó', 'Mococa', 'São Leopoldo', 'Itatiaia', 'Paulista', 'Rio Claro', 'Rio de Janeiro', 'Brasília', 'Presidente Venceslau', 'Belo Horizonte', 'Praia Grande', 'Salvador', 'Fernandópolis', 'São Paulo', 'Aquiraz', 'São João de Meriti', 'Presidente Prudente', 'Campina Grande', 'Bom Jesus do Madeira', 'Brasília', 'Rio Branco', 'Paulista', 'Candeias', 'Umuarama', 'Curitiba', 'Avaré', 'Belo Horizonte', 'Americana', 'Birigüi', 'Ribeirão Preto', 'Brasília', 'Tabapuã', 'Manaus', 'Curitiba', 'Bombinhas', 'Abreu e Lima', 'São Paulo', 'Poços de Caldas', 'Serra', 'Terra Boa', 'Penha', 'Macaé', 'Itumbiara', 'Novo Gama', 'Manaus', 'Curitiba', 'Campo Grande', 'Campinas', 'São José dos Pinhais', 'Araguari', 'Muriaé', 'Petrópolis', 'Pombos', 'Araraquara', 'Florianópolis', 'Vila Velha', 'Barra Mansa', 'Garça', 'São Paulo', 'São Paulo', 'Fazenda Rio Grande', 'Fortaleza', 'Volta Redonda', 'Salvador', 'Jaraguá do Sul', 'Campinas', 'Itumbiara', 'Palhoça', \"Santa Bárbara D'Oeste\", 'Porto Velho', 'Manaus', 'São José dos Campos', 'Rio de Janeiro', 'Guaraí', 'Ribeirão Preto', 'Rio de Janeiro', 'Tatuí', 'Guarujá', 'Jacobina', 'Rio de Janeiro', 'Itaguaí', 'Piraquara', 'Itupeva', 'Uberaba', 'Brasília', 'São Cristóvão', 'Itajaí', 'Águas Lindas de Goiás', 'Guarapari', 'Igarapava', 'Belém', 'Itumbiara', 'São Paulo', 'Aparecida de Goiânia', 'Toledo', 'Feira de Santana', 'Betim', 'Marechal Cândido Rondon', 'Cristalina', 'Taubaté', 'Rio de Janeiro', 'Corumbá', 'Gramado', 'Brasília', 'Brasília', 'Patos de Minas', 'Campo Bom', 'Pelotas', 'Santiago', 'Presidente Epitácio', 'Salvador', 'São Paulo', 'Caruaru', 'Sinop', 'Cascavel', 'São José dos Campos', 'Maringá', 'Catanduva', 'Guaíba', 'Rio de Janeiro', 'São Francisco de Itabapoana', 'Contagem', 'Jataí', 'Salvador', 'Taboão da Serra', 'João Pessoa', 'Bragança Paulista', 'Armação dos Búzios', 'Mogi das Cruzes', 'Taboão da Serra', 'Fortaleza', 'Governador Valadares', 'Porto Nacional', 'Brasília', 'Itaquaquecetuba', 'Salvador', 'Mineiros', 'Mineiros', 'Barra Mansa', 'Nova Iguaçu', 'Vila Rica', 'Taquara', 'Campos dos Goytacazes', 'Rio Verde', 'Saquarema', 'Rio de Janeiro', 'Jundiaí', 'Ananindeua', 'Brasília', 'Uberlândia', 'São Paulo', 'Sorriso', 'Brasília', 'Bauru', 'São João de Meriti', 'São Paulo', 'Taubaté', 'Itaboraí', 'São Paulo', 'Porto Alegre', 'Niterói', 'Almirante Tamandaré', 'Serra', 'Ribeirão Preto', 'Maringá', 'Brasília', 'Itumbiara', 'São Paulo', 'Salvador', 'Pilar', 'Curitiba', 'Sapiranga', 'Brasília', 'Pelotas', 'Campo Grande', 'Rio de Janeiro', 'Curitiba', 'Rio Verde', 'Arapongas', 'Rio de Janeiro', 'Santo André', 'Florianópolis', 'Jaboatão dos Guararapes', 'Cajamar', 'Brasília', 'Aparecida de Goiânia', 'Rio de Janeiro', 'Tres Coracoes', 'Jaboatão dos Guararapes', 'Fortaleza', 'São Paulo', 'São Paulo', 'São Paulo', 'Marabá', 'Brasília', 'São José dos Campos', 'Natal', 'São Bernardo do Campo', 'São Luís', 'Bragança Paulista', 'Três Lagoas', 'Mossoró', 'São Pedro da Aldeia', 'Meridiano', 'Alvorada', 'São Paulo', 'Tarumã', 'Barueri', 'São Leopoldo', 'Vila Velha', 'Nova Serrana', 'Barreiras', 'Guarulhos', 'Ijuí', 'São Paulo', 'Fortaleza', 'Fortaleza', 'Teresópolis', 'Rio Grande', 'Brasília', 'Nossa Senhora do Socorro', 'Rio de Janeiro', 'Marabá', 'Santo Amaro', 'Goiânia', 'São Cristóvão', 'São Paulo', 'São Paulo', 'São Paulo', 'Rio de Janeiro', 'Florianópolis', 'Itatiaia', 'São Bernardo do Campo', 'Barra Mansa', 'Mossoró', 'Rio das Ostras', 'Brasilia', 'Itumbiara', 'Ponta Grossa', 'Maringá', 'Eusébio', 'Manaus', 'Maringá', 'Mogi das Cruzes', 'Rio de Janeiro', 'Salvador', 'Rio de Janeiro', 'Itumbiara', 'Rio Branco', 'Marechal Deodoro', 'Rio de Janeiro', 'Rio de Janeiro', 'Concórdia', 'Guarapuava', 'Rio de Janeiro', 'Campinas', 'Curitiba', 'Maceió', 'São Paulo', 'Lebon Régis', 'São Paulo', 'Picada Cafe', 'Fazenda Rio Grande', 'São Paulo', 'Cornélio Procópio', 'Altos', 'Boa Vista', 'São Paulo', 'São José dos Pinhais', 'Florianópolis', 'Alfenas', 'Ituverava', 'Londrina', 'Fortaleza', 'Brasília', 'São Paulo', 'Curitiba', 'São Paulo', 'Caucaia', 'Aracaju', 'Macapá', 'Rio das Ostras', 'Araguaína', 'Canoas', 'Caraguatatuba', 'Brasília', 'São José', 'São Paulo', 'São Paulo', 'Rio das Ostras', 'Barueri', 'Pinhais', 'São Bernardo do Campo', 'Ibitiúva', 'Itajubá', 'Campos do Jordão', 'Campos Gerais', 'São Paulo', 'Rio Das Ostras', 'São Paulo', 'Senhor do Bonfim', 'Fortaleza', 'Sorocaba', 'Duque de Caxias', 'Jaboatão dos Guararapes', 'Barueri', 'Sao Leopoldo', 'São Paulo', 'Catalão', 'São Carlos', 'Rondonopolis', 'Joinville', 'Patos de Minas', 'Salvador', 'João Pessoa', 'Fortaleza', 'Belo Horizonte', 'Brasília', 'Curitiba', 'São Gonçalo', 'Curitiba', 'Campinas', 'São Gonçalo', 'Ribeirão Preto', 'Rio de Janeiro', 'Brasília', 'São Paulo', 'Porto Alegre', 'Brasília', 'Jaguaré', 'Camboriú', 'Peixe', 'Volta Redonda', 'Rondonópolis', 'Rio de Janeiro', 'Brasília', 'Londrina', 'Osasco', 'São Paulo', 'Jandira', 'Porto Seguro', 'São Gonçalo', 'Rio de Janeiro', 'Bocaiúva do Sul', 'Campo Mourão', 'Maringá', 'Tramandaí', 'Parnamirim', 'Vitória', 'Jacarezinho', 'Carapicuíba', 'Jacarezinho', 'Manaus', 'Maceió', 'Araranguá', 'São Gonçalo', 'São Gonçalo', 'Lavras', 'Niterói', 'Lençóis Paulista', 'Paulista', 'Rio de Janeiro', 'Rio de Janeiro', 'Teresina', 'Blumenau', 'Campo Grande', 'São Mateus', 'Rio de Janeiro', 'Rio de Janeiro', 'Marília', 'Rio de Janeiro', 'Itaberaba', 'Touros', 'Quirinópolis', 'Rio de Janeiro', 'São José dos Pinhais', 'Nova Iguaçu', 'Bezerros', 'Itapema', 'Agrestina', 'São Paulo', 'Mogi das Cruzes', 'Dourados', 'Sarandi', 'Goiânia', 'Maceió', 'Vitória', 'Jequié', 'Caieiras', 'Cachoeira', 'Caldas Novas', 'São José dos Pinhais', 'Araraquara', 'São Leopoldo', 'Capitão Enéas', 'Salvador', 'João Câmara', 'Paulo Afonso', 'Rancho Alegre', 'Duque de Caxias', 'Jaguariuna', 'Chapecó', 'Natal', 'Lagoa Santa', 'Blumenau', 'Patos de Minas', 'Sobral', 'Montenegro', 'Rio de Janeiro', 'São José dos Campos', 'Natal', 'São Paulo', 'Bom Despacho', 'Curitiba', 'Ilheus', 'Macapá', 'São João de Meriti', 'Cuiabá', 'Feira de Santana', 'Corumbaíba', 'Belém', 'Manaus', 'Guarapari', 'Itaboraí', 'Agudos', 'Nova Odessa', 'São José de Ribamar', 'Promissão', 'São Paulo', 'Luziânia', 'Brasília', 'Salvador', 'Limeira', 'Duque de Caxias', 'Cachoeiras de Macacu', 'São Paulo', 'Fortaleza', 'Aracati', 'Rio de Janeiro', 'Bauru', 'Lagarto', 'Santo André', 'Registro', 'Pirapetinga', 'Piratininga', 'Campinas', 'Alagoinhas', 'Alta Floresta', 'Sumaré', 'São Paulo', 'Vitória da Conquista', 'Rio de Janeiro', 'Arembepe', 'Uberaba', 'Brasília', 'Taquara', 'Itapecerica da Serra', 'São Gonçalo', 'Cubatão', 'Vila Muriqui', 'Uberlândia', 'Recife', 'Guarapuava', 'Sorocaba', 'Suzano', 'Vitória', 'Juiz de Fora', 'Maceió', 'Recife', 'Rio Branco', 'Brasília', 'Linhares', 'Salvador', 'Anápolis', 'Goiânia', 'Jequié', 'Brusque', 'Goiânia', 'Barra Mansa', 'Goiânia', 'Belo Horizonte', 'Feira de Santana', 'Eusébio', 'São Gonçalo', 'Quedas do Iguaçu', 'Vitória', 'Ponta Grossa', 'São Paulo', 'Jundiaí', 'São Paulo', 'Taboão da Serra', 'Patos de Minas', 'São Paulo', 'Natal', 'Sapucaia do Sul', 'Juazeiro', 'Joinville', 'Vitória da Conquista', 'Indaial', 'Belém', 'Estância', 'Duque de Caxias', 'Belford Roxo', 'Betim', 'Rio Grande', 'Brasília', 'Londrina', 'Santa Isabel', 'São Paulo', 'Campo Grande', 'Goianésia', 'Ribeirão Preto', 'Juiz de Fora', 'Goiânia', 'Belém', 'Rio de Janeiro', 'Campinas', 'Maricá', 'Embu das Artes', 'Brasília', 'Varzea Grande', 'João Pessoa', 'Paracambi', 'Maringa', 'Itajaí', 'Feira de Santana', 'Nova Iguaçu', 'Rio de Janeiro', 'Viana', 'São João de Meriti', 'Suzano', 'São Paulo', 'Brasília', 'Nova Iguaçu', 'Salvador', 'Blumenau', 'Patos de Minas', 'Teresina', 'Porto Alegre', 'Sapucaia do Sul', 'Sapucaia do Sul', 'Salvador', 'Capanema', 'Belo Horizonte', 'Farroupilha', 'Ubatuba', 'Salvador', 'Manaus', 'Queimados', 'Macapá', 'Castanhal', 'Serra', 'Anápolis', 'Paulista', 'Assis', 'Salvador', 'Cotia', 'Campo Bom', 'Japeri', 'Fortaleza', 'Volta Redonda', 'Rolim de Moura', 'Barra do Garças', 'Gaspar', 'Belo Horizonte', 'Novo Hamburgo', 'Blumenau', 'Marechal Deodoro', 'Canavieiras', 'São José dos Campos', 'Recife', 'Curitiba', 'Joinville', 'Itapevi', 'Rio de Janeiro', 'Curitiba', 'Salvador', 'Rio de Janeiro', 'Itaboraí', 'Rio de Janeiro', 'Recife', 'Ilhabela', 'Nova Friburgo', 'Muritiba', 'Volta Redonda', 'Rio de Janeiro', 'Ilhabela', 'Atibaia', 'João Pessoa', 'Valparaíso de Goiás', 'Brusque', 'Jaboatao Dos Guararapes', 'Maringá', 'São José do Rio Preto', 'Porto Seguro', 'São Paulo', 'Santa Fé do Sul', 'Uberaba', 'Palhoça', 'São Paulo', 'Campo Grande', 'Caraguatatuba', 'Maringá', 'Bauru', 'Itupeva', 'Barra', 'Campo Grande', 'São Paulo', 'Marituba', 'Tiangua', 'Tupã', 'Fortaleza', 'Rio de Janeiro', 'Mineiros', 'Uberlândia', 'Curitiba', 'Cuiabá', 'Porto Alegre', 'Recife', 'Joinville', 'Videira', 'Juiz de Fora', 'Rio Branco', 'Itajaí', 'São Luís', 'São Roque', 'Rio das Ostras', 'Piraquara', 'Nova Iguaçu', 'Curitiba', 'Farroupilha', 'Goiânia', 'Rio de Janeiro', 'Marechal Deodoro', 'São Luís', 'Rio de Janeiro', 'Petrópolis', 'Garopaba', 'Fortaleza', 'Varzea Grande', 'Lajeado', 'São Paulo', 'Manaus', 'Curitiba', 'Belém', 'Fortaleza', 'Rio Das Ostras', 'Itaboraí', 'Santo André', 'Caruaru', 'Parnamirim', 'Buíque', 'Brasília', 'Mossoró', 'Campos dos Goytacazes', 'São Paulo', 'Brasília', 'Araguaína', 'Mossoró', 'Novo Hamburgo', \"Santa Bárbara D'Oeste\", 'Rio de Janeiro', 'Águas Lindas de Goiás', 'Igarassu', 'Cascavel', 'Volta Redonda', 'Duque de Caxias', 'Jacarezinho', 'Curitiba', 'Curitiba', 'Guarujá', 'Porto Alegre', 'Fortaleza', 'Sapucaia do Sul', 'Curitiba', 'São Paulo', 'Camaçari', 'Feira de Santana', 'Duque de Caxias', 'São João Del Rei', 'Fortaleza', 'Dourados', 'Belo Horizonte', 'Teresina', 'São José dos Campos', 'Campinas', 'Santana Do Livramento', 'Salvador', 'Sorocaba', 'Sobral', 'Brasília', 'Recife', 'Imbé', 'Rio de Janeiro', 'Campos dos Goytacazes', 'Teixeira de Freitas', 'São José do Rio Preto', 'Brasília', 'Dourados', 'Itumbiara', 'Palmeirândia', 'Joinville', 'Balneário Camboriú', 'Pouso Alegre', 'Embu das Artes', 'Três Lagoas', 'São Paulo', 'Birigüi', 'Luziânia', 'Pindamonhangaba', 'Maringá', 'São Paulo', 'Curitiba', 'Caruaru', 'Fortaleza', 'Parnaíba', 'Serra', 'Eunápolis', 'Rio das Ostras', 'Cariacica', 'Montividiu', 'Caxias do Sul', 'Rio De Janeiro', 'São Paulo', 'Assis', 'Brasilia', 'Valinhos', 'Paracatu', 'Eunápolis', 'São João de Meriti', 'Jaboatão dos Guararapes', 'Santa Maria', 'Mendes', 'Saquarema', 'São Paulo', 'São Gonçalo', 'Araguari', 'Barueri', 'Brasília', 'Angra dos Reis', 'Fortaleza', 'Salvador', 'Colombo', 'Pouso Alegre', 'Arapiraca', 'Niterói', 'Armação dos Búzios', 'Natal', 'Parati', 'Florianópolis', 'Rio de Janeiro', 'Taubaté', 'Toledo', 'São Paulo', 'Rio de Janeiro', 'Luís Correia', 'Fortaleza', 'Araguari', 'Tubarão', 'Aguaí', 'Divinópolis', 'Dracena', 'Birigüi', 'São Paulo', 'Caldas Novas', 'Francisco Beltrão', 'Garça', 'Araruama', 'Delmiro Gouveia', 'Petrolina', 'São José', 'Araruama', 'Uberaba', 'Goiânia', 'Brasília', 'Cabo de Santo Agostinho', 'Tubarão', 'Rio de Janeiro', 'Cruz das Almas', 'Barueri', 'São Paulo', 'São Gonçalo', 'São Paulo', 'Itatiba', 'Florianópolis', 'Nova Friburgo', 'Maceió', 'Cajati', 'Patrocínio', 'Itatiba', 'Pouso Alegre', 'Sorocaba', 'São Gonçalo', 'São Paulo', 'Campinas', 'São Paulo', 'Rio de Janeiro', 'Ananindeua', 'Ponta Porã', 'Santo André', 'Gravataí', 'São Paulo', 'Brasília', 'Brasília', 'Jaboatao Dos Guararapes', 'Piracaia', 'Limeira', 'Rio de Janeiro', 'Divinópolis', 'Fortaleza', 'Iracemápolis', 'Cabo de Santo Agostinho', 'São Paulo', 'Rio de Janeiro', 'São Bento do Sul', 'Pinhais', 'Porto Real', 'Várzea Grande', 'Fortaleza', 'Abrantes', 'Rio de Janeiro', 'Recife', 'Brasília', 'Canoas', 'Curitiba', 'Rio Branco', 'São João de Meriti', 'São Paulo', 'Sobral', 'Casimiro de Abreu', 'Guarapari', 'Araçatuba', 'Aquiraz', 'São Paulo', 'Ribeirão Preto', 'Manaus', 'Campos dos Goytacazes', 'Sorocaba', 'Maraú', 'Carambeí', 'Campos dos Goytacazes', 'Itapoá', 'Feira de Santana', 'Campo Belo', 'Belém', 'Paço do Lumiar', 'Assis', 'Araripina', \"Santa Bárbara D'Oeste\", 'Manaus', 'Imperatriz', 'Maringá', 'São Vicente', 'Guaíra', 'Santa Cruz do Sul', 'Fortaleza', 'Maringá', 'Contagem', 'Arapongas', 'João Pinheiro', 'Catanduva', 'São Paulo', 'Salvador', 'Duque de Caxias', 'Pinhais', 'Porto Velho', 'Natal', 'Carapicuíba', 'São Paulo', 'São Paulo', 'Rio de Janeiro', 'Maceió', 'Petrópolis', 'Caratinga', 'Avaré', 'Esteio', 'Fortaleza', 'Colombo', 'Goiânia', 'São Paulo', 'Goianesia', 'Caxias do Sul', 'Brusque', 'Pelotas', 'Curitiba', 'Indaiatuba', 'Londrina', 'Pinhais', 'Suzano', 'Blumenau', 'Petrópolis', 'Mogi Mirim', 'Itabatan', 'Manaus', 'Feira de Santana', 'Ilhabela', 'Maringá', 'Paço do Lumiar', 'São Paulo', 'Nova Viçosa', 'Aracaju', 'Tres Coracoes', 'Piquete', 'São João de Meriti', 'Rio de Janeiro', 'Socorro', 'Jacareí', 'Sooretama', 'Surubim', 'Londrina', 'Belo Horizonte', 'Londrina', 'Goiânia', 'Feira de Santana', 'Paulista', 'São Paulo', 'São Paulo', 'Balsas', 'Brasília', 'Belford Roxo', 'João Pessoa', 'Presidente Venceslau', 'Boa Vista', 'Nova Iguaçu', 'Mongaguá', 'Sorocaba', 'São Miguel Arcanjo', 'Pontal do Paraná', 'Mogi Guaçu', 'São Paulo', 'Carapicuíba', 'Ilha Solteira', 'Salvador', 'Trancoso', 'Ilha Solteira', 'Sapucaia do Sul', 'Feira de Santana', 'Itapetininga', 'Seropédica', 'Joinville', 'Florianópolis', 'Ilhéus', 'Recife', 'Jaboatao Dos Guararapes', 'Vila Velha', 'Balneário Camboriú', 'Catanduva', 'João Pessoa', 'Juiz de Fora', 'Luziania', 'Valinhos', 'Barretos', 'São Paulo', 'Campos dos Goytacazes', 'Belford Roxo', 'Crateus', 'São Luís', 'Cabo de Santo Agostinho', 'Petrópolis', 'Rio de Janeiro', 'Maringá', 'Itaboraí', 'Poços de Caldas', 'Brasília', 'São Paulo', 'Itapecerica da Serra', 'Jaraguá', 'Porto Velho', 'Aracaju', 'Mogi das Cruzes', 'São Paulo', 'Olinda', 'Florianópolis', 'São Bernardo do Campo', 'Maricá', 'Presidente Prudente', 'Maceió', 'Pontal do Paraná', 'São Paulo', 'Sapucaia do Sul', 'Itapema', 'Varginha', 'Votuporanga', 'Salvador', 'Várzea Grande', 'Franco da Rocha', 'Patos de Minas', 'Franco da Rocha', 'Niterói', 'Santo André', 'Guarulhos', 'São Paulo', 'Niterói', 'Guarapuava', 'São Joaquim da Barra', 'Jaboatão dos Guararapes', 'Curitiba', 'Assis Chateaubriand', 'Rio Grande', 'Peruíbe', 'São Paulo', 'São Paulo', 'Araçatuba', 'Camaragibe', 'Brasília', 'Sapucaia do Sul', 'Itaboraí', 'Japeri', \"Arraial D'Ajuda\", 'Conceição', 'Betim', 'Santos', 'Caçapava', 'Rondonópolis', 'Natal', 'Andradina', 'Três Rios', 'Rio de Janeiro', 'Montenegro', 'Santa Cruz Cabrália', 'Jequie', 'Brasília', 'Bananal', 'Rio de Janeiro', 'Rio Claro', 'Pelotas', 'Santo Antônio de Jesus', 'Juazeiro do Norte', 'Porto Alegre', 'Ilhabela', 'Itaparica', 'São José do Rio Preto', 'Porto Alegre', 'Contagem', 'São Paulo', 'São Paulo', 'Votuporanga', 'Matinhos', 'Foz do Iguaçu', 'Araguari', 'Poá', 'Pindamonhangaba', 'Açu', 'Teresópolis', 'Belo Horizonte', 'Embu das Artes', 'Pinhais', 'Rio de Janeiro', 'São José dos Pinhais', 'Guaratuba', 'Rio de Janeiro', 'Brasília', 'São Paulo', 'Santa Rita do Sapucaí', 'Petrolina', 'Vitória', 'Caraguatatuba', 'Araçoiaba da Serra', 'Itaguaí', 'Belo Horizonte', 'Joinville', 'Videira', 'Carapicuíba', 'Araçatuba', 'Maringá', 'Catalão', 'Gravataí', 'Uberlândia', 'Guarulhos', 'Osasco', 'São Paulo', 'Goiânia', 'São Miguel do Guamá', 'Brasília', 'Bom Jesus', 'São Leopoldo', 'Arapongas', 'Rio Bonito', 'São Gonçalo do Amarante', 'Delmiro Gouveia', 'Cascavel', 'Duque de Caxias', 'São Paulo', 'Avaré', 'Santa Terezinha de Itaipu', 'Três Rios', 'Primavera do Leste', 'Botucatu', 'Abrantes', 'São Luís', 'Serra', 'Apucarana', 'Brasília', 'Mossoró', 'Pomerode', 'Viamão', 'Carapicuíba', 'Arraial do Cabo', 'Lagarto', 'Novo Hamburgo', 'Santo André', 'Montes Claros', 'Toledo', 'Bertioga', 'Ituiutaba', 'Vitória da Conquista', 'Curitiba', 'Rio de Janeiro', 'São Paulo', 'Cianorte', 'Rio Bananal', 'Lençóis Paulista', 'Jaraguá do Sul', 'São Paulo', 'São Bernardo do Campo', 'Atibaia', 'Fazenda Rio Grande', 'Diadema', 'Novo Hamburgo', 'São Paulo', 'Jequié', 'Fortaleza', 'Porto Alegre', 'Buritizeiro', 'Fortaleza', 'Barbacena', 'Lagoa Seca', 'Naviraí', 'Itatiba', 'São Paulo', 'Ibaté', 'Recife', 'Manaus', 'Parnamirim', 'Patos', 'Porto Seguro', 'Caruaru', 'Mogi das Cruzes', 'Uberaba', 'Fortaleza', 'São José', 'Uruçuca', 'Poços de Caldas', 'Nova Iguaçu', 'Maceió', 'Várzea Paulista', 'Brasília', 'Joinville', 'Maracanaú', 'São Paulo', 'Cacoal', 'Inhumas', 'Caraguatatuba', 'Ferraria', 'Estancia Velha', 'Montes Claros', 'Eldorado do Sul', 'Joinville', 'Serra', 'Belém', 'Nova Iguaçu', 'Alto Garças', 'Quixada', 'Rio de Janeiro', 'Campo do Tenente', 'Campinas', 'São Paulo', 'Salto de Pirapora', 'Patos de Minas', 'Manaus', 'Jataí', 'Fortaleza', 'São Carlos', 'Vitória da Conquista', 'Jaguariuna', 'Porto Alegre', 'Araraquara', 'Serra', 'João Pessoa', 'Recife', 'São Paulo', 'Manaus', 'São Paulo', 'Salvador', 'Guanambi', 'Jacareí', 'Bauru', 'Salvador', 'Valinhos', 'Teotônio Vilela', 'Porto Alegre', 'Valparaíso de Goiás', 'São João do Manteninha', 'Araguari', 'Santa Isabel do Pará', 'Pipa', 'Petrópolis', 'Santo Ângelo', 'Maringá', 'Olinda', 'Rio das Ostras', 'Macaé', 'Cosmópolis', 'Camaragibe', 'Macaé', 'Santa Cruz do Sul', 'São Francisco de Itabapoana', 'Avaré', 'Joinville', 'Rondonópolis', 'São José do Rio Preto', 'Nova Iguaçu', 'Eldorado do Sul', 'Brasília', 'Porto Velho', 'São Paulo', 'Rio de Janeiro', 'Fortaleza', 'Macaé', 'Indaiatuba', 'Brasília', 'Sorocaba', 'Piripiri', 'São Vicente', 'São Gonçalo', 'Fortaleza', 'Suzano', 'Maceió', 'Joinville', 'Araraquara', 'Cuiabá', 'Teresina', 'Vespasiano', 'Piraí', 'Goiânia', 'Brasília', 'Belo Horizonte', 'Ji-Paraná', 'Brasília', 'Bragança Paulista', 'Jaguariúna', 'Goiânia', 'Brasília', 'Porto Alegre', 'Rio do Sul', 'Birigüi', 'Colina', 'Rio de Janeiro', 'Navegantes', 'Sorocaba', 'Serra', 'Sabará', 'São Paulo', 'Ribeirão Bonito', 'Serra', 'São João de Meriti', 'Chapecó', 'Santo Ângelo', 'Guarulhos', 'Joinville', 'Taquari', 'Sarandi', 'Olinda', 'Rio de Janeiro', 'Campo Grande', 'Águas Lindas de Goiás', 'Jaboatao Dos Guararapes', 'Andradina', 'Cachoeirinha', 'Rio de Janeiro', 'Maricá', 'Recife', 'Campo Grande', 'Jequié', 'Ferreira Gomes', 'Candeias', 'Ibirité', 'Guarulhos', 'São Gonçalo', 'Goiânia', 'Três Rios', 'Olinda', 'Embu das Artes', 'Lindoeste', 'Cabreúva', 'Barbacena', 'Miracema', 'Recife', 'Gramado', 'Valparaíso de Goiás', 'Bom Jesus do Itabapoana', 'Fortaleza', 'Toritama', 'Guarulhos', 'Maceió', 'Penápolis', 'Niterói', 'Castanhal', 'Joinville', 'Aracaju', 'Jandira', 'Brasília', 'Rio de Janeiro', 'Barbalha', 'Euclides da Cunha', 'Pindamonhangaba', 'Joinville', 'Joinville', 'Alta Floresta', 'Igarapava', 'São Paulo', 'Canoas', 'Jaboatão dos Guararapes', 'Várzea Grande', 'Aparecida de Goiânia', 'Brasília', 'São Gabriel', 'São José do Rio Preto', 'Quirinópolis', 'Socorro', 'Manaus', 'Teresina', 'Marília', 'Recife', 'Mogi Mirim', 'São Paulo', 'São Paulo', 'Sinop', 'Indaiatuba', 'Brasília', 'Patrocínio', 'Diadema', 'São Bernardo do Campo', 'Novo Gama', 'Cajamar', 'João Pessoa', 'Rio de Janeiro', 'Salvador', 'São Caetano do Sul', 'Bombinhas', 'Goiânia', 'Contagem', 'Jeremoabo', 'São Paulo', 'Presidente Prudente', 'Feira de Santana', 'São Paulo', 'Lauro de Freitas', 'Lagoa Dourada', 'Armação dos Búzios', 'Parnamirim', 'Belém', 'Governador Valadares', 'São Paulo', 'Curitiba', 'Santo Antônio de Jesus', 'Brasília', 'Guarujá', 'São Paulo', 'Campina Grande', 'São Paulo', 'Bateias', 'São Paulo', 'São Paulo', 'Ponta Grossa', 'Porto Alegre', 'Mangaratiba', 'Petrópolis', 'Fazenda Rio Grande', 'Brasília', 'Santo André', 'Presidente Kennedy', 'São Paulo', 'São Leopoldo', 'Caraguatatuba', 'Jacaré', 'Fortaleza', 'Contagem', 'Florianópolis', 'Santos', 'Belo Horizonte', 'Rio de Janeiro', 'Cuiabá', 'Feira de Santana', 'São Carlos', 'Rio de Janeiro', 'Rio de Janeiro', 'Monteiro', 'Itu', 'Curitiba', 'Jaboatão dos Guararapes', 'Brasília', 'Patrocínio', 'Brasília', 'Osasco', 'Paty do Alferes', 'Campo Grande', 'Campinas', 'Ananindeua', 'Recife', 'São Carlos', 'Cascavel', 'Duque de Caxias', 'Igarassu', 'São Paulo', 'Mossoró', 'Belém', 'São José do Rio Preto', 'Palmas', 'Fazenda Rio Grande', 'São Vicente', 'Rio de Janeiro', 'Andradina', 'Resende', 'Camboriu', \"Santa Bárbara D'Oeste\", 'Jaú', 'Porto Velho', 'Itapevi', 'Salvador', 'Recife', 'Sumaré', 'Osasco', 'Rio de Janeiro', 'Eldorado do Sul', 'Tangará da Serra', 'Ubatuba', 'Dourados', 'Indaiatuba', 'Brasília', 'Parati', 'Chapecó', 'Itabuna', 'Paranavaí', 'São Paulo', 'São Paulo', 'Caieiras', 'Porto Alegre', 'São Paulo', 'Goiânia', 'São Paulo', 'Barbalha', 'Aracaju', 'Rio de Janeiro', 'São Gonçalo', 'Barra do Jacuípe', 'Lages', 'Belo Horizonte', 'João Pessoa', 'Ibirité', 'Rio de Janeiro', 'São Paulo', 'São Paulo', 'Magé', 'Nilópolis', 'Saquarema', 'Curitiba', 'Carapicuíba', 'Farroupilha', 'São José dos Pinhais', 'Tangará da Serra', 'São Paulo', 'Rio de Janeiro', 'São Paulo', 'Joinville', 'Atibaia', 'São Paulo', 'Videira', 'São Carlos', 'Orleans', 'Carapicuíba', 'Viamão', 'Florianópolis', 'Campina Grande', 'Salvador', 'Aparecida de Goiânia', 'Rio de Janeiro', 'Capivari', 'Brasília', 'Jaú', 'Cubati', 'Rio Claro', 'Imperatriz', 'Belo Horizonte', 'Betim', 'Santo Antonio De Posse', 'Teixeira de Freitas', 'São Paulo', 'Niterói', 'Teresina', 'Paulista', 'Araranguá', 'Jaguariuna', 'Balneário Camboriú', 'Biguaçu', 'Divinópolis', 'Recife', 'Petrolina', 'Aragarças', 'Varginha', 'Barra do Jacuípe', 'Curitiba', 'Itaboraí', 'Cordeirópolis', 'Curitiba', 'São Bernardo do Campo', 'Bauru', 'Belém', 'Chã Grande', 'Uberaba', 'Parnamirim', 'Ilhéus', 'Presidente Vargas', 'João Pessoa', 'Brasília', 'Aracaju', \"Santa Bárbara D'Oeste\", 'Braganey', 'Paulo Afonso', 'Toledo', 'Brasília', 'Planaltina', 'Três Lagoas', 'São Paulo', 'São José de Ribamar', 'Nova Lima', 'São Paulo', 'Jaboatão dos Guararapes', 'Itajaí', 'Cuiabá', 'Governador Valadares', 'Brasília', 'Campo Grande', 'Natal', 'Americana', 'Imperatriz', 'Brasília', 'Lages', 'Goitacazes', 'Belém', 'Rio de Janeiro', 'Campo Mourão', 'Brasília', 'Guarulhos', 'Guarulhos', 'Goitacazes', 'Assis Chateaubriand', 'Rio das Ostras', 'Bento Goncalves', 'Cruzeiro', 'Alta Floresta', 'Mogi das Cruzes', 'Vila Velha', 'Campos dos Goytacazes', 'Rio de Janeiro', 'Belém', 'São Paulo', 'Toledo', 'Cruzília', 'Teresina', 'Ananindeua', 'Ferraz de Vasconcelos', 'São Paulo', 'Saquarema', 'Foz do Iguaçu', 'São Paulo', 'Rio Verde', 'Louveira', 'Joinville', 'Duque de Caxias', 'Guarulhos', 'Juiz de Fora', 'São Gonçalo', 'Bofete', 'Fortaleza', 'Porto Velho', 'Pedro Leopoldo', 'Belo Jardim', 'Rio de Janeiro', 'Cuiabá', 'Campo Largo', 'Cabo Frio', 'Cachoeirinha', 'São Paulo', 'Marica', 'Varginha', 'Cascavel', 'Uberlândia', 'Nova Iguaçu', 'Londrina', 'Itabuna', 'Cotia', 'Muriaé', 'Cuiabá', 'Delta', 'Palmas', 'Salvador', 'Cabo de Santo Agostinho', 'São Paulo', 'Salvador', 'Colombo', 'São José dos Campos', 'Guarulhos', 'Pouso Alegre', 'Belém', 'Nova Iguaçu', 'Itaboraí', 'Caldas Novas', 'Sorocaba', 'Três Corações', 'Florianópolis', 'Araguari', 'São Paulo', 'Governador Valadares', 'Brasília', 'Terra Boa', 'Cariacica', 'Rio de Janeiro', 'Salto', 'Cuiabá', 'Nilopolis', 'Matinhos', 'Parnamirim', 'Xangri-Lá', 'Campos dos Goytacazes', 'São Paulo', 'Itaboraí', 'Curitiba', 'Açailândia', 'São Luís', 'Varginha', 'Vitória', 'Rio de Janeiro', 'São José dos Campos', 'Paulista', 'Barretos', 'Rio de Janeiro', 'São José dos Pinhais', 'Brasília', 'Castanhal', 'Queimados', 'Fortaleza', 'São Paulo', 'Feira de Santana', 'Goiânia', 'Três Lagoas', 'Colombo', 'Juiz de Fora', 'São Paulo', 'Lagarto', 'Ipojuca', 'São José do Rio Preto', 'Fortaleza', 'Embu das Artes', 'Sumaré', 'Fortaleza', 'Porto Seguro', 'Piratininga', 'Natal', 'São Paulo', 'Umuarama', 'Santos', 'João Pessoa', 'Paulistânia', 'Jaboatão dos Guararapes', 'Agudos', 'Canoas', 'Campos dos Goytacazes', 'Rondonópolis', 'Feira de Santana', 'Montes Claros', 'Campinas', 'Brasília', 'Pindamonhangaba', 'Jandira', 'Taboão da Serra', 'Joinville', 'Aparecida de Goiânia', 'Curitiba', 'Teófilo Otoni', 'Niterói', 'Joinville', 'Caxias do Sul', 'Serra', 'São Paulo', 'Almirante Tamandaré', 'Duartina', 'Paulo Afonso', 'João Pessoa', 'Barra Mansa', 'Fazenda Rio Grande', 'Rio de Janeiro', 'Assis', 'São Paulo', 'Mamanguape', 'Teresopolis', 'São Paulo', 'Curitiba', 'Joinville', 'Belo Horizonte', 'Belo Horizonte', 'Porto Alegre', 'São Paulo', 'Sinop', 'Brasília', 'Cuiabá', 'Olímpia', 'Cuiabá', 'São Paulo', 'São Paulo', 'Teresópolis', 'Serra', 'São Paulo', 'Santa Maria', 'Barueri', 'Limeira', 'Cuiabá', 'Mogi Mirim', 'Feira de Santana', 'Itapipoca', 'Angra dos Reis', 'Rio de Janeiro', 'Joinville', 'Rio de Janeiro', 'Rondonópolis', 'Manaus', 'Nova Iguaçu', 'Caruaru', 'Itapeva', 'Belo Horizonte', 'Vargem Grande do Sul', 'Brasília', 'Piquete', 'Sao Gabriel', 'Jacarezinho', 'Monte Gordo', 'Franca', 'Rio de Janeiro', 'Campinas', 'Jaguariaíva', 'Jaboatão dos Guararapes', 'Carapicuíba', 'Jaraguá do Sul', 'Potiraguá', 'Embu das Artes', 'Campina Grande', 'Dourados', 'Uberaba', 'Marabá', 'Ibicaraí', 'São Paulo', 'Alexânia', 'Lucas do Rio Verde', 'Fortaleza', 'Umuarama', 'Pinhais', 'Franco da Rocha', 'Piracicaba', 'Irapuru', 'Juazeiro do Norte', 'Araçatuba', 'Juquitiba', 'Porto Real', 'Curitiba', 'Teixeira de Freitas', 'Brasília', 'Salvador', 'Ingá', 'João Pinheiro', 'Franca', 'Salvador', 'Promissão', 'Porto Alegre', 'Paulista', 'Carapicuíba', 'Belo Horizonte', 'Caçador', 'São Paulo', 'Foz do Iguaçu', 'Teresina', 'Ilhabela', 'São Paulo', 'Natal', 'Natal', 'Brasília', 'Avaré', 'Volta Redonda', 'Bituruna', 'São Paulo', 'Belo Horizonte', 'São Mateus', 'Brasília', 'Brasília', 'Serra', 'Mogi Mirim', 'Duque de Caxias', 'Rio de Janeiro', 'Campo Grande', 'Aracaju', 'Goiânia', 'Nova Lima', 'Três Rios', 'Pouso Alegre', 'Petrópolis', 'Rio de Janeiro', 'Ananindeua', 'Estancia Velha', 'Florianópolis', 'Rio de Janeiro', 'Cuiabá', 'Pelotas', 'Curitiba', 'Brasília', 'Candeias', 'Três Rios', 'Recife', 'Cuiabá', 'Sete Barras', 'Passos', 'Rio de Janeiro', 'São Paulo', 'Rio de Janeiro', 'Sarandi', 'União da Vitória', 'Ananindeua', 'Caruaru', 'Crato', 'Marialva', 'Natal', 'Sobral', 'Belo Horizonte', 'São Paulo', 'São Luís', 'Rio de Janeiro', 'Japeri', 'Abrantes', 'Maceió', 'Teixeira de Freitas', 'Primavera do Leste', 'Teixeira de Freitas', 'Umuarama', 'São Paulo', 'São Paulo', 'Joinville', 'Sorocaba', 'Lages', 'Campina Grande', 'Ponta Grossa', 'Jaraguá do Sul', 'Uberlândia', 'São Paulo', 'Marília', 'São Paulo', 'Barra Velha', 'Mesquita', 'Taquari', 'Lençóis Paulista', 'Macapá', 'Vitória da Conquista', 'Castilho', 'São João de Meriti', 'Canoas', 'São Gonçalo', 'Pedro Leopoldo', 'Rio de Janeiro', 'Manaus', 'Itatinga', 'João Pessoa', 'Capivari de Baixo', 'Brasília', 'Matelândia', 'Caraguatatuba', 'Fortaleza', 'Caieiras', 'Salvador', 'Carapicuíba', 'Eunapolis', 'São Bento do Sul', 'Castanhal', 'Lauro De Freitas', 'Piraquara', 'Pederneiras', 'São Luís', 'Pederneiras', 'Maranguape', 'Tremembé', 'Maracaju', 'Nossa Senhora do Socorro', 'Bertioga', 'General Salgado', 'Bragança Paulista', 'São Paulo', 'Blumenau', 'Mogi das Cruzes', 'Oiapoque', 'Imperatriz', 'Rio de Janeiro', 'Resende', 'Porto Alegre', 'São Paulo', 'Goiânia', 'Aracaju', 'Passos', 'Sete Lagoas', 'São Paulo', 'Patos', 'Caxias do Sul', 'Teresina', 'Serra', 'Rio de Janeiro', 'Campinas', 'Natal', 'Rio de Janeiro', 'Conservatória', 'Maringá', 'Vila Velha', 'Marília', 'Petrópolis', 'Feira de Santana', 'Jundiaí', 'São José dos Campos', 'Recife', 'Brasília', 'Curitiba', 'Uberlândia', 'Cambé', 'Goiânia', 'Palhoça', 'Aracaju', 'Gravataí', 'Mogi das Cruzes', 'Chapecó', 'Aguas Lindas De Goias', 'Ilhabela', 'São Paulo', 'Aguas Lindas De Goias', 'Roseira', 'Rondonópolis', 'Americana', 'São Vicente', 'Goiânia', 'Cabreúva', 'Caruaru', 'Marabá', 'Ji-Parana', 'São Gonçalo', 'Brasília', 'Ijuí', 'Parati', 'Petrolina', 'Sapé', 'São João de Meriti', 'Palmas', 'São José', 'Brasília', 'Agudos do Sul', 'Serra do Navio', 'Porto Alegre', 'Ji-Paraná', 'Sapé', 'Conceição do Coité', 'Conceição do Coité', 'Parnamirim', 'Brasília', 'Água Boa', 'Paranaguá', 'Goiânia', 'Volta Redonda', 'Planaltina', 'Alfenas', 'Itajobi', 'Niterói', 'Goiânia', 'São Gonçalo', 'Fortaleza', 'Barretos', 'Rio das Ostras', 'Ilhabela', 'Dourados', 'Palhoça', 'São Paulo', 'Campo Grande', 'Joaçaba', 'Imperatriz', 'São Paulo', 'Cotia', 'Caçapava do Sul', 'Duque de Caxias', 'Ribeirão Preto', 'Mogi das Cruzes', 'Entrepelado', 'Lagoa Seca', 'Porto Velho', 'Aparecida de Goiânia', 'Uberlândia', 'Santa Bárbara', 'Porto Seguro', 'Osasco', 'Mogi das Cruzes', 'Curitiba', 'Barra dos Coqueiros', 'Blumenau', 'Campinas', 'Botucatu', 'Bauru', 'Brasília', 'São Paulo', 'Rio de Janeiro', 'Mogi das Cruzes', 'Guariba', 'Recife', 'Itapevi', 'Itaperuna', 'São Paulo', 'São Paulo', 'Monte Mor', 'Macaíba', 'Rio de Janeiro', 'Rio Grande da Serra', 'Lorena', 'Cuiabá', 'Curitiba', 'Alvorada', 'Florianópolis', 'Itapevi', 'Manaus', 'São Paulo', 'Jacareí', 'São Paulo', 'Brasília', 'Montes Claros', 'São José do Rio Preto', 'Pindamonhangaba', 'Recife', 'Petrolina', 'Brasilia', 'Lins', 'São Paulo', 'Bauru', 'Cuiabá', 'Belo Horizonte', 'Cabo Frio', 'Aracati', 'Suzano', 'Camaçari', 'Fortaleza', 'Brasília', 'Londrina', 'Araguari', 'Arraial do Cabo', 'Volta Redonda', 'Manaus', 'Mogi das Cruzes', 'Porto Alegre', 'Rio de Janeiro', 'Jaboatão dos Guararapes', 'Marabá', 'Igarassu', 'Balneário Camboriú', 'São João de Meriti', 'Itumbiara', 'Recife', 'Lauro Müller', 'Feira de Santana', 'Fortaleza', 'Salvador', 'São Paulo', 'Caruaru', 'São Paulo', 'Rio de Janeiro', 'Rio Branco', 'Campo Grande', 'Sumaré', 'Balneário Camboriú', 'Patrocinio', 'Curitiba', 'Itatiba', 'Buri', 'São Mateus', 'Criciúma', 'Araguaína', 'Cabedelo', 'Rio De Janeiro', 'Juazeiro do Norte', 'Niterói', 'São Sebastião', 'São Paulo', 'Sertãozinho', 'Resende', 'Aramina', 'Araraquara', 'Rio de Janeiro', 'Rio de Janeiro', 'Aparecida', 'Pato Branco', 'Porto Alegre', 'São Paulo', 'Belém', 'São Paulo', 'Belém', 'Americana', 'Campinas', 'Cocalzinho de Goiás', \"Dias D'Ávila\", 'São Paulo', 'Sorocaba', 'Salvador', 'Rio de Janeiro', 'Campinas', 'Dourados', 'Hortolândia', 'Currais Novos', 'Uberlândia', 'Navegantes', 'São Paulo', 'Duque de Caxias', 'Aracaju', 'São Gonçalo', 'Barra de São João', 'Mogi Guaçu', 'Boa Vista', 'Diadema', 'Limeira', 'Iguape', 'Campina Grande', 'Salvador', 'Catalão', 'Joinville', 'Toledo', 'Guaíba', 'Presidente Prudente', \"Machadinho D'Oeste\", 'Gravatá', 'Campos dos Goytacazes', 'Duque de Caxias', 'Brasília', 'Rio Grande', 'Campinas', 'Rio de Janeiro', 'Toledo', 'Canoas', 'Campinas', 'Santo Ângelo', 'Manaus', 'Taboão da Serra', 'Embu das Artes', 'Saquarema', 'São Paulo', 'Mogi das Cruzes', 'Vitória', 'São Gonçalo', 'Carapicuíba', 'Coronel Fabriciano', 'Belo Horizonte', 'Cunha', 'Piquete', 'Uberaba', 'Arcoverde', 'Arapiraca', 'Campo Largo', 'Duque de Caxias', 'Curitiba', 'Porto Velho', 'São Paulo', 'São Paulo', 'Santana', 'São Paulo', 'Campo Grande', 'São José dos Campos', 'Santa Rita', 'Itabuna', 'Salvador', 'Araçatuba', 'Joinville', 'Londrina', 'Franco da Rocha', 'Rio de Janeiro', 'Curitiba', 'Maceió', 'Rio Branco', 'Sapucaia do Sul', 'Belo Horizonte', 'Campinas', 'Goiânia', 'Bauru', 'Brasília', 'Dourados', 'Volta Redonda', 'Rio de Janeiro', 'Cruzeiro', 'Santos Dumont', 'Curitiba', 'Curitiba', 'Osasco', 'São Paulo', 'São Paulo', 'Marcolândia', 'Viamão', 'Rio de Janeiro', 'Belém', 'Uruçuca', 'Brasília', 'São Paulo', 'Rio de Janeiro', 'Maceió', 'Novo Hamburgo', 'Blumenau', 'Presidente Prudente', 'Campo Grande', 'Joaquim Távora', 'Londrina', 'Taboão da Serra', 'Porto Alegre', 'Brasília', 'Recife', 'São Vicente', 'Simões Filho', 'Mairipora', 'Ferraz de Vasconcelos', 'São Manuel', 'São Gonçalo', 'Caxias do Sul', 'São Paulo', 'São Paulo', 'Brasília', 'Ourinhos', 'Rio de Janeiro', 'Registro', 'São Gonçalo', 'Itaboraí', 'Rio de Janeiro', 'Rio Largo', 'Campo Grande', 'Santo André', 'São Paulo', 'Brasília', 'Rio de Janeiro', 'Jaraguá do Sul', 'Americana', 'Joinville', 'São Paulo', 'Elias Fausto', 'Aparecida de Goiânia', 'Bayeux', 'Três Rios', 'Brasília', 'Guarujá', 'Ilhéus', 'Brasilia', 'Fortaleza', 'Campos dos Goytacazes', 'Serra', 'Rio de Janeiro', 'São Paulo', 'Uberaba', 'Sete Lagoas', 'São Roque', 'Paulo Afonso', 'Vargem Grande Paulista', 'Mineiros', 'Juazeiro', 'Volta Redonda', 'Fortaleza', 'São Carlos', 'Armação dos Búzios', 'Manaus', 'Campo Grande', 'Caxias do Sul', 'Rolândia', 'Carazinho', 'Barretos', 'Ourinhos', 'Paulista', 'Iguape', 'Osasco', 'Brasília', 'Conceição de Macabu', 'Rio de Janeiro', 'Rio de Janeiro', 'Saquarema', 'Jandira', 'Rio de Janeiro', 'Cachoeira Dourada', 'Mesquita', 'Paço do Lumiar', 'Ribeirão Preto', 'Viamão', 'Praia Grande', 'Macapá', 'Curitiba', 'Teresina', 'Feira de Santana', 'João Pessoa', 'Caruaru', 'Gramado', 'Brasília', 'Saquarema', 'Pitangueiras', 'Vila dos Cabanos', 'Rio de Janeiro', 'Guapimirim', 'Brasília', 'Brasília', 'Betim', 'Curitiba', 'Uberlândia', 'Angra dos Reis', 'Alvorada', 'Águas Lindas de Goiás', 'Abreu e Lima', 'Tucuruí', 'Mossoró', 'São Pedro', 'Paranaguá', 'Patos de Minas', 'São Paulo', 'Brasília', 'Serra', 'Brasília', 'Ferraz de Vasconcelos', 'Itatiaia', 'Jequié', 'Marília', 'Olinda', 'Itaboraí', 'Salvador', 'Toledo', 'Belo Horizonte', 'Porto Alegre', 'Lagarto', 'Rio de Janeiro', 'Espírito Santo do Pinhal', 'João Pessoa', 'Fortaleza', 'Balneário Camboriú', 'Lavras', 'Navegantes', 'Praia Grande', 'Tabuleiro do Norte', 'São Paulo', 'Ilha Solteira', 'Belo Horizonte', 'Aracaju', 'Salvador', 'Campinas', 'Caraguatatuba', 'Curitiba', 'Rio de Janeiro', 'Resende', 'Paracatu', 'Maricá', 'Queimados', 'Bauru', 'Rio Branco', 'Fortaleza', 'Itatiba', 'Jaboatão dos Guararapes', 'Conceição da Feira', 'Niterói', 'São José dos Pinhais', 'Cascavel', 'Jaboatão dos Guararapes', 'Alto Taquari', 'Tupã', 'Eunápolis', 'São José de Mipibu', 'Santa Branca', 'Bebedouro', 'Maricá', 'Ananindeua', 'Horizonte', 'Caraguatatuba', 'Salvador', 'São Bento do Sul', 'São Paulo', 'São Paulo', 'Santo André', 'Belford Roxo', 'Sapé', 'Manaus', 'Atibaia', 'Montenegro', 'Contagem', 'Fortaleza', 'Piraju', 'Brasília', 'Garopaba', 'Belém', 'Goiânia', 'Rondonópolis', 'Carapicuíba', 'São Paulo', 'Poções', 'Belford Roxo', 'Fortaleza', 'Belford Roxo', 'Fortaleza', 'Santa Rita do Sapucaí', 'São Paulo', 'Santo Antônio do Descoberto', 'Maringá', 'Mossoró', 'Araquari', 'Embu-Guaçu', 'Planaltina', 'Rio de Janeiro', 'Colatina', 'João Pessoa', 'Belém', 'Olinda', 'Anápolis', 'Abreu e Lima', 'Surubim', 'Uberlândia', 'Niterói', 'Sumaré', 'Brasília', 'Feira de Santana', 'Ubatuba', 'Petrópolis', 'Vitória', 'Brasília', 'Niterói', 'São Paulo', 'Florianópolis', 'Sorocaba', 'Manaus', 'Ipatinga', 'Brasília', 'Sorocaba', 'Rio Grande', 'Votuporanga', 'Apucarana', 'Marília', 'Nossa Senhora do Socorro', 'Brasília', 'Santana de Parnaíba', 'Uberlândia', 'Suzano', 'Praia Grande', 'Campina Grande', 'Alhandra', 'Pontal do Paraná', 'Criciúma', 'Novo Hamburgo', 'Londrina', 'Barra do Garças', 'São Paulo', 'Águas Lindas de Goiás', 'Dourados', 'Salvador', 'São Paulo', 'Iguape', 'Nova Iguaçu', 'Serra', 'Praia Grande', 'Timbaúba', 'Passo Fundo', 'Eunápolis', 'Três Rios', 'Abreu e Lima', 'Salvador', 'São Paulo', 'São Paulo', 'Itapema', 'Santa Rosa', 'Rio de Janeiro', 'Conselheiro Zacarias', 'Londrina', 'São Paulo', 'Blumenau', 'Natal', 'Ponta Grossa', 'Santa Maria', 'São Paulo', 'Campo Grande', 'Barbacena', 'Jandira', 'Brasília', 'São Gonçalo', 'São José dos Pinhais', 'Castanhal', 'Rio de Janeiro', 'Contagem', 'Mineiros', 'Mauá', 'São Joaquim da Barra', 'Maceió', 'Avaré', 'Manaus', 'Ribeirao Preto', 'São Paulo', 'Pelotas', 'Curitiba', 'Brasília', 'Florianópolis', 'São Paulo', 'Duque de Caxias', 'Brasília', 'Paranaguá', 'Mossoró', 'Feira de Santana', 'Garuva', 'Rio de Janeiro', 'São Paulo', 'Lauro De Freitas', 'Belém', 'São Paulo', 'Aparecida', 'Formosa', 'Vargem Grande Paulista', 'Cristalina', 'Linhares', 'Mossoró', 'Ananindeua', 'Ananindeua', 'Uberaba', 'Rio Grande', \"Santa Bárbara D'Oeste\", 'Rio de Janeiro', 'Rurópolis', 'Uberaba', 'Nova Iguaçu', 'Brasília', 'Mogi das Cruzes', 'Ponta Grossa', 'União', 'São Paulo', 'Ilhabela', 'Parnaíba', 'Florianópolis', 'Fortaleza', 'Serra', 'Novo Hamburgo', 'Aguas Lindas De Goias', 'Cachoeiras de Macacu', 'Várzea Grande', 'São Paulo', 'Fortaleza', 'Nova Iguaçu', 'Niterói', 'Joinville', 'Ji-Parana', 'Caceres', 'Pinhais', 'Olinda', 'Ubatuba', 'Telêmaco Borba', 'São Sebastião', 'Jaboatão dos Guararapes', 'Campos Novos', 'Inhumas', 'Cuiabá', 'São José dos Campos', 'Ribeirão Preto', 'Mogi das Cruzes', 'Birigüi', 'Macaé', 'Uberaba', 'Governador Valadares', 'Piracicaba', 'Apiaí', 'São Desidério', 'São Gonçalo', 'Osasco', 'Petrolina', 'Maceió', 'Ouro Branco', 'Araruama', 'Campo Grande', 'Mossoró', 'Umãs', 'Maripá de Minas', 'Macaé', 'Fortaleza', 'Manaus', 'Campinas', 'São Paulo', 'Rio de Janeiro', 'Cachoeirinha', 'Rio das Ostras', 'Simões Filho', 'Hortolândia', 'São Luís', 'São Vicente', 'Vitória', 'Uberlândia', 'São Paulo', 'São Paulo', 'São Leopoldo', 'Andradina', 'Brasília', 'Porto Alegre', 'Brasília', 'Cachoeira Paulista', 'Palhoça', 'Macaé', 'Cachoeiro de Itapemirim', 'Porto Velho', 'Jequie', 'Cachoeirinha', 'Santo André', 'Itajaí', 'Ribeirão Pires', 'Foz do Iguaçu', 'São Paulo', 'João Pessoa', 'Manaus', 'Sorocaba', 'Presidente Prudente', 'Montes Claros', 'Vila Velha', 'Brasília', 'João Pessoa', 'Nova Lima', 'Barra do Piraí', 'Cuiabá', 'São Paulo', 'Ubatuba', 'Santo Antônio de Jesus', 'São Francisco do Sul', 'Curitiba', 'Maceió', 'Rio de Janeiro', 'Florianópolis', 'Itapoá', 'Itajaí', 'Imperatriz', 'Belém', 'Simões Filho', 'Simões Filho', 'Mossoró', 'São Paulo', 'Blumenau', 'São Gonçalo', 'Maringá', 'Pinhalzinho', 'São Paulo', 'Piracicaba', 'Ponta Grossa', 'Matupá', 'Colombo', 'Patos de Minas', 'Campo Grande', 'Cunha', 'Jaú', 'Porto Alegre', 'Olinda', 'Belém', 'Teresina', 'Vitória da Conquista', 'Marília', 'Sinop', 'Goianésia', 'Boituva', 'Sinop', 'Rio de Janeiro', 'Diadema', 'Arapongas', 'Iguaba Grande', 'Recife', 'Brasília', 'Blumenau', \"Dias D'Ávila\", 'Serra', 'Brasília', 'Caruaru', 'Macapá', 'Paulista', 'Maceió', 'Barra Velha', 'Blumenau', 'Parnamirim', 'Laje', 'Goiânia', 'Santa Rosa', 'Maricá', 'Belo Horizonte', 'Salto', 'São Paulo', 'Uberaba', 'São Paulo', 'Curitiba', 'Sumaré', 'Barra do Piraí', 'Cuiabá', 'Salvador', 'Maringá', 'Santos', 'Nova Iguaçu', 'Manaus', 'Almirante Tamandaré', 'Manaus', 'Cariacica', 'Umuarama', 'Brasília', 'Birigüi', 'Recife', 'Volta Redonda', 'Candeias', 'Rio de Janeiro', 'São José do Rio Pardo', 'Porto Alegre', 'Rio de Janeiro', 'São José dos Pinhais', 'Manaus', 'Cruzeiro', 'Petrolina', 'São Paulo', 'Fortaleza', 'Medianeira', 'Toledo', 'Agudos', 'Goiânia', 'Picos', 'Canoas', 'São Leopoldo', 'Areiópolis', 'Vitória da Conquista', 'Goiânia', 'Presidente Prudente', 'Limeira', 'Panorama', 'Brasília', 'Juiz de Fora', 'Jaboatão dos Guararapes', 'Belém', 'Cabo de Santo Agostinho', 'Ubatuba', 'Vitória', 'Rio de Janeiro', 'São Paulo', 'São Paulo', 'Fortaleza', 'Vitória', 'Sarandi', 'Itumbiara', 'Ji-Paraná', 'Salvador', 'Rio de Janeiro', 'Rio de Janeiro', 'Telêmaco Borba', 'Salvador', 'Japurá', 'Camacari', 'Patos de Minas', 'Macaé', 'Vila Velha', 'Maceió', 'Quixadá', 'Imbituba', 'Olinda', 'São José dos Campos', 'Elias Fausto', 'Eusébio', 'Ilhéus', 'Macaé', 'Rio de Janeiro', 'Betim', 'Nova Iguaçu', 'Alvorada', 'São Paulo', 'Mata de São João', 'São Paulo', 'Fortaleza', 'Jacarezinho', 'Salvador', 'Rio de Janeiro', 'São Lourenço da Mata', 'Chapecó', 'Nucleo Bandeirante', 'São João de Meriti', 'Jundiaí', 'Betim', 'Toritama', 'Brasília', 'Lauro De Freitas', 'Coração de Maria', 'São Paulo', 'Marabá', 'Barreiras', 'Jaboatão dos Guararapes', 'Buritama', 'Itapeva', 'Limeira', 'Manaus', 'João Pessoa', 'Mossoró', 'Ipojuca', 'Rio de Janeiro', 'Bagé', 'Salvador', 'Gravataí', 'Ibirité', 'Marechal Floriano', 'Porto Alegre', 'Campinas', 'Mogi das Cruzes', 'Rio de Janeiro', 'Fortaleza', 'Juiz de Fora', 'Novo Hamburgo', 'Belo Horizonte', 'Poá', 'Piracicaba', 'Balneário Camboriú', 'Campo Grande', 'Porto Alegre', 'Rio de Janeiro', 'Caxias do Sul', 'Alto Alegre', 'Boa Vista', 'Belo Horizonte', 'Porto Alegre', 'Campo Grande', 'Aracaju', 'Jandira', 'Curitiba', 'Barra Do Garcas', 'Uberlândia', 'São Paulo', 'Rio Verde', 'Curitiba', 'Palhoça', 'Colatina', 'Rio das Ostras', 'Uberlândia', 'Macapá', 'Barra de São Francisco', 'Manaus', 'Embu das Artes', 'São Gonçalo do Amarante', 'Fortaleza', 'São Paulo', 'Barbacena', 'Rio Branco', 'Aracaju', 'Araguari', 'Cabo de Santo Agostinho', 'Rio de Janeiro', 'Juazeiro do Norte', 'Votorantim', 'Inhapi', 'São Bernardo do Campo', 'Viradouro', 'São Paulo', 'Porto Velho', 'Simão Pereira', 'Teresina', 'Itupeva', 'São Paulo', 'Formosa', 'Pedro Leopoldo', 'Praia Grande', 'Manaus', 'Vitória', 'Rio de Janeiro', 'Pedro Leopoldo', 'Goiânia', 'Maringá', 'Brasília', 'Rio Negrinho', 'Girassol', 'Manaus', 'Diadema', 'Rio de Janeiro', 'Presidente Prudente', 'Goiânia', 'Fortaleza', 'Ilhabela', 'São Carlos', 'Luís Eduardo Magalhães', 'Sabará', 'Rio Claro', 'Maceió', 'Cambé', 'Itabuna', 'Novo Hamburgo', 'Candelária', 'Carapicuíba', 'Várzea Grande', 'Olinda', 'São Paulo', 'Salvador', 'Botucatu', 'Brasília', 'Rio de Janeiro', 'Criciúma', 'São Luís', 'Manaus', 'Salto', 'Angra dos Reis', 'Ribeirão Preto', 'Vinhedo', 'São Paulo', 'Araquari', 'Cuiabá', 'Brasília', 'Balneário Camboriú', 'São Paulo', 'Santa Cruz do Capibaribe', 'Curitiba', 'São Sebastião', 'Fortaleza', 'São Luís', 'Arapiraca', 'Uberlândia', 'Guaíba', 'São José dos Pinhais', 'Brasília', 'Brasília', 'Americana', 'Vitória da Conquista', 'São Paulo', 'Caxias do Sul', 'Belo Horizonte', 'Bertioga', 'São Paulo', 'Rio de Janeiro', 'Belford Roxo', 'São Paulo', 'Goiânia', 'Diadema', 'Presidente Prudente', 'Rio de Janeiro', 'Macaé', 'São Paulo', 'Rio de Janeiro', 'Guarujá', 'Indaiatuba', 'Guarulhos', 'Natal', 'Guarulhos', 'Itapema', 'Serra', 'Lauro De Freitas', 'Brazabrantes', 'São Paulo', 'Granja', 'Bayeux', 'São Luís', 'Brasília', 'Quatis', 'Porto Alegre', 'Araruama', 'São Carlos', 'João Pessoa', 'Jundiaí', 'Blumenau', 'Campos dos Goytacazes', 'Viamão', 'Três Lagoas', 'São Gonçalo', 'Porto Alegre', 'Álvares Machado', 'Rio de Janeiro', 'Campo Mourão', 'Paulista', 'Vitória da Conquista', 'Manaus', 'Salvador', 'Canoas', 'São Paulo', 'Brasília', 'Praia Grande', 'Jacareí', 'São Gonçalo', 'Ilheus', 'Dourados', 'São Gonçalo', 'Jandira', 'Machado', 'Paulínia', 'Tianguá', 'Itanhaém', 'Vitória', 'São Vicente', 'Apucarana', 'Teresina', 'Rio de Janeiro', 'Campo Mourão', 'São Caetano do Sul', 'Itabuna', 'Nova Iguaçu', 'Rio de Janeiro', 'Porto Alegre', 'Marília', 'Estância', 'Quirinópolis', 'Carapicuíba', 'Aracaju', 'Recife', 'Ituiutaba', 'José Bonifácio', 'Colombo', 'Sombrio', 'Campina Grande', 'Lençóis Paulista', 'Fortaleza', 'Belo Horizonte', 'Fortaleza', 'Patos', 'Rio de Janeiro', 'Camboriú', 'São Paulo', 'Curitiba', 'Salvador', 'Vila Velha', 'Campo Grande', 'Cuiabá', 'Cuiabá', 'Teixeira de Freitas', 'Taubaté', 'Salvador', 'Poços de Caldas', 'São Paulo', 'Jaraguá do Sul', 'Santa Rosa', 'Fazenda Rio Grande', 'Itajubá', 'Fortaleza', 'Guarujá', 'Santa Maria', 'Campo Grande', 'Rio de Janeiro', 'Ferraz de Vasconcelos', 'Vitória da Conquista', 'Santo Anastácio', 'Maracanaú', 'Aracaju', 'Toledo', 'Porto Alegre', 'Brasília', 'Curitiba', 'Itapevi', 'Sorocaba', 'Itaquaquecetuba', 'Guaíra', 'Aracaju', 'Paulínia', 'Valinhos', 'Cascavel', 'Porto Alegre', 'Belém', 'São Paulo', 'Rio de Janeiro', 'Suzano', 'Osasco', 'Fortaleza', 'Capão da Canoa', 'Guarapari', 'Nova Iguaçu', 'Várzea da Palma', 'Magé', 'Cuiabá', 'São José dos Campos', 'Ponta Grossa', 'Marília', 'Seropédica', 'Paranaguá', 'Itabuna', 'Londrina', 'Ituiutaba', 'Formosa', 'São José de Ribamar', 'Rio de Janeiro', 'Campinas', 'Arapongas', 'Nova Iguaçu', 'Araraquara', 'Aritaguá', 'Itajaí', 'Campina Grande', 'Joinville', 'São Leopoldo', 'Lauro de Freitas', 'Itumbiara', 'Alta Floresta', 'São Gonçalo', 'São Miguel do Oeste', 'Duque de Caxias', 'Ijuí', 'São Paulo', 'Presidente Prudente', 'São Paulo', 'São Paulo', 'João Pessoa', 'Contagem', 'Feira de Santana', 'Recife', 'Palmas', 'Campina Grande', 'Angra dos Reis', 'São Luís', 'Itabuna', 'Porto Alegre', 'Assis', 'Castanhal', 'São Paulo', 'Rio Branco', 'Boa Vista', 'Belo Horizonte', 'Florianópolis', 'São Paulo', 'Guarulhos', 'Rio de Janeiro', 'Brasília', 'Brasília', 'São Paulo', 'Campo Mourão', 'Poços de Caldas', 'Rio de Janeiro', 'Curitiba', 'Uruçuca', 'Florianópolis', 'Santa Maria', 'N/D', 'Brasília', 'Porto Velho', 'Maceió', 'Hortolândia', 'Limeira', 'Manaus', 'Mossoró', 'Natal', 'Betim', 'Bage', 'Osasco', 'São Carlos', 'Imbituba', 'Barra dos Coqueiros']\n"
          ]
        }
      ]
    },
    {
      "cell_type": "code",
      "source": [
        ""
      ],
      "metadata": {
        "id": "jWNGaTz_EcQo"
      },
      "execution_count": null,
      "outputs": []
    }
  ],
  "metadata": {
    "colab": {
      "name": "STONE_DATA_CHALLENGE_2022_MURILO-FARIAS.ipynb",
      "provenance": [],
      "collapsed_sections": [],
      "mount_file_id": "1WrkN9m4QC8umYJjeMrHmZaK_lBB3Pl8O",
      "authorship_tag": "ABX9TyM/dTJxu9Vwi7sClesJUFTq",
      "include_colab_link": true
    },
    "kernelspec": {
      "display_name": "Python 3",
      "name": "python3"
    },
    "language_info": {
      "name": "python"
    }
  },
  "nbformat": 4,
  "nbformat_minor": 0
}