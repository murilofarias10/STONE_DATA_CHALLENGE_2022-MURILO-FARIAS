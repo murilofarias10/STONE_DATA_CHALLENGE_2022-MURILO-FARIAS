{
  "cells": [
    {
      "cell_type": "markdown",
      "metadata": {
        "id": "view-in-github",
        "colab_type": "text"
      },
      "source": [
        "<a href=\"https://colab.research.google.com/github/murilofarias10/STONE_DATA_CHALLENGE_2022-MURILO-FARIAS/blob/main/STONE_DATA_CHALLENGE_2022_MURILO_FARIAS.ipynb\" target=\"_parent\"><img src=\"https://colab.research.google.com/assets/colab-badge.svg\" alt=\"Open In Colab\"/></a>"
      ]
    },
    {
      "cell_type": "code",
      "execution_count": null,
      "metadata": {
        "id": "SLfYyLqX5hr8"
      },
      "outputs": [],
      "source": [
        "#STONE_DATA_CHALLENGE_2022\n",
        "#MURILO-FARIAS"
      ]
    },
    {
      "cell_type": "code",
      "execution_count": null,
      "metadata": {
        "id": "85XboIiEL6gm"
      },
      "outputs": [],
      "source": [
        "#Analise Exploratória do Arquivo: Base PORTFOLIO_GERAL.csv "
      ]
    },
    {
      "cell_type": "code",
      "execution_count": 22,
      "metadata": {
        "id": "S6xrIhJ1MWWB"
      },
      "outputs": [],
      "source": [
        "#Importando a biblioteca pandas\n",
        "import pandas as pd\n",
        "\n",
        "#Carregando o arquivo que está no drive\n",
        "PORTFOLIO_GERAL = pd.read_csv('/content/drive/MyDrive/Colab Notebooks/DC22/Arquivos_Originais/portfolio_geral.csv')"
      ]
    },
    {
      "cell_type": "code",
      "execution_count": 23,
      "metadata": {
        "colab": {
          "base_uri": "https://localhost:8080/",
          "height": 630
        },
        "id": "SxgZSFR7OuVT",
        "outputId": "c4be3653-194b-49dd-a6bf-ccf6be94ff77"
      },
      "outputs": [
        {
          "output_type": "execute_result",
          "data": {
            "text/plain": [
              "                        contrato_id dt_ref_portfolio    safra  \\\n",
              "0  356c02706c8e74b15004bb5964ade6bb       2022-03-01  2020-06   \n",
              "1  1eb0e13f83f336146227ccc9efb08c47       2022-03-01  2020-07   \n",
              "2  8b03675f597974ca96f06648e96af6d4       2022-03-01  2020-08   \n",
              "3  4207c25cdd13aba5a05ae348e889d798       2022-03-01  2021-03   \n",
              "4  7dfdca96b6ff0dd844e5e130aee88b30       2022-03-01  2020-11   \n",
              "5  a3aecc6b029cc77dd867e0e24e2d616f       2022-03-01  2020-12   \n",
              "6  3db18b4a0e36098c1ef1ee87f1491d84       2022-03-01  2020-07   \n",
              "7  b4658a6d9785c527297cd14762240f09       2022-03-01  2020-12   \n",
              "8  c48198c89f94ca4fd075bf30b889b47d       2020-10-22  2020-04   \n",
              "9  05eddba83dc40815a1aa10b6d6259708       2020-10-22  2020-07   \n",
              "\n",
              "                       nr_documento status_contrato dt_contrato dt_desembolso  \\\n",
              "0  b0871d4e0d72afd1d44381e5b2453cb2         Settled  2020-06-24    2020-06-29   \n",
              "1  938513461b4a4fcd2bf99ffd8f12b9be         Settled  2020-07-26    2020-07-28   \n",
              "2  4303bd71ee3fe80aba4efc8dbd6c7d70         Settled  2020-08-13    2020-08-17   \n",
              "3  9c1dc4403f8a4833bd58eea3ee85c917          Active  2021-03-01    2021-03-03   \n",
              "4  3b6951df3075979c99a4dfd9f93efd38          Active  2020-10-31    2020-11-04   \n",
              "5  9740eda3d6190add5703cd2dd280023c          Active  2020-12-18    2020-12-22   \n",
              "6  c2766a0c65d1df592aeb4797efc893e0          Active  2020-07-08    2020-07-10   \n",
              "7  d61e4f520ee20e9c693c9c4808d19f55          Active  2020-12-04    2020-12-08   \n",
              "8  77846fd227fe5270dbbfe752515d1af5          Active  2020-04-15    2020-04-22   \n",
              "9  62290fe7c7682b1f829ae81b1fd08baf          Active  2020-07-02    2020-07-06   \n",
              "\n",
              "  dt_vencimento       dt_wo  prazo  ...  juros_mes  juros_diario  \\\n",
              "0    2020-12-24  2021-12-24  10.26  ...    0.10788       0.00345   \n",
              "1    2021-10-26  2022-10-26  25.65  ...    0.04788       0.00157   \n",
              "2    2022-02-13  2023-02-13  30.78  ...    0.05388       0.00176   \n",
              "3    2022-06-01  2023-06-01  25.65  ...    0.04788       0.00157   \n",
              "4    2022-01-31  2023-01-31  25.65  ...    0.04788       0.00157   \n",
              "5    2022-06-18  2023-06-18  30.78  ...    0.04188       0.00137   \n",
              "6    2021-10-08  2022-10-08  25.65  ...    0.10188       0.00326   \n",
              "7    2022-03-04  2023-03-04  25.65  ...    0.04788       0.00157   \n",
              "8    2021-07-15  2022-07-15  25.65  ...    0.04788       0.00157   \n",
              "9    2021-10-02  2022-10-02  25.65  ...    0.07188       0.00233   \n",
              "\n",
              "   perc_retencao  vlr_pgto_realizado  vlr_pgto_esperado  vlr_saldo_devedor  \\\n",
              "0        0.24000                0.00             163.00               0.55   \n",
              "1        0.08400                0.00              46.87               0.00   \n",
              "2        0.08076                0.00              45.57               0.00   \n",
              "3        0.19200                0.00              43.06            9469.47   \n",
              "4        1.20000                0.00             200.09           57783.55   \n",
              "5        0.12000                0.00              89.99           36764.23   \n",
              "6        1.20000                0.00              82.61           66762.40   \n",
              "7        0.14388                0.00             131.89           20054.13   \n",
              "8        0.05520               30.95               5.03             466.54   \n",
              "9        0.13200              130.59              34.91            7285.04   \n",
              "\n",
              "   vlr_saldo_devedor_esperado  dsp  dspp  flag_transacao  \n",
              "0                        0.00    0     0               0  \n",
              "1                        0.00    0     0               0  \n",
              "2                        0.00    0     0               0  \n",
              "3                      461.96   20    82               0  \n",
              "4                        0.00  134   167               0  \n",
              "5                     2745.73  196   250               0  \n",
              "6                        0.00  286   594               0  \n",
              "7                        0.00   76    76               0  \n",
              "8                     1127.39    0     0               0  \n",
              "9                     8756.04    0     0               0  \n",
              "\n",
              "[10 rows x 22 columns]"
            ],
            "text/html": [
              "\n",
              "  <div id=\"df-f4f789b9-5467-415f-8d80-9e2dfb95e3ef\">\n",
              "    <div class=\"colab-df-container\">\n",
              "      <div>\n",
              "<style scoped>\n",
              "    .dataframe tbody tr th:only-of-type {\n",
              "        vertical-align: middle;\n",
              "    }\n",
              "\n",
              "    .dataframe tbody tr th {\n",
              "        vertical-align: top;\n",
              "    }\n",
              "\n",
              "    .dataframe thead th {\n",
              "        text-align: right;\n",
              "    }\n",
              "</style>\n",
              "<table border=\"1\" class=\"dataframe\">\n",
              "  <thead>\n",
              "    <tr style=\"text-align: right;\">\n",
              "      <th></th>\n",
              "      <th>contrato_id</th>\n",
              "      <th>dt_ref_portfolio</th>\n",
              "      <th>safra</th>\n",
              "      <th>nr_documento</th>\n",
              "      <th>status_contrato</th>\n",
              "      <th>dt_contrato</th>\n",
              "      <th>dt_desembolso</th>\n",
              "      <th>dt_vencimento</th>\n",
              "      <th>dt_wo</th>\n",
              "      <th>prazo</th>\n",
              "      <th>...</th>\n",
              "      <th>juros_mes</th>\n",
              "      <th>juros_diario</th>\n",
              "      <th>perc_retencao</th>\n",
              "      <th>vlr_pgto_realizado</th>\n",
              "      <th>vlr_pgto_esperado</th>\n",
              "      <th>vlr_saldo_devedor</th>\n",
              "      <th>vlr_saldo_devedor_esperado</th>\n",
              "      <th>dsp</th>\n",
              "      <th>dspp</th>\n",
              "      <th>flag_transacao</th>\n",
              "    </tr>\n",
              "  </thead>\n",
              "  <tbody>\n",
              "    <tr>\n",
              "      <th>0</th>\n",
              "      <td>356c02706c8e74b15004bb5964ade6bb</td>\n",
              "      <td>2022-03-01</td>\n",
              "      <td>2020-06</td>\n",
              "      <td>b0871d4e0d72afd1d44381e5b2453cb2</td>\n",
              "      <td>Settled</td>\n",
              "      <td>2020-06-24</td>\n",
              "      <td>2020-06-29</td>\n",
              "      <td>2020-12-24</td>\n",
              "      <td>2021-12-24</td>\n",
              "      <td>10.26</td>\n",
              "      <td>...</td>\n",
              "      <td>0.10788</td>\n",
              "      <td>0.00345</td>\n",
              "      <td>0.24000</td>\n",
              "      <td>0.00</td>\n",
              "      <td>163.00</td>\n",
              "      <td>0.55</td>\n",
              "      <td>0.00</td>\n",
              "      <td>0</td>\n",
              "      <td>0</td>\n",
              "      <td>0</td>\n",
              "    </tr>\n",
              "    <tr>\n",
              "      <th>1</th>\n",
              "      <td>1eb0e13f83f336146227ccc9efb08c47</td>\n",
              "      <td>2022-03-01</td>\n",
              "      <td>2020-07</td>\n",
              "      <td>938513461b4a4fcd2bf99ffd8f12b9be</td>\n",
              "      <td>Settled</td>\n",
              "      <td>2020-07-26</td>\n",
              "      <td>2020-07-28</td>\n",
              "      <td>2021-10-26</td>\n",
              "      <td>2022-10-26</td>\n",
              "      <td>25.65</td>\n",
              "      <td>...</td>\n",
              "      <td>0.04788</td>\n",
              "      <td>0.00157</td>\n",
              "      <td>0.08400</td>\n",
              "      <td>0.00</td>\n",
              "      <td>46.87</td>\n",
              "      <td>0.00</td>\n",
              "      <td>0.00</td>\n",
              "      <td>0</td>\n",
              "      <td>0</td>\n",
              "      <td>0</td>\n",
              "    </tr>\n",
              "    <tr>\n",
              "      <th>2</th>\n",
              "      <td>8b03675f597974ca96f06648e96af6d4</td>\n",
              "      <td>2022-03-01</td>\n",
              "      <td>2020-08</td>\n",
              "      <td>4303bd71ee3fe80aba4efc8dbd6c7d70</td>\n",
              "      <td>Settled</td>\n",
              "      <td>2020-08-13</td>\n",
              "      <td>2020-08-17</td>\n",
              "      <td>2022-02-13</td>\n",
              "      <td>2023-02-13</td>\n",
              "      <td>30.78</td>\n",
              "      <td>...</td>\n",
              "      <td>0.05388</td>\n",
              "      <td>0.00176</td>\n",
              "      <td>0.08076</td>\n",
              "      <td>0.00</td>\n",
              "      <td>45.57</td>\n",
              "      <td>0.00</td>\n",
              "      <td>0.00</td>\n",
              "      <td>0</td>\n",
              "      <td>0</td>\n",
              "      <td>0</td>\n",
              "    </tr>\n",
              "    <tr>\n",
              "      <th>3</th>\n",
              "      <td>4207c25cdd13aba5a05ae348e889d798</td>\n",
              "      <td>2022-03-01</td>\n",
              "      <td>2021-03</td>\n",
              "      <td>9c1dc4403f8a4833bd58eea3ee85c917</td>\n",
              "      <td>Active</td>\n",
              "      <td>2021-03-01</td>\n",
              "      <td>2021-03-03</td>\n",
              "      <td>2022-06-01</td>\n",
              "      <td>2023-06-01</td>\n",
              "      <td>25.65</td>\n",
              "      <td>...</td>\n",
              "      <td>0.04788</td>\n",
              "      <td>0.00157</td>\n",
              "      <td>0.19200</td>\n",
              "      <td>0.00</td>\n",
              "      <td>43.06</td>\n",
              "      <td>9469.47</td>\n",
              "      <td>461.96</td>\n",
              "      <td>20</td>\n",
              "      <td>82</td>\n",
              "      <td>0</td>\n",
              "    </tr>\n",
              "    <tr>\n",
              "      <th>4</th>\n",
              "      <td>7dfdca96b6ff0dd844e5e130aee88b30</td>\n",
              "      <td>2022-03-01</td>\n",
              "      <td>2020-11</td>\n",
              "      <td>3b6951df3075979c99a4dfd9f93efd38</td>\n",
              "      <td>Active</td>\n",
              "      <td>2020-10-31</td>\n",
              "      <td>2020-11-04</td>\n",
              "      <td>2022-01-31</td>\n",
              "      <td>2023-01-31</td>\n",
              "      <td>25.65</td>\n",
              "      <td>...</td>\n",
              "      <td>0.04788</td>\n",
              "      <td>0.00157</td>\n",
              "      <td>1.20000</td>\n",
              "      <td>0.00</td>\n",
              "      <td>200.09</td>\n",
              "      <td>57783.55</td>\n",
              "      <td>0.00</td>\n",
              "      <td>134</td>\n",
              "      <td>167</td>\n",
              "      <td>0</td>\n",
              "    </tr>\n",
              "    <tr>\n",
              "      <th>5</th>\n",
              "      <td>a3aecc6b029cc77dd867e0e24e2d616f</td>\n",
              "      <td>2022-03-01</td>\n",
              "      <td>2020-12</td>\n",
              "      <td>9740eda3d6190add5703cd2dd280023c</td>\n",
              "      <td>Active</td>\n",
              "      <td>2020-12-18</td>\n",
              "      <td>2020-12-22</td>\n",
              "      <td>2022-06-18</td>\n",
              "      <td>2023-06-18</td>\n",
              "      <td>30.78</td>\n",
              "      <td>...</td>\n",
              "      <td>0.04188</td>\n",
              "      <td>0.00137</td>\n",
              "      <td>0.12000</td>\n",
              "      <td>0.00</td>\n",
              "      <td>89.99</td>\n",
              "      <td>36764.23</td>\n",
              "      <td>2745.73</td>\n",
              "      <td>196</td>\n",
              "      <td>250</td>\n",
              "      <td>0</td>\n",
              "    </tr>\n",
              "    <tr>\n",
              "      <th>6</th>\n",
              "      <td>3db18b4a0e36098c1ef1ee87f1491d84</td>\n",
              "      <td>2022-03-01</td>\n",
              "      <td>2020-07</td>\n",
              "      <td>c2766a0c65d1df592aeb4797efc893e0</td>\n",
              "      <td>Active</td>\n",
              "      <td>2020-07-08</td>\n",
              "      <td>2020-07-10</td>\n",
              "      <td>2021-10-08</td>\n",
              "      <td>2022-10-08</td>\n",
              "      <td>25.65</td>\n",
              "      <td>...</td>\n",
              "      <td>0.10188</td>\n",
              "      <td>0.00326</td>\n",
              "      <td>1.20000</td>\n",
              "      <td>0.00</td>\n",
              "      <td>82.61</td>\n",
              "      <td>66762.40</td>\n",
              "      <td>0.00</td>\n",
              "      <td>286</td>\n",
              "      <td>594</td>\n",
              "      <td>0</td>\n",
              "    </tr>\n",
              "    <tr>\n",
              "      <th>7</th>\n",
              "      <td>b4658a6d9785c527297cd14762240f09</td>\n",
              "      <td>2022-03-01</td>\n",
              "      <td>2020-12</td>\n",
              "      <td>d61e4f520ee20e9c693c9c4808d19f55</td>\n",
              "      <td>Active</td>\n",
              "      <td>2020-12-04</td>\n",
              "      <td>2020-12-08</td>\n",
              "      <td>2022-03-04</td>\n",
              "      <td>2023-03-04</td>\n",
              "      <td>25.65</td>\n",
              "      <td>...</td>\n",
              "      <td>0.04788</td>\n",
              "      <td>0.00157</td>\n",
              "      <td>0.14388</td>\n",
              "      <td>0.00</td>\n",
              "      <td>131.89</td>\n",
              "      <td>20054.13</td>\n",
              "      <td>0.00</td>\n",
              "      <td>76</td>\n",
              "      <td>76</td>\n",
              "      <td>0</td>\n",
              "    </tr>\n",
              "    <tr>\n",
              "      <th>8</th>\n",
              "      <td>c48198c89f94ca4fd075bf30b889b47d</td>\n",
              "      <td>2020-10-22</td>\n",
              "      <td>2020-04</td>\n",
              "      <td>77846fd227fe5270dbbfe752515d1af5</td>\n",
              "      <td>Active</td>\n",
              "      <td>2020-04-15</td>\n",
              "      <td>2020-04-22</td>\n",
              "      <td>2021-07-15</td>\n",
              "      <td>2022-07-15</td>\n",
              "      <td>25.65</td>\n",
              "      <td>...</td>\n",
              "      <td>0.04788</td>\n",
              "      <td>0.00157</td>\n",
              "      <td>0.05520</td>\n",
              "      <td>30.95</td>\n",
              "      <td>5.03</td>\n",
              "      <td>466.54</td>\n",
              "      <td>1127.39</td>\n",
              "      <td>0</td>\n",
              "      <td>0</td>\n",
              "      <td>0</td>\n",
              "    </tr>\n",
              "    <tr>\n",
              "      <th>9</th>\n",
              "      <td>05eddba83dc40815a1aa10b6d6259708</td>\n",
              "      <td>2020-10-22</td>\n",
              "      <td>2020-07</td>\n",
              "      <td>62290fe7c7682b1f829ae81b1fd08baf</td>\n",
              "      <td>Active</td>\n",
              "      <td>2020-07-02</td>\n",
              "      <td>2020-07-06</td>\n",
              "      <td>2021-10-02</td>\n",
              "      <td>2022-10-02</td>\n",
              "      <td>25.65</td>\n",
              "      <td>...</td>\n",
              "      <td>0.07188</td>\n",
              "      <td>0.00233</td>\n",
              "      <td>0.13200</td>\n",
              "      <td>130.59</td>\n",
              "      <td>34.91</td>\n",
              "      <td>7285.04</td>\n",
              "      <td>8756.04</td>\n",
              "      <td>0</td>\n",
              "      <td>0</td>\n",
              "      <td>0</td>\n",
              "    </tr>\n",
              "  </tbody>\n",
              "</table>\n",
              "<p>10 rows × 22 columns</p>\n",
              "</div>\n",
              "      <button class=\"colab-df-convert\" onclick=\"convertToInteractive('df-f4f789b9-5467-415f-8d80-9e2dfb95e3ef')\"\n",
              "              title=\"Convert this dataframe to an interactive table.\"\n",
              "              style=\"display:none;\">\n",
              "        \n",
              "  <svg xmlns=\"http://www.w3.org/2000/svg\" height=\"24px\"viewBox=\"0 0 24 24\"\n",
              "       width=\"24px\">\n",
              "    <path d=\"M0 0h24v24H0V0z\" fill=\"none\"/>\n",
              "    <path d=\"M18.56 5.44l.94 2.06.94-2.06 2.06-.94-2.06-.94-.94-2.06-.94 2.06-2.06.94zm-11 1L8.5 8.5l.94-2.06 2.06-.94-2.06-.94L8.5 2.5l-.94 2.06-2.06.94zm10 10l.94 2.06.94-2.06 2.06-.94-2.06-.94-.94-2.06-.94 2.06-2.06.94z\"/><path d=\"M17.41 7.96l-1.37-1.37c-.4-.4-.92-.59-1.43-.59-.52 0-1.04.2-1.43.59L10.3 9.45l-7.72 7.72c-.78.78-.78 2.05 0 2.83L4 21.41c.39.39.9.59 1.41.59.51 0 1.02-.2 1.41-.59l7.78-7.78 2.81-2.81c.8-.78.8-2.07 0-2.86zM5.41 20L4 18.59l7.72-7.72 1.47 1.35L5.41 20z\"/>\n",
              "  </svg>\n",
              "      </button>\n",
              "      \n",
              "  <style>\n",
              "    .colab-df-container {\n",
              "      display:flex;\n",
              "      flex-wrap:wrap;\n",
              "      gap: 12px;\n",
              "    }\n",
              "\n",
              "    .colab-df-convert {\n",
              "      background-color: #E8F0FE;\n",
              "      border: none;\n",
              "      border-radius: 50%;\n",
              "      cursor: pointer;\n",
              "      display: none;\n",
              "      fill: #1967D2;\n",
              "      height: 32px;\n",
              "      padding: 0 0 0 0;\n",
              "      width: 32px;\n",
              "    }\n",
              "\n",
              "    .colab-df-convert:hover {\n",
              "      background-color: #E2EBFA;\n",
              "      box-shadow: 0px 1px 2px rgba(60, 64, 67, 0.3), 0px 1px 3px 1px rgba(60, 64, 67, 0.15);\n",
              "      fill: #174EA6;\n",
              "    }\n",
              "\n",
              "    [theme=dark] .colab-df-convert {\n",
              "      background-color: #3B4455;\n",
              "      fill: #D2E3FC;\n",
              "    }\n",
              "\n",
              "    [theme=dark] .colab-df-convert:hover {\n",
              "      background-color: #434B5C;\n",
              "      box-shadow: 0px 1px 3px 1px rgba(0, 0, 0, 0.15);\n",
              "      filter: drop-shadow(0px 1px 2px rgba(0, 0, 0, 0.3));\n",
              "      fill: #FFFFFF;\n",
              "    }\n",
              "  </style>\n",
              "\n",
              "      <script>\n",
              "        const buttonEl =\n",
              "          document.querySelector('#df-f4f789b9-5467-415f-8d80-9e2dfb95e3ef button.colab-df-convert');\n",
              "        buttonEl.style.display =\n",
              "          google.colab.kernel.accessAllowed ? 'block' : 'none';\n",
              "\n",
              "        async function convertToInteractive(key) {\n",
              "          const element = document.querySelector('#df-f4f789b9-5467-415f-8d80-9e2dfb95e3ef');\n",
              "          const dataTable =\n",
              "            await google.colab.kernel.invokeFunction('convertToInteractive',\n",
              "                                                     [key], {});\n",
              "          if (!dataTable) return;\n",
              "\n",
              "          const docLinkHtml = 'Like what you see? Visit the ' +\n",
              "            '<a target=\"_blank\" href=https://colab.research.google.com/notebooks/data_table.ipynb>data table notebook</a>'\n",
              "            + ' to learn more about interactive tables.';\n",
              "          element.innerHTML = '';\n",
              "          dataTable['output_type'] = 'display_data';\n",
              "          await google.colab.output.renderOutput(dataTable, element);\n",
              "          const docLink = document.createElement('div');\n",
              "          docLink.innerHTML = docLinkHtml;\n",
              "          element.appendChild(docLink);\n",
              "        }\n",
              "      </script>\n",
              "    </div>\n",
              "  </div>\n",
              "  "
            ]
          },
          "metadata": {},
          "execution_count": 23
        }
      ],
      "source": [
        "#Visualizando as primeiras 10 linhas do arquivo\n",
        "PORTFOLIO_GERAL.head(10)"
      ]
    },
    {
      "cell_type": "code",
      "execution_count": 24,
      "metadata": {
        "colab": {
          "base_uri": "https://localhost:8080/"
        },
        "id": "Dab0P9tpOhhc",
        "outputId": "0657c681-01b3-4058-b33e-fd417426d3db"
      },
      "outputs": [
        {
          "output_type": "execute_result",
          "data": {
            "text/plain": [
              "Index(['contrato_id', 'dt_ref_portfolio', 'safra', 'nr_documento',\n",
              "       'status_contrato', 'dt_contrato', 'dt_desembolso', 'dt_vencimento',\n",
              "       'dt_wo', 'prazo', 'vlr_desembolsado', 'vlr_tarifa', 'juros_mes',\n",
              "       'juros_diario', 'perc_retencao', 'vlr_pgto_realizado',\n",
              "       'vlr_pgto_esperado', 'vlr_saldo_devedor', 'vlr_saldo_devedor_esperado',\n",
              "       'dsp', 'dspp', 'flag_transacao'],\n",
              "      dtype='object')"
            ]
          },
          "metadata": {},
          "execution_count": 24
        }
      ],
      "source": [
        "#Verificando os nomes das colunas\n",
        "PORTFOLIO_GERAL.columns"
      ]
    },
    {
      "cell_type": "code",
      "execution_count": 5,
      "metadata": {
        "colab": {
          "base_uri": "https://localhost:8080/"
        },
        "id": "vr3xYl1CPsAo",
        "outputId": "343e57f4-8c79-4b15-d86f-4909d11c188d"
      },
      "outputs": [
        {
          "output_type": "execute_result",
          "data": {
            "text/plain": [
              "contrato_id                    object\n",
              "dt_ref_portfolio               object\n",
              "safra                          object\n",
              "nr_documento                   object\n",
              "status_contrato                object\n",
              "dt_contrato                    object\n",
              "dt_desembolso                  object\n",
              "dt_vencimento                  object\n",
              "dt_wo                          object\n",
              "prazo                         float64\n",
              "vlr_desembolsado              float64\n",
              "vlr_tarifa                    float64\n",
              "juros_mes                     float64\n",
              "juros_diario                  float64\n",
              "perc_retencao                 float64\n",
              "vlr_pgto_realizado            float64\n",
              "vlr_pgto_esperado             float64\n",
              "vlr_saldo_devedor             float64\n",
              "vlr_saldo_devedor_esperado    float64\n",
              "dsp                             int64\n",
              "dspp                            int64\n",
              "flag_transacao                  int64\n",
              "dtype: object"
            ]
          },
          "metadata": {},
          "execution_count": 5
        }
      ],
      "source": [
        "# tipos das colunas do arquivo\n",
        "PORTFOLIO_GERAL.dtypes\n",
        "\n",
        "#observação, Eu decidi não alterar nenhum tipo de columa utilizando o Python, vou validar no PowerBi / Power Query."
      ]
    },
    {
      "cell_type": "code",
      "execution_count": 6,
      "metadata": {
        "colab": {
          "base_uri": "https://localhost:8080/"
        },
        "id": "wAM8UfL0OqWD",
        "outputId": "939a718b-4fa0-4906-edcd-72b63eb5dbaf"
      },
      "outputs": [
        {
          "output_type": "execute_result",
          "data": {
            "text/plain": [
              "(8061006, 22)"
            ]
          },
          "metadata": {},
          "execution_count": 6
        }
      ],
      "source": [
        "#Analisando quantidade de linhas e colunas\n",
        "PORTFOLIO_GERAL.shape"
      ]
    },
    {
      "cell_type": "code",
      "execution_count": 7,
      "metadata": {
        "colab": {
          "base_uri": "https://localhost:8080/"
        },
        "id": "l2RzqMAZbWvc",
        "outputId": "03da4c7a-1ee7-4a03-cce8-ac106f573f6e"
      },
      "outputs": [
        {
          "output_type": "execute_result",
          "data": {
            "text/plain": [
              "contrato_id                   0\n",
              "dt_ref_portfolio              0\n",
              "safra                         0\n",
              "nr_documento                  0\n",
              "status_contrato               0\n",
              "dt_contrato                   0\n",
              "dt_desembolso                 0\n",
              "dt_vencimento                 0\n",
              "dt_wo                         0\n",
              "prazo                         0\n",
              "vlr_desembolsado              0\n",
              "vlr_tarifa                    0\n",
              "juros_mes                     0\n",
              "juros_diario                  0\n",
              "perc_retencao                 0\n",
              "vlr_pgto_realizado            0\n",
              "vlr_pgto_esperado             0\n",
              "vlr_saldo_devedor             0\n",
              "vlr_saldo_devedor_esperado    0\n",
              "dsp                           0\n",
              "dspp                          0\n",
              "flag_transacao                0\n",
              "dtype: int64"
            ]
          },
          "metadata": {},
          "execution_count": 7
        }
      ],
      "source": [
        "#verificando se existe alguma linha em branco de todas as colunas\n",
        "PORTFOLIO_GERAL.isnull().sum()"
      ]
    },
    {
      "cell_type": "code",
      "source": [
        "#Gerar tabela correlação para colunas númericas\n",
        "corr = PORTFOLIO_GERAL.corr()\n",
        "sns.heatmap(corr, cmap = \"gist_gray_r\", linewidths = 0.1)\n",
        "plt.show()"
      ],
      "metadata": {
        "colab": {
          "base_uri": "https://localhost:8080/",
          "height": 401
        },
        "id": "cgeyNaGzcar_",
        "outputId": "d7b83d68-3cfe-44a0-c688-15d183c8b610"
      },
      "execution_count": 25,
      "outputs": [
        {
          "output_type": "display_data",
          "data": {
            "text/plain": [
              "<Figure size 432x288 with 2 Axes>"
            ],
            "image/png": "[encoded data removed]"
          },
          "metadata": {
            "needs_background": "light"
          }
        }
      ]
    },
    {
      "cell_type": "code",
      "execution_count": 26,
      "metadata": {
        "id": "GfvMk4SlgAnB"
      },
      "outputs": [],
      "source": [
        "#Criando uma copia do arquivo original para o arquivo tratado\n",
        "PORTFOLIO_GERAL_TRATADO = PORTFOLIO_GERAL"
      ]
    },
    {
      "cell_type": "code",
      "execution_count": 27,
      "metadata": {
        "id": "PjSdKqK9b34T"
      },
      "outputs": [],
      "source": [
        "#observação, Eu decidi com base em minha interpretação dos dados excluir 03 colunas\n",
        "\n",
        "dropcoluns = ['vlr_tarifa','juros_mes','juros_diario']\n",
        "PORTFOLIO_GERAL_TRATADO.drop(dropcoluns, axis='columns', inplace=True)\n"
      ]
    },
    {
      "cell_type": "code",
      "execution_count": 28,
      "metadata": {
        "colab": {
          "base_uri": "https://localhost:8080/"
        },
        "id": "mUuYmulGd6bH",
        "outputId": "ba69ef02-7221-497e-c7ec-f392aeba7b5b"
      },
      "outputs": [
        {
          "output_type": "execute_result",
          "data": {
            "text/plain": [
              "(8061006, 19)"
            ]
          },
          "metadata": {},
          "execution_count": 28
        }
      ],
      "source": [
        "#Confirmando quantidades de colunas excluidas\n",
        "PORTFOLIO_GERAL_TRATADO.shape"
      ]
    },
    {
      "cell_type": "code",
      "execution_count": 29,
      "metadata": {
        "id": "8STPbZ4HIqUA"
      },
      "outputs": [],
      "source": [
        "#Importar bibliotecas para correlação\n",
        "import matplotlib.pyplot as plt\n",
        "import seaborn as sns"
      ]
    },
    {
      "cell_type": "code",
      "execution_count": 30,
      "metadata": {
        "colab": {
          "base_uri": "https://localhost:8080/"
        },
        "id": "jpC88oABUGyC",
        "outputId": "b328d675-9176-41c2-f6a2-378500f06f72"
      },
      "outputs": [
        {
          "output_type": "stream",
          "name": "stdout",
          "text": [
            "0          356c02706c8e74b15004bb5964ade6bb\n",
            "1          1eb0e13f83f336146227ccc9efb08c47\n",
            "2          8b03675f597974ca96f06648e96af6d4\n",
            "3          4207c25cdd13aba5a05ae348e889d798\n",
            "4          7dfdca96b6ff0dd844e5e130aee88b30\n",
            "                         ...               \n",
            "8061001    b532ce3583bf083b58dcbb3156e9a6fb\n",
            "8061002    c5cce1cc49025572c7378279c1469923\n",
            "8061003    67348b340a082aa77a67b7431cc91145\n",
            "8061004    835d1f4def59389b5fbd64eaf195ece6\n",
            "8061005    e4753f517397dec57e638d49b982fc96\n",
            "Name: contrato_id, Length: 8061006, dtype: object\n",
            "0          2022-03-01\n",
            "1          2022-03-01\n",
            "2          2022-03-01\n",
            "3          2022-03-01\n",
            "4          2022-03-01\n",
            "              ...    \n",
            "8061001    2020-10-04\n",
            "8061002    2020-10-04\n",
            "8061003    2020-10-31\n",
            "8061004    2020-09-14\n",
            "8061005    2020-10-17\n",
            "Name: dt_ref_portfolio, Length: 8061006, dtype: object\n",
            "0          2020-06\n",
            "1          2020-07\n",
            "2          2020-08\n",
            "3          2021-03\n",
            "4          2020-11\n",
            "            ...   \n",
            "8061001    2020-09\n",
            "8061002    2020-05\n",
            "8061003    2020-06\n",
            "8061004    2020-02\n",
            "8061005    2020-03\n",
            "Name: safra, Length: 8061006, dtype: object\n",
            "0          b0871d4e0d72afd1d44381e5b2453cb2\n",
            "1          938513461b4a4fcd2bf99ffd8f12b9be\n",
            "2          4303bd71ee3fe80aba4efc8dbd6c7d70\n",
            "3          9c1dc4403f8a4833bd58eea3ee85c917\n",
            "4          3b6951df3075979c99a4dfd9f93efd38\n",
            "                         ...               \n",
            "8061001    66a443539af19dc890cafbebe0e1de8e\n",
            "8061002    f9d63ef575f20c5698146e2c796eedcd\n",
            "8061003    28283b4f3cc1654a879b64251f98164b\n",
            "8061004    e45b288b207f5fce1707d6c8f3555aa2\n",
            "8061005    6cc7b4e91e82d38b829248fabda7f305\n",
            "Name: nr_documento, Length: 8061006, dtype: object\n",
            "0          Settled\n",
            "1          Settled\n",
            "2          Settled\n",
            "3           Active\n",
            "4           Active\n",
            "            ...   \n",
            "8061001     Active\n",
            "8061002    Settled\n",
            "8061003     Active\n",
            "8061004    Settled\n",
            "8061005    Settled\n",
            "Name: status_contrato, Length: 8061006, dtype: object\n",
            "0          2020-06-24\n",
            "1          2020-07-26\n",
            "2          2020-08-13\n",
            "3          2021-03-01\n",
            "4          2020-10-31\n",
            "              ...    \n",
            "8061001    2020-09-25\n",
            "8061002    2020-05-26\n",
            "8061003    2020-06-17\n",
            "8061004    2020-01-31\n",
            "8061005    2020-03-03\n",
            "Name: dt_contrato, Length: 8061006, dtype: object\n",
            "0          2020-06-29\n",
            "1          2020-07-28\n",
            "2          2020-08-17\n",
            "3          2021-03-03\n",
            "4          2020-11-04\n",
            "              ...    \n",
            "8061001    2020-09-29\n",
            "8061002    2020-05-29\n",
            "8061003    2020-06-23\n",
            "8061004    2020-02-05\n",
            "8061005    2020-03-04\n",
            "Name: dt_desembolso, Length: 8061006, dtype: object\n",
            "0          2020-12-24\n",
            "1          2021-10-26\n",
            "2          2022-02-13\n",
            "3          2022-06-01\n",
            "4          2022-01-31\n",
            "              ...    \n",
            "8061001    2021-12-25\n",
            "8061002    2021-08-26\n",
            "8061003    2021-09-17\n",
            "8061004    2020-10-31\n",
            "8061005    2021-03-03\n",
            "Name: dt_vencimento, Length: 8061006, dtype: object\n",
            "0          2021-12-24\n",
            "1          2022-10-26\n",
            "2          2023-02-13\n",
            "3          2023-06-01\n",
            "4          2023-01-31\n",
            "              ...    \n",
            "8061001    2022-12-25\n",
            "8061002    2022-08-26\n",
            "8061003    2022-09-17\n",
            "8061004    2021-10-31\n",
            "8061005    2022-03-03\n",
            "Name: dt_wo, Length: 8061006, dtype: object\n",
            "0          10.26\n",
            "1          25.65\n",
            "2          30.78\n",
            "3          25.65\n",
            "4          25.65\n",
            "           ...  \n",
            "8061001    25.65\n",
            "8061002    25.65\n",
            "8061003    25.65\n",
            "8061004    13.68\n",
            "8061005    20.52\n",
            "Name: prazo, Length: 8061006, dtype: float64\n",
            "0          22686.57\n",
            "1          16074.00\n",
            "2          17100.00\n",
            "3          14588.01\n",
            "4          68400.00\n",
            "             ...   \n",
            "8061001    11332.17\n",
            "8061002     3628.62\n",
            "8061003     1692.90\n",
            "8061004    11286.00\n",
            "8061005     8748.36\n",
            "Name: vlr_desembolsado, Length: 8061006, dtype: float64\n",
            "0          0.24000\n",
            "1          0.08400\n",
            "2          0.08076\n",
            "3          0.19200\n",
            "4          1.20000\n",
            "            ...   \n",
            "8061001    0.18000\n",
            "8061002    0.30000\n",
            "8061003    0.10800\n",
            "8061004    0.24228\n",
            "8061005    0.11844\n",
            "Name: perc_retencao, Length: 8061006, dtype: float64\n",
            "0          0.0\n",
            "1          0.0\n",
            "2          0.0\n",
            "3          0.0\n",
            "4          0.0\n",
            "          ... \n",
            "8061001    0.0\n",
            "8061002    0.0\n",
            "8061003    0.0\n",
            "8061004    0.0\n",
            "8061005    0.0\n",
            "Name: vlr_pgto_realizado, Length: 8061006, dtype: float64\n",
            "0          163.00\n",
            "1           46.87\n",
            "2           45.57\n",
            "3           43.06\n",
            "4          200.09\n",
            "            ...  \n",
            "8061001     35.41\n",
            "8061002      9.91\n",
            "8061003      5.64\n",
            "8061004     54.64\n",
            "8061005     34.75\n",
            "Name: vlr_pgto_esperado, Length: 8061006, dtype: float64\n",
            "0              0.55\n",
            "1              0.00\n",
            "2              0.00\n",
            "3           9469.47\n",
            "4          57783.55\n",
            "             ...   \n",
            "8061001    11201.47\n",
            "8061002        0.02\n",
            "8061003     2064.82\n",
            "8061004        0.02\n",
            "8061005        0.29\n",
            "Name: vlr_saldo_devedor, Length: 8061006, dtype: float64\n",
            "0              0.00\n",
            "1              0.00\n",
            "2              0.00\n",
            "3            461.96\n",
            "4              0.00\n",
            "             ...   \n",
            "8061001    11229.76\n",
            "8061002     2756.18\n",
            "8061003     1342.64\n",
            "8061004     2350.90\n",
            "8061005     4042.83\n",
            "Name: vlr_saldo_devedor_esperado, Length: 8061006, dtype: float64\n",
            "0            0\n",
            "1            0\n",
            "2            0\n",
            "3           20\n",
            "4          134\n",
            "          ... \n",
            "8061001      2\n",
            "8061002      0\n",
            "8061003    122\n",
            "8061004      0\n",
            "8061005      0\n",
            "Name: dsp, Length: 8061006, dtype: int64\n",
            "0            0\n",
            "1            0\n",
            "2            0\n",
            "3           82\n",
            "4          167\n",
            "          ... \n",
            "8061001      2\n",
            "8061002      0\n",
            "8061003    122\n",
            "8061004      0\n",
            "8061005      0\n",
            "Name: dspp, Length: 8061006, dtype: int64\n",
            "0          0\n",
            "1          0\n",
            "2          0\n",
            "3          0\n",
            "4          0\n",
            "          ..\n",
            "8061001    0\n",
            "8061002    0\n",
            "8061003    0\n",
            "8061004    1\n",
            "8061005    1\n",
            "Name: flag_transacao, Length: 8061006, dtype: int64\n"
          ]
        }
      ],
      "source": [
        "#Verificando as estruturas de todas as colunas do arquivo tratado\n",
        "for i in PORTFOLIO_GERAL_TRATADO:\n",
        "  print(PORTFOLIO_GERAL_TRATADO[i])"
      ]
    },
    {
      "cell_type": "code",
      "execution_count": 31,
      "metadata": {
        "colab": {
          "base_uri": "https://localhost:8080/"
        },
        "id": "-NyB4IPcXAdR",
        "outputId": "93fc81e4-3c51-4751-b754-b2d51c9cf2e7"
      },
      "outputs": [
        {
          "output_type": "stream",
          "name": "stdout",
          "text": [
            "Active                   5642791\n",
            "Settled                  2239468\n",
            "Suspended                 173373\n",
            "DisbursementConfirmed       2427\n",
            "DisbursementRequested       1797\n",
            "Accepted                    1150\n",
            "Name: status_contrato, dtype: int64\n",
            "25.65    4282021\n",
            "30.78    1056162\n",
            "35.91     831407\n",
            "13.68     656354\n",
            "15.39     536238\n",
            "27.36     307901\n",
            "20.52     224623\n",
            "10.26     166300\n",
            "Name: prazo, dtype: int64\n",
            "1    4487418\n",
            "0    3573588\n",
            "Name: flag_transacao, dtype: int64\n"
          ]
        }
      ],
      "source": [
        "#Criando uma lista personalizada com as colunas escolhidas para contagem de valores\n",
        "lista = ['status_contrato','prazo','flag_transacao']\n",
        "\n",
        "#Realizando a contagem de valores das colunas escolhidas no arquivo PORTFOLIO_GERAL_TRATADO\n",
        "for i in lista:\n",
        "  print(PORTFOLIO_GERAL_TRATADO[i].value_counts())\n"
      ]
    },
    {
      "cell_type": "code",
      "source": [
        "#validando os tipos de contrato existente\n",
        "PORTFOLIO_GERAL_TRATADO['status_contrato'].unique()"
      ],
      "metadata": {
        "colab": {
          "base_uri": "https://localhost:8080/"
        },
        "id": "m52qcuRXbCY1",
        "outputId": "009d8d6e-f0f1-4482-8c01-eaaf86f6c5a5"
      },
      "execution_count": 32,
      "outputs": [
        {
          "output_type": "execute_result",
          "data": {
            "text/plain": [
              "array(['Settled', 'Active', 'Suspended', 'DisbursementRequested',\n",
              "       'Accepted', 'DisbursementConfirmed'], dtype=object)"
            ]
          },
          "metadata": {},
          "execution_count": 32
        }
      ]
    },
    {
      "cell_type": "code",
      "execution_count": 33,
      "metadata": {
        "id": "58YZy5dOif3l"
      },
      "outputs": [],
      "source": [
        "#Criando uma compactação para Zip\n",
        "compression_opts = dict(method='zip',\n",
        "                         archive_name='PORTFOLIO_GERAL_TRATADO.csv')"
      ]
    },
    {
      "cell_type": "code",
      "execution_count": 34,
      "metadata": {
        "id": "HY0dID4jlEhX"
      },
      "outputs": [],
      "source": [
        "#Salvando o arquivo compactado com nome 'PORTFOLIO_GERAL_TRATADO_COMPACTADO' no caminho /content/\n",
        "PORTFOLIO_GERAL_TRATADO.to_csv ('PORTFOLIO_GERAL_TRATADO_COMPACTADO.zip', index=False, compression= compression_opts)"
      ]
    }
  ],
  "metadata": {
    "colab": {
      "name": "STONE_DATA_CHALLENGE_2022_MURILO-FARIAS.ipynb",
      "provenance": [],
      "collapsed_sections": [],
      "mount_file_id": "1WrkN9m4QC8umYJjeMrHmZaK_lBB3Pl8O",
      "authorship_tag": "ABX9TyN+BxK23MH7DTYEt5LkYQMX",
      "include_colab_link": true
    },
    "kernelspec": {
      "display_name": "Python 3",
      "name": "python3"
    },
    "language_info": {
      "name": "python"
    }
  },
  "nbformat": 4,
  "nbformat_minor": 0
}